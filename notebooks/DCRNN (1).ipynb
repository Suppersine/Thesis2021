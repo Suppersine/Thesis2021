{
  "nbformat": 4,
  "nbformat_minor": 0,
  "metadata": {
    "colab": {
      "name": "DCRNN.ipynb",
      "provenance": [],
      "collapsed_sections": []
    },
    "kernelspec": {
      "name": "python3",
      "display_name": "Python 3"
    },
    "language_info": {
      "name": "python"
    },
    "accelerator": "GPU"
  },
  "cells": [
    {
      "cell_type": "markdown",
      "metadata": {
        "id": "-Mi9F4uPc_Gk"
      },
      "source": [
        "The DCRNN Model is referred by [7]"
      ]
    },
    {
      "cell_type": "code",
      "metadata": {
        "colab": {
          "base_uri": "https://localhost:8080/"
        },
        "id": "xI_c5tz4ZRno",
        "outputId": "a286a971-cb9a-4375-b5f7-2d6514523733"
      },
      "source": [
        "!git clone https://github.com/liyaguang/DCRNN.git"
      ],
      "execution_count": 1,
      "outputs": [
        {
          "output_type": "stream",
          "name": "stdout",
          "text": [
            "Cloning into 'DCRNN'...\n",
            "remote: Enumerating objects: 325, done.\u001b[K\n",
            "remote: Counting objects: 100% (53/53), done.\u001b[K\n",
            "remote: Compressing objects: 100% (37/37), done.\u001b[K\n",
            "remote: Total 325 (delta 27), reused 40 (delta 16), pack-reused 272\u001b[K\n",
            "Receiving objects: 100% (325/325), 127.90 MiB | 26.79 MiB/s, done.\n",
            "Resolving deltas: 100% (142/142), done.\n"
          ]
        }
      ]
    },
    {
      "cell_type": "markdown",
      "metadata": {
        "id": "k_b0IR8Objgp"
      },
      "source": [
        "Data Preparation"
      ]
    },
    {
      "cell_type": "code",
      "metadata": {
        "colab": {
          "base_uri": "https://localhost:8080/"
        },
        "id": "HUWjM3TqaPXs",
        "outputId": "8def76eb-387c-4dc9-ce13-e05d77d00665"
      },
      "source": [
        "%cd /content/DCRNN/"
      ],
      "execution_count": 2,
      "outputs": [
        {
          "output_type": "stream",
          "name": "stdout",
          "text": [
            "/content/DCRNN\n"
          ]
        }
      ]
    },
    {
      "cell_type": "code",
      "source": [
        "!pip uninstall tensorflow"
      ],
      "metadata": {
        "colab": {
          "base_uri": "https://localhost:8080/"
        },
        "id": "67nyVFWlQC8T",
        "outputId": "7f8735d8-1893-41a5-a839-a8fe55c7a429"
      },
      "execution_count": 3,
      "outputs": [
        {
          "output_type": "stream",
          "name": "stdout",
          "text": [
            "Found existing installation: tensorflow 2.7.0\n",
            "Uninstalling tensorflow-2.7.0:\n",
            "  Would remove:\n",
            "    /usr/local/bin/estimator_ckpt_converter\n",
            "    /usr/local/bin/import_pb_to_tensorboard\n",
            "    /usr/local/bin/saved_model_cli\n",
            "    /usr/local/bin/tensorboard\n",
            "    /usr/local/bin/tf_upgrade_v2\n",
            "    /usr/local/bin/tflite_convert\n",
            "    /usr/local/bin/toco\n",
            "    /usr/local/bin/toco_from_protos\n",
            "    /usr/local/lib/python3.7/dist-packages/tensorflow-2.7.0.dist-info/*\n",
            "    /usr/local/lib/python3.7/dist-packages/tensorflow/*\n",
            "Proceed (y/n)? y\n",
            "  Successfully uninstalled tensorflow-2.7.0\n"
          ]
        }
      ]
    },
    {
      "cell_type": "code",
      "source": [
        "!pip install -r requirements.txt"
      ],
      "metadata": {
        "colab": {
          "base_uri": "https://localhost:8080/"
        },
        "id": "WrgipJz3Kqcj",
        "outputId": "37d089bb-5384-4901-ff1d-b7138d611f06"
      },
      "execution_count": 4,
      "outputs": [
        {
          "output_type": "stream",
          "name": "stdout",
          "text": [
            "Requirement already satisfied: scipy>=0.19.0 in /usr/local/lib/python3.7/dist-packages (from -r requirements.txt (line 1)) (1.4.1)\n",
            "Requirement already satisfied: numpy>=1.12.1 in /usr/local/lib/python3.7/dist-packages (from -r requirements.txt (line 2)) (1.19.5)\n",
            "Requirement already satisfied: pandas>=0.19.2 in /usr/local/lib/python3.7/dist-packages (from -r requirements.txt (line 3)) (1.1.5)\n",
            "Requirement already satisfied: pyyaml in /usr/local/lib/python3.7/dist-packages (from -r requirements.txt (line 4)) (3.13)\n",
            "Requirement already satisfied: statsmodels in /usr/local/lib/python3.7/dist-packages (from -r requirements.txt (line 5)) (0.10.2)\n",
            "Collecting tensorflow>=1.3.0\n",
            "  Downloading tensorflow-2.7.0-cp37-cp37m-manylinux2010_x86_64.whl (489.6 MB)\n",
            "\u001b[K     |████████████████████████████████| 489.6 MB 23 kB/s \n",
            "\u001b[?25hRequirement already satisfied: pytz>=2017.2 in /usr/local/lib/python3.7/dist-packages (from pandas>=0.19.2->-r requirements.txt (line 3)) (2018.9)\n",
            "Requirement already satisfied: python-dateutil>=2.7.3 in /usr/local/lib/python3.7/dist-packages (from pandas>=0.19.2->-r requirements.txt (line 3)) (2.8.2)\n",
            "Requirement already satisfied: tensorflow-io-gcs-filesystem>=0.21.0 in /usr/local/lib/python3.7/dist-packages (from tensorflow>=1.3.0->-r requirements.txt (line 6)) (0.22.0)\n",
            "Requirement already satisfied: termcolor>=1.1.0 in /usr/local/lib/python3.7/dist-packages (from tensorflow>=1.3.0->-r requirements.txt (line 6)) (1.1.0)\n",
            "Requirement already satisfied: wrapt>=1.11.0 in /usr/local/lib/python3.7/dist-packages (from tensorflow>=1.3.0->-r requirements.txt (line 6)) (1.13.3)\n",
            "Requirement already satisfied: keras-preprocessing>=1.1.1 in /usr/local/lib/python3.7/dist-packages (from tensorflow>=1.3.0->-r requirements.txt (line 6)) (1.1.2)\n",
            "Requirement already satisfied: opt-einsum>=2.3.2 in /usr/local/lib/python3.7/dist-packages (from tensorflow>=1.3.0->-r requirements.txt (line 6)) (3.3.0)\n",
            "Requirement already satisfied: h5py>=2.9.0 in /usr/local/lib/python3.7/dist-packages (from tensorflow>=1.3.0->-r requirements.txt (line 6)) (3.1.0)\n",
            "Requirement already satisfied: astunparse>=1.6.0 in /usr/local/lib/python3.7/dist-packages (from tensorflow>=1.3.0->-r requirements.txt (line 6)) (1.6.3)\n",
            "Requirement already satisfied: tensorboard~=2.6 in /usr/local/lib/python3.7/dist-packages (from tensorflow>=1.3.0->-r requirements.txt (line 6)) (2.7.0)\n",
            "Requirement already satisfied: typing-extensions>=3.6.6 in /usr/local/lib/python3.7/dist-packages (from tensorflow>=1.3.0->-r requirements.txt (line 6)) (3.10.0.2)\n",
            "Requirement already satisfied: google-pasta>=0.1.1 in /usr/local/lib/python3.7/dist-packages (from tensorflow>=1.3.0->-r requirements.txt (line 6)) (0.2.0)\n",
            "Requirement already satisfied: keras<2.8,>=2.7.0rc0 in /usr/local/lib/python3.7/dist-packages (from tensorflow>=1.3.0->-r requirements.txt (line 6)) (2.7.0)\n",
            "Requirement already satisfied: absl-py>=0.4.0 in /usr/local/lib/python3.7/dist-packages (from tensorflow>=1.3.0->-r requirements.txt (line 6)) (0.12.0)\n",
            "Requirement already satisfied: protobuf>=3.9.2 in /usr/local/lib/python3.7/dist-packages (from tensorflow>=1.3.0->-r requirements.txt (line 6)) (3.17.3)\n",
            "Requirement already satisfied: tensorflow-estimator<2.8,~=2.7.0rc0 in /usr/local/lib/python3.7/dist-packages (from tensorflow>=1.3.0->-r requirements.txt (line 6)) (2.7.0)\n",
            "Requirement already satisfied: libclang>=9.0.1 in /usr/local/lib/python3.7/dist-packages (from tensorflow>=1.3.0->-r requirements.txt (line 6)) (12.0.0)\n",
            "Requirement already satisfied: six>=1.12.0 in /usr/local/lib/python3.7/dist-packages (from tensorflow>=1.3.0->-r requirements.txt (line 6)) (1.15.0)\n",
            "Requirement already satisfied: grpcio<2.0,>=1.24.3 in /usr/local/lib/python3.7/dist-packages (from tensorflow>=1.3.0->-r requirements.txt (line 6)) (1.42.0)\n",
            "Requirement already satisfied: wheel<1.0,>=0.32.0 in /usr/local/lib/python3.7/dist-packages (from tensorflow>=1.3.0->-r requirements.txt (line 6)) (0.37.0)\n",
            "Requirement already satisfied: flatbuffers<3.0,>=1.12 in /usr/local/lib/python3.7/dist-packages (from tensorflow>=1.3.0->-r requirements.txt (line 6)) (2.0)\n",
            "Requirement already satisfied: gast<0.5.0,>=0.2.1 in /usr/local/lib/python3.7/dist-packages (from tensorflow>=1.3.0->-r requirements.txt (line 6)) (0.4.0)\n",
            "Requirement already satisfied: cached-property in /usr/local/lib/python3.7/dist-packages (from h5py>=2.9.0->tensorflow>=1.3.0->-r requirements.txt (line 6)) (1.5.2)\n",
            "Requirement already satisfied: google-auth<3,>=1.6.3 in /usr/local/lib/python3.7/dist-packages (from tensorboard~=2.6->tensorflow>=1.3.0->-r requirements.txt (line 6)) (1.35.0)\n",
            "Requirement already satisfied: google-auth-oauthlib<0.5,>=0.4.1 in /usr/local/lib/python3.7/dist-packages (from tensorboard~=2.6->tensorflow>=1.3.0->-r requirements.txt (line 6)) (0.4.6)\n",
            "Requirement already satisfied: tensorboard-plugin-wit>=1.6.0 in /usr/local/lib/python3.7/dist-packages (from tensorboard~=2.6->tensorflow>=1.3.0->-r requirements.txt (line 6)) (1.8.0)\n",
            "Requirement already satisfied: tensorboard-data-server<0.7.0,>=0.6.0 in /usr/local/lib/python3.7/dist-packages (from tensorboard~=2.6->tensorflow>=1.3.0->-r requirements.txt (line 6)) (0.6.1)\n",
            "Requirement already satisfied: requests<3,>=2.21.0 in /usr/local/lib/python3.7/dist-packages (from tensorboard~=2.6->tensorflow>=1.3.0->-r requirements.txt (line 6)) (2.23.0)\n",
            "Requirement already satisfied: werkzeug>=0.11.15 in /usr/local/lib/python3.7/dist-packages (from tensorboard~=2.6->tensorflow>=1.3.0->-r requirements.txt (line 6)) (1.0.1)\n",
            "Requirement already satisfied: markdown>=2.6.8 in /usr/local/lib/python3.7/dist-packages (from tensorboard~=2.6->tensorflow>=1.3.0->-r requirements.txt (line 6)) (3.3.6)\n",
            "Requirement already satisfied: setuptools>=41.0.0 in /usr/local/lib/python3.7/dist-packages (from tensorboard~=2.6->tensorflow>=1.3.0->-r requirements.txt (line 6)) (57.4.0)\n",
            "Requirement already satisfied: pyasn1-modules>=0.2.1 in /usr/local/lib/python3.7/dist-packages (from google-auth<3,>=1.6.3->tensorboard~=2.6->tensorflow>=1.3.0->-r requirements.txt (line 6)) (0.2.8)\n",
            "Requirement already satisfied: cachetools<5.0,>=2.0.0 in /usr/local/lib/python3.7/dist-packages (from google-auth<3,>=1.6.3->tensorboard~=2.6->tensorflow>=1.3.0->-r requirements.txt (line 6)) (4.2.4)\n",
            "Requirement already satisfied: rsa<5,>=3.1.4 in /usr/local/lib/python3.7/dist-packages (from google-auth<3,>=1.6.3->tensorboard~=2.6->tensorflow>=1.3.0->-r requirements.txt (line 6)) (4.8)\n",
            "Requirement already satisfied: requests-oauthlib>=0.7.0 in /usr/local/lib/python3.7/dist-packages (from google-auth-oauthlib<0.5,>=0.4.1->tensorboard~=2.6->tensorflow>=1.3.0->-r requirements.txt (line 6)) (1.3.0)\n",
            "Requirement already satisfied: importlib-metadata>=4.4 in /usr/local/lib/python3.7/dist-packages (from markdown>=2.6.8->tensorboard~=2.6->tensorflow>=1.3.0->-r requirements.txt (line 6)) (4.8.2)\n",
            "Requirement already satisfied: zipp>=0.5 in /usr/local/lib/python3.7/dist-packages (from importlib-metadata>=4.4->markdown>=2.6.8->tensorboard~=2.6->tensorflow>=1.3.0->-r requirements.txt (line 6)) (3.6.0)\n",
            "Requirement already satisfied: pyasn1<0.5.0,>=0.4.6 in /usr/local/lib/python3.7/dist-packages (from pyasn1-modules>=0.2.1->google-auth<3,>=1.6.3->tensorboard~=2.6->tensorflow>=1.3.0->-r requirements.txt (line 6)) (0.4.8)\n",
            "Requirement already satisfied: urllib3!=1.25.0,!=1.25.1,<1.26,>=1.21.1 in /usr/local/lib/python3.7/dist-packages (from requests<3,>=2.21.0->tensorboard~=2.6->tensorflow>=1.3.0->-r requirements.txt (line 6)) (1.24.3)\n",
            "Requirement already satisfied: idna<3,>=2.5 in /usr/local/lib/python3.7/dist-packages (from requests<3,>=2.21.0->tensorboard~=2.6->tensorflow>=1.3.0->-r requirements.txt (line 6)) (2.10)\n",
            "Requirement already satisfied: chardet<4,>=3.0.2 in /usr/local/lib/python3.7/dist-packages (from requests<3,>=2.21.0->tensorboard~=2.6->tensorflow>=1.3.0->-r requirements.txt (line 6)) (3.0.4)\n",
            "Requirement already satisfied: certifi>=2017.4.17 in /usr/local/lib/python3.7/dist-packages (from requests<3,>=2.21.0->tensorboard~=2.6->tensorflow>=1.3.0->-r requirements.txt (line 6)) (2021.10.8)\n",
            "Requirement already satisfied: oauthlib>=3.0.0 in /usr/local/lib/python3.7/dist-packages (from requests-oauthlib>=0.7.0->google-auth-oauthlib<0.5,>=0.4.1->tensorboard~=2.6->tensorflow>=1.3.0->-r requirements.txt (line 6)) (3.1.1)\n",
            "Requirement already satisfied: patsy>=0.4.0 in /usr/local/lib/python3.7/dist-packages (from statsmodels->-r requirements.txt (line 5)) (0.5.2)\n",
            "Installing collected packages: tensorflow\n",
            "Successfully installed tensorflow-2.7.0\n"
          ]
        }
      ]
    },
    {
      "cell_type": "markdown",
      "metadata": {
        "id": "FFRcOdrhahUM"
      },
      "source": [
        "Find, download, and upload the METR-LA and the PEMS-BAY datasets. Download them to your PC first, then upload them onto the session machine to the left. (/content/DCRNN/data/) In my case, I preuploaded the dataset onto Dropbox"
      ]
    },
    {
      "cell_type": "code",
      "metadata": {
        "colab": {
          "base_uri": "https://localhost:8080/"
        },
        "id": "sWpFzqsMdmVy",
        "outputId": "afcb300e-fd09-452e-b933-b930aa921a29"
      },
      "source": [
        "!wget https://www.dropbox.com/s/3uto6j6zba4kcje/metr-la.h5\n",
        "!wget https://www.dropbox.com/s/akpm0wf7apg6gy0/pems-bay.h5"
      ],
      "execution_count": 12,
      "outputs": [
        {
          "output_type": "stream",
          "name": "stdout",
          "text": [
            "--2021-12-27 09:41:14--  https://www.dropbox.com/s/3uto6j6zba4kcje/metr-la.h5\n",
            "Resolving www.dropbox.com (www.dropbox.com)... 162.125.3.18, 2620:100:6018:18::a27d:312\n",
            "Connecting to www.dropbox.com (www.dropbox.com)|162.125.3.18|:443... connected.\n",
            "HTTP request sent, awaiting response... 301 Moved Permanently\n",
            "Location: /s/raw/3uto6j6zba4kcje/metr-la.h5 [following]\n",
            "--2021-12-27 09:41:14--  https://www.dropbox.com/s/raw/3uto6j6zba4kcje/metr-la.h5\n",
            "Reusing existing connection to www.dropbox.com:443.\n",
            "HTTP request sent, awaiting response... 302 Found\n",
            "Location: https://ucebdcf0a272d78b692c918c46a0.dl.dropboxusercontent.com/cd/0/inline/BcqoYFaDoqEQhIyVDeh6Y9pgjly1t_kLMyRqtWGvDxmTlgTI7_lCT5EEzxFuznlLjUJSFEIdUzI7GpwO9HgGCPPqC19-tOUALl_-aVdhqHm3YaUoYOf6UH94cQtAS22-fkxIZVtCpRoDTSXFmKCH7GRA/file# [following]\n",
            "--2021-12-27 09:41:14--  https://ucebdcf0a272d78b692c918c46a0.dl.dropboxusercontent.com/cd/0/inline/BcqoYFaDoqEQhIyVDeh6Y9pgjly1t_kLMyRqtWGvDxmTlgTI7_lCT5EEzxFuznlLjUJSFEIdUzI7GpwO9HgGCPPqC19-tOUALl_-aVdhqHm3YaUoYOf6UH94cQtAS22-fkxIZVtCpRoDTSXFmKCH7GRA/file\n",
            "Resolving ucebdcf0a272d78b692c918c46a0.dl.dropboxusercontent.com (ucebdcf0a272d78b692c918c46a0.dl.dropboxusercontent.com)... 162.125.3.15, 2620:100:6018:15::a27d:30f\n",
            "Connecting to ucebdcf0a272d78b692c918c46a0.dl.dropboxusercontent.com (ucebdcf0a272d78b692c918c46a0.dl.dropboxusercontent.com)|162.125.3.15|:443... connected.\n",
            "HTTP request sent, awaiting response... 302 Found\n",
            "Location: /cd/0/inline2/BcpIef-ZS75H5Oy2bMHf_Hxj1u58UVZNqkNLb1AL_trgwbVanPAhzJVp00NsY_2BakpUbL1dMqUYELIqnfkj2GYMbGr9Yij2sbzz4iDgKSht2kNxoYcV0aTCE_QZQXBPL4bPdtUgRWPsB50geQcXFekan3W2hKiMYe3OHcrGie5Zi7z77JW0oOJ2CeQKv70DjX_ZRgylV0Lic9gT-kQqQJWhMgmRZd020pO5_LwN1b7NAq65g2kHr6weBRvtIhK14fqyvEzkb_MSrR_wGDkkhZuZOVjrJKFVYJHh0uX8TuzckHjo9jm67s--_tSVSrorbpTkwr7O-oIM4xeoB8xfLB-ryldqzQQnFhfvb3QWHOavcJO18u-kJvjhvQtalzI1YWA/file [following]\n",
            "--2021-12-27 09:41:15--  https://ucebdcf0a272d78b692c918c46a0.dl.dropboxusercontent.com/cd/0/inline2/BcpIef-ZS75H5Oy2bMHf_Hxj1u58UVZNqkNLb1AL_trgwbVanPAhzJVp00NsY_2BakpUbL1dMqUYELIqnfkj2GYMbGr9Yij2sbzz4iDgKSht2kNxoYcV0aTCE_QZQXBPL4bPdtUgRWPsB50geQcXFekan3W2hKiMYe3OHcrGie5Zi7z77JW0oOJ2CeQKv70DjX_ZRgylV0Lic9gT-kQqQJWhMgmRZd020pO5_LwN1b7NAq65g2kHr6weBRvtIhK14fqyvEzkb_MSrR_wGDkkhZuZOVjrJKFVYJHh0uX8TuzckHjo9jm67s--_tSVSrorbpTkwr7O-oIM4xeoB8xfLB-ryldqzQQnFhfvb3QWHOavcJO18u-kJvjhvQtalzI1YWA/file\n",
            "Reusing existing connection to ucebdcf0a272d78b692c918c46a0.dl.dropboxusercontent.com:443.\n",
            "HTTP request sent, awaiting response... 200 OK\n",
            "Length: 57038056 (54M) [application/octet-stream]\n",
            "Saving to: ‘metr-la.h5.1’\n",
            "\n",
            "metr-la.h5.1        100%[===================>]  54.40M  74.2MB/s    in 0.7s    \n",
            "\n",
            "2021-12-27 09:41:16 (74.2 MB/s) - ‘metr-la.h5.1’ saved [57038056/57038056]\n",
            "\n",
            "--2021-12-27 09:41:16--  https://www.dropbox.com/s/akpm0wf7apg6gy0/pems-bay.h5\n",
            "Resolving www.dropbox.com (www.dropbox.com)... 162.125.3.18, 2620:100:6018:18::a27d:312\n",
            "Connecting to www.dropbox.com (www.dropbox.com)|162.125.3.18|:443... connected.\n",
            "HTTP request sent, awaiting response... 301 Moved Permanently\n",
            "Location: /s/raw/akpm0wf7apg6gy0/pems-bay.h5 [following]\n",
            "--2021-12-27 09:41:16--  https://www.dropbox.com/s/raw/akpm0wf7apg6gy0/pems-bay.h5\n",
            "Reusing existing connection to www.dropbox.com:443.\n",
            "HTTP request sent, awaiting response... 302 Found\n",
            "Location: https://uc69231ca9d4ef1f04e5aec1c0ca.dl.dropboxusercontent.com/cd/0/inline/Bcow1rBwmhBN2gknJFII39wkbtgYJsaDxXF-FLGJJFHj1OxRbGDJaAkyHGvcFx-MPLAOeXMkWN2NY4al_L3h7cWTWjP-w_l4hl4rbThdFvwDpJdcOUqrJ-jQW_g35Lq9BxTeko3BpDvfFDtY8SIzO8hp/file# [following]\n",
            "--2021-12-27 09:41:17--  https://uc69231ca9d4ef1f04e5aec1c0ca.dl.dropboxusercontent.com/cd/0/inline/Bcow1rBwmhBN2gknJFII39wkbtgYJsaDxXF-FLGJJFHj1OxRbGDJaAkyHGvcFx-MPLAOeXMkWN2NY4al_L3h7cWTWjP-w_l4hl4rbThdFvwDpJdcOUqrJ-jQW_g35Lq9BxTeko3BpDvfFDtY8SIzO8hp/file\n",
            "Resolving uc69231ca9d4ef1f04e5aec1c0ca.dl.dropboxusercontent.com (uc69231ca9d4ef1f04e5aec1c0ca.dl.dropboxusercontent.com)... 162.125.3.15, 2620:100:601b:15::a27d:80f\n",
            "Connecting to uc69231ca9d4ef1f04e5aec1c0ca.dl.dropboxusercontent.com (uc69231ca9d4ef1f04e5aec1c0ca.dl.dropboxusercontent.com)|162.125.3.15|:443... connected.\n",
            "HTTP request sent, awaiting response... 302 Found\n",
            "Location: /cd/0/inline2/Bcqz3g8oMt6VwCdRCRruiqC9d8dqyg3uE5RROfyncwtYoNywkYWXvyZa8PnOtEfbPO7tt__gRFFnZYDJh7YYY2pU_QfT2yCQp25dA5hctAXLRz8JVbd230UHbIbn10UQEK-2gbDlI3wkn_RkPeoud153YTHtr_Q8I1Xbho_g_L_gF1J-ILypIHIKohqZQJJivZSQe5_fQfrQiIpsuGD4jclfqcbxVMirCEDxBctlP3Dq3nwtcD-rOwLi4TQkt8AAtGAdCJ7sLyt71KAEO9Q-yW2wnFTJud7ikG1R08t3KzoFGP4vk3Q9Vh3c5fO_VG_Lt7qJR8iWyUZnkMb2HKBCS0EE_Lo7PscQjrADuMnIxNihGcxOAPYNyiw_ntPj13tv5Sc/file [following]\n",
            "--2021-12-27 09:41:17--  https://uc69231ca9d4ef1f04e5aec1c0ca.dl.dropboxusercontent.com/cd/0/inline2/Bcqz3g8oMt6VwCdRCRruiqC9d8dqyg3uE5RROfyncwtYoNywkYWXvyZa8PnOtEfbPO7tt__gRFFnZYDJh7YYY2pU_QfT2yCQp25dA5hctAXLRz8JVbd230UHbIbn10UQEK-2gbDlI3wkn_RkPeoud153YTHtr_Q8I1Xbho_g_L_gF1J-ILypIHIKohqZQJJivZSQe5_fQfrQiIpsuGD4jclfqcbxVMirCEDxBctlP3Dq3nwtcD-rOwLi4TQkt8AAtGAdCJ7sLyt71KAEO9Q-yW2wnFTJud7ikG1R08t3KzoFGP4vk3Q9Vh3c5fO_VG_Lt7qJR8iWyUZnkMb2HKBCS0EE_Lo7PscQjrADuMnIxNihGcxOAPYNyiw_ntPj13tv5Sc/file\n",
            "Reusing existing connection to uc69231ca9d4ef1f04e5aec1c0ca.dl.dropboxusercontent.com:443.\n",
            "HTTP request sent, awaiting response... 200 OK\n",
            "Length: 135930936 (130M) [application/octet-stream]\n",
            "Saving to: ‘pems-bay.h5.1’\n",
            "\n",
            "pems-bay.h5.1       100%[===================>] 129.63M  88.2MB/s    in 1.5s    \n",
            "\n",
            "2021-12-27 09:41:19 (88.2 MB/s) - ‘pems-bay.h5.1’ saved [135930936/135930936]\n",
            "\n"
          ]
        }
      ]
    },
    {
      "cell_type": "markdown",
      "source": [
        "Before processing the data, make sure that the downloaded files are in the \"data\" folder by opening the file explorer tab to the left. If not, move them in."
      ],
      "metadata": {
        "id": "7H-_K-hpQxCk"
      }
    },
    {
      "cell_type": "code",
      "metadata": {
        "id": "AZhZvq47ago5",
        "colab": {
          "base_uri": "https://localhost:8080/"
        },
        "outputId": "346bde62-f3e7-4bcf-bfb6-e11f09fc6656"
      },
      "source": [
        "#%mkdir -p data/{METR-LA,PEMS-BAY}\n",
        "\n",
        "# METR-LA\n",
        "!python -m scripts.generate_training_data --output_dir=data/METR-LA --traffic_df_filename=data/metr-la.h5\n",
        "\n",
        "# PEMS-BAY\n",
        "!python -m scripts.generate_training_data --output_dir=data/PEMS-BAY --traffic_df_filename=data/pems-bay.h5"
      ],
      "execution_count": 13,
      "outputs": [
        {
          "output_type": "stream",
          "name": "stdout",
          "text": [
            "Generating training data\n",
            "tcmalloc: large alloc 1361199104 bytes == 0x5586c4e08000 @  0x7eff5cb931e7 0x7eff5a6d346e 0x7eff5a723c7b 0x7eff5a723d18 0x7eff5a7cb010 0x7eff5a7cb73c 0x7eff5a7cb85d 0x55860c8f3749 0x7eff5a710ef7 0x55860c8f1437 0x55860c8f1240 0x55860c964973 0x55860c95f9ee 0x55860c8f2bda 0x55860c961737 0x55860c95fced 0x55860c831e2b 0x7eff5a710ef7 0x55860c8f1437 0x55860c8f1240 0x55860c964973 0x55860c95f9ee 0x55860c8f2bda 0x55860c961737 0x55860c95f9ee 0x55860c8f2bda 0x55860c961737 0x55860c8f2afa 0x55860c960915 0x55860c8f2afa 0x55860c960915\n",
            "tcmalloc: large alloc 1361199104 bytes == 0x5587168e8000 @  0x7eff5cb931e7 0x7eff5a6d346e 0x7eff5a723c7b 0x7eff5a723d18 0x7eff5a7cb010 0x7eff5a7cb73c 0x7eff5a7cb85d 0x55860c8f3749 0x7eff5a710ef7 0x55860c8f1437 0x55860c8f1240 0x55860c964973 0x55860c95f9ee 0x55860c8f2bda 0x55860c961737 0x55860c95fced 0x55860c831e2b 0x7eff5a710ef7 0x55860c8f1437 0x55860c8f1240 0x55860c964973 0x55860c95f9ee 0x55860c8f2bda 0x55860c961737 0x55860c95f9ee 0x55860c8f2bda 0x55860c961737 0x55860c8f2afa 0x55860c960915 0x55860c8f2afa 0x55860c960915\n",
            "x shape:  (34249, 12, 207, 2) , y shape:  (34249, 12, 207, 2)\n",
            "train x:  (23974, 12, 207, 2) y: (23974, 12, 207, 2)\n",
            "val x:  (3425, 12, 207, 2) y: (3425, 12, 207, 2)\n",
            "test x:  (6850, 12, 207, 2) y: (6850, 12, 207, 2)\n",
            "Generating training data\n",
            "tcmalloc: large alloc 3250610176 bytes == 0x560281850000 @  0x7fe4793491e7 0x7fe476e8946e 0x7fe476ed9c7b 0x7fe476ed9d18 0x7fe476f81010 0x7fe476f8173c 0x7fe476f8185d 0x5600c5fff749 0x7fe476ec6ef7 0x5600c5ffd437 0x5600c5ffd240 0x5600c6070973 0x5600c606b9ee 0x5600c5ffebda 0x5600c606d737 0x5600c606bced 0x5600c5f3de2b 0x7fe476ec6ef7 0x5600c5ffd437 0x5600c5ffd240 0x5600c6070973 0x5600c606b9ee 0x5600c5ffebda 0x5600c606d737 0x5600c606b9ee 0x5600c5ffebda 0x5600c606d737 0x5600c5ffeafa 0x5600c606c915 0x5600c5ffeafa 0x5600c606c915\n",
            "tcmalloc: large alloc 3250610176 bytes == 0x560343cf0000 @  0x7fe4793491e7 0x7fe476e8946e 0x7fe476ed9c7b 0x7fe476ed9d18 0x7fe476f81010 0x7fe476f8173c 0x7fe476f8185d 0x5600c5fff749 0x7fe476ec6ef7 0x5600c5ffd437 0x5600c5ffd240 0x5600c6070973 0x5600c606b9ee 0x5600c5ffebda 0x5600c606d737 0x5600c606bced 0x5600c5f3de2b 0x7fe476ec6ef7 0x5600c5ffd437 0x5600c5ffd240 0x5600c6070973 0x5600c606b9ee 0x5600c5ffebda 0x5600c606d737 0x5600c606b9ee 0x5600c5ffebda 0x5600c606d737 0x5600c5ffeafa 0x5600c606c915 0x5600c5ffeafa 0x5600c606c915\n",
            "x shape:  (52093, 12, 325, 2) , y shape:  (52093, 12, 325, 2)\n",
            "train x:  (36465, 12, 325, 2) y: (36465, 12, 325, 2)\n",
            "val x:  (5209, 12, 325, 2) y: (5209, 12, 325, 2)\n",
            "test x:  (10419, 12, 325, 2) y: (10419, 12, 325, 2)\n"
          ]
        }
      ]
    },
    {
      "cell_type": "markdown",
      "metadata": {
        "id": "HRG1zTVCboer"
      },
      "source": [
        "After the datasets are loaded, construct a graph as an input for the GCN"
      ]
    },
    {
      "cell_type": "code",
      "metadata": {
        "id": "zN_jAqL8aU2h"
      },
      "source": [
        "!python -m scripts.gen_adj_mx  --sensor_ids_filename=data/sensor_graph/graph_sensor_ids.txt --normalized_k=0.1\\\n",
        "    --output_pkl_filename=data/sensor_graph/adj_mx.pkl"
      ],
      "execution_count": 14,
      "outputs": []
    },
    {
      "cell_type": "markdown",
      "metadata": {
        "id": "1uBgXAQrcIE4"
      },
      "source": [
        "Run the pretrained model"
      ]
    },
    {
      "cell_type": "code",
      "metadata": {
        "id": "OTJeSkrzcKic",
        "colab": {
          "base_uri": "https://localhost:8080/"
        },
        "outputId": "77d4947a-f15f-42cb-aca6-54494f5e2bdc"
      },
      "source": [
        "# METR-LA\n",
        "!python run_demo.py --config_filename=data/model/pretrained/METR-LA/config.yaml\n",
        "\n",
        "# PEMS-BAY\n",
        "!python run_demo.py --config_filename=data/model/pretrained/PEMS-BAY/config.yaml\n",
        "#The generated prediction of DCRNN is in data/results/dcrnn_predictions."
      ],
      "execution_count": 15,
      "outputs": [
        {
          "output_type": "stream",
          "name": "stdout",
          "text": [
            "Traceback (most recent call last):\n",
            "  File \"run_demo.py\", line 9, in <module>\n",
            "    from model.dcrnn_supervisor import DCRNNSupervisor\n",
            "  File \"/content/DCRNN/model/dcrnn_supervisor.py\", line 16, in <module>\n",
            "    from model.dcrnn_model import DCRNNModel\n",
            "  File \"/content/DCRNN/model/dcrnn_model.py\", line 7, in <module>\n",
            "    from tensorflow.contrib import legacy_seq2seq\n",
            "ModuleNotFoundError: No module named 'tensorflow.contrib'\n",
            "Traceback (most recent call last):\n",
            "  File \"run_demo.py\", line 9, in <module>\n",
            "    from model.dcrnn_supervisor import DCRNNSupervisor\n",
            "  File \"/content/DCRNN/model/dcrnn_supervisor.py\", line 16, in <module>\n",
            "    from model.dcrnn_model import DCRNNModel\n",
            "  File \"/content/DCRNN/model/dcrnn_model.py\", line 7, in <module>\n",
            "    from tensorflow.contrib import legacy_seq2seq\n",
            "ModuleNotFoundError: No module named 'tensorflow.contrib'\n"
          ]
        }
      ]
    },
    {
      "cell_type": "markdown",
      "metadata": {
        "id": "8SJybBDWcM8G"
      },
      "source": [
        "Or retrain the model completely"
      ]
    },
    {
      "cell_type": "code",
      "metadata": {
        "id": "u3RKvlPecRCU",
        "colab": {
          "base_uri": "https://localhost:8080/"
        },
        "outputId": "b9639c6f-550f-4215-aca2-7674f139972b"
      },
      "source": [
        "# METR-LA\n",
        "!python dcrnn_train.py --config_filename=data/model/dcrnn_la.yaml\n",
        "\n",
        "# PEMS-BAY\n",
        "!python dcrnn_train.py --config_filename=data/model/dcrnn_bay.yaml"
      ],
      "execution_count": 16,
      "outputs": [
        {
          "output_type": "stream",
          "name": "stdout",
          "text": [
            "Traceback (most recent call last):\n",
            "  File \"dcrnn_train.py\", line 10, in <module>\n",
            "    from model.dcrnn_supervisor import DCRNNSupervisor\n",
            "  File \"/content/DCRNN/model/dcrnn_supervisor.py\", line 16, in <module>\n",
            "    from model.dcrnn_model import DCRNNModel\n",
            "  File \"/content/DCRNN/model/dcrnn_model.py\", line 7, in <module>\n",
            "    from tensorflow.contrib import legacy_seq2seq\n",
            "ModuleNotFoundError: No module named 'tensorflow.contrib'\n",
            "Traceback (most recent call last):\n",
            "  File \"dcrnn_train.py\", line 10, in <module>\n",
            "    from model.dcrnn_supervisor import DCRNNSupervisor\n",
            "  File \"/content/DCRNN/model/dcrnn_supervisor.py\", line 16, in <module>\n",
            "    from model.dcrnn_model import DCRNNModel\n",
            "  File \"/content/DCRNN/model/dcrnn_model.py\", line 7, in <module>\n",
            "    from tensorflow.contrib import legacy_seq2seq\n",
            "ModuleNotFoundError: No module named 'tensorflow.contrib'\n"
          ]
        }
      ]
    },
    {
      "cell_type": "markdown",
      "metadata": {
        "id": "xeRyGzjdchZh"
      },
      "source": [
        "Eval Baseline Methods"
      ]
    },
    {
      "cell_type": "code",
      "metadata": {
        "id": "xKzLUzKOcjVJ",
        "colab": {
          "base_uri": "https://localhost:8080/"
        },
        "outputId": "b57be46f-80f3-4ad9-8217-3f21bc5dcb2d"
      },
      "source": [
        "# METR-LA\n",
        "!python -m scripts.eval_baseline_methods --traffic_reading_filename=data/metr-la.h5"
      ],
      "execution_count": 17,
      "outputs": [
        {
          "output_type": "stream",
          "name": "stdout",
          "text": [
            "/usr/local/lib/python3.7/dist-packages/statsmodels/tools/_testing.py:19: FutureWarning: pandas.util.testing is deprecated. Use the functions in the public API at pandas.testing instead.\n",
            "  import pandas.util.testing as tm\n",
            "2021-12-27 09:49:40,163 - INFO - Log directory: data/model\n",
            "2021-12-27 09:49:40,438 - INFO - Static\n",
            "2021-12-27 09:49:40,439 - INFO - Model\tHorizon\tRMSE\tMAPE\tMAE\n",
            "Traceback (most recent call last):\n",
            "  File \"/usr/lib/python3.7/runpy.py\", line 193, in _run_module_as_main\n",
            "    \"__main__\", mod_spec)\n",
            "  File \"/usr/lib/python3.7/runpy.py\", line 85, in _run_code\n",
            "    exec(code, run_globals)\n",
            "  File \"/content/DCRNN/scripts/eval_baseline_methods.py\", line 141, in <module>\n",
            "    main(args)\n",
            "  File \"/content/DCRNN/scripts/eval_baseline_methods.py\", line 130, in main\n",
            "    eval_static(traffic_reading_df)\n",
            "  File \"/content/DCRNN/scripts/eval_baseline_methods.py\", line 95, in eval_static\n",
            "    rmse = masked_rmse_np(preds=y_predict.as_matrix(), labels=y_test.as_matrix(), null_val=0)\n",
            "  File \"/usr/local/lib/python3.7/dist-packages/pandas/core/generic.py\", line 5141, in __getattr__\n",
            "    return object.__getattribute__(self, name)\n",
            "AttributeError: 'DataFrame' object has no attribute 'as_matrix'\n"
          ]
        }
      ]
    }
  ]
}