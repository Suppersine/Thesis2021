{
  "nbformat": 4,
  "nbformat_minor": 0,
  "metadata": {
    "colab": {
      "name": "Taxi_Lstm_Pytorch_Aug21.ipynb",
      "provenance": [],
      "collapsed_sections": []
    },
    "kernelspec": {
      "name": "python3",
      "display_name": "Python 3"
    },
    "language_info": {
      "name": "python"
    },
    "accelerator": "GPU"
  },
  "cells": [
    {
      "cell_type": "markdown",
      "metadata": {
        "id": "uj0AKIF4R5Qe"
      },
      "source": [
        "File Download"
      ]
    },
    {
      "cell_type": "code",
      "metadata": {
        "colab": {
          "base_uri": "https://localhost:8080/"
        },
        "id": "q0aKb6qpQity",
        "outputId": "bef1a4a8-ce74-4f14-db04-3d33786facb1"
      },
      "source": [
        "!wget https://raw.githubusercontent.com/Suppersine/Thesis2021/main/taxiuber/taxiday.csv"
      ],
      "execution_count": 17,
      "outputs": [
        {
          "output_type": "stream",
          "name": "stdout",
          "text": [
            "--2021-12-26 09:13:43--  https://raw.githubusercontent.com/Suppersine/Thesis2021/main/taxiuber/taxiday.csv\n",
            "Resolving raw.githubusercontent.com (raw.githubusercontent.com)... 185.199.108.133, 185.199.109.133, 185.199.110.133, ...\n",
            "Connecting to raw.githubusercontent.com (raw.githubusercontent.com)|185.199.108.133|:443... connected.\n",
            "HTTP request sent, awaiting response... 200 OK\n",
            "Length: 3294 (3.2K) [text/plain]\n",
            "Saving to: ‘taxiday.csv.2’\n",
            "\n",
            "\rtaxiday.csv.2         0%[                    ]       0  --.-KB/s               \rtaxiday.csv.2       100%[===================>]   3.22K  --.-KB/s    in 0s      \n",
            "\n",
            "2021-12-26 09:13:43 (28.7 MB/s) - ‘taxiday.csv.2’ saved [3294/3294]\n",
            "\n"
          ]
        }
      ]
    },
    {
      "cell_type": "markdown",
      "metadata": {
        "id": "0pVzkHsAR8Jc"
      },
      "source": [
        "Library"
      ]
    },
    {
      "cell_type": "code",
      "metadata": {
        "id": "Pl-O78ZCR_7H"
      },
      "source": [
        "import numpy as np\n",
        "import matplotlib.pyplot as plt\n",
        "import pandas as pd\n",
        "import torch\n",
        "import torch.nn as nn\n",
        "from torch.autograd import Variable\n",
        "from sklearn.preprocessing import MinMaxScaler\n",
        "import seaborn as sns\n",
        "from sklearn.metrics import mean_squared_error\n",
        "from sklearn.metrics import mean_absolute_error\n",
        "import math\n",
        "%matplotlib inline"
      ],
      "execution_count": 18,
      "outputs": []
    },
    {
      "cell_type": "markdown",
      "metadata": {
        "id": "QVlp2JvVSC0V"
      },
      "source": [
        "Data Plot"
      ]
    },
    {
      "cell_type": "code",
      "metadata": {
        "colab": {
          "base_uri": "https://localhost:8080/",
          "height": 265
        },
        "id": "8ZUGdlWuSIa7",
        "outputId": "c894cfa1-f7cd-4a77-fa91-0ef2634661e1"
      },
      "source": [
        "training_set = pd.read_csv('taxiday.csv')\n",
        "#training_set = pd.read_csv('shampoo.csv')\n",
        "\n",
        "training_set = training_set.iloc[:,1:2].values\n",
        "\n",
        "#plt.plot(training_set, label = 'Shampoo Sales Data')\n",
        "plt.plot(training_set, label = 'Taxi Daily Ridership Data (104/01-08)')\n",
        "plt.show()"
      ],
      "execution_count": 19,
      "outputs": [
        {
          "output_type": "display_data",
          "data": {
            "image/png": "[encoded data removed]",
            "text/plain": [
              "<Figure size 432x288 with 1 Axes>"
            ]
          },
          "metadata": {
            "needs_background": "light"
          }
        }
      ]
    },
    {
      "cell_type": "code",
      "metadata": {
        "colab": {
          "base_uri": "https://localhost:8080/"
        },
        "id": "jGJORsjkL2Kf",
        "outputId": "0e7936c2-b68a-4ed6-eb5d-b217287ca7cd"
      },
      "source": [
        "training_set.shape"
      ],
      "execution_count": 20,
      "outputs": [
        {
          "output_type": "execute_result",
          "data": {
            "text/plain": [
              "(243, 1)"
            ]
          },
          "metadata": {},
          "execution_count": 20
        }
      ]
    },
    {
      "cell_type": "markdown",
      "metadata": {
        "id": "yb74MryZSajJ"
      },
      "source": [
        "Dataloading"
      ]
    },
    {
      "cell_type": "code",
      "metadata": {
        "id": "MTa-4U4NSbx0"
      },
      "source": [
        "def sliding_windows(data, seq_length):\n",
        "    x = []\n",
        "    y = []\n",
        "\n",
        "    for i in range(len(data)-seq_length-1):\n",
        "        _x = data[i:(i+seq_length)]\n",
        "        _y = data[i+seq_length]\n",
        "        x.append(_x)\n",
        "        y.append(_y)\n",
        "\n",
        "    return np.array(x),np.array(y)\n",
        "\n",
        "sc = MinMaxScaler()\n",
        "training_data = sc.fit_transform(training_set)\n",
        "\n",
        "seq_length = 4\n",
        "x, y = sliding_windows(training_data, seq_length)\n",
        "\n",
        "train_size = int(len(y) * 0.67)\n",
        "test_size = len(y) - train_size\n",
        "\n",
        "dataX = Variable(torch.Tensor(np.array(x)))\n",
        "dataY = Variable(torch.Tensor(np.array(y)))\n",
        "\n",
        "trainX = Variable(torch.Tensor(np.array(x[0:train_size])))\n",
        "trainY = Variable(torch.Tensor(np.array(y[0:train_size])))\n",
        "\n",
        "testX = Variable(torch.Tensor(np.array(x[train_size:len(x)])))\n",
        "testY = Variable(torch.Tensor(np.array(y[train_size:len(y)])))"
      ],
      "execution_count": 21,
      "outputs": []
    },
    {
      "cell_type": "markdown",
      "metadata": {
        "id": "c1sPs2hJYafi"
      },
      "source": [
        "Model"
      ]
    },
    {
      "cell_type": "code",
      "metadata": {
        "id": "jw1SuMRZYcWh"
      },
      "source": [
        "class LSTM(nn.Module):\n",
        "\n",
        "    def __init__(self, num_classes, input_size, hidden_size, num_layers):\n",
        "        super(LSTM, self).__init__()\n",
        "        \n",
        "        self.num_classes = num_classes\n",
        "        self.num_layers = num_layers\n",
        "        self.input_size = input_size\n",
        "        self.hidden_size = hidden_size\n",
        "        self.seq_length = seq_length\n",
        "        \n",
        "        self.lstm = nn.LSTM(input_size=input_size, hidden_size=hidden_size,\n",
        "                            num_layers=num_layers, batch_first=True)\n",
        "        \n",
        "        self.fc = nn.Linear(hidden_size, num_classes)\n",
        "\n",
        "    def forward(self, x):\n",
        "        h_0 = Variable(torch.zeros(\n",
        "            self.num_layers, x.size(0), self.hidden_size))\n",
        "        \n",
        "        c_0 = Variable(torch.zeros(\n",
        "            self.num_layers, x.size(0), self.hidden_size))\n",
        "        \n",
        "        # Propagate input through LSTM\n",
        "        ula, (h_out, _) = self.lstm(x, (h_0, c_0))\n",
        "        \n",
        "        h_out = h_out.view(-1, self.hidden_size)\n",
        "        \n",
        "        out = self.fc(h_out)\n",
        "        \n",
        "        return out"
      ],
      "execution_count": 22,
      "outputs": []
    },
    {
      "cell_type": "markdown",
      "metadata": {
        "id": "xh3KBV18YsxR"
      },
      "source": [
        "Training"
      ]
    },
    {
      "cell_type": "code",
      "metadata": {
        "colab": {
          "base_uri": "https://localhost:8080/"
        },
        "id": "gMXLVwArYuYR",
        "outputId": "79c5ded9-f9be-41e1-f15f-341d85d68fc5"
      },
      "source": [
        "num_epochs = 200\n",
        "learning_rate = 0.01\n",
        "\n",
        "input_size = 1\n",
        "hidden_size = 2\n",
        "num_layers = 1\n",
        "\n",
        "num_classes = 1\n",
        "\n",
        "lstm = LSTM(num_classes, input_size, hidden_size, num_layers)\n",
        "\n",
        "criterion = torch.nn.MSELoss()    # mean-squared error for regression\n",
        "optimizer = torch.optim.Adam(lstm.parameters(), lr=learning_rate)\n",
        "#optimizer = torch.optim.SGD(lstm.parameters(), lr=learning_rate)\n",
        "\n",
        "# Train the model\n",
        "for epoch in range(num_epochs):\n",
        "    outputs = lstm(trainX)\n",
        "    optimizer.zero_grad()\n",
        "    \n",
        "    # obtain the loss function\n",
        "    loss = criterion(outputs, trainY)\n",
        "    \n",
        "    loss.backward()\n",
        "    \n",
        "    optimizer.step()\n",
        "    if epoch % 10 == 0:\n",
        "      print(\"Epoch: %d, loss: %1.5f\" % (epoch, loss.item()))"
      ],
      "execution_count": 23,
      "outputs": [
        {
          "output_type": "stream",
          "name": "stdout",
          "text": [
            "Epoch: 0, loss: 0.87576\n",
            "Epoch: 10, loss: 0.47403\n",
            "Epoch: 20, loss: 0.15193\n",
            "Epoch: 30, loss: 0.01766\n",
            "Epoch: 40, loss: 0.02981\n",
            "Epoch: 50, loss: 0.01692\n",
            "Epoch: 60, loss: 0.01677\n",
            "Epoch: 70, loss: 0.01638\n",
            "Epoch: 80, loss: 0.01582\n",
            "Epoch: 90, loss: 0.01581\n",
            "Epoch: 100, loss: 0.01565\n",
            "Epoch: 110, loss: 0.01558\n",
            "Epoch: 120, loss: 0.01548\n",
            "Epoch: 130, loss: 0.01539\n",
            "Epoch: 140, loss: 0.01529\n",
            "Epoch: 150, loss: 0.01519\n",
            "Epoch: 160, loss: 0.01508\n",
            "Epoch: 170, loss: 0.01497\n",
            "Epoch: 180, loss: 0.01486\n",
            "Epoch: 190, loss: 0.01474\n"
          ]
        }
      ]
    },
    {
      "cell_type": "markdown",
      "metadata": {
        "id": "pE4dG2YyY_Tp"
      },
      "source": [
        "Testing Data"
      ]
    },
    {
      "cell_type": "code",
      "metadata": {
        "colab": {
          "base_uri": "https://localhost:8080/",
          "height": 381
        },
        "id": "PACKOAK0ZAcY",
        "outputId": "6a237acd-0095-4f3d-deb0-9fc529420c5e"
      },
      "source": [
        "lstm.eval()\n",
        "train_predict = lstm(dataX)\n",
        "\n",
        "data_predict = train_predict.data.numpy()\n",
        "dataY_plot = dataY.data.numpy()\n",
        "\n",
        "data_predict = sc.inverse_transform(data_predict)\n",
        "dataY_plot = sc.inverse_transform(dataY_plot)\n",
        "\n",
        "print(data_predict.size)\n",
        "print(dataY_plot.size)\n",
        "data_mse = mean_squared_error(data_predict, dataY_plot, squared=True)\n",
        "data_rmse = mean_squared_error(data_predict, dataY_plot, squared=False)\n",
        "data_mae = mean_absolute_error(data_predict, dataY_plot)\n",
        "\n",
        "print(\"data-mse =\", data_mse)\n",
        "print(\"data-rmse =\", data_rmse)\n",
        "print(\"data-mae =\", data_mae)\n",
        "\n",
        "plt.axvline(x=train_size, c='r', linestyle='--')\n",
        "\n",
        "plt.plot(dataY_plot)\n",
        "plt.plot(data_predict)\n",
        "plt.suptitle('Time-Series Prediction')\n",
        "plt.show()"
      ],
      "execution_count": 24,
      "outputs": [
        {
          "output_type": "stream",
          "name": "stdout",
          "text": [
            "238\n",
            "238\n",
            "data-mse = 123853350.0\n",
            "data-rmse = 11128.942\n",
            "data-mae = 8171.9087\n"
          ]
        },
        {
          "output_type": "display_data",
          "data": {
            "image/png": "[encoded data removed]",
            "text/plain": [
              "<Figure size 432x288 with 1 Axes>"
            ]
          },
          "metadata": {
            "needs_background": "light"
          }
        }
      ]
    }
  ]
}