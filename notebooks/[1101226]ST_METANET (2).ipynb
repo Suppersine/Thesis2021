{
  "cells": [
    {
      "cell_type": "markdown",
      "metadata": {
        "id": "aV7liJE56rDp"
      },
      "source": [
        "#ENVIRONMENTAL SETUP\n",
        "check GPU"
      ]
    },
    {
      "cell_type": "code",
      "execution_count": 1,
      "metadata": {
        "colab": {
          "base_uri": "https://localhost:8080/"
        },
        "id": "BMhL4TKe6lzX",
        "outputId": "5d3c7703-4ee5-4b63-ebcc-44026827c69e"
      },
      "outputs": [
        {
          "output_type": "stream",
          "name": "stdout",
          "text": [
            "Sun Dec 26 06:05:38 2021       \n",
            "+-----------------------------------------------------------------------------+\n",
            "| NVIDIA-SMI 495.44       Driver Version: 460.32.03    CUDA Version: 11.2     |\n",
            "|-------------------------------+----------------------+----------------------+\n",
            "| GPU  Name        Persistence-M| Bus-Id        Disp.A | Volatile Uncorr. ECC |\n",
            "| Fan  Temp  Perf  Pwr:Usage/Cap|         Memory-Usage | GPU-Util  Compute M. |\n",
            "|                               |                      |               MIG M. |\n",
            "|===============================+======================+======================|\n",
            "|   0  Tesla K80           Off  | 00000000:00:04.0 Off |                    0 |\n",
            "| N/A   37C    P8    27W / 149W |      0MiB / 11441MiB |      0%      Default |\n",
            "|                               |                      |                  N/A |\n",
            "+-------------------------------+----------------------+----------------------+\n",
            "                                                                               \n",
            "+-----------------------------------------------------------------------------+\n",
            "| Processes:                                                                  |\n",
            "|  GPU   GI   CI        PID   Type   Process name                  GPU Memory |\n",
            "|        ID   ID                                                   Usage      |\n",
            "|=============================================================================|\n",
            "|  No running processes found                                                 |\n",
            "+-----------------------------------------------------------------------------+\n"
          ]
        }
      ],
      "source": [
        "!nvidia-smi"
      ]
    },
    {
      "cell_type": "code",
      "execution_count": 2,
      "metadata": {
        "colab": {
          "base_uri": "https://localhost:8080/"
        },
        "id": "9ulu4I2w67ic",
        "outputId": "4bdd99ff-70fb-423d-e5d9-5ba657bdc899"
      },
      "outputs": [
        {
          "output_type": "stream",
          "name": "stdout",
          "text": [
            "nvcc: NVIDIA (R) Cuda compiler driver\n",
            "Copyright (c) 2005-2020 NVIDIA Corporation\n",
            "Built on Mon_Oct_12_20:09:46_PDT_2020\n",
            "Cuda compilation tools, release 11.1, V11.1.105\n",
            "Build cuda_11.1.TC455_06.29190527_0\n"
          ]
        }
      ],
      "source": [
        "!nvcc --version"
      ]
    },
    {
      "cell_type": "markdown",
      "metadata": {
        "id": "oNarb7n4ATOU"
      },
      "source": [
        "Install Cuda 90"
      ]
    },
    {
      "cell_type": "code",
      "execution_count": 3,
      "metadata": {
        "colab": {
          "base_uri": "https://localhost:8080/"
        },
        "id": "WPpYuZfc69Jq",
        "outputId": "100196dc-66ad-4855-9ff5-fa1b3122ef0a"
      },
      "outputs": [
        {
          "output_type": "stream",
          "name": "stdout",
          "text": [
            "--2021-12-26 06:05:38--  https://developer.nvidia.com/compute/cuda/9.0/Prod/local_installers/cuda-repo-ubuntu1604-9-0-local_9.0.176-1_amd64-deb\n",
            "Resolving developer.nvidia.com (developer.nvidia.com)... 152.195.19.142\n",
            "Connecting to developer.nvidia.com (developer.nvidia.com)|152.195.19.142|:443... connected.\n",
            "HTTP request sent, awaiting response... 301 Moved Permanently\n",
            "Location: https://developer.nvidia.com/compute/cuda/9.0/prod/local_installers/cuda-repo-ubuntu1604-9-0-local_9.0.176-1_amd64-deb [following]\n",
            "--2021-12-26 06:05:38--  https://developer.nvidia.com/compute/cuda/9.0/prod/local_installers/cuda-repo-ubuntu1604-9-0-local_9.0.176-1_amd64-deb\n",
            "Reusing existing connection to developer.nvidia.com:443.\n",
            "HTTP request sent, awaiting response... 302 Found\n",
            "Location: https://developer.download.nvidia.com/compute/cuda/9.0/secure/Prod/local_installers/cuda-repo-ubuntu1604-9-0-local_9.0.176-1_amd64.deb?vhOG6R3aKqvX_brtfzakfrNcveJCfSMbb6AfI5P8wWF2-dZoVDkU4ca82x_S2gVqmUP8WXTS41hvdHymevlal8IhYsVl7YRpP_JxEBn_j2g-aNKLBRIQr33dWx_4znccYA_31q3wM3lJaH7FjqVHHhY3kOtLEy6N5tIah0y6bHqVYyU1UNa4CwrxcXe6iwsJS6I217nNVaRHVSqUaa7G [following]\n",
            "--2021-12-26 06:05:39--  https://developer.download.nvidia.com/compute/cuda/9.0/secure/Prod/local_installers/cuda-repo-ubuntu1604-9-0-local_9.0.176-1_amd64.deb?vhOG6R3aKqvX_brtfzakfrNcveJCfSMbb6AfI5P8wWF2-dZoVDkU4ca82x_S2gVqmUP8WXTS41hvdHymevlal8IhYsVl7YRpP_JxEBn_j2g-aNKLBRIQr33dWx_4znccYA_31q3wM3lJaH7FjqVHHhY3kOtLEy6N5tIah0y6bHqVYyU1UNa4CwrxcXe6iwsJS6I217nNVaRHVSqUaa7G\n",
            "Resolving developer.download.nvidia.com (developer.download.nvidia.com)... 152.195.19.142\n",
            "Connecting to developer.download.nvidia.com (developer.download.nvidia.com)|152.195.19.142|:443... connected.\n",
            "HTTP request sent, awaiting response... 200 OK\n",
            "Length: 1212738714 (1.1G) [application/x-deb]\n",
            "Saving to: ‘cuda-repo-ubuntu1604-9-0-local_9.0.176-1_amd64-deb’\n",
            "\n",
            "cuda-repo-ubuntu160 100%[===================>]   1.13G   162MB/s    in 6.4s    \n",
            "\n",
            "2021-12-26 06:05:45 (181 MB/s) - ‘cuda-repo-ubuntu1604-9-0-local_9.0.176-1_amd64-deb’ saved [1212738714/1212738714]\n",
            "\n",
            "Selecting previously unselected package cuda-repo-ubuntu1604-9-0-local.\n",
            "(Reading database ... 155222 files and directories currently installed.)\n",
            "Preparing to unpack cuda-repo-ubuntu1604-9-0-local_9.0.176-1_amd64-deb ...\n",
            "Unpacking cuda-repo-ubuntu1604-9-0-local (9.0.176-1) ...\n",
            "Setting up cuda-repo-ubuntu1604-9-0-local (9.0.176-1) ...\n",
            "OK\n",
            "Get:1 file:/var/cuda-repo-9-0-local  InRelease\n",
            "Ign:1 file:/var/cuda-repo-9-0-local  InRelease\n",
            "Get:2 file:/var/cuda-repo-9-0-local  Release [574 B]\n",
            "Get:2 file:/var/cuda-repo-9-0-local  Release [574 B]\n",
            "Get:3 file:/var/cuda-repo-9-0-local  Release.gpg [819 B]\n",
            "Get:3 file:/var/cuda-repo-9-0-local  Release.gpg [819 B]\n",
            "Get:4 https://cloud.r-project.org/bin/linux/ubuntu bionic-cran40/ InRelease [3,626 B]\n",
            "Ign:5 https://developer.download.nvidia.com/compute/cuda/repos/ubuntu1804/x86_64  InRelease\n",
            "Get:6 http://ppa.launchpad.net/c2d4u.team/c2d4u4.0+/ubuntu bionic InRelease [15.9 kB]\n",
            "Ign:7 https://developer.download.nvidia.com/compute/machine-learning/repos/ubuntu1804/x86_64  InRelease\n",
            "Get:8 https://developer.download.nvidia.com/compute/cuda/repos/ubuntu1804/x86_64  Release [696 B]\n",
            "Get:9 file:/var/cuda-repo-9-0-local  Packages [15.4 kB]\n",
            "Hit:10 https://developer.download.nvidia.com/compute/machine-learning/repos/ubuntu1804/x86_64  Release\n",
            "Get:11 https://developer.download.nvidia.com/compute/cuda/repos/ubuntu1804/x86_64  Release.gpg [836 B]\n",
            "Get:12 http://security.ubuntu.com/ubuntu bionic-security InRelease [88.7 kB]\n",
            "Hit:13 http://archive.ubuntu.com/ubuntu bionic InRelease\n",
            "Get:14 http://archive.ubuntu.com/ubuntu bionic-updates InRelease [88.7 kB]\n",
            "Get:15 https://cloud.r-project.org/bin/linux/ubuntu bionic-cran40/ Packages [73.9 kB]\n",
            "Hit:16 http://ppa.launchpad.net/cran/libgit2/ubuntu bionic InRelease\n",
            "Get:18 http://ppa.launchpad.net/deadsnakes/ppa/ubuntu bionic InRelease [15.9 kB]\n",
            "Get:19 http://archive.ubuntu.com/ubuntu bionic-backports InRelease [74.6 kB]\n",
            "Get:20 https://developer.download.nvidia.com/compute/cuda/repos/ubuntu1804/x86_64  Packages [833 kB]\n",
            "Hit:21 http://ppa.launchpad.net/graphics-drivers/ppa/ubuntu bionic InRelease\n",
            "Get:22 http://ppa.launchpad.net/c2d4u.team/c2d4u4.0+/ubuntu bionic/main Sources [1,821 kB]\n",
            "Get:23 http://security.ubuntu.com/ubuntu bionic-security/main amd64 Packages [2,461 kB]\n",
            "Get:24 http://archive.ubuntu.com/ubuntu bionic-updates/universe amd64 Packages [2,230 kB]\n",
            "Get:25 http://ppa.launchpad.net/c2d4u.team/c2d4u4.0+/ubuntu bionic/main amd64 Packages [934 kB]\n",
            "Get:26 http://security.ubuntu.com/ubuntu bionic-security/universe amd64 Packages [1,452 kB]\n",
            "Get:27 http://security.ubuntu.com/ubuntu bionic-security/restricted amd64 Packages [691 kB]\n",
            "Get:28 http://archive.ubuntu.com/ubuntu bionic-updates/main amd64 Packages [2,898 kB]\n",
            "Get:29 http://archive.ubuntu.com/ubuntu bionic-backports/universe amd64 Packages [12.6 kB]\n",
            "Get:30 http://archive.ubuntu.com/ubuntu bionic-backports/main amd64 Packages [11.6 kB]\n",
            "Get:31 http://ppa.launchpad.net/deadsnakes/ppa/ubuntu bionic/main amd64 Packages [45.3 kB]\n",
            "Fetched 13.8 MB in 4s (3,840 kB/s)\n",
            "Reading package lists... Done\n",
            "Reading package lists... Done\n",
            "Building dependency tree       \n",
            "Reading state information... Done\n",
            "The following additional packages will be installed:\n",
            "  cuda-9-0 cuda-command-line-tools-9-0 cuda-core-9-0 cuda-cublas-9-0\n",
            "  cuda-cublas-dev-9-0 cuda-cudart-9-0 cuda-cudart-dev-9-0 cuda-cufft-9-0\n",
            "  cuda-cufft-dev-9-0 cuda-curand-9-0 cuda-curand-dev-9-0 cuda-cusolver-9-0\n",
            "  cuda-cusolver-dev-9-0 cuda-cusparse-9-0 cuda-cusparse-dev-9-0\n",
            "  cuda-demo-suite-9-0 cuda-documentation-9-0 cuda-driver-dev-9-0\n",
            "  cuda-libraries-9-0 cuda-libraries-dev-9-0 cuda-license-9-0\n",
            "  cuda-misc-headers-9-0 cuda-npp-9-0 cuda-npp-dev-9-0 cuda-nvgraph-9-0\n",
            "  cuda-nvgraph-dev-9-0 cuda-nvml-dev-9-0 cuda-nvrtc-9-0 cuda-nvrtc-dev-9-0\n",
            "  cuda-runtime-9-0 cuda-samples-9-0 cuda-toolkit-9-0 cuda-visual-tools-9-0\n",
            "The following NEW packages will be installed:\n",
            "  cuda cuda-9-0 cuda-command-line-tools-9-0 cuda-core-9-0 cuda-cublas-9-0\n",
            "  cuda-cublas-dev-9-0 cuda-cudart-9-0 cuda-cudart-dev-9-0 cuda-cufft-9-0\n",
            "  cuda-cufft-dev-9-0 cuda-curand-9-0 cuda-curand-dev-9-0 cuda-cusolver-9-0\n",
            "  cuda-cusolver-dev-9-0 cuda-cusparse-9-0 cuda-cusparse-dev-9-0\n",
            "  cuda-demo-suite-9-0 cuda-documentation-9-0 cuda-driver-dev-9-0\n",
            "  cuda-libraries-9-0 cuda-libraries-dev-9-0 cuda-license-9-0\n",
            "  cuda-misc-headers-9-0 cuda-npp-9-0 cuda-npp-dev-9-0 cuda-nvgraph-9-0\n",
            "  cuda-nvgraph-dev-9-0 cuda-nvml-dev-9-0 cuda-nvrtc-9-0 cuda-nvrtc-dev-9-0\n",
            "  cuda-runtime-9-0 cuda-samples-9-0 cuda-toolkit-9-0 cuda-visual-tools-9-0\n",
            "0 upgraded, 34 newly installed, 0 to remove and 85 not upgraded.\n",
            "Need to get 0 B/1,097 MB of archives.\n",
            "After this operation, 2,315 MB of additional disk space will be used.\n",
            "Get:1 file:/var/cuda-repo-9-0-local  cuda-license-9-0 9.0.176-1 [22.0 kB]\n",
            "Get:2 file:/var/cuda-repo-9-0-local  cuda-misc-headers-9-0 9.0.176-1 [684 kB]\n",
            "Get:3 file:/var/cuda-repo-9-0-local  cuda-core-9-0 9.0.176-1 [16.9 MB]\n",
            "Get:4 file:/var/cuda-repo-9-0-local  cuda-cudart-9-0 9.0.176-1 [106 kB]\n",
            "Get:5 file:/var/cuda-repo-9-0-local  cuda-driver-dev-9-0 9.0.176-1 [10.9 kB]\n",
            "Get:6 file:/var/cuda-repo-9-0-local  cuda-cudart-dev-9-0 9.0.176-1 [767 kB]\n",
            "Get:7 file:/var/cuda-repo-9-0-local  cuda-command-line-tools-9-0 9.0.176-1 [25.4 MB]\n",
            "Get:8 file:/var/cuda-repo-9-0-local  cuda-nvrtc-9-0 9.0.176-1 [6,348 kB]\n",
            "Get:9 file:/var/cuda-repo-9-0-local  cuda-nvrtc-dev-9-0 9.0.176-1 [9,334 B]\n",
            "Get:10 file:/var/cuda-repo-9-0-local  cuda-cusolver-9-0 9.0.176-1 [26.2 MB]\n",
            "Get:11 file:/var/cuda-repo-9-0-local  cuda-cusolver-dev-9-0 9.0.176-1 [5,317 kB]\n",
            "Get:12 file:/var/cuda-repo-9-0-local  cuda-cublas-9-0 9.0.176-1 [25.0 MB]\n",
            "Get:13 file:/var/cuda-repo-9-0-local  cuda-cublas-dev-9-0 9.0.176-1 [49.4 MB]\n",
            "Get:14 file:/var/cuda-repo-9-0-local  cuda-cufft-9-0 9.0.176-1 [84.1 MB]\n",
            "Get:15 file:/var/cuda-repo-9-0-local  cuda-cufft-dev-9-0 9.0.176-1 [73.7 MB]\n",
            "Get:16 file:/var/cuda-repo-9-0-local  cuda-curand-9-0 9.0.176-1 [38.8 MB]\n",
            "Get:17 file:/var/cuda-repo-9-0-local  cuda-curand-dev-9-0 9.0.176-1 [57.9 MB]\n",
            "Get:18 file:/var/cuda-repo-9-0-local  cuda-cusparse-9-0 9.0.176-1 [25.2 MB]\n",
            "Get:19 file:/var/cuda-repo-9-0-local  cuda-cusparse-dev-9-0 9.0.176-1 [25.3 MB]\n",
            "Get:20 file:/var/cuda-repo-9-0-local  cuda-npp-9-0 9.0.176-1 [46.6 MB]\n",
            "Get:21 file:/var/cuda-repo-9-0-local  cuda-npp-dev-9-0 9.0.176-1 [46.6 MB]\n",
            "Get:22 file:/var/cuda-repo-9-0-local  cuda-nvgraph-9-0 9.0.176-1 [6,081 kB]\n",
            "Get:23 file:/var/cuda-repo-9-0-local  cuda-nvgraph-dev-9-0 9.0.176-1 [5,658 kB]\n",
            "Get:24 file:/var/cuda-repo-9-0-local  cuda-samples-9-0 9.0.176-1 [75.9 MB]\n",
            "Get:25 file:/var/cuda-repo-9-0-local  cuda-documentation-9-0 9.0.176-1 [53.1 MB]\n",
            "Get:26 file:/var/cuda-repo-9-0-local  cuda-libraries-dev-9-0 9.0.176-1 [2,596 B]\n",
            "Get:27 file:/var/cuda-repo-9-0-local  cuda-nvml-dev-9-0 9.0.176-1 [47.6 kB]\n",
            "Get:28 file:/var/cuda-repo-9-0-local  cuda-visual-tools-9-0 9.0.176-1 [398 MB]\n",
            "Get:29 file:/var/cuda-repo-9-0-local  cuda-toolkit-9-0 9.0.176-1 [2,836 B]\n",
            "Get:30 file:/var/cuda-repo-9-0-local  cuda-libraries-9-0 9.0.176-1 [2,566 B]\n",
            "Get:31 file:/var/cuda-repo-9-0-local  cuda-runtime-9-0 9.0.176-1 [2,526 B]\n",
            "Get:32 file:/var/cuda-repo-9-0-local  cuda-demo-suite-9-0 9.0.176-1 [3,880 kB]\n",
            "Get:33 file:/var/cuda-repo-9-0-local  cuda-9-0 9.0.176-1 [2,552 B]\n",
            "Get:34 file:/var/cuda-repo-9-0-local  cuda 9.0.176-1 [2,504 B]\n",
            "Extracting templates from packages: 100%\n",
            "Selecting previously unselected package cuda-license-9-0.\n",
            "(Reading database ... 155281 files and directories currently installed.)\n",
            "Preparing to unpack .../00-cuda-license-9-0_9.0.176-1_amd64.deb ...\n",
            "Unpacking cuda-license-9-0 (9.0.176-1) ...\n",
            "Selecting previously unselected package cuda-misc-headers-9-0.\n",
            "Preparing to unpack .../01-cuda-misc-headers-9-0_9.0.176-1_amd64.deb ...\n",
            "Unpacking cuda-misc-headers-9-0 (9.0.176-1) ...\n",
            "Selecting previously unselected package cuda-core-9-0.\n",
            "Preparing to unpack .../02-cuda-core-9-0_9.0.176-1_amd64.deb ...\n",
            "Unpacking cuda-core-9-0 (9.0.176-1) ...\n",
            "Selecting previously unselected package cuda-cudart-9-0.\n",
            "Preparing to unpack .../03-cuda-cudart-9-0_9.0.176-1_amd64.deb ...\n",
            "Unpacking cuda-cudart-9-0 (9.0.176-1) ...\n",
            "Selecting previously unselected package cuda-driver-dev-9-0.\n",
            "Preparing to unpack .../04-cuda-driver-dev-9-0_9.0.176-1_amd64.deb ...\n",
            "Unpacking cuda-driver-dev-9-0 (9.0.176-1) ...\n",
            "Selecting previously unselected package cuda-cudart-dev-9-0.\n",
            "Preparing to unpack .../05-cuda-cudart-dev-9-0_9.0.176-1_amd64.deb ...\n",
            "Unpacking cuda-cudart-dev-9-0 (9.0.176-1) ...\n",
            "Selecting previously unselected package cuda-command-line-tools-9-0.\n",
            "Preparing to unpack .../06-cuda-command-line-tools-9-0_9.0.176-1_amd64.deb ...\n",
            "Unpacking cuda-command-line-tools-9-0 (9.0.176-1) ...\n",
            "Selecting previously unselected package cuda-nvrtc-9-0.\n",
            "Preparing to unpack .../07-cuda-nvrtc-9-0_9.0.176-1_amd64.deb ...\n",
            "Unpacking cuda-nvrtc-9-0 (9.0.176-1) ...\n",
            "Selecting previously unselected package cuda-nvrtc-dev-9-0.\n",
            "Preparing to unpack .../08-cuda-nvrtc-dev-9-0_9.0.176-1_amd64.deb ...\n",
            "Unpacking cuda-nvrtc-dev-9-0 (9.0.176-1) ...\n",
            "Selecting previously unselected package cuda-cusolver-9-0.\n",
            "Preparing to unpack .../09-cuda-cusolver-9-0_9.0.176-1_amd64.deb ...\n",
            "Unpacking cuda-cusolver-9-0 (9.0.176-1) ...\n",
            "Selecting previously unselected package cuda-cusolver-dev-9-0.\n",
            "Preparing to unpack .../10-cuda-cusolver-dev-9-0_9.0.176-1_amd64.deb ...\n",
            "Unpacking cuda-cusolver-dev-9-0 (9.0.176-1) ...\n",
            "Selecting previously unselected package cuda-cublas-9-0.\n",
            "Preparing to unpack .../11-cuda-cublas-9-0_9.0.176-1_amd64.deb ...\n",
            "Unpacking cuda-cublas-9-0 (9.0.176-1) ...\n",
            "Selecting previously unselected package cuda-cublas-dev-9-0.\n",
            "Preparing to unpack .../12-cuda-cublas-dev-9-0_9.0.176-1_amd64.deb ...\n",
            "Unpacking cuda-cublas-dev-9-0 (9.0.176-1) ...\n",
            "Selecting previously unselected package cuda-cufft-9-0.\n",
            "Preparing to unpack .../13-cuda-cufft-9-0_9.0.176-1_amd64.deb ...\n",
            "Unpacking cuda-cufft-9-0 (9.0.176-1) ...\n",
            "Selecting previously unselected package cuda-cufft-dev-9-0.\n",
            "Preparing to unpack .../14-cuda-cufft-dev-9-0_9.0.176-1_amd64.deb ...\n",
            "Unpacking cuda-cufft-dev-9-0 (9.0.176-1) ...\n",
            "Selecting previously unselected package cuda-curand-9-0.\n",
            "Preparing to unpack .../15-cuda-curand-9-0_9.0.176-1_amd64.deb ...\n",
            "Unpacking cuda-curand-9-0 (9.0.176-1) ...\n",
            "Selecting previously unselected package cuda-curand-dev-9-0.\n",
            "Preparing to unpack .../16-cuda-curand-dev-9-0_9.0.176-1_amd64.deb ...\n",
            "Unpacking cuda-curand-dev-9-0 (9.0.176-1) ...\n",
            "Selecting previously unselected package cuda-cusparse-9-0.\n",
            "Preparing to unpack .../17-cuda-cusparse-9-0_9.0.176-1_amd64.deb ...\n",
            "Unpacking cuda-cusparse-9-0 (9.0.176-1) ...\n",
            "Selecting previously unselected package cuda-cusparse-dev-9-0.\n",
            "Preparing to unpack .../18-cuda-cusparse-dev-9-0_9.0.176-1_amd64.deb ...\n",
            "Unpacking cuda-cusparse-dev-9-0 (9.0.176-1) ...\n",
            "Selecting previously unselected package cuda-npp-9-0.\n",
            "Preparing to unpack .../19-cuda-npp-9-0_9.0.176-1_amd64.deb ...\n",
            "Unpacking cuda-npp-9-0 (9.0.176-1) ...\n",
            "Selecting previously unselected package cuda-npp-dev-9-0.\n",
            "Preparing to unpack .../20-cuda-npp-dev-9-0_9.0.176-1_amd64.deb ...\n",
            "Unpacking cuda-npp-dev-9-0 (9.0.176-1) ...\n",
            "Selecting previously unselected package cuda-nvgraph-9-0.\n",
            "Preparing to unpack .../21-cuda-nvgraph-9-0_9.0.176-1_amd64.deb ...\n",
            "Unpacking cuda-nvgraph-9-0 (9.0.176-1) ...\n",
            "Selecting previously unselected package cuda-nvgraph-dev-9-0.\n",
            "Preparing to unpack .../22-cuda-nvgraph-dev-9-0_9.0.176-1_amd64.deb ...\n",
            "Unpacking cuda-nvgraph-dev-9-0 (9.0.176-1) ...\n",
            "Selecting previously unselected package cuda-samples-9-0.\n",
            "Preparing to unpack .../23-cuda-samples-9-0_9.0.176-1_amd64.deb ...\n",
            "Unpacking cuda-samples-9-0 (9.0.176-1) ...\n",
            "Selecting previously unselected package cuda-documentation-9-0.\n",
            "Preparing to unpack .../24-cuda-documentation-9-0_9.0.176-1_amd64.deb ...\n",
            "Unpacking cuda-documentation-9-0 (9.0.176-1) ...\n",
            "Selecting previously unselected package cuda-libraries-dev-9-0.\n",
            "Preparing to unpack .../25-cuda-libraries-dev-9-0_9.0.176-1_amd64.deb ...\n",
            "Unpacking cuda-libraries-dev-9-0 (9.0.176-1) ...\n",
            "Selecting previously unselected package cuda-nvml-dev-9-0.\n",
            "Preparing to unpack .../26-cuda-nvml-dev-9-0_9.0.176-1_amd64.deb ...\n",
            "Unpacking cuda-nvml-dev-9-0 (9.0.176-1) ...\n",
            "Selecting previously unselected package cuda-visual-tools-9-0.\n",
            "Preparing to unpack .../27-cuda-visual-tools-9-0_9.0.176-1_amd64.deb ...\n",
            "Unpacking cuda-visual-tools-9-0 (9.0.176-1) ...\n",
            "Selecting previously unselected package cuda-toolkit-9-0.\n",
            "Preparing to unpack .../28-cuda-toolkit-9-0_9.0.176-1_amd64.deb ...\n",
            "Unpacking cuda-toolkit-9-0 (9.0.176-1) ...\n",
            "Selecting previously unselected package cuda-libraries-9-0.\n",
            "Preparing to unpack .../29-cuda-libraries-9-0_9.0.176-1_amd64.deb ...\n",
            "Unpacking cuda-libraries-9-0 (9.0.176-1) ...\n",
            "Selecting previously unselected package cuda-runtime-9-0.\n",
            "Preparing to unpack .../30-cuda-runtime-9-0_9.0.176-1_amd64.deb ...\n",
            "Unpacking cuda-runtime-9-0 (9.0.176-1) ...\n",
            "Selecting previously unselected package cuda-demo-suite-9-0.\n",
            "Preparing to unpack .../31-cuda-demo-suite-9-0_9.0.176-1_amd64.deb ...\n",
            "Unpacking cuda-demo-suite-9-0 (9.0.176-1) ...\n",
            "Selecting previously unselected package cuda-9-0.\n",
            "Preparing to unpack .../32-cuda-9-0_9.0.176-1_amd64.deb ...\n",
            "Unpacking cuda-9-0 (9.0.176-1) ...\n",
            "Selecting previously unselected package cuda.\n",
            "Preparing to unpack .../33-cuda_9.0.176-1_amd64.deb ...\n",
            "Unpacking cuda (9.0.176-1) ...\n",
            "Setting up cuda-license-9-0 (9.0.176-1) ...\n",
            "*** LICENSE AGREEMENT ***\n",
            "By using this software you agree to fully comply with the terms and \n",
            "conditions of the EULA (End User License Agreement). The EULA is located\n",
            "at /usr/local/cuda-9.0/doc/EULA.txt. The EULA can also be found at\n",
            "http://docs.nvidia.com/cuda/eula/index.html. If you do not agree to the\n",
            "terms and conditions of the EULA, do not use the software.\n",
            "\n",
            "Setting up cuda-cusparse-9-0 (9.0.176-1) ...\n",
            "Setting up cuda-cudart-9-0 (9.0.176-1) ...\n",
            "Setting up cuda-nvrtc-9-0 (9.0.176-1) ...\n",
            "Setting up cuda-cusparse-dev-9-0 (9.0.176-1) ...\n",
            "Setting up cuda-cufft-9-0 (9.0.176-1) ...\n",
            "Setting up cuda-cusolver-9-0 (9.0.176-1) ...\n",
            "Setting up cuda-nvml-dev-9-0 (9.0.176-1) ...\n",
            "Setting up cuda-npp-9-0 (9.0.176-1) ...\n",
            "Setting up cuda-cusolver-dev-9-0 (9.0.176-1) ...\n",
            "Setting up cuda-misc-headers-9-0 (9.0.176-1) ...\n",
            "Setting up cuda-cublas-9-0 (9.0.176-1) ...\n",
            "Setting up cuda-nvrtc-dev-9-0 (9.0.176-1) ...\n",
            "Setting up cuda-driver-dev-9-0 (9.0.176-1) ...\n",
            "Setting up cuda-curand-9-0 (9.0.176-1) ...\n",
            "Setting up cuda-nvgraph-9-0 (9.0.176-1) ...\n",
            "Setting up cuda-core-9-0 (9.0.176-1) ...\n",
            "Setting up cuda-libraries-9-0 (9.0.176-1) ...\n",
            "Setting up cuda-runtime-9-0 (9.0.176-1) ...\n",
            "Setting up cuda-cudart-dev-9-0 (9.0.176-1) ...\n",
            "Setting up cuda-cufft-dev-9-0 (9.0.176-1) ...\n",
            "Setting up cuda-npp-dev-9-0 (9.0.176-1) ...\n",
            "Setting up cuda-curand-dev-9-0 (9.0.176-1) ...\n",
            "Setting up cuda-cublas-dev-9-0 (9.0.176-1) ...\n",
            "Setting up cuda-nvgraph-dev-9-0 (9.0.176-1) ...\n",
            "Setting up cuda-command-line-tools-9-0 (9.0.176-1) ...\n",
            "Setting up cuda-demo-suite-9-0 (9.0.176-1) ...\n",
            "Setting up cuda-visual-tools-9-0 (9.0.176-1) ...\n",
            "Setting up cuda-samples-9-0 (9.0.176-1) ...\n",
            "Setting up cuda-libraries-dev-9-0 (9.0.176-1) ...\n",
            "Setting up cuda-documentation-9-0 (9.0.176-1) ...\n",
            "Setting up cuda-toolkit-9-0 (9.0.176-1) ...\n",
            "Setting up cuda-9-0 (9.0.176-1) ...\n",
            "Setting up cuda (9.0.176-1) ...\n",
            "Processing triggers for libc-bin (2.27-3ubuntu1.3) ...\n",
            "/sbin/ldconfig.real: /usr/local/lib/python3.7/dist-packages/ideep4py/lib/libmkldnn.so.0 is not a symbolic link\n",
            "\n",
            "Reading package lists... Done\n",
            "Building dependency tree       \n",
            "Reading state information... Done\n",
            "0 upgraded, 0 newly installed, 0 to remove and 86 not upgraded.\n"
          ]
        }
      ],
      "source": [
        "'''!wget https://developer.nvidia.com/compute/cuda/9.0/Prod/local_installers/cuda-repo-ubuntu1604-9-0-local_9.0.176-1_amd64-deb -O cuda-repo-ubuntu1604-9-0-local_9.0.176-1_amd64.deb\n",
        "!sudo dpkg -i cuda-repo-ubuntu1604-9-0-local_9.0.176-1_amd64.deb\n",
        "!sudo apt-key add /var/cuda-repo-9-0-local/7fa2af80.pub\n",
        "!sudo apt-get update\n",
        "!sudo apt-get install cuda'''\n",
        "!wget https://developer.nvidia.com/compute/cuda/9.0/Prod/local_installers/cuda-repo-ubuntu1604-9-0-local_9.0.176-1_amd64-deb\n",
        "!dpkg -i cuda-repo-ubuntu1604-9-0-local_9.0.176-1_amd64-deb\n",
        "!apt-key add /var/cuda-repo-9-0-local/7fa2af80.pub\n",
        "!apt-get update\n",
        "!apt-get install cuda=9.0.176-1\n",
        "!apt autoremove"
      ]
    },
    {
      "cell_type": "code",
      "execution_count": 4,
      "metadata": {
        "colab": {
          "base_uri": "https://localhost:8080/"
        },
        "id": "Yvwgzq6I-wPQ",
        "outputId": "971676e5-ebab-49c2-c18f-0555ae67baec"
      },
      "outputs": [
        {
          "output_type": "stream",
          "name": "stdout",
          "text": [
            "Cloning into 'ST-MetaNet'...\n",
            "remote: Enumerating objects: 124, done.\u001b[K\n",
            "remote: Total 124 (delta 0), reused 0 (delta 0), pack-reused 124\u001b[K\n",
            "Receiving objects: 100% (124/124), 24.93 MiB | 28.68 MiB/s, done.\n",
            "Resolving deltas: 100% (40/40), done.\n",
            "/content/ST-MetaNet\n"
          ]
        }
      ],
      "source": [
        "!git clone https://github.com/panzheyi/ST-MetaNet.git\n",
        "%cd /content/ST-MetaNet/"
      ]
    },
    {
      "cell_type": "code",
      "execution_count": 5,
      "metadata": {
        "colab": {
          "base_uri": "https://localhost:8080/"
        },
        "id": "BOG1Nl26-xIS",
        "outputId": "59b4300b-10cc-4cf8-ef7c-90c8d0d636da"
      },
      "outputs": [
        {
          "output_type": "stream",
          "name": "stdout",
          "text": [
            "CUDA Version 9.0.176\n"
          ]
        }
      ],
      "source": [
        "%cat /usr/local/cuda/version.txt"
      ]
    },
    {
      "cell_type": "code",
      "execution_count": 14,
      "metadata": {
        "id": "xGvOmfjL_sqi",
        "colab": {
          "base_uri": "https://localhost:8080/",
          "height": 1000
        },
        "outputId": "3283f108-8015-4ef7-e459-274fe571ae05"
      },
      "outputs": [
        {
          "output_type": "stream",
          "name": "stdout",
          "text": [
            "Requirement already satisfied: scipy==1.2.1 in /usr/local/lib/python3.7/dist-packages (1.2.1)\n",
            "Requirement already satisfied: numpy>=1.8.2 in /usr/local/lib/python3.7/dist-packages (from scipy==1.2.1) (1.16.3)\n",
            "Requirement already satisfied: numpy==1.16.3 in /usr/local/lib/python3.7/dist-packages (1.16.3)\n",
            "Requirement already satisfied: pandas==0.24.2 in /usr/local/lib/python3.7/dist-packages (0.24.2)\n",
            "Collecting python-dateutil>=2.5.0\n",
            "  Downloading python_dateutil-2.8.2-py2.py3-none-any.whl (247 kB)\n",
            "\u001b[K     |████████████████████████████████| 247 kB 5.2 MB/s \n",
            "\u001b[?25hRequirement already satisfied: numpy>=1.12.0 in /usr/local/lib/python3.7/dist-packages (from pandas==0.24.2) (1.16.3)\n",
            "Requirement already satisfied: pytz>=2011k in /usr/local/lib/python3.7/dist-packages (from pandas==0.24.2) (2018.9)\n",
            "Requirement already satisfied: six>=1.5 in /usr/local/lib/python3.7/dist-packages (from python-dateutil>=2.5.0->pandas==0.24.2) (1.15.0)\n",
            "Installing collected packages: python-dateutil\n",
            "  Attempting uninstall: python-dateutil\n",
            "    Found existing installation: python-dateutil 2.2\n",
            "    Uninstalling python-dateutil-2.2:\n",
            "      Successfully uninstalled python-dateutil-2.2\n",
            "\u001b[31mERROR: pip's dependency resolver does not currently take into account all the packages that are installed. This behaviour is the source of the following dependency conflicts.\n",
            "mizani 0.6.0 requires pandas>=0.25.0, but you have pandas 0.24.2 which is incompatible.\n",
            "google-colab 1.0.0 requires pandas~=1.1.0; python_version >= \"3.0\", but you have pandas 0.24.2 which is incompatible.\n",
            "fbprophet 0.7.1 requires pandas>=1.0.4, but you have pandas 0.24.2 which is incompatible.\n",
            "albumentations 0.1.12 requires imgaug<0.2.7,>=0.2.5, but you have imgaug 0.2.9 which is incompatible.\u001b[0m\n",
            "Successfully installed python-dateutil-2.8.2\n"
          ]
        },
        {
          "output_type": "display_data",
          "data": {
            "application/vnd.colab-display-data+json": {
              "pip_warning": {
                "packages": [
                  "dateutil"
                ]
              }
            }
          },
          "metadata": {}
        },
        {
          "output_type": "stream",
          "name": "stdout",
          "text": [
            "Requirement already satisfied: mxnet-cu90==1.5.1 in /usr/local/lib/python3.7/dist-packages (1.5.1)\n",
            "Requirement already satisfied: graphviz<0.9.0,>=0.8.1 in /usr/local/lib/python3.7/dist-packages (from mxnet-cu90==1.5.1) (0.8.4)\n",
            "Requirement already satisfied: requests<3,>=2.20.0 in /usr/local/lib/python3.7/dist-packages (from mxnet-cu90==1.5.1) (2.23.0)\n",
            "Requirement already satisfied: numpy<2.0.0,>1.16.0 in /usr/local/lib/python3.7/dist-packages (from mxnet-cu90==1.5.1) (1.16.3)\n",
            "Requirement already satisfied: chardet<4,>=3.0.2 in /usr/local/lib/python3.7/dist-packages (from requests<3,>=2.20.0->mxnet-cu90==1.5.1) (3.0.4)\n",
            "Requirement already satisfied: idna<3,>=2.5 in /usr/local/lib/python3.7/dist-packages (from requests<3,>=2.20.0->mxnet-cu90==1.5.1) (2.10)\n",
            "Requirement already satisfied: certifi>=2017.4.17 in /usr/local/lib/python3.7/dist-packages (from requests<3,>=2.20.0->mxnet-cu90==1.5.1) (2021.10.8)\n",
            "Requirement already satisfied: urllib3!=1.25.0,!=1.25.1,<1.26,>=1.21.1 in /usr/local/lib/python3.7/dist-packages (from requests<3,>=2.20.0->mxnet-cu90==1.5.1) (1.24.3)\n",
            "Requirement already satisfied: dgl==0.2 in /usr/local/lib/python3.7/dist-packages (0.2)\n",
            "Requirement already satisfied: networkx>=2.1 in /usr/local/lib/python3.7/dist-packages (from dgl==0.2) (2.6.3)\n",
            "Requirement already satisfied: numpy>=1.14.0 in /usr/local/lib/python3.7/dist-packages (from dgl==0.2) (1.16.3)\n",
            "Requirement already satisfied: scipy>=1.1.0 in /usr/local/lib/python3.7/dist-packages (from dgl==0.2) (1.2.1)\n",
            "Requirement already satisfied: tables==3.5.1 in /usr/local/lib/python3.7/dist-packages (3.5.1)\n",
            "Requirement already satisfied: numexpr>=2.6.2 in /usr/local/lib/python3.7/dist-packages (from tables==3.5.1) (2.7.3)\n",
            "Requirement already satisfied: numpy>=1.9.3 in /usr/local/lib/python3.7/dist-packages (from tables==3.5.1) (1.16.3)\n",
            "Requirement already satisfied: mock>=2.0 in /usr/local/lib/python3.7/dist-packages (from tables==3.5.1) (4.0.3)\n",
            "Requirement already satisfied: six>=1.9.0 in /usr/local/lib/python3.7/dist-packages (from tables==3.5.1) (1.15.0)\n",
            "Requirement already satisfied: h5py in /usr/local/lib/python3.7/dist-packages (3.1.0)\n",
            "Requirement already satisfied: cached-property in /usr/local/lib/python3.7/dist-packages (from h5py) (1.5.2)\n",
            "Requirement already satisfied: numpy>=1.14.5 in /usr/local/lib/python3.7/dist-packages (from h5py) (1.16.3)\n",
            "Collecting six==1.3.0\n",
            "  Downloading six-1.3.0.tar.gz (17 kB)\n",
            "Building wheels for collected packages: six\n",
            "  Building wheel for six (setup.py) ... \u001b[?25l\u001b[?25hdone\n",
            "  Created wheel for six: filename=six-1.3.0-py3-none-any.whl size=6155 sha256=c85b2236570553cd4c14a13c7b6958b042a086af613ddcba9503803f4110fc96\n",
            "  Stored in directory: /root/.cache/pip/wheels/2b/4e/cc/3dad3d3073b5b599ad3b7ecbb199179b218ceda5300b323479\n",
            "Successfully built six\n",
            "Installing collected packages: six\n",
            "  Attempting uninstall: six\n",
            "    Found existing installation: six 1.15.0\n",
            "    Uninstalling six-1.15.0:\n",
            "      Successfully uninstalled six-1.15.0\n",
            "\u001b[31mERROR: pip's dependency resolver does not currently take into account all the packages that are installed. This behaviour is the source of the following dependency conflicts.\n",
            "tweepy 3.10.0 requires six>=1.10.0, but you have six 1.3.0 which is incompatible.\n",
            "tensorflow 2.7.0 requires six>=1.12.0, but you have six 1.3.0 which is incompatible.\n",
            "tensorflow-probability 0.15.0 requires six>=1.10.0, but you have six 1.3.0 which is incompatible.\n",
            "tables 3.5.1 requires six>=1.9.0, but you have six 1.3.0 which is incompatible.\n",
            "sphinx 1.8.6 requires six>=1.5, but you have six 1.3.0 which is incompatible.\n",
            "retrying 1.3.3 requires six>=1.7.0, but you have six 1.3.0 which is incompatible.\n",
            "python-dateutil 2.8.2 requires six>=1.5, but you have six 1.3.0 which is incompatible.\n",
            "pytest 3.6.4 requires six>=1.10.0, but you have six 1.3.0 which is incompatible.\n",
            "protobuf 3.17.3 requires six>=1.9, but you have six 1.3.0 which is incompatible.\n",
            "prompt-toolkit 1.0.18 requires six>=1.9.0, but you have six 1.3.0 which is incompatible.\n",
            "pandas-profiling 1.4.1 requires six>=1.9, but you have six 1.3.0 which is incompatible.\n",
            "oauth2client 4.1.3 requires six>=1.6.1, but you have six 1.3.0 which is incompatible.\n",
            "mizani 0.6.0 requires pandas>=0.25.0, but you have pandas 0.24.2 which is incompatible.\n",
            "keras-preprocessing 1.1.2 requires six>=1.9.0, but you have six 1.3.0 which is incompatible.\n",
            "kapre 0.3.6 requires numpy>=1.18.5, but you have numpy 1.16.3 which is incompatible.\n",
            "kaggle 1.5.12 requires six>=1.10, but you have six 1.3.0 which is incompatible.\n",
            "html5lib 1.0.1 requires six>=1.9, but you have six 1.3.0 which is incompatible.\n",
            "grpcio 1.42.0 requires six>=1.5.2, but you have six 1.3.0 which is incompatible.\n",
            "google-colab 1.0.0 requires pandas~=1.1.0; python_version >= \"3.0\", but you have pandas 0.24.2 which is incompatible.\n",
            "google-colab 1.0.0 requires six~=1.15.0, but you have six 1.3.0 which is incompatible.\n",
            "google-auth 1.35.0 requires six>=1.9.0, but you have six 1.3.0 which is incompatible.\n",
            "google-api-python-client 1.12.8 requires six<2dev,>=1.13.0, but you have six 1.3.0 which is incompatible.\n",
            "google-api-core 1.26.3 requires six>=1.13.0, but you have six 1.3.0 which is incompatible.\n",
            "gensim 3.6.0 requires six>=1.5.0, but you have six 1.3.0 which is incompatible.\n",
            "fbprophet 0.7.1 requires pandas>=1.0.4, but you have pandas 0.24.2 which is incompatible.\n",
            "dm-tree 0.1.6 requires six>=1.12.0, but you have six 1.3.0 which is incompatible.\n",
            "datascience 0.10.6 requires folium==0.2.1, but you have folium 0.8.3 which is incompatible.\n",
            "cufflinks 0.17.3 requires six>=1.9.0, but you have six 1.3.0 which is incompatible.\n",
            "bleach 4.1.0 requires six>=1.9.0, but you have six 1.3.0 which is incompatible.\n",
            "astunparse 1.6.3 requires six<2.0,>=1.6.1, but you have six 1.3.0 which is incompatible.\n",
            "albumentations 0.1.12 requires imgaug<0.2.7,>=0.2.5, but you have imgaug 0.2.9 which is incompatible.\u001b[0m\n",
            "Successfully installed six-1.3.0\n"
          ]
        },
        {
          "output_type": "display_data",
          "data": {
            "application/vnd.colab-display-data+json": {
              "pip_warning": {
                "packages": [
                  "six"
                ]
              }
            }
          },
          "metadata": {}
        },
        {
          "output_type": "stream",
          "name": "stdout",
          "text": [
            "Collecting pymal\n",
            "  Downloading pymal-0.6.tar.gz (25 kB)\n",
            "Requirement already satisfied: requests>=2.4.1 in /usr/local/lib/python3.7/dist-packages (from pymal) (2.23.0)\n",
            "Requirement already satisfied: beautifulsoup4>=4.3.2 in /usr/local/lib/python3.7/dist-packages (from pymal) (4.6.3)\n",
            "Collecting httpcache>=0.1.3\n",
            "  Downloading httpcache-0.1.3.tar.gz (12 kB)\n",
            "Requirement already satisfied: html5lib>=0.999 in /usr/local/lib/python3.7/dist-packages (from pymal) (1.0.1)\n",
            "Requirement already satisfied: six==1.3 in /usr/local/lib/python3.7/dist-packages (from pymal) (1.3.0)\n",
            "Requirement already satisfied: pillow>=2.5.3 in /usr/local/lib/python3.7/dist-packages (from pymal) (7.1.2)\n",
            "Collecting singleton3>=1.0\n",
            "  Downloading singleton3-1.0.tar.gz (1.5 kB)\n",
            "Collecting singleton-factory>=0.1\n",
            "  Downloading singleton_factory-1.0.tar.gz (1.4 kB)\n",
            "Collecting html5lib>=0.999\n",
            "  Downloading html5lib-1.1-py2.py3-none-any.whl (112 kB)\n",
            "\u001b[K     |████████████████████████████████| 112 kB 7.4 MB/s \n",
            "\u001b[?25h  Downloading html5lib-0.999999999-py2.py3-none-any.whl (112 kB)\n",
            "\u001b[K     |████████████████████████████████| 112 kB 23.8 MB/s \n",
            "\u001b[?25hRequirement already satisfied: webencodings in /usr/local/lib/python3.7/dist-packages (from html5lib>=0.999->pymal) (0.5.1)\n",
            "Requirement already satisfied: setuptools>=18.5 in /usr/local/lib/python3.7/dist-packages (from html5lib>=0.999->pymal) (57.4.0)\n",
            "Requirement already satisfied: certifi>=2017.4.17 in /usr/local/lib/python3.7/dist-packages (from requests>=2.4.1->pymal) (2021.10.8)\n",
            "Requirement already satisfied: chardet<4,>=3.0.2 in /usr/local/lib/python3.7/dist-packages (from requests>=2.4.1->pymal) (3.0.4)\n",
            "Requirement already satisfied: urllib3!=1.25.0,!=1.25.1,<1.26,>=1.21.1 in /usr/local/lib/python3.7/dist-packages (from requests>=2.4.1->pymal) (1.24.3)\n",
            "Requirement already satisfied: idna<3,>=2.5 in /usr/local/lib/python3.7/dist-packages (from requests>=2.4.1->pymal) (2.10)\n",
            "Building wheels for collected packages: pymal, httpcache, singleton-factory, singleton3\n",
            "  Building wheel for pymal (setup.py) ... \u001b[?25l\u001b[?25hdone\n",
            "  Created wheel for pymal: filename=pymal-0.6-py3-none-any.whl size=40160 sha256=221ce94321e31ec01bea203fd69a086f8014da0abc4c2e6a4dfc18cf476ec16a\n",
            "  Stored in directory: /root/.cache/pip/wheels/3e/b1/68/81fc035dff99eae4373c8101c31a45fd115164a08ddc4775c0\n",
            "  Building wheel for httpcache (setup.py) ... \u001b[?25l\u001b[?25hdone\n",
            "  Created wheel for httpcache: filename=httpcache-0.1.3-py3-none-any.whl size=12544 sha256=323d2b84eebf151c939f32aa8fbeb028a4b3abb6601504e304f3e9bde435e2d7\n",
            "  Stored in directory: /root/.cache/pip/wheels/83/12/8b/952f5f149a9c37d8ae7c6d02b3a374a906e768a256ebe4357b\n",
            "  Building wheel for singleton-factory (setup.py) ... \u001b[?25l\u001b[?25hdone\n",
            "  Created wheel for singleton-factory: filename=singleton_factory-1.0-py3-none-any.whl size=1799 sha256=6605dc1313a7a1350b262617a41a3d130b1d471b8a82d3bfefd286505c396e42\n",
            "  Stored in directory: /root/.cache/pip/wheels/e5/a3/b0/2f447c8fce1da6a709b89d8efbfb4b464c731098e74e312b44\n",
            "  Building wheel for singleton3 (setup.py) ... \u001b[?25l\u001b[?25hdone\n",
            "  Created wheel for singleton3: filename=singleton3-1.0-py3-none-any.whl size=1979 sha256=5bba4b023b63a08fe1fbc94e0096d2097a0ec1ae3d29220878334656ddaabb2e\n",
            "  Stored in directory: /root/.cache/pip/wheels/4f/88/eb/97f4f0a816bb4e44f0c324026de65f1dbf551d612fdc8dd253\n",
            "Successfully built pymal httpcache singleton-factory singleton3\n",
            "Installing collected packages: singleton3, singleton-factory, httpcache, html5lib, pymal\n",
            "  Attempting uninstall: html5lib\n",
            "    Found existing installation: html5lib 1.0.1\n",
            "    Uninstalling html5lib-1.0.1:\n",
            "      Successfully uninstalled html5lib-1.0.1\n",
            "Successfully installed html5lib-0.999999999 httpcache-0.1.3 pymal-0.6 singleton-factory-1.0 singleton3-1.0\n",
            "Requirement already satisfied: pyyaml in /usr/local/lib/python3.7/dist-packages (3.13)\n",
            "Requirement already satisfied: python-dateutil in /usr/local/lib/python3.7/dist-packages (2.8.2)\n",
            "Collecting six>=1.5\n",
            "  Downloading six-1.16.0-py2.py3-none-any.whl (11 kB)\n",
            "Installing collected packages: six\n",
            "  Attempting uninstall: six\n",
            "    Found existing installation: six 1.3.0\n",
            "    Uninstalling six-1.3.0:\n",
            "      Successfully uninstalled six-1.3.0\n",
            "\u001b[31mERROR: pip's dependency resolver does not currently take into account all the packages that are installed. This behaviour is the source of the following dependency conflicts.\n",
            "pymal 0.6 requires six==1.3, but you have six 1.16.0 which is incompatible.\n",
            "mizani 0.6.0 requires pandas>=0.25.0, but you have pandas 0.24.2 which is incompatible.\n",
            "kapre 0.3.6 requires numpy>=1.18.5, but you have numpy 1.16.3 which is incompatible.\n",
            "google-colab 1.0.0 requires pandas~=1.1.0; python_version >= \"3.0\", but you have pandas 0.24.2 which is incompatible.\n",
            "google-colab 1.0.0 requires six~=1.15.0, but you have six 1.16.0 which is incompatible.\n",
            "fbprophet 0.7.1 requires pandas>=1.0.4, but you have pandas 0.24.2 which is incompatible.\n",
            "datascience 0.10.6 requires folium==0.2.1, but you have folium 0.8.3 which is incompatible.\n",
            "albumentations 0.1.12 requires imgaug<0.2.7,>=0.2.5, but you have imgaug 0.2.9 which is incompatible.\u001b[0m\n",
            "Successfully installed six-1.16.0\n"
          ]
        },
        {
          "output_type": "display_data",
          "data": {
            "application/vnd.colab-display-data+json": {
              "pip_warning": {
                "packages": [
                  "six"
                ]
              }
            }
          },
          "metadata": {}
        }
      ],
      "source": [
        "#!pip install -r requirements.txt\n",
        "\n",
        "!pip install scipy==1.2.1\n",
        "!pip install numpy==1.16.3 #switch between 1.16.3 and 1.15.0\n",
        "!pip install pandas==0.24.2 #switch between the newest and the 0.24.2\n",
        "!pip install mxnet-cu90==1.5.1 #switch between 1.4.0 and 1.5.1\n",
        "!pip install dgl==0.2\n",
        "!pip install tables==3.5.1\n",
        "!pip install h5py\n",
        "!pip install six==1.3.0\n",
        "!pip install pymal\n",
        "!pip install pyyaml\n",
        "!pip install python-dateutil\n",
        "\n",
        "#in the requirements.txt file, change the MXNET version to either 1.4.0 or 1.5.1\n",
        "#if you choose MXNET-CU90 == 1.4.0, you may need to downgrade numpy to 1.15.0\n",
        "#the most problematic package is pymal, since it has dependency conflict with six\n",
        "#also remove pymal from the requirement file to install it separately\n",
        "#pymal is an outdated library/module, so that you need to reinstall Six"
      ]
    },
    {
      "cell_type": "markdown",
      "metadata": {
        "id": "CKLSAEMuHLlj"
      },
      "source": [
        "Use zipfile module to extract data files"
      ]
    },
    {
      "cell_type": "code",
      "execution_count": 7,
      "metadata": {
        "id": "UemP66ScDdnD",
        "colab": {
          "base_uri": "https://localhost:8080/"
        },
        "outputId": "c106e381-87a5-4a5c-d585-cc1b019455ab"
      },
      "outputs": [
        {
          "output_type": "stream",
          "name": "stdout",
          "text": [
            "Archive:  /content/ST-MetaNet/flow-prediction/data.zip\n",
            "  inflating: /content/ST-MetaNet/flow-prediction/data/BJ_FEATURE.h5  \n",
            "  inflating: /content/ST-MetaNet/flow-prediction/data/BJ_FLOW.h5  \n",
            "  inflating: /content/ST-MetaNet/flow-prediction/data/BJ_GRAPH.h5  \n",
            "  inflating: /content/ST-MetaNet/flow-prediction/data/BJ_POI.h5  \n",
            "  inflating: /content/ST-MetaNet/flow-prediction/data/BJ_ROAD.h5  \n",
            "  inflating: /content/ST-MetaNet/flow-prediction/data/grids.txt  \n",
            "Archive:  /content/ST-MetaNet/traffic-prediction/data.zip\n",
            "  inflating: /content/ST-MetaNet/traffic-prediction/data/adjacent_matrix_8.h5  \n",
            "  inflating: /content/ST-MetaNet/traffic-prediction/data/df_highway_2012_4mon_sample.h5  \n",
            "  inflating: /content/ST-MetaNet/traffic-prediction/data/sensor_graph/distances_la_2012.csv  \n",
            "  inflating: /content/ST-MetaNet/traffic-prediction/data/sensor_graph/graph_sensor_ids.txt  \n",
            "  inflating: /content/ST-MetaNet/traffic-prediction/data/sensor_graph/graph_sensor_locations.csv  \n"
          ]
        }
      ],
      "source": [
        "!unzip -o \"/content/ST-MetaNet/flow-prediction/data.zip\" -d \"/content/ST-MetaNet/flow-prediction/\"\n",
        "!unzip -o \"/content/ST-MetaNet/traffic-prediction/data.zip\" -d \"/content/ST-MetaNet/traffic-prediction/\""
      ]
    },
    {
      "cell_type": "markdown",
      "metadata": {
        "id": "flu4Z6fPJ515"
      },
      "source": [
        "Once the intialisation is ready, we change the backend"
      ]
    },
    {
      "cell_type": "code",
      "execution_count": 8,
      "metadata": {
        "id": "gIYKg0dEJ_pC"
      },
      "outputs": [],
      "source": [
        "!echo 'export DGLBACKEND=mxnet' >> ~/.bashrc\n",
        "!. ~/.bashrc"
      ]
    },
    {
      "cell_type": "code",
      "execution_count": 9,
      "metadata": {
        "id": "kYrqmv6hKHGM",
        "colab": {
          "base_uri": "https://localhost:8080/"
        },
        "outputId": "df0b6404-475c-4c77-d054-e081e4112294"
      },
      "outputs": [
        {
          "output_type": "stream",
          "name": "stdout",
          "text": [
            "printing from the shell\n"
          ]
        }
      ],
      "source": [
        "!echo \"printing from the shell\""
      ]
    },
    {
      "cell_type": "markdown",
      "metadata": {
        "id": "wpuh6LikLL1E"
      },
      "source": [
        "Accodring to the documentation, you mush choose either of the domain (flow or traffic) to run models"
      ]
    },
    {
      "cell_type": "code",
      "execution_count": 16,
      "metadata": {
        "id": "RXPu-wODLcVE",
        "colab": {
          "base_uri": "https://localhost:8080/"
        },
        "outputId": "fb6ad866-4de1-4390-d8f1-2668e26ed0d0"
      },
      "outputs": [
        {
          "output_type": "stream",
          "name": "stdout",
          "text": [
            "/content/ST-MetaNet\n"
          ]
        }
      ],
      "source": [
        "#reset the directory\n",
        "%cd /content/ST-MetaNet/"
      ]
    },
    {
      "cell_type": "markdown",
      "metadata": {
        "id": "CKgSOH2LLiu2"
      },
      "source": [
        "Carry out training the model with the flow data"
      ]
    },
    {
      "cell_type": "code",
      "execution_count": 17,
      "metadata": {
        "id": "HUzW4Ix1LiSw",
        "colab": {
          "base_uri": "https://localhost:8080/"
        },
        "outputId": "8ae936ef-54ca-43ae-bfc0-66e27e5b23c6"
      },
      "outputs": [
        {
          "output_type": "stream",
          "name": "stdout",
          "text": [
            "/content/ST-MetaNet/traffic-prediction\n",
            "/content/ST-MetaNet/traffic-prediction/src\n"
          ]
        }
      ],
      "source": [
        "%cd traffic-prediction/\n",
        "%cd src/"
      ]
    },
    {
      "cell_type": "code",
      "execution_count": 12,
      "metadata": {
        "id": "5wmHLww-MLLy",
        "colab": {
          "base_uri": "https://localhost:8080/",
          "height": 35
        },
        "outputId": "fc4c33e9-4a76-4d36-a5ad-57dd04890ace"
      },
      "outputs": [
        {
          "output_type": "execute_result",
          "data": {
            "application/vnd.google.colaboratory.intrinsic+json": {
              "type": "string"
            },
            "text/plain": [
              "'!python train.py --file model_setting/st-metanet.yaml --gpus 0 --epochs 200'"
            ]
          },
          "metadata": {},
          "execution_count": 12
        }
      ],
      "source": [
        "#training\n",
        "#as the model in the github repo is pretrained, we can test the model rightaway\n",
        "'''!python train.py --file model_setting/st-metanet.yaml --gpus 0 --epochs 200'''"
      ]
    },
    {
      "cell_type": "code",
      "execution_count": null,
      "metadata": {
        "id": "ZlOXPRpHMGBx",
        "colab": {
          "base_uri": "https://localhost:8080/"
        },
        "outputId": "633328b0-28fc-41f3-c9a2-20c21469fe5f"
      },
      "outputs": [
        {
          "output_type": "stream",
          "name": "stdout",
          "text": [
            "Successfully loading the model st-metanet [epoch: 97]\n",
            "seq2seq_ (\n",
            "  Parameter seq2seq_encoder_c0_gru0_i2h_weight (shape=(96, 9), dtype=<class 'numpy.float32'>)\n",
            "  Parameter seq2seq_encoder_c0_gru0_h2h_weight (shape=(96, 32), dtype=<class 'numpy.float32'>)\n",
            "  Parameter seq2seq_encoder_c0_gru0_i2h_bias (shape=(96,), dtype=<class 'numpy.float32'>)\n",
            "  Parameter seq2seq_encoder_c0_gru0_h2h_bias (shape=(96,), dtype=<class 'numpy.float32'>)\n",
            "  Parameter seq2seq_encoder_c1_dense_z_w_dense0_weight (shape=(16, 32), dtype=float32)\n",
            "  Parameter seq2seq_encoder_c1_dense_z_w_dense0_bias (shape=(16,), dtype=float32)\n",
            "  Parameter seq2seq_encoder_c1_dense_z_w_dense1_weight (shape=(2, 16), dtype=float32)\n",
            "  Parameter seq2seq_encoder_c1_dense_z_w_dense1_bias (shape=(2,), dtype=float32)\n",
            "  Parameter seq2seq_encoder_c1_dense_z_w_dense2_weight (shape=(2048, 2), dtype=float32)\n",
            "  Parameter seq2seq_encoder_c1_dense_z_w_dense2_bias (shape=(2048,), dtype=float32)\n",
            "  Parameter seq2seq_encoder_c1_dense_z_b_dense0_weight (shape=(16, 32), dtype=float32)\n",
            "  Parameter seq2seq_encoder_c1_dense_z_b_dense0_bias (shape=(16,), dtype=float32)\n",
            "  Parameter seq2seq_encoder_c1_dense_z_b_dense1_weight (shape=(2, 16), dtype=float32)\n",
            "  Parameter seq2seq_encoder_c1_dense_z_b_dense1_bias (shape=(2,), dtype=float32)\n",
            "  Parameter seq2seq_encoder_c1_dense_z_b_dense2_weight (shape=(1, 2), dtype=float32)\n",
            "  Parameter seq2seq_encoder_c1_dense_z_b_dense2_bias (shape=(1,), dtype=float32)\n",
            "  Parameter seq2seq_encoder_c1_dense_r_w_dense0_weight (shape=(16, 32), dtype=float32)\n",
            "  Parameter seq2seq_encoder_c1_dense_r_w_dense0_bias (shape=(16,), dtype=float32)\n",
            "  Parameter seq2seq_encoder_c1_dense_r_w_dense1_weight (shape=(2, 16), dtype=float32)\n",
            "  Parameter seq2seq_encoder_c1_dense_r_w_dense1_bias (shape=(2,), dtype=float32)\n",
            "  Parameter seq2seq_encoder_c1_dense_r_w_dense2_weight (shape=(2048, 2), dtype=float32)\n",
            "  Parameter seq2seq_encoder_c1_dense_r_w_dense2_bias (shape=(2048,), dtype=float32)\n",
            "  Parameter seq2seq_encoder_c1_dense_r_b_dense0_weight (shape=(16, 32), dtype=float32)\n",
            "  Parameter seq2seq_encoder_c1_dense_r_b_dense0_bias (shape=(16,), dtype=float32)\n",
            "  Parameter seq2seq_encoder_c1_dense_r_b_dense1_weight (shape=(2, 16), dtype=float32)\n",
            "  Parameter seq2seq_encoder_c1_dense_r_b_dense1_bias (shape=(2,), dtype=float32)\n",
            "  Parameter seq2seq_encoder_c1_dense_r_b_dense2_weight (shape=(1, 2), dtype=float32)\n",
            "  Parameter seq2seq_encoder_c1_dense_r_b_dense2_bias (shape=(1,), dtype=float32)\n",
            "  Parameter seq2seq_encoder_c1_dense_i2h_w_dense0_weight (shape=(16, 32), dtype=float32)\n",
            "  Parameter seq2seq_encoder_c1_dense_i2h_w_dense0_bias (shape=(16,), dtype=float32)\n",
            "  Parameter seq2seq_encoder_c1_dense_i2h_w_dense1_weight (shape=(2, 16), dtype=float32)\n",
            "  Parameter seq2seq_encoder_c1_dense_i2h_w_dense1_bias (shape=(2,), dtype=float32)\n",
            "  Parameter seq2seq_encoder_c1_dense_i2h_w_dense2_weight (shape=(1024, 2), dtype=float32)\n",
            "  Parameter seq2seq_encoder_c1_dense_i2h_w_dense2_bias (shape=(1024,), dtype=float32)\n",
            "  Parameter seq2seq_encoder_c1_dense_i2h_b_dense0_weight (shape=(16, 32), dtype=float32)\n",
            "  Parameter seq2seq_encoder_c1_dense_i2h_b_dense0_bias (shape=(16,), dtype=float32)\n",
            "  Parameter seq2seq_encoder_c1_dense_i2h_b_dense1_weight (shape=(2, 16), dtype=float32)\n",
            "  Parameter seq2seq_encoder_c1_dense_i2h_b_dense1_bias (shape=(2,), dtype=float32)\n",
            "  Parameter seq2seq_encoder_c1_dense_i2h_b_dense2_weight (shape=(1, 2), dtype=float32)\n",
            "  Parameter seq2seq_encoder_c1_dense_i2h_b_dense2_bias (shape=(1,), dtype=float32)\n",
            "  Parameter seq2seq_encoder_c1_dense_h2h_w_dense0_weight (shape=(16, 32), dtype=float32)\n",
            "  Parameter seq2seq_encoder_c1_dense_h2h_w_dense0_bias (shape=(16,), dtype=float32)\n",
            "  Parameter seq2seq_encoder_c1_dense_h2h_w_dense1_weight (shape=(2, 16), dtype=float32)\n",
            "  Parameter seq2seq_encoder_c1_dense_h2h_w_dense1_bias (shape=(2,), dtype=float32)\n",
            "  Parameter seq2seq_encoder_c1_dense_h2h_w_dense2_weight (shape=(1024, 2), dtype=float32)\n",
            "  Parameter seq2seq_encoder_c1_dense_h2h_w_dense2_bias (shape=(1024,), dtype=float32)\n",
            "  Parameter seq2seq_encoder_c1_dense_h2h_b_dense0_weight (shape=(16, 32), dtype=float32)\n",
            "  Parameter seq2seq_encoder_c1_dense_h2h_b_dense0_bias (shape=(16,), dtype=float32)\n",
            "  Parameter seq2seq_encoder_c1_dense_h2h_b_dense1_weight (shape=(2, 16), dtype=float32)\n",
            "  Parameter seq2seq_encoder_c1_dense_h2h_b_dense1_bias (shape=(2,), dtype=float32)\n",
            "  Parameter seq2seq_encoder_c1_dense_h2h_b_dense2_weight (shape=(1, 2), dtype=float32)\n",
            "  Parameter seq2seq_encoder_c1_dense_h2h_b_dense2_bias (shape=(1,), dtype=float32)\n",
            "  Parameter seq2seq_encoder_g0_in_weight (shape=(1, 1), dtype=<class 'numpy.float32'>)\n",
            "  Parameter seq2seq_encoder_g0_in_mlp0_dense0_weight (shape=(16, 65), dtype=float32)\n",
            "  Parameter seq2seq_encoder_g0_in_mlp0_dense0_bias (shape=(16,), dtype=float32)\n",
            "  Parameter seq2seq_encoder_g0_in_mlp0_dense1_weight (shape=(2, 16), dtype=float32)\n",
            "  Parameter seq2seq_encoder_g0_in_mlp0_dense1_bias (shape=(2,), dtype=float32)\n",
            "  Parameter seq2seq_encoder_g0_in_mlp0_dense2_weight (shape=(2048, 2), dtype=float32)\n",
            "  Parameter seq2seq_encoder_g0_in_mlp0_dense2_bias (shape=(2048,), dtype=float32)\n",
            "  Parameter seq2seq_encoder_g0_out_weight (shape=(1, 1), dtype=<class 'numpy.float32'>)\n",
            "  Parameter seq2seq_encoder_g0_out_mlp0_dense0_weight (shape=(16, 65), dtype=float32)\n",
            "  Parameter seq2seq_encoder_g0_out_mlp0_dense0_bias (shape=(16,), dtype=float32)\n",
            "  Parameter seq2seq_encoder_g0_out_mlp0_dense1_weight (shape=(2, 16), dtype=float32)\n",
            "  Parameter seq2seq_encoder_g0_out_mlp0_dense1_bias (shape=(2,), dtype=float32)\n",
            "  Parameter seq2seq_encoder_g0_out_mlp0_dense2_weight (shape=(2048, 2), dtype=float32)\n",
            "  Parameter seq2seq_encoder_g0_out_mlp0_dense2_bias (shape=(2048,), dtype=float32)\n",
            "  Parameter seq2seq_decoder_c0_gru0_i2h_weight (shape=(96, 9), dtype=<class 'numpy.float32'>)\n",
            "  Parameter seq2seq_decoder_c0_gru0_h2h_weight (shape=(96, 32), dtype=<class 'numpy.float32'>)\n",
            "  Parameter seq2seq_decoder_c0_gru0_i2h_bias (shape=(96,), dtype=<class 'numpy.float32'>)\n",
            "  Parameter seq2seq_decoder_c0_gru0_h2h_bias (shape=(96,), dtype=<class 'numpy.float32'>)\n",
            "  Parameter seq2seq_decoder_c1_dense_z_w_dense0_weight (shape=(16, 32), dtype=float32)\n",
            "  Parameter seq2seq_decoder_c1_dense_z_w_dense0_bias (shape=(16,), dtype=float32)\n",
            "  Parameter seq2seq_decoder_c1_dense_z_w_dense1_weight (shape=(2, 16), dtype=float32)\n",
            "  Parameter seq2seq_decoder_c1_dense_z_w_dense1_bias (shape=(2,), dtype=float32)\n",
            "  Parameter seq2seq_decoder_c1_dense_z_w_dense2_weight (shape=(2048, 2), dtype=float32)\n",
            "  Parameter seq2seq_decoder_c1_dense_z_w_dense2_bias (shape=(2048,), dtype=float32)\n",
            "  Parameter seq2seq_decoder_c1_dense_z_b_dense0_weight (shape=(16, 32), dtype=float32)\n",
            "  Parameter seq2seq_decoder_c1_dense_z_b_dense0_bias (shape=(16,), dtype=float32)\n",
            "  Parameter seq2seq_decoder_c1_dense_z_b_dense1_weight (shape=(2, 16), dtype=float32)\n",
            "  Parameter seq2seq_decoder_c1_dense_z_b_dense1_bias (shape=(2,), dtype=float32)\n",
            "  Parameter seq2seq_decoder_c1_dense_z_b_dense2_weight (shape=(1, 2), dtype=float32)\n",
            "  Parameter seq2seq_decoder_c1_dense_z_b_dense2_bias (shape=(1,), dtype=float32)\n",
            "  Parameter seq2seq_decoder_c1_dense_r_w_dense0_weight (shape=(16, 32), dtype=float32)\n",
            "  Parameter seq2seq_decoder_c1_dense_r_w_dense0_bias (shape=(16,), dtype=float32)\n",
            "  Parameter seq2seq_decoder_c1_dense_r_w_dense1_weight (shape=(2, 16), dtype=float32)\n",
            "  Parameter seq2seq_decoder_c1_dense_r_w_dense1_bias (shape=(2,), dtype=float32)\n",
            "  Parameter seq2seq_decoder_c1_dense_r_w_dense2_weight (shape=(2048, 2), dtype=float32)\n",
            "  Parameter seq2seq_decoder_c1_dense_r_w_dense2_bias (shape=(2048,), dtype=float32)\n",
            "  Parameter seq2seq_decoder_c1_dense_r_b_dense0_weight (shape=(16, 32), dtype=float32)\n",
            "  Parameter seq2seq_decoder_c1_dense_r_b_dense0_bias (shape=(16,), dtype=float32)\n",
            "  Parameter seq2seq_decoder_c1_dense_r_b_dense1_weight (shape=(2, 16), dtype=float32)\n",
            "  Parameter seq2seq_decoder_c1_dense_r_b_dense1_bias (shape=(2,), dtype=float32)\n",
            "  Parameter seq2seq_decoder_c1_dense_r_b_dense2_weight (shape=(1, 2), dtype=float32)\n",
            "  Parameter seq2seq_decoder_c1_dense_r_b_dense2_bias (shape=(1,), dtype=float32)\n",
            "  Parameter seq2seq_decoder_c1_dense_i2h_w_dense0_weight (shape=(16, 32), dtype=float32)\n",
            "  Parameter seq2seq_decoder_c1_dense_i2h_w_dense0_bias (shape=(16,), dtype=float32)\n",
            "  Parameter seq2seq_decoder_c1_dense_i2h_w_dense1_weight (shape=(2, 16), dtype=float32)\n",
            "  Parameter seq2seq_decoder_c1_dense_i2h_w_dense1_bias (shape=(2,), dtype=float32)\n",
            "  Parameter seq2seq_decoder_c1_dense_i2h_w_dense2_weight (shape=(1024, 2), dtype=float32)\n",
            "  Parameter seq2seq_decoder_c1_dense_i2h_w_dense2_bias (shape=(1024,), dtype=float32)\n",
            "  Parameter seq2seq_decoder_c1_dense_i2h_b_dense0_weight (shape=(16, 32), dtype=float32)\n",
            "  Parameter seq2seq_decoder_c1_dense_i2h_b_dense0_bias (shape=(16,), dtype=float32)\n",
            "  Parameter seq2seq_decoder_c1_dense_i2h_b_dense1_weight (shape=(2, 16), dtype=float32)\n",
            "  Parameter seq2seq_decoder_c1_dense_i2h_b_dense1_bias (shape=(2,), dtype=float32)\n",
            "  Parameter seq2seq_decoder_c1_dense_i2h_b_dense2_weight (shape=(1, 2), dtype=float32)\n",
            "  Parameter seq2seq_decoder_c1_dense_i2h_b_dense2_bias (shape=(1,), dtype=float32)\n",
            "  Parameter seq2seq_decoder_c1_dense_h2h_w_dense0_weight (shape=(16, 32), dtype=float32)\n",
            "  Parameter seq2seq_decoder_c1_dense_h2h_w_dense0_bias (shape=(16,), dtype=float32)\n",
            "  Parameter seq2seq_decoder_c1_dense_h2h_w_dense1_weight (shape=(2, 16), dtype=float32)\n",
            "  Parameter seq2seq_decoder_c1_dense_h2h_w_dense1_bias (shape=(2,), dtype=float32)\n",
            "  Parameter seq2seq_decoder_c1_dense_h2h_w_dense2_weight (shape=(1024, 2), dtype=float32)\n",
            "  Parameter seq2seq_decoder_c1_dense_h2h_w_dense2_bias (shape=(1024,), dtype=float32)\n",
            "  Parameter seq2seq_decoder_c1_dense_h2h_b_dense0_weight (shape=(16, 32), dtype=float32)\n",
            "  Parameter seq2seq_decoder_c1_dense_h2h_b_dense0_bias (shape=(16,), dtype=float32)\n",
            "  Parameter seq2seq_decoder_c1_dense_h2h_b_dense1_weight (shape=(2, 16), dtype=float32)\n",
            "  Parameter seq2seq_decoder_c1_dense_h2h_b_dense1_bias (shape=(2,), dtype=float32)\n",
            "  Parameter seq2seq_decoder_c1_dense_h2h_b_dense2_weight (shape=(1, 2), dtype=float32)\n",
            "  Parameter seq2seq_decoder_c1_dense_h2h_b_dense2_bias (shape=(1,), dtype=float32)\n",
            "  Parameter seq2seq_decoder_g0_in_weight (shape=(1, 1), dtype=<class 'numpy.float32'>)\n",
            "  Parameter seq2seq_decoder_g0_in_mlp0_dense0_weight (shape=(16, 65), dtype=float32)\n",
            "  Parameter seq2seq_decoder_g0_in_mlp0_dense0_bias (shape=(16,), dtype=float32)\n",
            "  Parameter seq2seq_decoder_g0_in_mlp0_dense1_weight (shape=(2, 16), dtype=float32)\n",
            "  Parameter seq2seq_decoder_g0_in_mlp0_dense1_bias (shape=(2,), dtype=float32)\n",
            "  Parameter seq2seq_decoder_g0_in_mlp0_dense2_weight (shape=(2048, 2), dtype=float32)\n",
            "  Parameter seq2seq_decoder_g0_in_mlp0_dense2_bias (shape=(2048,), dtype=float32)\n",
            "  Parameter seq2seq_decoder_g0_out_weight (shape=(1, 1), dtype=<class 'numpy.float32'>)\n",
            "  Parameter seq2seq_decoder_g0_out_mlp0_dense0_weight (shape=(16, 65), dtype=float32)\n",
            "  Parameter seq2seq_decoder_g0_out_mlp0_dense0_bias (shape=(16,), dtype=float32)\n",
            "  Parameter seq2seq_decoder_g0_out_mlp0_dense1_weight (shape=(2, 16), dtype=float32)\n",
            "  Parameter seq2seq_decoder_g0_out_mlp0_dense1_bias (shape=(2,), dtype=float32)\n",
            "  Parameter seq2seq_decoder_g0_out_mlp0_dense2_weight (shape=(2048, 2), dtype=float32)\n",
            "  Parameter seq2seq_decoder_g0_out_mlp0_dense2_bias (shape=(2048,), dtype=float32)\n",
            "  Parameter decoder0_proj_weight (shape=(1, 64), dtype=float32)\n",
            "  Parameter decoder0_proj_bias (shape=(1,), dtype=float32)\n",
            "  Parameter geo_encoder_dense0_weight (shape=(32, 20), dtype=float32)\n",
            "  Parameter geo_encoder_dense0_bias (shape=(32,), dtype=float32)\n",
            "  Parameter geo_encoder_dense1_weight (shape=(32, 32), dtype=float32)\n",
            "  Parameter geo_encoder_dense1_bias (shape=(32,), dtype=float32)\n",
            ")\n",
            "NUMBER OF PARAMS: 84869\n",
            "INFO:numexpr.utils:NumExpr defaulting to 2 threads.\n",
            "INFO:root:Processing 0 timestamps\n",
            "INFO:root:Processing 1000 timestamps\n",
            "INFO:root:Processing 2000 timestamps\n",
            "INFO:root:Processing 3000 timestamps\n",
            "INFO:root:Processing 4000 timestamps\n",
            "INFO:root:Processing 5000 timestamps\n",
            "INFO:root:Processing 6000 timestamps\n",
            "INFO:root:Processing 7000 timestamps\n"
          ]
        }
      ],
      "source": [
        "#testing\n",
        "!python train.py --file model_setting/st-metanet.yaml --gpus 0 --epochs 0"
      ]
    }
  ],
  "metadata": {
    "accelerator": "GPU",
    "colab": {
      "collapsed_sections": [],
      "name": "[1101226]ST_METANET.ipynb",
      "provenance": []
    },
    "kernelspec": {
      "display_name": "Python 3",
      "name": "python3"
    },
    "language_info": {
      "name": "python"
    }
  },
  "nbformat": 4,
  "nbformat_minor": 0
}