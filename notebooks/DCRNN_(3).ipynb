{
  "cells": [
    {
      "cell_type": "markdown",
      "metadata": {
        "id": "-Mi9F4uPc_Gk"
      },
      "source": [
        "The DCRNN Model is referred by [7]"
      ]
    },
    {
      "cell_type": "code",
      "execution_count": null,
      "metadata": {
        "colab": {
          "base_uri": "https://localhost:8080/"
        },
        "id": "xI_c5tz4ZRno",
        "outputId": "73266289-beb5-4b55-faaa-3a92eabd273c"
      },
      "outputs": [
        {
          "name": "stdout",
          "output_type": "stream",
          "text": [
            "Cloning into 'DCRNN'...\n",
            "remote: Enumerating objects: 325, done.\u001b[K\n",
            "remote: Counting objects: 100% (53/53), done.\u001b[K\n",
            "remote: Compressing objects: 100% (37/37), done.\u001b[K\n",
            "remote: Total 325 (delta 27), reused 40 (delta 16), pack-reused 272\u001b[K\n",
            "Receiving objects: 100% (325/325), 127.90 MiB | 16.79 MiB/s, done.\n",
            "Resolving deltas: 100% (142/142), done.\n"
          ]
        }
      ],
      "source": [
        "!git clone https://github.com/liyaguang/DCRNN.git"
      ]
    },
    {
      "cell_type": "markdown",
      "metadata": {
        "id": "k_b0IR8Objgp"
      },
      "source": [
        "Data Preparation"
      ]
    },
    {
      "cell_type": "code",
      "execution_count": null,
      "metadata": {
        "colab": {
          "base_uri": "https://localhost:8080/"
        },
        "id": "HUWjM3TqaPXs",
        "outputId": "9b1df584-d394-47ff-8ba5-c7b663caf7de"
      },
      "outputs": [
        {
          "name": "stdout",
          "output_type": "stream",
          "text": [
            "/content/DCRNN\n"
          ]
        }
      ],
      "source": [
        "%cd /content/DCRNN/"
      ]
    },
    {
      "cell_type": "code",
      "execution_count": null,
      "metadata": {
        "colab": {
          "base_uri": "https://localhost:8080/"
        },
        "id": "WrgipJz3Kqcj",
        "outputId": "f1a2ccf7-8308-4da3-b494-9971f7904e20"
      },
      "outputs": [
        {
          "name": "stdout",
          "output_type": "stream",
          "text": [
            "Requirement already satisfied: scipy>=0.19.0 in /usr/local/lib/python3.7/dist-packages (from -r requirements.txt (line 1)) (1.4.1)\n",
            "Requirement already satisfied: numpy>=1.12.1 in /usr/local/lib/python3.7/dist-packages (from -r requirements.txt (line 2)) (1.19.5)\n",
            "Requirement already satisfied: pandas>=0.19.2 in /usr/local/lib/python3.7/dist-packages (from -r requirements.txt (line 3)) (1.1.5)\n",
            "Requirement already satisfied: pyyaml in /usr/local/lib/python3.7/dist-packages (from -r requirements.txt (line 4)) (3.13)\n",
            "Requirement already satisfied: statsmodels in /usr/local/lib/python3.7/dist-packages (from -r requirements.txt (line 5)) (0.10.2)\n",
            "Collecting tensorflow==1.15.0\n",
            "  Downloading tensorflow-1.15.0-cp37-cp37m-manylinux2010_x86_64.whl (412.3 MB)\n",
            "\u001b[K     |████████████████████████████████| 412.3 MB 27 kB/s \n",
            "\u001b[?25hRequirement already satisfied: google-pasta>=0.1.6 in /usr/local/lib/python3.7/dist-packages (from tensorflow==1.15.0->-r requirements.txt (line 6)) (0.2.0)\n",
            "Requirement already satisfied: opt-einsum>=2.3.2 in /usr/local/lib/python3.7/dist-packages (from tensorflow==1.15.0->-r requirements.txt (line 6)) (3.3.0)\n",
            "Requirement already satisfied: protobuf>=3.6.1 in /usr/local/lib/python3.7/dist-packages (from tensorflow==1.15.0->-r requirements.txt (line 6)) (3.17.3)\n",
            "Requirement already satisfied: grpcio>=1.8.6 in /usr/local/lib/python3.7/dist-packages (from tensorflow==1.15.0->-r requirements.txt (line 6)) (1.42.0)\n",
            "Collecting tensorboard<1.16.0,>=1.15.0\n",
            "  Downloading tensorboard-1.15.0-py3-none-any.whl (3.8 MB)\n",
            "\u001b[K     |████████████████████████████████| 3.8 MB 39.8 MB/s \n",
            "\u001b[?25hCollecting gast==0.2.2\n",
            "  Downloading gast-0.2.2.tar.gz (10 kB)\n",
            "Collecting keras-applications>=1.0.8\n",
            "  Downloading Keras_Applications-1.0.8-py3-none-any.whl (50 kB)\n",
            "\u001b[K     |████████████████████████████████| 50 kB 6.2 MB/s \n",
            "\u001b[?25hRequirement already satisfied: wheel>=0.26 in /usr/local/lib/python3.7/dist-packages (from tensorflow==1.15.0->-r requirements.txt (line 6)) (0.37.0)\n",
            "Requirement already satisfied: termcolor>=1.1.0 in /usr/local/lib/python3.7/dist-packages (from tensorflow==1.15.0->-r requirements.txt (line 6)) (1.1.0)\n",
            "Requirement already satisfied: absl-py>=0.7.0 in /usr/local/lib/python3.7/dist-packages (from tensorflow==1.15.0->-r requirements.txt (line 6)) (0.12.0)\n",
            "Requirement already satisfied: wrapt>=1.11.1 in /usr/local/lib/python3.7/dist-packages (from tensorflow==1.15.0->-r requirements.txt (line 6)) (1.13.3)\n",
            "Collecting tensorflow-estimator==1.15.1\n",
            "  Downloading tensorflow_estimator-1.15.1-py2.py3-none-any.whl (503 kB)\n",
            "\u001b[K     |████████████████████████████████| 503 kB 51.5 MB/s \n",
            "\u001b[?25hRequirement already satisfied: keras-preprocessing>=1.0.5 in /usr/local/lib/python3.7/dist-packages (from tensorflow==1.15.0->-r requirements.txt (line 6)) (1.1.2)\n",
            "Requirement already satisfied: six>=1.10.0 in /usr/local/lib/python3.7/dist-packages (from tensorflow==1.15.0->-r requirements.txt (line 6)) (1.15.0)\n",
            "Requirement already satisfied: astor>=0.6.0 in /usr/local/lib/python3.7/dist-packages (from tensorflow==1.15.0->-r requirements.txt (line 6)) (0.8.1)\n",
            "Requirement already satisfied: pytz>=2017.2 in /usr/local/lib/python3.7/dist-packages (from pandas>=0.19.2->-r requirements.txt (line 3)) (2018.9)\n",
            "Requirement already satisfied: python-dateutil>=2.7.3 in /usr/local/lib/python3.7/dist-packages (from pandas>=0.19.2->-r requirements.txt (line 3)) (2.8.2)\n",
            "Requirement already satisfied: h5py in /usr/local/lib/python3.7/dist-packages (from keras-applications>=1.0.8->tensorflow==1.15.0->-r requirements.txt (line 6)) (3.1.0)\n",
            "Requirement already satisfied: setuptools>=41.0.0 in /usr/local/lib/python3.7/dist-packages (from tensorboard<1.16.0,>=1.15.0->tensorflow==1.15.0->-r requirements.txt (line 6)) (57.4.0)\n",
            "Requirement already satisfied: werkzeug>=0.11.15 in /usr/local/lib/python3.7/dist-packages (from tensorboard<1.16.0,>=1.15.0->tensorflow==1.15.0->-r requirements.txt (line 6)) (1.0.1)\n",
            "Requirement already satisfied: markdown>=2.6.8 in /usr/local/lib/python3.7/dist-packages (from tensorboard<1.16.0,>=1.15.0->tensorflow==1.15.0->-r requirements.txt (line 6)) (3.3.6)\n",
            "Requirement already satisfied: importlib-metadata>=4.4 in /usr/local/lib/python3.7/dist-packages (from markdown>=2.6.8->tensorboard<1.16.0,>=1.15.0->tensorflow==1.15.0->-r requirements.txt (line 6)) (4.8.2)\n",
            "Requirement already satisfied: zipp>=0.5 in /usr/local/lib/python3.7/dist-packages (from importlib-metadata>=4.4->markdown>=2.6.8->tensorboard<1.16.0,>=1.15.0->tensorflow==1.15.0->-r requirements.txt (line 6)) (3.6.0)\n",
            "Requirement already satisfied: typing-extensions>=3.6.4 in /usr/local/lib/python3.7/dist-packages (from importlib-metadata>=4.4->markdown>=2.6.8->tensorboard<1.16.0,>=1.15.0->tensorflow==1.15.0->-r requirements.txt (line 6)) (3.10.0.2)\n",
            "Requirement already satisfied: patsy>=0.4.0 in /usr/local/lib/python3.7/dist-packages (from statsmodels->-r requirements.txt (line 5)) (0.5.2)\n",
            "Requirement already satisfied: cached-property in /usr/local/lib/python3.7/dist-packages (from h5py->keras-applications>=1.0.8->tensorflow==1.15.0->-r requirements.txt (line 6)) (1.5.2)\n",
            "Building wheels for collected packages: gast\n",
            "  Building wheel for gast (setup.py) ... \u001b[?25l\u001b[?25hdone\n",
            "  Created wheel for gast: filename=gast-0.2.2-py3-none-any.whl size=7554 sha256=00f574839a931731107c391497c7fc586464385305ce0f1ebd8bae35601b8aa2\n",
            "  Stored in directory: /root/.cache/pip/wheels/21/7f/02/420f32a803f7d0967b48dd823da3f558c5166991bfd204eef3\n",
            "Successfully built gast\n",
            "Installing collected packages: tensorflow-estimator, tensorboard, keras-applications, gast, tensorflow\n",
            "  Attempting uninstall: tensorflow-estimator\n",
            "    Found existing installation: tensorflow-estimator 2.7.0\n",
            "    Uninstalling tensorflow-estimator-2.7.0:\n",
            "      Successfully uninstalled tensorflow-estimator-2.7.0\n",
            "  Attempting uninstall: tensorboard\n",
            "    Found existing installation: tensorboard 2.7.0\n",
            "    Uninstalling tensorboard-2.7.0:\n",
            "      Successfully uninstalled tensorboard-2.7.0\n",
            "  Attempting uninstall: gast\n",
            "    Found existing installation: gast 0.4.0\n",
            "    Uninstalling gast-0.4.0:\n",
            "      Successfully uninstalled gast-0.4.0\n",
            "  Attempting uninstall: tensorflow\n",
            "    Found existing installation: tensorflow 2.7.0\n",
            "    Uninstalling tensorflow-2.7.0:\n",
            "      Successfully uninstalled tensorflow-2.7.0\n",
            "\u001b[31mERROR: pip's dependency resolver does not currently take into account all the packages that are installed. This behaviour is the source of the following dependency conflicts.\n",
            "tensorflow-probability 0.15.0 requires gast>=0.3.2, but you have gast 0.2.2 which is incompatible.\n",
            "kapre 0.3.6 requires tensorflow>=2.0.0, but you have tensorflow 1.15.0 which is incompatible.\u001b[0m\n",
            "Successfully installed gast-0.2.2 keras-applications-1.0.8 tensorboard-1.15.0 tensorflow-1.15.0 tensorflow-estimator-1.15.1\n"
          ]
        }
      ],
      "source": [
        "!pip install -r requirements.txt"
      ]
    },
    {
      "cell_type": "code",
      "execution_count": null,
      "metadata": {
        "colab": {
          "base_uri": "https://localhost:8080/"
        },
        "id": "67nyVFWlQC8T",
        "outputId": "b4f4bbfa-a0d7-4ec4-b4a5-5bf41e62ad29"
      },
      "outputs": [
        {
          "name": "stdout",
          "output_type": "stream",
          "text": [
            "Found existing installation: tensorflow 2.7.0\n",
            "Uninstalling tensorflow-2.7.0:\n",
            "  Would remove:\n",
            "    /usr/local/bin/estimator_ckpt_converter\n",
            "    /usr/local/bin/import_pb_to_tensorboard\n",
            "    /usr/local/bin/saved_model_cli\n",
            "    /usr/local/bin/tensorboard\n",
            "    /usr/local/bin/tf_upgrade_v2\n",
            "    /usr/local/bin/tflite_convert\n",
            "    /usr/local/bin/toco\n",
            "    /usr/local/bin/toco_from_protos\n",
            "    /usr/local/lib/python3.7/dist-packages/tensorflow-2.7.0.dist-info/*\n",
            "    /usr/local/lib/python3.7/dist-packages/tensorflow/*\n",
            "Proceed (y/n)? y\n",
            "  Successfully uninstalled tensorflow-2.7.0\n"
          ]
        }
      ],
      "source": [
        "!pip install tensorflow==1.15.0"
      ]
    },
    {
      "cell_type": "markdown",
      "metadata": {
        "id": "FFRcOdrhahUM"
      },
      "source": [
        "Find, download, and upload the METR-LA and the PEMS-BAY datasets. Download them to your PC first, then upload them onto the session machine to the left. (/content/DCRNN/data/) In my case, I preuploaded the dataset onto Dropbox"
      ]
    },
    {
      "cell_type": "code",
      "execution_count": null,
      "metadata": {
        "colab": {
          "base_uri": "https://localhost:8080/"
        },
        "id": "sWpFzqsMdmVy",
        "outputId": "72b0d54f-0a7d-4ac8-ee79-c4905d685535"
      },
      "outputs": [
        {
          "name": "stdout",
          "output_type": "stream",
          "text": [
            "/content/DCRNN/data\n",
            "--2021-12-27 10:56:22--  https://www.dropbox.com/s/3uto6j6zba4kcje/metr-la.h5\n",
            "Resolving www.dropbox.com (www.dropbox.com)... 162.125.68.18, 2620:100:6020:18::a27d:4012\n",
            "Connecting to www.dropbox.com (www.dropbox.com)|162.125.68.18|:443... connected.\n",
            "HTTP request sent, awaiting response... 301 Moved Permanently\n",
            "Location: /s/raw/3uto6j6zba4kcje/metr-la.h5 [following]\n",
            "--2021-12-27 10:56:22--  https://www.dropbox.com/s/raw/3uto6j6zba4kcje/metr-la.h5\n",
            "Reusing existing connection to www.dropbox.com:443.\n",
            "HTTP request sent, awaiting response... 302 Found\n",
            "Location: https://uc0eb41b9ba8d7b219b2e062d9e9.dl.dropboxusercontent.com/cd/0/inline/BcqfOScOkWMYdusfKhzJ0Ok7Rs-dho1S-YUlsRQEFuTnRHB46YSOSiH_UcAxtKVAr7Aeu_P7uKuYZw4Kh0ICKkuOE8UEf5S-2bWAqwtlgb6ciTmVYmb2u2KP_r2Fasny1qmOswv4ARsjyqdFnMtfYNXS/file# [following]\n",
            "--2021-12-27 10:56:22--  https://uc0eb41b9ba8d7b219b2e062d9e9.dl.dropboxusercontent.com/cd/0/inline/BcqfOScOkWMYdusfKhzJ0Ok7Rs-dho1S-YUlsRQEFuTnRHB46YSOSiH_UcAxtKVAr7Aeu_P7uKuYZw4Kh0ICKkuOE8UEf5S-2bWAqwtlgb6ciTmVYmb2u2KP_r2Fasny1qmOswv4ARsjyqdFnMtfYNXS/file\n",
            "Resolving uc0eb41b9ba8d7b219b2e062d9e9.dl.dropboxusercontent.com (uc0eb41b9ba8d7b219b2e062d9e9.dl.dropboxusercontent.com)... 162.125.68.15, 2620:100:6020:15::a27d:400f\n",
            "Connecting to uc0eb41b9ba8d7b219b2e062d9e9.dl.dropboxusercontent.com (uc0eb41b9ba8d7b219b2e062d9e9.dl.dropboxusercontent.com)|162.125.68.15|:443... connected.\n",
            "HTTP request sent, awaiting response... 302 Found\n",
            "Location: /cd/0/inline2/Bcr4klq4pTZ1IlijYXVxzaxxDG_k7PHZSFa_LtmJdd9lTY3VI29-3tytbUg1f9Eg0NZd4eoHqSg_v5DmpJ9Cw_q6aaLf6jWuBUkQLTBBTrHWuEX2zY6c09yc7XIqw14HWQoNx9cXINnS3KbpSoTiZa2qveh9DjIfO2DL4atu6cc_jctuiSgcuuXcNF9xeCjpXi_xYt5My9UcZ9wpEKun9pGVhMGMcNpuX98J-_rICdUSeOWjYyASIUxfTjv4QVpSrRm9_CznD09gpXDWs5FZxKBnU0jANbPMYC-JYqLNySG7bkqTybUPeH1F4pXUCjzTjo3t_ZBw8QNA0drqcKKnOpV9y5xR32xZ2AsT2wo-nMZ9A7x1B0WlOLU9wja31XJtKjg/file [following]\n",
            "--2021-12-27 10:56:23--  https://uc0eb41b9ba8d7b219b2e062d9e9.dl.dropboxusercontent.com/cd/0/inline2/Bcr4klq4pTZ1IlijYXVxzaxxDG_k7PHZSFa_LtmJdd9lTY3VI29-3tytbUg1f9Eg0NZd4eoHqSg_v5DmpJ9Cw_q6aaLf6jWuBUkQLTBBTrHWuEX2zY6c09yc7XIqw14HWQoNx9cXINnS3KbpSoTiZa2qveh9DjIfO2DL4atu6cc_jctuiSgcuuXcNF9xeCjpXi_xYt5My9UcZ9wpEKun9pGVhMGMcNpuX98J-_rICdUSeOWjYyASIUxfTjv4QVpSrRm9_CznD09gpXDWs5FZxKBnU0jANbPMYC-JYqLNySG7bkqTybUPeH1F4pXUCjzTjo3t_ZBw8QNA0drqcKKnOpV9y5xR32xZ2AsT2wo-nMZ9A7x1B0WlOLU9wja31XJtKjg/file\n",
            "Reusing existing connection to uc0eb41b9ba8d7b219b2e062d9e9.dl.dropboxusercontent.com:443.\n",
            "HTTP request sent, awaiting response... 200 OK\n",
            "Length: 57038056 (54M) [application/octet-stream]\n",
            "Saving to: ‘metr-la.h5’\n",
            "\n",
            "metr-la.h5          100%[===================>]  54.40M  17.3MB/s    in 3.1s    \n",
            "\n",
            "2021-12-27 10:56:27 (17.3 MB/s) - ‘metr-la.h5’ saved [57038056/57038056]\n",
            "\n",
            "--2021-12-27 10:56:27--  https://www.dropbox.com/s/akpm0wf7apg6gy0/pems-bay.h5\n",
            "Resolving www.dropbox.com (www.dropbox.com)... 162.125.68.18, 2620:100:601a:18::a27d:712\n",
            "Connecting to www.dropbox.com (www.dropbox.com)|162.125.68.18|:443... connected.\n",
            "HTTP request sent, awaiting response... 301 Moved Permanently\n",
            "Location: /s/raw/akpm0wf7apg6gy0/pems-bay.h5 [following]\n",
            "--2021-12-27 10:56:28--  https://www.dropbox.com/s/raw/akpm0wf7apg6gy0/pems-bay.h5\n",
            "Reusing existing connection to www.dropbox.com:443.\n",
            "HTTP request sent, awaiting response... 302 Found\n",
            "Location: https://ucb1905dfcfdcda0c844222a8f69.dl.dropboxusercontent.com/cd/0/inline/BcreFTZODf9v3tL_HY7GGID9R-YGCn0xy8FJq9axmN36O1g4ubxCSVNYLYkmYyvCmbJAs6PRg-YlK_-9BVzolqL5e_ieOUNkNjnskH9BYgeJFwRK-k9sbxFqrSqeu4N3JoI4MbPWN_DwwI_34KClVdrJ/file# [following]\n",
            "--2021-12-27 10:56:28--  https://ucb1905dfcfdcda0c844222a8f69.dl.dropboxusercontent.com/cd/0/inline/BcreFTZODf9v3tL_HY7GGID9R-YGCn0xy8FJq9axmN36O1g4ubxCSVNYLYkmYyvCmbJAs6PRg-YlK_-9BVzolqL5e_ieOUNkNjnskH9BYgeJFwRK-k9sbxFqrSqeu4N3JoI4MbPWN_DwwI_34KClVdrJ/file\n",
            "Resolving ucb1905dfcfdcda0c844222a8f69.dl.dropboxusercontent.com (ucb1905dfcfdcda0c844222a8f69.dl.dropboxusercontent.com)... 162.125.68.15, 2620:100:6020:15::a27d:400f\n",
            "Connecting to ucb1905dfcfdcda0c844222a8f69.dl.dropboxusercontent.com (ucb1905dfcfdcda0c844222a8f69.dl.dropboxusercontent.com)|162.125.68.15|:443... connected.\n",
            "HTTP request sent, awaiting response... 302 Found\n",
            "Location: /cd/0/inline2/BcphPqkd3nWZUsqTWpptqMtFDgHUxaxOZDyQ7O9NcYyWuFjVqne6IyEH_S7ysjtSeP8nxqazXRmD4LgmWAys7TXvwMBbo7cyvxfr4Stj2qU_r9hIj_PPUbKCzxo5VSgaydjiJ2EUvb-GxK9bRhO4IGXiMgGSHRnE-wSAdspgZIIIWh6Fp4nnQYaUzV_vUyX7fnLLfd7qwRRHM7VJEkq9gER6XK2P_-Z7QIcsLKEOe7JYf3mOzNENt_1vNXSARJhmcPmsuWT7k5-YWIqSKk3kxg80EPfL82KtAlZ-rDWkbfUljlPHDSa_FS9RGqdXpvj0svyoO6Ulh7y1KYnVlYlVituChu-HM0sexaPJzTvE2v5Nyz_Dyo7Ji6t1jcD4ccmUgYM/file [following]\n",
            "--2021-12-27 10:56:29--  https://ucb1905dfcfdcda0c844222a8f69.dl.dropboxusercontent.com/cd/0/inline2/BcphPqkd3nWZUsqTWpptqMtFDgHUxaxOZDyQ7O9NcYyWuFjVqne6IyEH_S7ysjtSeP8nxqazXRmD4LgmWAys7TXvwMBbo7cyvxfr4Stj2qU_r9hIj_PPUbKCzxo5VSgaydjiJ2EUvb-GxK9bRhO4IGXiMgGSHRnE-wSAdspgZIIIWh6Fp4nnQYaUzV_vUyX7fnLLfd7qwRRHM7VJEkq9gER6XK2P_-Z7QIcsLKEOe7JYf3mOzNENt_1vNXSARJhmcPmsuWT7k5-YWIqSKk3kxg80EPfL82KtAlZ-rDWkbfUljlPHDSa_FS9RGqdXpvj0svyoO6Ulh7y1KYnVlYlVituChu-HM0sexaPJzTvE2v5Nyz_Dyo7Ji6t1jcD4ccmUgYM/file\n",
            "Reusing existing connection to ucb1905dfcfdcda0c844222a8f69.dl.dropboxusercontent.com:443.\n",
            "HTTP request sent, awaiting response... 200 OK\n",
            "Length: 135930936 (130M) [application/octet-stream]\n",
            "Saving to: ‘pems-bay.h5’\n",
            "\n",
            "pems-bay.h5         100%[===================>] 129.63M  15.7MB/s    in 8.9s    \n",
            "\n",
            "2021-12-27 10:56:39 (14.6 MB/s) - ‘pems-bay.h5’ saved [135930936/135930936]\n",
            "\n",
            "/content/DCRNN\n"
          ]
        }
      ],
      "source": [
        "%cd /content/DCRNN/data\n",
        "!wget https://www.dropbox.com/s/3uto6j6zba4kcje/metr-la.h5\n",
        "!wget https://www.dropbox.com/s/akpm0wf7apg6gy0/pems-bay.h5\n",
        "%cd /content/DCRNN/"
      ]
    },
    {
      "cell_type": "markdown",
      "metadata": {
        "id": "7H-_K-hpQxCk"
      },
      "source": [
        "Before processing the data, make sure that the downloaded files are in the \"data\" folder by opening the file explorer tab to the left. If not, move them in."
      ]
    },
    {
      "cell_type": "code",
      "execution_count": null,
      "metadata": {
        "colab": {
          "base_uri": "https://localhost:8080/"
        },
        "id": "AZhZvq47ago5",
        "outputId": "8eb20aca-8539-429a-8695-7f35997ff2ea"
      },
      "outputs": [
        {
          "name": "stdout",
          "output_type": "stream",
          "text": [
            "Generating training data\n",
            "tcmalloc: large alloc 1361199104 bytes == 0x55e696f3e000 @  0x7fbb11b6c1e7 0x7fbb0f66c46e 0x7fbb0f6bcc7b 0x7fbb0f6bcd18 0x7fbb0f764010 0x7fbb0f76473c 0x7fbb0f76485d 0x55e5defde749 0x7fbb0f6a9ef7 0x55e5defdc437 0x55e5defdc240 0x55e5df04f973 0x55e5df04a9ee 0x55e5defddbda 0x55e5df04c737 0x55e5df04aced 0x55e5def1ce2b 0x7fbb0f6a9ef7 0x55e5defdc437 0x55e5defdc240 0x55e5df04f973 0x55e5df04a9ee 0x55e5defddbda 0x55e5df04c737 0x55e5df04a9ee 0x55e5defddbda 0x55e5df04c737 0x55e5defddafa 0x55e5df04b915 0x55e5defddafa 0x55e5df04b915\n",
            "tcmalloc: large alloc 1361199104 bytes == 0x55e6e89e2000 @  0x7fbb11b6c1e7 0x7fbb0f66c46e 0x7fbb0f6bcc7b 0x7fbb0f6bcd18 0x7fbb0f764010 0x7fbb0f76473c 0x7fbb0f76485d 0x55e5defde749 0x7fbb0f6a9ef7 0x55e5defdc437 0x55e5defdc240 0x55e5df04f973 0x55e5df04a9ee 0x55e5defddbda 0x55e5df04c737 0x55e5df04aced 0x55e5def1ce2b 0x7fbb0f6a9ef7 0x55e5defdc437 0x55e5defdc240 0x55e5df04f973 0x55e5df04a9ee 0x55e5defddbda 0x55e5df04c737 0x55e5df04a9ee 0x55e5defddbda 0x55e5df04c737 0x55e5defddafa 0x55e5df04b915 0x55e5defddafa 0x55e5df04b915\n",
            "x shape:  (34249, 12, 207, 2) , y shape:  (34249, 12, 207, 2)\n",
            "train x:  (23974, 12, 207, 2) y: (23974, 12, 207, 2)\n",
            "val x:  (3425, 12, 207, 2) y: (3425, 12, 207, 2)\n",
            "test x:  (6850, 12, 207, 2) y: (6850, 12, 207, 2)\n",
            "Generating training data\n",
            "tcmalloc: large alloc 3250610176 bytes == 0x55da330fc000 @  0x7fe250cdf1e7 0x7fe24e81f46e 0x7fe24e86fc7b 0x7fe24e86fd18 0x7fe24e917010 0x7fe24e91773c 0x7fe24e91785d 0x55d877361749 0x7fe24e85cef7 0x55d87735f437 0x55d87735f240 0x55d8773d2973 0x55d8773cd9ee 0x55d877360bda 0x55d8773cf737 0x55d8773cdced 0x55d87729fe2b 0x7fe24e85cef7 0x55d87735f437 0x55d87735f240 0x55d8773d2973 0x55d8773cd9ee 0x55d877360bda 0x55d8773cf737 0x55d8773cd9ee 0x55d877360bda 0x55d8773cf737 0x55d877360afa 0x55d8773ce915 0x55d877360afa 0x55d8773ce915\n",
            "tcmalloc: large alloc 3250610176 bytes == 0x55daf559c000 @  0x7fe250cdf1e7 0x7fe24e81f46e 0x7fe24e86fc7b 0x7fe24e86fd18 0x7fe24e917010 0x7fe24e91773c 0x7fe24e91785d 0x55d877361749 0x7fe24e85cef7 0x55d87735f437 0x55d87735f240 0x55d8773d2973 0x55d8773cd9ee 0x55d877360bda 0x55d8773cf737 0x55d8773cdced 0x55d87729fe2b 0x7fe24e85cef7 0x55d87735f437 0x55d87735f240 0x55d8773d2973 0x55d8773cd9ee 0x55d877360bda 0x55d8773cf737 0x55d8773cd9ee 0x55d877360bda 0x55d8773cf737 0x55d877360afa 0x55d8773ce915 0x55d877360afa 0x55d8773ce915\n",
            "x shape:  (52093, 12, 325, 2) , y shape:  (52093, 12, 325, 2)\n",
            "train x:  (36465, 12, 325, 2) y: (36465, 12, 325, 2)\n",
            "val x:  (5209, 12, 325, 2) y: (5209, 12, 325, 2)\n",
            "test x:  (10419, 12, 325, 2) y: (10419, 12, 325, 2)\n"
          ]
        }
      ],
      "source": [
        "%mkdir -p data/{METR-LA,PEMS-BAY}\n",
        "\n",
        "# METR-LA\n",
        "!python -m scripts.generate_training_data --output_dir=data/METR-LA --traffic_df_filename=data/metr-la.h5\n",
        "\n",
        "# PEMS-BAY\n",
        "!python -m scripts.generate_training_data --output_dir=data/PEMS-BAY --traffic_df_filename=data/pems-bay.h5"
      ]
    },
    {
      "cell_type": "markdown",
      "metadata": {
        "id": "HRG1zTVCboer"
      },
      "source": [
        "After the datasets are loaded, construct a graph as an input for the GCN"
      ]
    },
    {
      "cell_type": "code",
      "execution_count": null,
      "metadata": {
        "id": "zN_jAqL8aU2h"
      },
      "outputs": [],
      "source": [
        "!python -m scripts.gen_adj_mx  --sensor_ids_filename=data/sensor_graph/graph_sensor_ids.txt --normalized_k=0.1\\\n",
        "    --output_pkl_filename=data/sensor_graph/adj_mx.pkl"
      ]
    },
    {
      "cell_type": "markdown",
      "metadata": {
        "id": "1uBgXAQrcIE4"
      },
      "source": [
        "Run the pretrained model"
      ]
    },
    {
      "cell_type": "code",
      "execution_count": null,
      "metadata": {
        "colab": {
          "base_uri": "https://localhost:8080/"
        },
        "id": "OTJeSkrzcKic",
        "outputId": "dbac97b3-3dc0-4995-cde9-6d2effb18581"
      },
      "outputs": [
        {
          "name": "stdout",
          "output_type": "stream",
          "text": [
            "WARNING:tensorflow:From run_demo.py:15: The name tf.ConfigProto is deprecated. Please use tf.compat.v1.ConfigProto instead.\n",
            "\n",
            "WARNING:tensorflow:From run_demo.py:21: The name tf.Session is deprecated. Please use tf.compat.v1.Session instead.\n",
            "\n",
            "2021-12-27 11:12:50.134534: I tensorflow/core/platform/cpu_feature_guard.cc:142] Your CPU supports instructions that this TensorFlow binary was not compiled to use: AVX2 FMA\n",
            "2021-12-27 11:12:50.151572: I tensorflow/core/platform/profile_utils/cpu_utils.cc:94] CPU Frequency: 2299995000 Hz\n",
            "2021-12-27 11:12:50.153653: I tensorflow/compiler/xla/service/service.cc:168] XLA service 0x558be126b100 initialized for platform Host (this does not guarantee that XLA will be used). Devices:\n",
            "2021-12-27 11:12:50.153687: I tensorflow/compiler/xla/service/service.cc:176]   StreamExecutor device (0): Host, Default Version\n",
            "2021-12-27 11:12:50.167594: I tensorflow/stream_executor/platform/default/dso_loader.cc:44] Successfully opened dynamic library libcuda.so.1\n",
            "2021-12-27 11:12:50.345493: I tensorflow/stream_executor/cuda/cuda_gpu_executor.cc:983] successful NUMA node read from SysFS had negative value (-1), but there must be at least one NUMA node, so returning NUMA node zero\n",
            "2021-12-27 11:12:50.346536: I tensorflow/compiler/xla/service/service.cc:168] XLA service 0x558be6204c40 initialized for platform CUDA (this does not guarantee that XLA will be used). Devices:\n",
            "2021-12-27 11:12:50.346585: I tensorflow/compiler/xla/service/service.cc:176]   StreamExecutor device (0): Tesla K80, Compute Capability 3.7\n",
            "2021-12-27 11:12:50.347423: I tensorflow/stream_executor/cuda/cuda_gpu_executor.cc:983] successful NUMA node read from SysFS had negative value (-1), but there must be at least one NUMA node, so returning NUMA node zero\n",
            "2021-12-27 11:12:50.348182: I tensorflow/core/common_runtime/gpu/gpu_device.cc:1618] Found device 0 with properties: \n",
            "name: Tesla K80 major: 3 minor: 7 memoryClockRate(GHz): 0.8235\n",
            "pciBusID: 0000:00:04.0\n",
            "2021-12-27 11:12:50.357337: I tensorflow/stream_executor/platform/default/dso_loader.cc:44] Successfully opened dynamic library libcudart.so.10.0\n",
            "2021-12-27 11:12:50.490707: I tensorflow/stream_executor/platform/default/dso_loader.cc:44] Successfully opened dynamic library libcublas.so.10.0\n",
            "2021-12-27 11:12:50.559447: I tensorflow/stream_executor/platform/default/dso_loader.cc:44] Successfully opened dynamic library libcufft.so.10.0\n",
            "2021-12-27 11:12:50.578167: I tensorflow/stream_executor/platform/default/dso_loader.cc:44] Successfully opened dynamic library libcurand.so.10.0\n",
            "2021-12-27 11:12:50.713958: I tensorflow/stream_executor/platform/default/dso_loader.cc:44] Successfully opened dynamic library libcusolver.so.10.0\n",
            "2021-12-27 11:12:50.806793: I tensorflow/stream_executor/platform/default/dso_loader.cc:44] Successfully opened dynamic library libcusparse.so.10.0\n",
            "2021-12-27 11:12:51.138753: I tensorflow/stream_executor/platform/default/dso_loader.cc:44] Successfully opened dynamic library libcudnn.so.7\n",
            "2021-12-27 11:12:51.139006: I tensorflow/stream_executor/cuda/cuda_gpu_executor.cc:983] successful NUMA node read from SysFS had negative value (-1), but there must be at least one NUMA node, so returning NUMA node zero\n",
            "2021-12-27 11:12:51.140170: I tensorflow/stream_executor/cuda/cuda_gpu_executor.cc:983] successful NUMA node read from SysFS had negative value (-1), but there must be at least one NUMA node, so returning NUMA node zero\n",
            "2021-12-27 11:12:51.140954: I tensorflow/core/common_runtime/gpu/gpu_device.cc:1746] Adding visible gpu devices: 0\n",
            "2021-12-27 11:12:51.143957: I tensorflow/stream_executor/platform/default/dso_loader.cc:44] Successfully opened dynamic library libcudart.so.10.0\n",
            "2021-12-27 11:12:51.145631: I tensorflow/core/common_runtime/gpu/gpu_device.cc:1159] Device interconnect StreamExecutor with strength 1 edge matrix:\n",
            "2021-12-27 11:12:51.145669: I tensorflow/core/common_runtime/gpu/gpu_device.cc:1165]      0 \n",
            "2021-12-27 11:12:51.145688: I tensorflow/core/common_runtime/gpu/gpu_device.cc:1178] 0:   N \n",
            "2021-12-27 11:12:51.147081: I tensorflow/stream_executor/cuda/cuda_gpu_executor.cc:983] successful NUMA node read from SysFS had negative value (-1), but there must be at least one NUMA node, so returning NUMA node zero\n",
            "2021-12-27 11:12:51.147973: I tensorflow/stream_executor/cuda/cuda_gpu_executor.cc:983] successful NUMA node read from SysFS had negative value (-1), but there must be at least one NUMA node, so returning NUMA node zero\n",
            "2021-12-27 11:12:51.148714: I tensorflow/core/common_runtime/gpu/gpu_device.cc:1304] Created TensorFlow device (/job:localhost/replica:0/task:0/device:GPU:0 with 10813 MB memory) -> physical GPU (device: 0, name: Tesla K80, pci bus id: 0000:00:04.0, compute capability: 3.7)\n",
            "2021-12-27 11:12:51,150 - INFO - Log directory: data/model/pretrained/METR-LA\n",
            "WARNING:tensorflow:From /content/DCRNN/model/dcrnn_supervisor.py:35: The name tf.summary.FileWriter is deprecated. Please use tf.compat.v1.summary.FileWriter instead.\n",
            "\n",
            "2021-12-27 11:12:51,151 - INFO - {'base_dir': 'data/model', 'log_level': 'INFO', 'data': {'batch_size': 64, 'dataset_dir': 'data/METR-LA', 'graph_pkl_filename': 'data/sensor_graph/adj_mx.pkl', 'test_batch_size': 64}, 'model': {'cl_decay_steps': 2000, 'filter_type': 'dual_random_walk', 'horizon': 12, 'input_dim': 2, 'l1_decay': 0, 'max_diffusion_step': 2, 'num_nodes': 207, 'num_rnn_layers': 2, 'output_dim': 1, 'rnn_units': 64, 'seq_len': 12, 'use_curriculum_learning': True}, 'train': {'base_lr': 0.01, 'dropout': 0, 'epoch': 64, 'epochs': 100, 'epsilon': 0.001, 'global_step': 24375, 'log_dir': 'data/model/pretrained/METR-LA', 'lr_decay_ratio': 0.1, 'max_grad_norm': 5, 'max_to_keep': 100, 'min_learning_rate': 2e-06, 'model_filename': 'data/model/pretrained/METR-LA/models-2.7422-24375', 'optimizer': 'adam', 'patience': 50, 'steps': [20, 30, 40, 50], 'test_every_n_epochs': 10}}\n",
            "2021-12-27 11:13:05,595 - INFO - ('x_train', (23974, 12, 207, 2))\n",
            "2021-12-27 11:13:05,595 - INFO - ('y_train', (23974, 12, 207, 2))\n",
            "2021-12-27 11:13:05,595 - INFO - ('x_val', (3425, 12, 207, 2))\n",
            "2021-12-27 11:13:05,595 - INFO - ('y_val', (3425, 12, 207, 2))\n",
            "2021-12-27 11:13:05,596 - INFO - ('x_test', (6850, 12, 207, 2))\n",
            "2021-12-27 11:13:05,596 - INFO - ('y_test', (6850, 12, 207, 2))\n",
            "WARNING:tensorflow:From /content/DCRNN/model/dcrnn_supervisor.py:47: The name tf.variable_scope is deprecated. Please use tf.compat.v1.variable_scope instead.\n",
            "\n",
            "WARNING:tensorflow:From /content/DCRNN/model/dcrnn_model.py:37: The name tf.placeholder is deprecated. Please use tf.compat.v1.placeholder instead.\n",
            "\n",
            "WARNING:tensorflow:From /content/DCRNN/model/dcrnn_cell.py:64: The name tf.sparse_reorder is deprecated. Please use tf.sparse.reorder instead.\n",
            "\n",
            "WARNING:tensorflow:\n",
            "The TensorFlow contrib module will not be included in TensorFlow 2.0.\n",
            "For more information, please see:\n",
            "  * https://github.com/tensorflow/community/blob/master/rfcs/20180907-contrib-sunset.md\n",
            "  * https://github.com/tensorflow/addons\n",
            "  * https://github.com/tensorflow/io (for I/O related ops)\n",
            "If you depend on functionality not listed there, please file an issue.\n",
            "\n",
            "WARNING:tensorflow:From /content/DCRNN/model/dcrnn_model.py:50: MultiRNNCell.__init__ (from tensorflow.python.ops.rnn_cell_impl) is deprecated and will be removed in a future version.\n",
            "Instructions for updating:\n",
            "This class is equivalent as tf.keras.layers.StackedRNNCells, and will be replaced by that in Tensorflow 2.0.\n",
            "WARNING:tensorflow:At least two cells provided to MultiRNNCell are the same object and will share weights.\n",
            "WARNING:tensorflow:From /content/DCRNN/model/dcrnn_model.py:53: The name tf.train.get_or_create_global_step is deprecated. Please use tf.compat.v1.train.get_or_create_global_step instead.\n",
            "\n",
            "WARNING:tensorflow:From /content/DCRNN/model/dcrnn_model.py:75: static_rnn (from tensorflow.python.ops.rnn) is deprecated and will be removed in a future version.\n",
            "Instructions for updating:\n",
            "Please use `keras.layers.RNN(cell, unroll=True)`, which is equivalent to this API\n",
            "WARNING:tensorflow:From /content/DCRNN/model/dcrnn_cell.py:156: The name tf.get_variable_scope is deprecated. Please use tf.compat.v1.get_variable_scope instead.\n",
            "\n",
            "WARNING:tensorflow:From /content/DCRNN/model/dcrnn_cell.py:162: The name tf.sparse_tensor_dense_matmul is deprecated. Please use tf.sparse.sparse_dense_matmul instead.\n",
            "\n",
            "WARNING:tensorflow:From /content/DCRNN/model/dcrnn_cell.py:175: The name tf.get_variable is deprecated. Please use tf.compat.v1.get_variable instead.\n",
            "\n",
            "WARNING:tensorflow:From /content/DCRNN/model/dcrnn_cell.py:181: calling Constant.__init__ (from tensorflow.python.ops.init_ops) with dtype is deprecated and will be removed in a future version.\n",
            "Instructions for updating:\n",
            "Call initializer instance with the dtype argument instead of passing it to the constructor\n",
            "WARNING:tensorflow:From /content/DCRNN/model/dcrnn_model.py:65: The name tf.random_uniform is deprecated. Please use tf.random.uniform instead.\n",
            "\n",
            "WARNING:tensorflow:From /content/DCRNN/model/dcrnn_model.py:82: The name tf.summary.merge_all is deprecated. Please use tf.compat.v1.summary.merge_all instead.\n",
            "\n",
            "WARNING:tensorflow:From /content/DCRNN/model/dcrnn_supervisor.py:62: The name tf.assign is deprecated. Please use tf.compat.v1.assign instead.\n",
            "\n",
            "WARNING:tensorflow:From /content/DCRNN/model/dcrnn_supervisor.py:67: The name tf.train.AdamOptimizer is deprecated. Please use tf.compat.v1.train.AdamOptimizer instead.\n",
            "\n",
            "WARNING:tensorflow:From /content/DCRNN/lib/metrics.py:40: The name tf.is_nan is deprecated. Please use tf.math.is_nan instead.\n",
            "\n",
            "WARNING:tensorflow:From /content/DCRNN/lib/metrics.py:40: where (from tensorflow.python.ops.array_ops) is deprecated and will be removed in a future version.\n",
            "Instructions for updating:\n",
            "Use tf.where in 2.0, which has the same broadcast rule as np.where\n",
            "WARNING:tensorflow:From /content/DCRNN/model/dcrnn_supervisor.py:82: The name tf.trainable_variables is deprecated. Please use tf.compat.v1.trainable_variables instead.\n",
            "\n",
            "WARNING:tensorflow:From /content/DCRNN/model/dcrnn_supervisor.py:91: The name tf.train.Saver is deprecated. Please use tf.compat.v1.train.Saver instead.\n",
            "\n",
            "WARNING:tensorflow:From /content/DCRNN/model/dcrnn_supervisor.py:91: The name tf.global_variables is deprecated. Please use tf.compat.v1.global_variables instead.\n",
            "\n",
            "2021-12-27 11:13:24,715 - INFO - Total number of trainable parameters: 372352\n",
            "2021-12-27 11:13:30.732435: I tensorflow/stream_executor/platform/default/dso_loader.cc:44] Successfully opened dynamic library libcublas.so.10.0\n",
            "WARNING:tensorflow:From /content/DCRNN/lib/utils.py:78: The name tf.Summary is deprecated. Please use tf.compat.v1.Summary instead.\n",
            "\n",
            "2021-12-27 11:15:19,653 - INFO - Horizon 01, MAE: 2.17, MAPE: 0.0517, RMSE: 3.76\n",
            "2021-12-27 11:15:19,740 - INFO - Horizon 02, MAE: 2.47, MAPE: 0.0612, RMSE: 4.59\n",
            "2021-12-27 11:15:19,833 - INFO - Horizon 03, MAE: 2.66, MAPE: 0.0683, RMSE: 5.16\n",
            "2021-12-27 11:15:19,923 - INFO - Horizon 04, MAE: 2.82, MAPE: 0.0742, RMSE: 5.61\n",
            "2021-12-27 11:15:20,014 - INFO - Horizon 05, MAE: 2.95, MAPE: 0.0792, RMSE: 5.98\n",
            "2021-12-27 11:15:20,100 - INFO - Horizon 06, MAE: 3.06, MAPE: 0.0836, RMSE: 6.28\n",
            "2021-12-27 11:15:20,198 - INFO - Horizon 07, MAE: 3.16, MAPE: 0.0875, RMSE: 6.54\n",
            "2021-12-27 11:15:20,285 - INFO - Horizon 08, MAE: 3.25, MAPE: 0.0910, RMSE: 6.77\n",
            "2021-12-27 11:15:20,373 - INFO - Horizon 09, MAE: 3.33, MAPE: 0.0941, RMSE: 6.97\n",
            "2021-12-27 11:15:20,465 - INFO - Horizon 10, MAE: 3.40, MAPE: 0.0970, RMSE: 7.15\n",
            "2021-12-27 11:15:20,554 - INFO - Horizon 11, MAE: 3.47, MAPE: 0.0996, RMSE: 7.31\n",
            "2021-12-27 11:15:20,637 - INFO - Horizon 12, MAE: 3.54, MAPE: 0.1024, RMSE: 7.48\n",
            "Predictions saved as data/dcrnn_predictions.npz.\n"
          ]
        }
      ],
      "source": [
        "# METR-LA\n",
        "!python run_demo.py --config_filename=data/model/pretrained/METR-LA/config.yaml"
      ]
    },
    {
      "cell_type": "code",
      "execution_count": null,
      "metadata": {
        "colab": {
          "base_uri": "https://localhost:8080/"
        },
        "id": "XUSTBsvQl5eM",
        "outputId": "c8b26fa9-b010-4017-c28d-2835f333acdd"
      },
      "outputs": [
        {
          "name": "stdout",
          "output_type": "stream",
          "text": [
            "WARNING:tensorflow:From run_demo.py:15: The name tf.ConfigProto is deprecated. Please use tf.compat.v1.ConfigProto instead.\n",
            "\n",
            "WARNING:tensorflow:From run_demo.py:21: The name tf.Session is deprecated. Please use tf.compat.v1.Session instead.\n",
            "\n",
            "2021-12-27 11:16:57.194595: I tensorflow/core/platform/cpu_feature_guard.cc:142] Your CPU supports instructions that this TensorFlow binary was not compiled to use: AVX2 FMA\n",
            "2021-12-27 11:16:57.199931: I tensorflow/core/platform/profile_utils/cpu_utils.cc:94] CPU Frequency: 2299995000 Hz\n",
            "2021-12-27 11:16:57.200256: I tensorflow/compiler/xla/service/service.cc:168] XLA service 0x55b803e73100 initialized for platform Host (this does not guarantee that XLA will be used). Devices:\n",
            "2021-12-27 11:16:57.200293: I tensorflow/compiler/xla/service/service.cc:176]   StreamExecutor device (0): Host, Default Version\n",
            "2021-12-27 11:16:57.202292: I tensorflow/stream_executor/platform/default/dso_loader.cc:44] Successfully opened dynamic library libcuda.so.1\n",
            "2021-12-27 11:16:57.328237: I tensorflow/stream_executor/cuda/cuda_gpu_executor.cc:983] successful NUMA node read from SysFS had negative value (-1), but there must be at least one NUMA node, so returning NUMA node zero\n",
            "2021-12-27 11:16:57.329110: I tensorflow/compiler/xla/service/service.cc:168] XLA service 0x55b803e73640 initialized for platform CUDA (this does not guarantee that XLA will be used). Devices:\n",
            "2021-12-27 11:16:57.329144: I tensorflow/compiler/xla/service/service.cc:176]   StreamExecutor device (0): Tesla K80, Compute Capability 3.7\n",
            "2021-12-27 11:16:57.329338: I tensorflow/stream_executor/cuda/cuda_gpu_executor.cc:983] successful NUMA node read from SysFS had negative value (-1), but there must be at least one NUMA node, so returning NUMA node zero\n",
            "2021-12-27 11:16:57.330006: I tensorflow/core/common_runtime/gpu/gpu_device.cc:1618] Found device 0 with properties: \n",
            "name: Tesla K80 major: 3 minor: 7 memoryClockRate(GHz): 0.8235\n",
            "pciBusID: 0000:00:04.0\n",
            "2021-12-27 11:16:57.330448: I tensorflow/stream_executor/platform/default/dso_loader.cc:44] Successfully opened dynamic library libcudart.so.10.0\n",
            "2021-12-27 11:16:57.332191: I tensorflow/stream_executor/platform/default/dso_loader.cc:44] Successfully opened dynamic library libcublas.so.10.0\n",
            "2021-12-27 11:16:57.333550: I tensorflow/stream_executor/platform/default/dso_loader.cc:44] Successfully opened dynamic library libcufft.so.10.0\n",
            "2021-12-27 11:16:57.333926: I tensorflow/stream_executor/platform/default/dso_loader.cc:44] Successfully opened dynamic library libcurand.so.10.0\n",
            "2021-12-27 11:16:57.342173: I tensorflow/stream_executor/platform/default/dso_loader.cc:44] Successfully opened dynamic library libcusolver.so.10.0\n",
            "2021-12-27 11:16:57.343467: I tensorflow/stream_executor/platform/default/dso_loader.cc:44] Successfully opened dynamic library libcusparse.so.10.0\n",
            "2021-12-27 11:16:57.349973: I tensorflow/stream_executor/platform/default/dso_loader.cc:44] Successfully opened dynamic library libcudnn.so.7\n",
            "2021-12-27 11:16:57.350123: I tensorflow/stream_executor/cuda/cuda_gpu_executor.cc:983] successful NUMA node read from SysFS had negative value (-1), but there must be at least one NUMA node, so returning NUMA node zero\n",
            "2021-12-27 11:16:57.350838: I tensorflow/stream_executor/cuda/cuda_gpu_executor.cc:983] successful NUMA node read from SysFS had negative value (-1), but there must be at least one NUMA node, so returning NUMA node zero\n",
            "2021-12-27 11:16:57.351544: I tensorflow/core/common_runtime/gpu/gpu_device.cc:1746] Adding visible gpu devices: 0\n",
            "2021-12-27 11:16:57.351611: I tensorflow/stream_executor/platform/default/dso_loader.cc:44] Successfully opened dynamic library libcudart.so.10.0\n",
            "2021-12-27 11:16:57.352853: I tensorflow/core/common_runtime/gpu/gpu_device.cc:1159] Device interconnect StreamExecutor with strength 1 edge matrix:\n",
            "2021-12-27 11:16:57.352887: I tensorflow/core/common_runtime/gpu/gpu_device.cc:1165]      0 \n",
            "2021-12-27 11:16:57.352903: I tensorflow/core/common_runtime/gpu/gpu_device.cc:1178] 0:   N \n",
            "2021-12-27 11:16:57.353038: I tensorflow/stream_executor/cuda/cuda_gpu_executor.cc:983] successful NUMA node read from SysFS had negative value (-1), but there must be at least one NUMA node, so returning NUMA node zero\n",
            "2021-12-27 11:16:57.353801: I tensorflow/stream_executor/cuda/cuda_gpu_executor.cc:983] successful NUMA node read from SysFS had negative value (-1), but there must be at least one NUMA node, so returning NUMA node zero\n",
            "2021-12-27 11:16:57.354581: I tensorflow/core/common_runtime/gpu/gpu_device.cc:1304] Created TensorFlow device (/job:localhost/replica:0/task:0/device:GPU:0 with 10813 MB memory) -> physical GPU (device: 0, name: Tesla K80, pci bus id: 0000:00:04.0, compute capability: 3.7)\n",
            "2021-12-27 11:16:57,355 - INFO - Log directory: data/model/pretrained/PEMS-BAY/\n",
            "WARNING:tensorflow:From /content/DCRNN/model/dcrnn_supervisor.py:35: The name tf.summary.FileWriter is deprecated. Please use tf.compat.v1.summary.FileWriter instead.\n",
            "\n",
            "2021-12-27 11:16:57,356 - INFO - {'base_dir': 'data/model', 'data': {'batch_size': 64, 'dataset_dir': 'data/PEMS-BAY', 'graph_pkl_filename': 'data/sensor_graph/adj_mx_bay.pkl', 'test_batch_size': 64, 'val_batch_size': 64}, 'log_level': 'INFO', 'model': {'cl_decay_steps': 2000, 'filter_type': 'dual_random_walk', 'horizon': 12, 'input_dim': 2, 'l1_decay': 0, 'max_diffusion_step': 2, 'num_nodes': 325, 'num_rnn_layers': 2, 'output_dim': 1, 'rnn_units': 64, 'seq_len': 12, 'use_curriculum_learning': True}, 'train': {'base_lr': 0.01, 'dropout': 0, 'epoch': 53, 'epochs': 100, 'epsilon': 0.001, 'global_step': 30780, 'log_dir': 'data/model/pretrained/PEMS-BAY/', 'lr_decay_ratio': 0.1, 'max_grad_norm': 5, 'max_to_keep': 100, 'min_learning_rate': 2e-06, 'model_filename': 'data/model/pretrained/PEMS-BAY/models-1.6139-30780', 'optimizer': 'adam', 'patience': 50, 'steps': [20, 30, 40, 50], 'test_every_n_epochs': 10}}\n",
            "tcmalloc: large alloc 2275418112 bytes == 0x55b8093b6000 @  0x7f9bb03aa1e7 0x7f9badf2a46e 0x7f9badf7ac7b 0x7f9badf2dce8 0x55b802400045 0x55b8023c0d49 0x55b80243494f 0x55b80242e9ee 0x55b8023c1bda 0x55b802430737 0x55b8023c3b6b 0x55b8024049c9 0x55b80240493c 0x55b8024a8409 0x55b80242fe7a 0x55b80242e9ee 0x55b802300e2b 0x55b802430fe4 0x55b80242e9ee 0x55b8023c248c 0x55b802403159 0x55b8024000a4 0x55b8023c2698 0x55b802430fe4 0x55b8023c1afa 0x55b80242f915 0x55b80242e9ee 0x55b80242e6f3 0x55b8024f84c2 0x55b8024f883d 0x55b8024f86e6\n",
            "tcmalloc: large alloc 2275418112 bytes == 0x55b891080000 @  0x7f9bb03aa1e7 0x7f9badf2a46e 0x7f9badf7ac7b 0x7f9badf2dce8 0x55b802400045 0x55b8023c0d49 0x55b80243494f 0x55b80242e9ee 0x55b8023c1bda 0x55b802430737 0x55b8023c3b6b 0x55b8024049c9 0x55b80240493c 0x55b8024a8409 0x55b80242fe7a 0x55b80242e9ee 0x55b802300e2b 0x55b802430fe4 0x55b80242e9ee 0x55b8023c248c 0x55b802403159 0x55b8024000a4 0x55b8023c2698 0x55b802430fe4 0x55b8023c1afa 0x55b80242f915 0x55b80242e9ee 0x55b80242e6f3 0x55b8024f84c2 0x55b8024f883d 0x55b8024f86e6\n",
            "tcmalloc: large alloc 2276352000 bytes == 0x55b9d14e4000 @  0x7f9bb03aa1e7 0x7f9badf2a46e 0x7f9badf7ac7b 0x7f9badf7ad18 0x7f9bae022010 0x7f9bae02273c 0x7f9bae02285d 0x55b8023c2749 0x7f9badf67ef7 0x55b8023c0437 0x55b8023c0240 0x55b802433973 0x55b80242e9ee 0x55b8023c1bda 0x55b802430737 0x55b80242e9ee 0x55b8023c248c 0x55b802403159 0x55b8024000a4 0x55b8023c0d49 0x55b80243494f 0x55b80242e9ee 0x55b802300e2b 0x55b802430fe4 0x55b80242e9ee 0x55b8023c248c 0x55b802403159 0x55b8024000a4 0x55b8023c2698 0x55b802430fe4 0x55b8023c1afa\n",
            "tcmalloc: large alloc 2276352000 bytes == 0x55ba58fca000 @  0x7f9bb03aa1e7 0x7f9badf2a46e 0x7f9badf7ac7b 0x7f9badf7ad18 0x7f9bae022010 0x7f9bae02273c 0x7f9bae02285d 0x55b8023c2749 0x7f9badf67ef7 0x55b8023c0437 0x55b8023c0240 0x55b802433973 0x55b80242e9ee 0x55b8023c1bda 0x55b802430737 0x55b80242e9ee 0x55b8023c248c 0x55b802403159 0x55b8024000a4 0x55b8023c0d49 0x55b80243494f 0x55b80242e9ee 0x55b802300e2b 0x55b802430fe4 0x55b80242e9ee 0x55b8023c248c 0x55b802403159 0x55b8024000a4 0x55b8023c2698 0x55b802430fe4 0x55b8023c1afa\n",
            "tcmalloc: large alloc 2276352000 bytes == 0x55bae0ab0000 @  0x7f9bb03aa1e7 0x7f9badf2a46e 0x7f9badf7ac7b 0x7f9badf7ad18 0x7f9bae00d3a9 0x7f9bae00fab5 0x55b8024a8409 0x55b80242fe7a 0x55b80242e9ee 0x55b8023c248c 0x55b802403159 0x55b8024000a4 0x55b8023c0d49 0x55b80243494f 0x55b80242e9ee 0x55b802300e2b 0x55b802430fe4 0x55b80242e9ee 0x55b8023c248c 0x55b802403159 0x55b8024000a4 0x55b8023c2698 0x55b802430fe4 0x55b8023c1afa 0x55b80242f915 0x55b80242e9ee 0x55b80242e6f3 0x55b8024f84c2 0x55b8024f883d 0x55b8024f86e6 0x55b8024d0163\n",
            "^C\n"
          ]
        }
      ],
      "source": [
        "# PEMS-BAY\n",
        "!python run_demo.py --config_filename=data/model/pretrained/PEMS-BAY/config.yaml\n",
        "#The generated prediction of DCRNN is in data/results/dcrnn_predictions."
      ]
    },
    {
      "cell_type": "markdown",
      "metadata": {
        "id": "8SJybBDWcM8G"
      },
      "source": [
        "Or retrain the model completely"
      ]
    },
    {
      "cell_type": "code",
      "execution_count": null,
      "metadata": {
        "colab": {
          "background_save": true,
          "base_uri": "https://localhost:8080/"
        },
        "id": "u3RKvlPecRCU",
        "outputId": "225fd067-244c-454c-8692-b7452b38291a"
      },
      "outputs": [
        {
          "name": "stdout",
          "output_type": "stream",
          "text": [
            "WARNING:tensorflow:From dcrnn_train.py:20: The name tf.ConfigProto is deprecated. Please use tf.compat.v1.ConfigProto instead.\n",
            "\n",
            "WARNING:tensorflow:From dcrnn_train.py:24: The name tf.Session is deprecated. Please use tf.compat.v1.Session instead.\n",
            "\n",
            "2021-12-27 11:54:16.421396: I tensorflow/core/platform/cpu_feature_guard.cc:142] Your CPU supports instructions that this TensorFlow binary was not compiled to use: AVX2 FMA\n",
            "2021-12-27 11:54:16.443514: I tensorflow/core/platform/profile_utils/cpu_utils.cc:94] CPU Frequency: 2299995000 Hz\n",
            "2021-12-27 11:54:16.443927: I tensorflow/compiler/xla/service/service.cc:168] XLA service 0x5556c26312c0 initialized for platform Host (this does not guarantee that XLA will be used). Devices:\n",
            "2021-12-27 11:54:16.443987: I tensorflow/compiler/xla/service/service.cc:176]   StreamExecutor device (0): Host, Default Version\n",
            "2021-12-27 11:54:16.459416: I tensorflow/stream_executor/platform/default/dso_loader.cc:44] Successfully opened dynamic library libcuda.so.1\n",
            "2021-12-27 11:54:16.640360: I tensorflow/stream_executor/cuda/cuda_gpu_executor.cc:983] successful NUMA node read from SysFS had negative value (-1), but there must be at least one NUMA node, so returning NUMA node zero\n",
            "2021-12-27 11:54:16.641253: I tensorflow/compiler/xla/service/service.cc:168] XLA service 0x5556c76e2e00 initialized for platform CUDA (this does not guarantee that XLA will be used). Devices:\n",
            "2021-12-27 11:54:16.641289: I tensorflow/compiler/xla/service/service.cc:176]   StreamExecutor device (0): Tesla K80, Compute Capability 3.7\n",
            "2021-12-27 11:54:16.642241: I tensorflow/stream_executor/cuda/cuda_gpu_executor.cc:983] successful NUMA node read from SysFS had negative value (-1), but there must be at least one NUMA node, so returning NUMA node zero\n",
            "2021-12-27 11:54:16.642987: I tensorflow/core/common_runtime/gpu/gpu_device.cc:1618] Found device 0 with properties: \n",
            "name: Tesla K80 major: 3 minor: 7 memoryClockRate(GHz): 0.8235\n",
            "pciBusID: 0000:00:04.0\n",
            "2021-12-27 11:54:16.653194: I tensorflow/stream_executor/platform/default/dso_loader.cc:44] Successfully opened dynamic library libcudart.so.10.0\n",
            "2021-12-27 11:54:16.772508: I tensorflow/stream_executor/platform/default/dso_loader.cc:44] Successfully opened dynamic library libcublas.so.10.0\n",
            "2021-12-27 11:54:16.836805: I tensorflow/stream_executor/platform/default/dso_loader.cc:44] Successfully opened dynamic library libcufft.so.10.0\n",
            "2021-12-27 11:54:16.856709: I tensorflow/stream_executor/platform/default/dso_loader.cc:44] Successfully opened dynamic library libcurand.so.10.0\n",
            "2021-12-27 11:54:16.978726: I tensorflow/stream_executor/platform/default/dso_loader.cc:44] Successfully opened dynamic library libcusolver.so.10.0\n",
            "2021-12-27 11:54:17.066773: I tensorflow/stream_executor/platform/default/dso_loader.cc:44] Successfully opened dynamic library libcusparse.so.10.0\n",
            "2021-12-27 11:54:17.382231: I tensorflow/stream_executor/platform/default/dso_loader.cc:44] Successfully opened dynamic library libcudnn.so.7\n",
            "2021-12-27 11:54:17.382436: I tensorflow/stream_executor/cuda/cuda_gpu_executor.cc:983] successful NUMA node read from SysFS had negative value (-1), but there must be at least one NUMA node, so returning NUMA node zero\n",
            "2021-12-27 11:54:17.383333: I tensorflow/stream_executor/cuda/cuda_gpu_executor.cc:983] successful NUMA node read from SysFS had negative value (-1), but there must be at least one NUMA node, so returning NUMA node zero\n",
            "2021-12-27 11:54:17.384060: I tensorflow/core/common_runtime/gpu/gpu_device.cc:1746] Adding visible gpu devices: 0\n",
            "2021-12-27 11:54:17.387187: I tensorflow/stream_executor/platform/default/dso_loader.cc:44] Successfully opened dynamic library libcudart.so.10.0\n",
            "2021-12-27 11:54:17.388786: I tensorflow/core/common_runtime/gpu/gpu_device.cc:1159] Device interconnect StreamExecutor with strength 1 edge matrix:\n",
            "2021-12-27 11:54:17.388823: I tensorflow/core/common_runtime/gpu/gpu_device.cc:1165]      0 \n",
            "2021-12-27 11:54:17.388843: I tensorflow/core/common_runtime/gpu/gpu_device.cc:1178] 0:   N \n",
            "2021-12-27 11:54:17.390206: I tensorflow/stream_executor/cuda/cuda_gpu_executor.cc:983] successful NUMA node read from SysFS had negative value (-1), but there must be at least one NUMA node, so returning NUMA node zero\n",
            "2021-12-27 11:54:17.391106: I tensorflow/stream_executor/cuda/cuda_gpu_executor.cc:983] successful NUMA node read from SysFS had negative value (-1), but there must be at least one NUMA node, so returning NUMA node zero\n",
            "2021-12-27 11:54:17.391861: I tensorflow/core/common_runtime/gpu/gpu_device.cc:1304] Created TensorFlow device (/job:localhost/replica:0/task:0/device:GPU:0 with 10813 MB memory) -> physical GPU (device: 0, name: Tesla K80, pci bus id: 0000:00:04.0, compute capability: 3.7)\n",
            "2021-12-27 11:54:17,393 - INFO - Log directory: data/model/dcrnn_DR_2_h_12_64-64_lr_0.01_bs_64_1227115417/\n",
            "WARNING:tensorflow:From /content/DCRNN/model/dcrnn_supervisor.py:35: The name tf.summary.FileWriter is deprecated. Please use tf.compat.v1.summary.FileWriter instead.\n",
            "\n",
            "2021-12-27 11:54:17,394 - INFO - {'base_dir': 'data/model', 'log_level': 'INFO', 'data': {'batch_size': 64, 'dataset_dir': 'data/METR-LA', 'test_batch_size': 64, 'val_batch_size': 64, 'graph_pkl_filename': 'data/sensor_graph/adj_mx.pkl'}, 'model': {'cl_decay_steps': 2000, 'filter_type': 'dual_random_walk', 'horizon': 12, 'input_dim': 2, 'l1_decay': 0, 'max_diffusion_step': 2, 'num_nodes': 207, 'num_rnn_layers': 2, 'output_dim': 1, 'rnn_units': 64, 'seq_len': 12, 'use_curriculum_learning': True}, 'train': {'base_lr': 0.01, 'dropout': 0, 'epoch': 0, 'epochs': 100, 'epsilon': 0.001, 'global_step': 0, 'lr_decay_ratio': 0.1, 'max_grad_norm': 5, 'max_to_keep': 100, 'min_learning_rate': 2e-06, 'optimizer': 'adam', 'patience': 50, 'steps': [20, 30, 40, 50], 'test_every_n_epochs': 10}}\n",
            "2021-12-27 11:54:31,961 - INFO - ('x_train', (23974, 12, 207, 2))\n",
            "2021-12-27 11:54:31,961 - INFO - ('y_train', (23974, 12, 207, 2))\n",
            "2021-12-27 11:54:31,961 - INFO - ('x_val', (3425, 12, 207, 2))\n",
            "2021-12-27 11:54:31,961 - INFO - ('y_val', (3425, 12, 207, 2))\n",
            "2021-12-27 11:54:31,961 - INFO - ('x_test', (6850, 12, 207, 2))\n",
            "2021-12-27 11:54:31,962 - INFO - ('y_test', (6850, 12, 207, 2))\n",
            "WARNING:tensorflow:From /content/DCRNN/model/dcrnn_supervisor.py:47: The name tf.variable_scope is deprecated. Please use tf.compat.v1.variable_scope instead.\n",
            "\n",
            "WARNING:tensorflow:From /content/DCRNN/model/dcrnn_model.py:37: The name tf.placeholder is deprecated. Please use tf.compat.v1.placeholder instead.\n",
            "\n",
            "WARNING:tensorflow:From /content/DCRNN/model/dcrnn_cell.py:64: The name tf.sparse_reorder is deprecated. Please use tf.sparse.reorder instead.\n",
            "\n",
            "WARNING:tensorflow:\n",
            "The TensorFlow contrib module will not be included in TensorFlow 2.0.\n",
            "For more information, please see:\n",
            "  * https://github.com/tensorflow/community/blob/master/rfcs/20180907-contrib-sunset.md\n",
            "  * https://github.com/tensorflow/addons\n",
            "  * https://github.com/tensorflow/io (for I/O related ops)\n",
            "If you depend on functionality not listed there, please file an issue.\n",
            "\n",
            "WARNING:tensorflow:From /content/DCRNN/model/dcrnn_model.py:50: MultiRNNCell.__init__ (from tensorflow.python.ops.rnn_cell_impl) is deprecated and will be removed in a future version.\n",
            "Instructions for updating:\n",
            "This class is equivalent as tf.keras.layers.StackedRNNCells, and will be replaced by that in Tensorflow 2.0.\n",
            "WARNING:tensorflow:At least two cells provided to MultiRNNCell are the same object and will share weights.\n",
            "WARNING:tensorflow:From /content/DCRNN/model/dcrnn_model.py:53: The name tf.train.get_or_create_global_step is deprecated. Please use tf.compat.v1.train.get_or_create_global_step instead.\n",
            "\n",
            "WARNING:tensorflow:From /content/DCRNN/model/dcrnn_model.py:75: static_rnn (from tensorflow.python.ops.rnn) is deprecated and will be removed in a future version.\n",
            "Instructions for updating:\n",
            "Please use `keras.layers.RNN(cell, unroll=True)`, which is equivalent to this API\n",
            "WARNING:tensorflow:From /content/DCRNN/model/dcrnn_cell.py:156: The name tf.get_variable_scope is deprecated. Please use tf.compat.v1.get_variable_scope instead.\n",
            "\n",
            "WARNING:tensorflow:From /content/DCRNN/model/dcrnn_cell.py:162: The name tf.sparse_tensor_dense_matmul is deprecated. Please use tf.sparse.sparse_dense_matmul instead.\n",
            "\n",
            "WARNING:tensorflow:From /content/DCRNN/model/dcrnn_cell.py:175: The name tf.get_variable is deprecated. Please use tf.compat.v1.get_variable instead.\n",
            "\n",
            "WARNING:tensorflow:From /content/DCRNN/model/dcrnn_cell.py:181: calling Constant.__init__ (from tensorflow.python.ops.init_ops) with dtype is deprecated and will be removed in a future version.\n",
            "Instructions for updating:\n",
            "Call initializer instance with the dtype argument instead of passing it to the constructor\n",
            "WARNING:tensorflow:From /content/DCRNN/model/dcrnn_model.py:65: The name tf.random_uniform is deprecated. Please use tf.random.uniform instead.\n",
            "\n",
            "WARNING:tensorflow:From /content/DCRNN/model/dcrnn_model.py:82: The name tf.summary.merge_all is deprecated. Please use tf.compat.v1.summary.merge_all instead.\n",
            "\n",
            "WARNING:tensorflow:From /content/DCRNN/model/dcrnn_supervisor.py:62: The name tf.assign is deprecated. Please use tf.compat.v1.assign instead.\n",
            "\n",
            "WARNING:tensorflow:From /content/DCRNN/model/dcrnn_supervisor.py:67: The name tf.train.AdamOptimizer is deprecated. Please use tf.compat.v1.train.AdamOptimizer instead.\n",
            "\n",
            "WARNING:tensorflow:From /content/DCRNN/lib/metrics.py:40: The name tf.is_nan is deprecated. Please use tf.math.is_nan instead.\n",
            "\n",
            "WARNING:tensorflow:From /content/DCRNN/lib/metrics.py:40: where (from tensorflow.python.ops.array_ops) is deprecated and will be removed in a future version.\n",
            "Instructions for updating:\n",
            "Use tf.where in 2.0, which has the same broadcast rule as np.where\n",
            "WARNING:tensorflow:From /content/DCRNN/model/dcrnn_supervisor.py:82: The name tf.trainable_variables is deprecated. Please use tf.compat.v1.trainable_variables instead.\n",
            "\n",
            "WARNING:tensorflow:From /content/DCRNN/model/dcrnn_supervisor.py:91: The name tf.train.Saver is deprecated. Please use tf.compat.v1.train.Saver instead.\n",
            "\n",
            "WARNING:tensorflow:From /content/DCRNN/model/dcrnn_supervisor.py:91: The name tf.global_variables is deprecated. Please use tf.compat.v1.global_variables instead.\n",
            "\n",
            "2021-12-27 11:54:51,294 - INFO - Total number of trainable parameters: 372352\n",
            "WARNING:tensorflow:From /content/DCRNN/model/dcrnn_supervisor.py:202: The name tf.global_variables_initializer is deprecated. Please use tf.compat.v1.global_variables_initializer instead.\n",
            "\n",
            "2021-12-27 11:54:54,733 - INFO - Start training ...\n",
            "2021-12-27 11:55:01.190096: I tensorflow/stream_executor/platform/default/dso_loader.cc:44] Successfully opened dynamic library libcublas.so.10.0\n",
            "WARNING:tensorflow:From /content/DCRNN/lib/utils.py:78: The name tf.Summary is deprecated. Please use tf.compat.v1.Summary instead.\n",
            "\n",
            "2021-12-27 12:08:59,865 - INFO - Epoch [0/100] (375) train_mae: 2.7584, val_mae: 3.7072 lr:0.010000 844.8s\n",
            "2021-12-27 12:09:00,337 - INFO - Val loss decrease from inf to 3.7072, saving to data/model/dcrnn_DR_2_h_12_64-64_lr_0.01_bs_64_1227115417/models-3.7072-375\n",
            "2021-12-27 12:23:08,522 - INFO - Epoch [1/100] (750) train_mae: 2.3487, val_mae: 3.3751 lr:0.010000 848.2s\n",
            "2021-12-27 12:23:08,538 - INFO - Val loss decrease from 3.7072 to 3.3751, saving to data/model/dcrnn_DR_2_h_12_64-64_lr_0.01_bs_64_1227115417/models-3.3751-750\n",
            "2021-12-27 12:37:14,450 - INFO - Epoch [2/100] (1125) train_mae: 2.2692, val_mae: 3.2438 lr:0.010000 845.9s\n",
            "2021-12-27 12:37:14,468 - INFO - Val loss decrease from 3.3751 to 3.2438, saving to data/model/dcrnn_DR_2_h_12_64-64_lr_0.01_bs_64_1227115417/models-3.2438-1125\n",
            "2021-12-27 12:51:23,670 - INFO - Epoch [3/100] (1500) train_mae: 2.2129, val_mae: 3.1904 lr:0.010000 849.2s\n",
            "2021-12-27 12:51:23,686 - INFO - Val loss decrease from 3.2438 to 3.1904, saving to data/model/dcrnn_DR_2_h_12_64-64_lr_0.01_bs_64_1227115417/models-3.1904-1500\n",
            "2021-12-27 13:05:27,022 - INFO - Epoch [4/100] (1875) train_mae: 2.1746, val_mae: 3.1707 lr:0.010000 843.3s\n",
            "2021-12-27 13:05:27,039 - INFO - Val loss decrease from 3.1904 to 3.1707, saving to data/model/dcrnn_DR_2_h_12_64-64_lr_0.01_bs_64_1227115417/models-3.1707-1875\n",
            "2021-12-27 13:19:30,908 - INFO - Epoch [5/100] (2250) train_mae: 2.1445, val_mae: 3.0486 lr:0.010000 843.9s\n",
            "2021-12-27 13:19:30,924 - INFO - Val loss decrease from 3.1707 to 3.0486, saving to data/model/dcrnn_DR_2_h_12_64-64_lr_0.01_bs_64_1227115417/models-3.0486-2250\n"
          ]
        }
      ],
      "source": [
        "# METR-LA\n",
        "!python dcrnn_train.py --config_filename=data/model/dcrnn_la.yaml\n",
        "\n",
        "# PEMS-BAY\n",
        "!python dcrnn_train.py --config_filename=data/model/dcrnn_bay.yaml"
      ]
    },
    {
      "cell_type": "markdown",
      "metadata": {
        "id": "xeRyGzjdchZh"
      },
      "source": [
        "Eval Baseline Methods"
      ]
    },
    {
      "cell_type": "code",
      "execution_count": null,
      "metadata": {
        "colab": {
          "base_uri": "https://localhost:8080/"
        },
        "id": "xds4v6UPn0I0",
        "outputId": "67181e38-c9e5-48fa-86e5-9060e0cc2405"
      },
      "outputs": [
        {
          "name": "stdout",
          "output_type": "stream",
          "text": [
            "\u001b[33mWARNING: Ignoring invalid distribution -andas (/usr/local/lib/python3.7/dist-packages)\u001b[0m\n",
            "\u001b[33mWARNING: Ignoring invalid distribution -andas (/usr/local/lib/python3.7/dist-packages)\u001b[0m\n",
            "Collecting tables==3.5.1\n",
            "  Downloading tables-3.5.1-cp37-cp37m-manylinux1_x86_64.whl (4.3 MB)\n",
            "\u001b[K     |████████████████████████████████| 4.3 MB 11.1 MB/s \n",
            "\u001b[?25hCollecting mock>=2.0\n",
            "  Downloading mock-4.0.3-py3-none-any.whl (28 kB)\n",
            "Requirement already satisfied: six>=1.9.0 in /usr/local/lib/python3.7/dist-packages (from tables==3.5.1) (1.15.0)\n",
            "Requirement already satisfied: numpy>=1.9.3 in /usr/local/lib/python3.7/dist-packages (from tables==3.5.1) (1.19.5)\n",
            "Requirement already satisfied: numexpr>=2.6.2 in /usr/local/lib/python3.7/dist-packages (from tables==3.5.1) (2.7.3)\n",
            "\u001b[33mWARNING: Ignoring invalid distribution -andas (/usr/local/lib/python3.7/dist-packages)\u001b[0m\n",
            "Installing collected packages: mock, tables\n",
            "  Attempting uninstall: tables\n",
            "\u001b[33m    WARNING: Ignoring invalid distribution -andas (/usr/local/lib/python3.7/dist-packages)\u001b[0m\n",
            "    Found existing installation: tables 3.4.4\n",
            "    Uninstalling tables-3.4.4:\n",
            "      Successfully uninstalled tables-3.4.4\n",
            "\u001b[33mWARNING: Ignoring invalid distribution -andas (/usr/local/lib/python3.7/dist-packages)\u001b[0m\n",
            "\u001b[33mWARNING: Ignoring invalid distribution -andas (/usr/local/lib/python3.7/dist-packages)\u001b[0m\n",
            "Successfully installed mock-4.0.3 tables-3.5.1\n"
          ]
        }
      ],
      "source": [
        "!pip install tables==3.5.1"
      ]
    },
    {
      "cell_type": "code",
      "execution_count": null,
      "metadata": {
        "colab": {
          "base_uri": "https://localhost:8080/"
        },
        "id": "xKzLUzKOcjVJ",
        "outputId": "efb64601-ef79-482b-b060-c5ca9f0ebdb1"
      },
      "outputs": [
        {
          "name": "stdout",
          "output_type": "stream",
          "text": [
            "/usr/local/lib/python3.7/dist-packages/statsmodels/tools/_testing.py:19: FutureWarning: pandas.util.testing is deprecated. Use the functions in the public API at pandas.testing instead.\n",
            "  import pandas.util.testing as tm\n",
            "2021-12-27 11:36:32,045 - INFO - Log directory: data/model\n",
            "2021-12-27 11:36:32,794 - INFO - Static\n",
            "2021-12-27 11:36:32,794 - INFO - Model\tHorizon\tRMSE\tMAPE\tMAE\n",
            "2021-12-27 11:36:33,033 - INFO - Static\t1\t1.86\t1.86\t0.98\n",
            "2021-12-27 11:36:33,279 - INFO - Static\t3\t3.43\t3.24\t1.60\n",
            "2021-12-27 11:36:33,500 - INFO - Static\t6\t4.98\t4.65\t2.18\n",
            "2021-12-27 11:36:33,710 - INFO - Static\t12\t7.02\t6.84\t3.05\n",
            "2021-12-27 11:36:40,178 - INFO - Historical Average\n",
            "2021-12-27 11:36:40,178 - INFO - Model\tHorizon\tRMSE\tMAPE\tMAE\n",
            "2021-12-27 11:36:40,178 - INFO - HA\t1\t5.59\t6.76\t2.88\n",
            "2021-12-27 11:36:40,178 - INFO - HA\t3\t5.59\t6.76\t2.88\n",
            "2021-12-27 11:36:40,178 - INFO - HA\t6\t5.59\t6.76\t2.88\n",
            "2021-12-27 11:36:40,178 - INFO - HA\t12\t5.59\t6.76\t2.88\n",
            "2021-12-27 11:37:09,528 - INFO - VAR (lag=3)\n",
            "2021-12-27 11:37:09,528 - INFO - Model\tHorizon\tRMSE\tMAPE\tMAE\n",
            "2021-12-27 11:37:09,759 - INFO - VAR\t1\t1.75\t1.97\t1.02\n",
            "2021-12-27 11:37:09,974 - INFO - VAR\t3\t3.09\t3.59\t1.74\n",
            "2021-12-27 11:37:10,192 - INFO - VAR\t6\t4.15\t5.02\t2.33\n",
            "2021-12-27 11:37:10,405 - INFO - VAR\t12\t5.11\t6.46\t2.92\n"
          ]
        }
      ],
      "source": [
        "# METR-LA\n",
        "!python -m scripts.eval_baseline_methods --traffic_reading_filename=data/pems-bay.h5"
      ]
    }
  ],
  "metadata": {
    "accelerator": "GPU",
    "colab": {
      "collapsed_sections": [],
      "name": "DCRNN (2).ipynb",
      "provenance": []
    },
    "kernelspec": {
      "display_name": "Python 3",
      "name": "python3"
    },
    "language_info": {
      "name": "python"
    }
  },
  "nbformat": 4,
  "nbformat_minor": 0
}