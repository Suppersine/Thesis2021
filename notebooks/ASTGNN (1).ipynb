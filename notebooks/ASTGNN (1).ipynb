{
  "cells": [
    {
      "cell_type": "code",
      "execution_count": null,
      "metadata": {
        "colab": {
          "base_uri": "https://localhost:8080/"
        },
        "id": "V45bTg_2XE5i",
        "outputId": "52e85495-6319-4cfe-ea02-ba5e48cb78a1"
      },
      "outputs": [
        {
          "output_type": "stream",
          "name": "stdout",
          "text": [
            "Cloning into 'ASTGNN'...\n",
            "remote: Enumerating objects: 47, done.\u001b[K\n",
            "remote: Counting objects: 100% (10/10), done.\u001b[K\n",
            "remote: Compressing objects: 100% (8/8), done.\u001b[K\n",
            "remote: Total 47 (delta 4), reused 6 (delta 2), pack-reused 37\u001b[K\n",
            "Unpacking objects: 100% (47/47), done.\n"
          ]
        }
      ],
      "source": [
        "!git clone https://github.com/guoshnBJTU/ASTGNN.git"
      ]
    },
    {
      "cell_type": "code",
      "execution_count": null,
      "metadata": {
        "colab": {
          "base_uri": "https://localhost:8080/"
        },
        "id": "UE-b-PM8Xmxe",
        "outputId": "7d62f0d3-a263-4bec-b061-ef2e6bbdf262"
      },
      "outputs": [
        {
          "output_type": "stream",
          "name": "stdout",
          "text": [
            "/content/ASTGNN\n"
          ]
        }
      ],
      "source": [
        "%cd ASTGNN"
      ]
    },
    {
      "cell_type": "code",
      "execution_count": null,
      "metadata": {
        "colab": {
          "base_uri": "https://localhost:8080/"
        },
        "id": "xe0R7zDyX0df",
        "outputId": "0083eb1f-d5e7-40bc-9582-28bbc7cecf7a"
      },
      "outputs": [
        {
          "output_type": "stream",
          "name": "stdout",
          "text": [
            "Read configuration file: configurations/PEMS04.conf\n",
            "_max.shape: (1, 1, 3, 1)\n",
            "_min.shape: (1, 1, 3, 1)\n",
            "train x: (10181, 307, 3, 12)\n",
            "train target: (10181, 307, 12)\n",
            "train timestamp: (10181, 1)\n",
            "\n",
            "val x: (3394, 307, 3, 12)\n",
            "val target: (3394, 307, 12)\n",
            "val timestamp: (3394, 1)\n",
            "\n",
            "test x: (3394, 307, 3, 12)\n",
            "test target: (3394, 307, 12)\n",
            "test timestamp: (3394, 1)\n",
            "\n",
            "train data max : (1, 1, 3, 1) [[[[9.190e+02]\n",
            "   [7.716e-01]\n",
            "   [8.520e+01]]]]\n",
            "train data min : (1, 1, 3, 1) [[[[0.]\n",
            "   [0.]\n",
            "   [3.]]]]\n",
            "save file: data/PEMS04/PEMS04_r1_d0_w0\n"
          ]
        }
      ],
      "source": [
        "!python prepareData.py --config configurations/PEMS04.conf"
      ]
    },
    {
      "cell_type": "code",
      "execution_count": null,
      "metadata": {
        "colab": {
          "base_uri": "https://localhost:8080/"
        },
        "id": "NDB4ryvLXgUO",
        "outputId": "e5f06953-5ab4-48d7-fa29-b5c7d9ecc40a"
      },
      "outputs": [
        {
          "output_type": "stream",
          "name": "stdout",
          "text": [
            "Read configuration file: configurations/PEMS04_rdw.conf\n",
            "tcmalloc: large alloc 1587781632 bytes == 0x561eeb41a000 @  0x7f7099bbe1e7 0x7f70976fe46e 0x7f709774ec7b 0x7f709774ed18 0x7f70977f6010 0x7f70977f673c 0x7f70977f685d 0x561d8849a749 0x7f709773bef7 0x561d88498437 0x561d88498240 0x561d8850b973 0x561d885069ee 0x561d88499bda 0x561d88508737 0x561d885069ee 0x561d88499bda 0x561d88508737 0x561d885069ee 0x561d885066f3 0x561d885d04c2 0x561d885d083d 0x561d885d06e6 0x561d885a8163 0x561d885a7e0c 0x7f70989a8bf7 0x561d885a7cea\n",
            "_max.shape: (1, 1, 3, 1)\n",
            "_min.shape: (1, 1, 3, 1)\n",
            "tcmalloc: large alloc 1587781632 bytes == 0x561f88fd0000 @  0x7f7099bbe1e7 0x7f70976fe46e 0x7f709774ec7b 0x7f709774ed18 0x7f709780ad79 0x7f709780de4c 0x7f709792ce7f 0x7f7097932fb5 0x7f7097934e3d 0x7f7097936516 0x561d88499720 0x561d884992f9 0x7f70978150db 0x561d885820b2 0x561d8850862d 0x561d88506ced 0x561d88499bda 0x561d88507915 0x561d88506ced 0x561d88499bda 0x561d88507915 0x561d885069ee 0x561d88499bda 0x561d88508737 0x561d885069ee 0x561d885066f3 0x561d885d04c2 0x561d885d083d 0x561d885d06e6 0x561d885a8163 0x561d885a7e0c\n",
            "tcmalloc: large alloc 1587781632 bytes == 0x561fe7a0a000 @  0x7f7099bbe1e7 0x7f70976fe46e 0x7f709774ec7b 0x7f709774ed18 0x7f709780ad79 0x7f709780de4c 0x7f709792ce7f 0x7f7097932fb5 0x7f7097934e3d 0x7f7097936516 0x561d88499720 0x561d884992f9 0x7f70978154d8 0x561d8847b933 0x561d88582496 0x561d8850984a 0x561d88506ced 0x561d88499bda 0x561d88507915 0x561d88506ced 0x561d88499bda 0x561d88507915 0x561d885069ee 0x561d88499bda 0x561d88508737 0x561d885069ee 0x561d885066f3 0x561d885d04c2 0x561d885d083d 0x561d885d06e6 0x561d885a8163\n",
            "tcmalloc: large alloc 1587781632 bytes == 0x561f88fd0000 @  0x7f7099bbe1e7 0x7f70976fe46e 0x7f709774ec7b 0x7f709774ed18 0x7f709780ad79 0x7f709780de4c 0x7f709792ce7f 0x7f7097932fb5 0x7f7097934e3d 0x7f7097936516 0x561d88499720 0x561d884992f9 0x7f7097814e6b 0x561d88581698 0x561d88508a2e 0x561d88506ced 0x561d88499bda 0x561d88507915 0x561d88506ced 0x561d88499bda 0x561d88507915 0x561d885069ee 0x561d88499bda 0x561d88508737 0x561d885069ee 0x561d885066f3 0x561d885d04c2 0x561d885d083d 0x561d885d06e6 0x561d885a8163 0x561d885a7e0c\n",
            "train x: (8979, 307, 3, 24)\n",
            "train target: (8979, 307, 12)\n",
            "train timestamp: (8979, 1)\n",
            "\n",
            "val x: (2993, 307, 3, 24)\n",
            "val target: (2993, 307, 12)\n",
            "val timestamp: (2993, 1)\n",
            "\n",
            "test x: (2993, 307, 3, 24)\n",
            "test target: (2993, 307, 12)\n",
            "test timestamp: (2993, 1)\n",
            "\n",
            "train data max : (1, 1, 3, 1) [[[[9.190e+02]\n",
            "   [7.716e-01]\n",
            "   [8.520e+01]]]]\n",
            "train data min : (1, 1, 3, 1) [[[[0.]\n",
            "   [0.]\n",
            "   [3.]]]]\n",
            "save file: data/PEMS04/PEMS04_r1_d0_w1\n"
          ]
        }
      ],
      "source": [
        "!python prepareData.py --config configurations/PEMS04_rdw.conf"
      ]
    },
    {
      "cell_type": "code",
      "source": [
        "!pip install tensorboardX"
      ],
      "metadata": {
        "colab": {
          "base_uri": "https://localhost:8080/"
        },
        "id": "AMFhKC_1arYn",
        "outputId": "9aa50468-4ccb-4a6b-9e13-24ff73840706"
      },
      "execution_count": null,
      "outputs": [
        {
          "output_type": "stream",
          "name": "stdout",
          "text": [
            "Collecting tensorboardX\n",
            "  Downloading tensorboardX-2.4.1-py2.py3-none-any.whl (124 kB)\n",
            "\u001b[?25l\r\u001b[K     |██▋                             | 10 kB 16.3 MB/s eta 0:00:01\r\u001b[K     |█████▎                          | 20 kB 21.1 MB/s eta 0:00:01\r\u001b[K     |███████▉                        | 30 kB 18.5 MB/s eta 0:00:01\r\u001b[K     |██████████▌                     | 40 kB 15.6 MB/s eta 0:00:01\r\u001b[K     |█████████████▏                  | 51 kB 5.7 MB/s eta 0:00:01\r\u001b[K     |███████████████▊                | 61 kB 6.2 MB/s eta 0:00:01\r\u001b[K     |██████████████████▍             | 71 kB 5.6 MB/s eta 0:00:01\r\u001b[K     |█████████████████████           | 81 kB 6.2 MB/s eta 0:00:01\r\u001b[K     |███████████████████████▋        | 92 kB 6.6 MB/s eta 0:00:01\r\u001b[K     |██████████████████████████▎     | 102 kB 5.4 MB/s eta 0:00:01\r\u001b[K     |█████████████████████████████   | 112 kB 5.4 MB/s eta 0:00:01\r\u001b[K     |███████████████████████████████▌| 122 kB 5.4 MB/s eta 0:00:01\r\u001b[K     |████████████████████████████████| 124 kB 5.4 MB/s \n",
            "\u001b[?25hRequirement already satisfied: protobuf>=3.8.0 in /usr/local/lib/python3.7/dist-packages (from tensorboardX) (3.17.3)\n",
            "Requirement already satisfied: numpy in /usr/local/lib/python3.7/dist-packages (from tensorboardX) (1.19.5)\n",
            "Requirement already satisfied: six>=1.9 in /usr/local/lib/python3.7/dist-packages (from protobuf>=3.8.0->tensorboardX) (1.15.0)\n",
            "Installing collected packages: tensorboardX\n",
            "Successfully installed tensorboardX-2.4.1\n"
          ]
        }
      ]
    },
    {
      "cell_type": "markdown",
      "source": [
        "The model may run a dataset per GPU at a time"
      ],
      "metadata": {
        "id": "ZCkix_0JbIXX"
      }
    },
    {
      "cell_type": "code",
      "source": [
        "!nvidia-smi"
      ],
      "metadata": {
        "colab": {
          "base_uri": "https://localhost:8080/"
        },
        "id": "0LhzNSugbRIv",
        "outputId": "0dafc0d9-04b2-4dd2-b995-adb618a191b3"
      },
      "execution_count": null,
      "outputs": [
        {
          "output_type": "stream",
          "name": "stdout",
          "text": [
            "Wed Dec 29 04:30:23 2021       \n",
            "+-----------------------------------------------------------------------------+\n",
            "| NVIDIA-SMI 495.44       Driver Version: 460.32.03    CUDA Version: 11.2     |\n",
            "|-------------------------------+----------------------+----------------------+\n",
            "| GPU  Name        Persistence-M| Bus-Id        Disp.A | Volatile Uncorr. ECC |\n",
            "| Fan  Temp  Perf  Pwr:Usage/Cap|         Memory-Usage | GPU-Util  Compute M. |\n",
            "|                               |                      |               MIG M. |\n",
            "|===============================+======================+======================|\n",
            "|   0  Tesla K80           Off  | 00000000:00:04.0 Off |                    0 |\n",
            "| N/A   57C    P8    31W / 149W |      0MiB / 11441MiB |      0%      Default |\n",
            "|                               |                      |                  N/A |\n",
            "+-------------------------------+----------------------+----------------------+\n",
            "                                                                               \n",
            "+-----------------------------------------------------------------------------+\n",
            "| Processes:                                                                  |\n",
            "|  GPU   GI   CI        PID   Type   Process name                  GPU Memory |\n",
            "|        ID   ID                                                   Usage      |\n",
            "|=============================================================================|\n",
            "|  No running processes found                                                 |\n",
            "+-----------------------------------------------------------------------------+\n"
          ]
        }
      ]
    },
    {
      "cell_type": "code",
      "execution_count": null,
      "metadata": {
        "id": "ylSPkuDQXtnO"
      },
      "outputs": [],
      "source": [
        "!python -u train_ASTGNN.py --config configurations/PEMS04.conf --cuda=0 > pems04.out &"
      ]
    },
    {
      "cell_type": "code",
      "execution_count": null,
      "metadata": {
        "id": "b47-DpWVX7qe"
      },
      "outputs": [],
      "source": [
        "!python -u train_ASTGNN.py --config configurations/PEMS04_rdw.conf --cuda=0 > pems04_rdw.out &"
      ]
    }
  ],
  "metadata": {
    "colab": {
      "name": "ASTGNN.ipynb",
      "provenance": [],
      "collapsed_sections": []
    },
    "kernelspec": {
      "display_name": "Python 3",
      "name": "python3"
    },
    "language_info": {
      "name": "python"
    },
    "accelerator": "GPU"
  },
  "nbformat": 4,
  "nbformat_minor": 0
}