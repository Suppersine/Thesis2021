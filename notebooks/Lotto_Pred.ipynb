{
  "nbformat": 4,
  "nbformat_minor": 0,
  "metadata": {
    "colab": {
      "name": "Lotto_Pred.ipynb",
      "provenance": [],
      "collapsed_sections": []
    },
    "kernelspec": {
      "name": "python3",
      "display_name": "Python 3"
    },
    "language_info": {
      "name": "python"
    },
    "accelerator": "TPU"
  },
  "cells": [
    {
      "cell_type": "markdown",
      "metadata": {
        "id": "jrkmeQhXLnW8"
      },
      "source": [
        "# Run this notebook under a TPU environment\n",
        "\n",
        "Imported required libraries and check their versions"
      ]
    },
    {
      "cell_type": "code",
      "metadata": {
        "colab": {
          "base_uri": "https://localhost:8080/"
        },
        "id": "E11hgmANLWXL",
        "outputId": "7f904229-036f-45f6-fc5c-4e75ba8ca792"
      },
      "source": [
        "import gc\n",
        "import os\n",
        "import math\n",
        "import numpy as np\n",
        "import pandas as pd\n",
        "from numba import njit\n",
        "from numpy import sqrt, sin, cos, pi, zeros\n",
        "from numpy.random import randn, rand, uniform, normal\n",
        "from scipy.linalg import hadamard\n",
        "import tensorflow as tf\n",
        "from tensorflow.keras.utils import plot_model\n",
        "from tensorflow.keras.models import Model, Sequential\n",
        "from tensorflow.keras.layers import Input, Dense, Activation, LSTM, Dropout, RepeatVector, TimeDistributed, Embedding, Reshape, Dot, Concatenate\n",
        "from tensorflow.keras.layers import GRU, SpatialDropout1D, Conv1D, GlobalMaxPooling1D,Multiply, Lambda, Softmax, Flatten, BatchNormalization, Bidirectional, dot, concatenate\n",
        "from tensorflow.keras.layers import AdditiveAttention, Attention\n",
        "from tensorflow.keras.activations import relu\n",
        "from tensorflow.keras.optimizers import Adam\n",
        "from tensorflow.keras import callbacks\n",
        "from tensorflow.keras import backend\n",
        "from tensorflow.keras.utils import plot_model\n",
        "from tensorflow.keras.metrics import MeanSquaredError\n",
        "from sklearn.preprocessing import StandardScaler\n",
        "import matplotlib.pyplot as plt\n",
        "from tqdm.notebook import tqdm\n",
        "\n",
        "%matplotlib inline\n",
        "\n",
        "print(\"Tensorflow version \" + tf.__version__)\n",
        "AUTO = tf.data.experimental.AUTOTUNE"
      ],
      "execution_count": 1,
      "outputs": [
        {
          "output_type": "stream",
          "name": "stdout",
          "text": [
            "Tensorflow version 2.6.0\n"
          ]
        }
      ]
    },
    {
      "cell_type": "markdown",
      "metadata": {
        "id": "nsheDyM1QRuP"
      },
      "source": [
        "Detect hardware if TPU exists"
      ]
    },
    {
      "cell_type": "code",
      "metadata": {
        "colab": {
          "base_uri": "https://localhost:8080/"
        },
        "id": "SZyN7t8xLsib",
        "outputId": "e1164e5f-cf66-4128-a620-ea13190d2cca"
      },
      "source": [
        "# Detect hardware, return appropriate distribution strategy\n",
        "try:\n",
        "    tpu = tf.distribute.cluster_resolver.TPUClusterResolver()  # TPU detection. No parameters necessary if TPU_NAME environment variable is set. On Kaggle this is always the case.\n",
        "    print('Running on TPU ', tpu.master())\n",
        "except ValueError:\n",
        "    tpu = None\n",
        "\n",
        "if tpu:\n",
        "    tf.config.experimental_connect_to_cluster(tpu)\n",
        "    tf.tpu.experimental.initialize_tpu_system(tpu)\n",
        "    strategy = tf.distribute.experimental.TPUStrategy(tpu)\n",
        "else:\n",
        "    strategy = tf.distribute.get_strategy() # default distribution strategy in Tensorflow. Works on CPU and single GPU.\n",
        "\n",
        "print(\"REPLICAS: \", strategy.num_replicas_in_sync)"
      ],
      "execution_count": 2,
      "outputs": [
        {
          "output_type": "stream",
          "name": "stdout",
          "text": [
            "Running on TPU  grpc://10.78.73.18:8470\n",
            "INFO:tensorflow:Clearing out eager caches\n"
          ]
        },
        {
          "output_type": "stream",
          "name": "stderr",
          "text": [
            "INFO:tensorflow:Clearing out eager caches\n"
          ]
        },
        {
          "output_type": "stream",
          "name": "stdout",
          "text": [
            "INFO:tensorflow:Initializing the TPU system: grpc://10.78.73.18:8470\n"
          ]
        },
        {
          "output_type": "stream",
          "name": "stderr",
          "text": [
            "INFO:tensorflow:Initializing the TPU system: grpc://10.78.73.18:8470\n"
          ]
        },
        {
          "output_type": "stream",
          "name": "stdout",
          "text": [
            "INFO:tensorflow:Finished initializing TPU system.\n"
          ]
        },
        {
          "output_type": "stream",
          "name": "stderr",
          "text": [
            "INFO:tensorflow:Finished initializing TPU system.\n",
            "WARNING:absl:`tf.distribute.experimental.TPUStrategy` is deprecated, please use  the non experimental symbol `tf.distribute.TPUStrategy` instead.\n"
          ]
        },
        {
          "output_type": "stream",
          "name": "stdout",
          "text": [
            "INFO:tensorflow:Found TPU system:\n"
          ]
        },
        {
          "output_type": "stream",
          "name": "stderr",
          "text": [
            "INFO:tensorflow:Found TPU system:\n"
          ]
        },
        {
          "output_type": "stream",
          "name": "stdout",
          "text": [
            "INFO:tensorflow:*** Num TPU Cores: 8\n"
          ]
        },
        {
          "output_type": "stream",
          "name": "stderr",
          "text": [
            "INFO:tensorflow:*** Num TPU Cores: 8\n"
          ]
        },
        {
          "output_type": "stream",
          "name": "stdout",
          "text": [
            "INFO:tensorflow:*** Num TPU Workers: 1\n"
          ]
        },
        {
          "output_type": "stream",
          "name": "stderr",
          "text": [
            "INFO:tensorflow:*** Num TPU Workers: 1\n"
          ]
        },
        {
          "output_type": "stream",
          "name": "stdout",
          "text": [
            "INFO:tensorflow:*** Num TPU Cores Per Worker: 8\n"
          ]
        },
        {
          "output_type": "stream",
          "name": "stderr",
          "text": [
            "INFO:tensorflow:*** Num TPU Cores Per Worker: 8\n"
          ]
        },
        {
          "output_type": "stream",
          "name": "stdout",
          "text": [
            "INFO:tensorflow:*** Available Device: _DeviceAttributes(/job:localhost/replica:0/task:0/device:CPU:0, CPU, 0, 0)\n"
          ]
        },
        {
          "output_type": "stream",
          "name": "stderr",
          "text": [
            "INFO:tensorflow:*** Available Device: _DeviceAttributes(/job:localhost/replica:0/task:0/device:CPU:0, CPU, 0, 0)\n"
          ]
        },
        {
          "output_type": "stream",
          "name": "stdout",
          "text": [
            "INFO:tensorflow:*** Available Device: _DeviceAttributes(/job:worker/replica:0/task:0/device:CPU:0, CPU, 0, 0)\n"
          ]
        },
        {
          "output_type": "stream",
          "name": "stderr",
          "text": [
            "INFO:tensorflow:*** Available Device: _DeviceAttributes(/job:worker/replica:0/task:0/device:CPU:0, CPU, 0, 0)\n"
          ]
        },
        {
          "output_type": "stream",
          "name": "stdout",
          "text": [
            "INFO:tensorflow:*** Available Device: _DeviceAttributes(/job:worker/replica:0/task:0/device:TPU:0, TPU, 0, 0)\n"
          ]
        },
        {
          "output_type": "stream",
          "name": "stderr",
          "text": [
            "INFO:tensorflow:*** Available Device: _DeviceAttributes(/job:worker/replica:0/task:0/device:TPU:0, TPU, 0, 0)\n"
          ]
        },
        {
          "output_type": "stream",
          "name": "stdout",
          "text": [
            "INFO:tensorflow:*** Available Device: _DeviceAttributes(/job:worker/replica:0/task:0/device:TPU:1, TPU, 0, 0)\n"
          ]
        },
        {
          "output_type": "stream",
          "name": "stderr",
          "text": [
            "INFO:tensorflow:*** Available Device: _DeviceAttributes(/job:worker/replica:0/task:0/device:TPU:1, TPU, 0, 0)\n"
          ]
        },
        {
          "output_type": "stream",
          "name": "stdout",
          "text": [
            "INFO:tensorflow:*** Available Device: _DeviceAttributes(/job:worker/replica:0/task:0/device:TPU:2, TPU, 0, 0)\n"
          ]
        },
        {
          "output_type": "stream",
          "name": "stderr",
          "text": [
            "INFO:tensorflow:*** Available Device: _DeviceAttributes(/job:worker/replica:0/task:0/device:TPU:2, TPU, 0, 0)\n"
          ]
        },
        {
          "output_type": "stream",
          "name": "stdout",
          "text": [
            "INFO:tensorflow:*** Available Device: _DeviceAttributes(/job:worker/replica:0/task:0/device:TPU:3, TPU, 0, 0)\n"
          ]
        },
        {
          "output_type": "stream",
          "name": "stderr",
          "text": [
            "INFO:tensorflow:*** Available Device: _DeviceAttributes(/job:worker/replica:0/task:0/device:TPU:3, TPU, 0, 0)\n"
          ]
        },
        {
          "output_type": "stream",
          "name": "stdout",
          "text": [
            "INFO:tensorflow:*** Available Device: _DeviceAttributes(/job:worker/replica:0/task:0/device:TPU:4, TPU, 0, 0)\n"
          ]
        },
        {
          "output_type": "stream",
          "name": "stderr",
          "text": [
            "INFO:tensorflow:*** Available Device: _DeviceAttributes(/job:worker/replica:0/task:0/device:TPU:4, TPU, 0, 0)\n"
          ]
        },
        {
          "output_type": "stream",
          "name": "stdout",
          "text": [
            "INFO:tensorflow:*** Available Device: _DeviceAttributes(/job:worker/replica:0/task:0/device:TPU:5, TPU, 0, 0)\n"
          ]
        },
        {
          "output_type": "stream",
          "name": "stderr",
          "text": [
            "INFO:tensorflow:*** Available Device: _DeviceAttributes(/job:worker/replica:0/task:0/device:TPU:5, TPU, 0, 0)\n"
          ]
        },
        {
          "output_type": "stream",
          "name": "stdout",
          "text": [
            "INFO:tensorflow:*** Available Device: _DeviceAttributes(/job:worker/replica:0/task:0/device:TPU:6, TPU, 0, 0)\n"
          ]
        },
        {
          "output_type": "stream",
          "name": "stderr",
          "text": [
            "INFO:tensorflow:*** Available Device: _DeviceAttributes(/job:worker/replica:0/task:0/device:TPU:6, TPU, 0, 0)\n"
          ]
        },
        {
          "output_type": "stream",
          "name": "stdout",
          "text": [
            "INFO:tensorflow:*** Available Device: _DeviceAttributes(/job:worker/replica:0/task:0/device:TPU:7, TPU, 0, 0)\n"
          ]
        },
        {
          "output_type": "stream",
          "name": "stderr",
          "text": [
            "INFO:tensorflow:*** Available Device: _DeviceAttributes(/job:worker/replica:0/task:0/device:TPU:7, TPU, 0, 0)\n"
          ]
        },
        {
          "output_type": "stream",
          "name": "stdout",
          "text": [
            "INFO:tensorflow:*** Available Device: _DeviceAttributes(/job:worker/replica:0/task:0/device:TPU_SYSTEM:0, TPU_SYSTEM, 0, 0)\n"
          ]
        },
        {
          "output_type": "stream",
          "name": "stderr",
          "text": [
            "INFO:tensorflow:*** Available Device: _DeviceAttributes(/job:worker/replica:0/task:0/device:TPU_SYSTEM:0, TPU_SYSTEM, 0, 0)\n"
          ]
        },
        {
          "output_type": "stream",
          "name": "stdout",
          "text": [
            "INFO:tensorflow:*** Available Device: _DeviceAttributes(/job:worker/replica:0/task:0/device:XLA_CPU:0, XLA_CPU, 0, 0)\n"
          ]
        },
        {
          "output_type": "stream",
          "name": "stderr",
          "text": [
            "INFO:tensorflow:*** Available Device: _DeviceAttributes(/job:worker/replica:0/task:0/device:XLA_CPU:0, XLA_CPU, 0, 0)\n"
          ]
        },
        {
          "output_type": "stream",
          "name": "stdout",
          "text": [
            "REPLICAS:  8\n"
          ]
        }
      ]
    },
    {
      "cell_type": "markdown",
      "metadata": {
        "id": "BesencHlQYSn"
      },
      "source": [
        "Read the csv file. Otherwise follow its link, download it and upload it to the left console manually."
      ]
    },
    {
      "cell_type": "code",
      "metadata": {
        "colab": {
          "base_uri": "https://localhost:8080/"
        },
        "id": "i2p7fKxQL8oZ",
        "outputId": "e30181a8-9dbd-40bd-d35f-2330e32bba3f"
      },
      "source": [
        "!wget https://www.mediafire.com/file/atjoiman6jfuhp0/lotto_history.csv/file\n",
        "lotto = pd.read_csv('lotto_history.csv', index_col = 'Date')\n",
        "print(lotto)"
      ],
      "execution_count": 6,
      "outputs": [
        {
          "output_type": "stream",
          "name": "stdout",
          "text": [
            "--2021-08-31 08:05:44--  https://drive.google.com/file/d/10r5Nar7yQtGFk-src7lqPz7AjmCev2GO/view?usp=sharing\n",
            "Resolving drive.google.com (drive.google.com)... 172.217.219.138, 172.217.219.100, 172.217.219.102, ...\n",
            "Connecting to drive.google.com (drive.google.com)|172.217.219.138|:443... connected.\n",
            "HTTP request sent, awaiting response... 302 Moved Temporarily\n",
            "Location: https://accounts.google.com/ServiceLogin?service=wise&passive=1209600&continue=https://drive.google.com/file/d/10r5Nar7yQtGFk-src7lqPz7AjmCev2GO/view?usp%3Dsharing&followup=https://drive.google.com/file/d/10r5Nar7yQtGFk-src7lqPz7AjmCev2GO/view?usp%3Dsharing [following]\n",
            "--2021-08-31 08:05:44--  https://accounts.google.com/ServiceLogin?service=wise&passive=1209600&continue=https://drive.google.com/file/d/10r5Nar7yQtGFk-src7lqPz7AjmCev2GO/view?usp%3Dsharing&followup=https://drive.google.com/file/d/10r5Nar7yQtGFk-src7lqPz7AjmCev2GO/view?usp%3Dsharing\n",
            "Resolving accounts.google.com (accounts.google.com)... 142.250.125.84, 2607:f8b0:4001:c0e::54\n",
            "Connecting to accounts.google.com (accounts.google.com)|142.250.125.84|:443... connected.\n",
            "HTTP request sent, awaiting response... 200 OK\n",
            "Length: unspecified [text/html]\n",
            "Saving to: ‘view?usp=sharing.1’\n",
            "\n",
            "view?usp=sharing.1      [ <=>                ]  90.11K  --.-KB/s    in 0.002s  \n",
            "\n",
            "2021-08-31 08:05:44 (39.3 MB/s) - ‘view?usp=sharing.1’ saved [92270]\n",
            "\n",
            "            Ball_1  Ball_2  Ball_3  Ball_4  Ball_5  Ball_6  Ball_Bonus\n",
            "Date                                                                  \n",
            "2016-01-02      12      25      29      40      48      56          52\n",
            "2016-01-06       8      30      40      50      54      57          13\n",
            "2016-01-09      26      27      46      47      52      58          48\n",
            "2016-01-13       4      12      38      46      57      59           8\n",
            "2016-01-16       1       8      12      25      43      52          38\n",
            "...            ...     ...     ...     ...     ...     ...         ...\n",
            "2020-08-08       2      40      49      53      56      58          41\n",
            "2020-08-12       6       8      27      31      37      51          20\n",
            "2020-08-15      10      14      16      22      25      34          21\n",
            "2020-08-19      21      22      32      36      45      50           5\n",
            "2020-08-22      19      23      24      28      37      51          12\n",
            "\n",
            "[485 rows x 7 columns]\n"
          ]
        }
      ]
    },
    {
      "cell_type": "markdown",
      "metadata": {
        "id": "1PaqGHdjQz3m"
      },
      "source": [
        "Train-test split"
      ]
    },
    {
      "cell_type": "code",
      "metadata": {
        "colab": {
          "base_uri": "https://localhost:8080/"
        },
        "id": "ZcR_k5i7QB2R",
        "outputId": "93c31b54-adc2-445f-ce76-0acfcddcdd32"
      },
      "source": [
        "data = lotto.values - 1\n",
        "train = data[:-50]\n",
        "test = data[-50:]\n",
        "\n",
        "w = 10\n",
        "X_train = []\n",
        "y_train = []\n",
        "for i in range(w, len(train)):\n",
        "    X_train.append(train[i - w: i, :])\n",
        "    y_train.append(train[i])\n",
        "X_train, y_train = np.array(X_train), np.array(y_train)\n",
        "\n",
        "inputs = data[data.shape[0] - test.shape[0] - w:]\n",
        "X_test = []\n",
        "for i in range(w, inputs.shape[0]):\n",
        "    X_test.append(inputs[i - w: i, :])\n",
        "X_test = np.array(X_test)\n",
        "y_test = test\n",
        "\n",
        "print(data.shape)\n",
        "print(X_train.shape)\n",
        "print(y_train.shape)\n",
        "print(X_test.shape)\n",
        "print(y_test.shape)"
      ],
      "execution_count": 7,
      "outputs": [
        {
          "output_type": "stream",
          "name": "stdout",
          "text": [
            "(485, 7)\n",
            "(425, 10, 7)\n",
            "(425, 7)\n",
            "(50, 10, 7)\n",
            "(50, 7)\n"
          ]
        }
      ]
    },
    {
      "cell_type": "markdown",
      "metadata": {
        "id": "KaI3XzouRSpt"
      },
      "source": [
        "Seq2Seq Model to Predict Future Draws"
      ]
    },
    {
      "cell_type": "code",
      "metadata": {
        "colab": {
          "base_uri": "https://localhost:8080/"
        },
        "id": "FI67dDMARPnW",
        "outputId": "3c388902-15cd-4a19-fec9-67d57128857a"
      },
      "source": [
        "embed_dim = (59 // 2) + 1\n",
        "dropout_rate = 0.5\n",
        "spatial_dropout_rate = 0.5\n",
        "steps_before = w\n",
        "steps_after = 7\n",
        "feature_count = embed_dim * 7\n",
        "hidden_neurons = [64, 32] \n",
        "bidirectional = True \n",
        "attention_style = 'Bahdanau'\n",
        "\n",
        "#%%\n",
        "\n",
        "with strategy.scope():\n",
        "    \n",
        "    inp0 = Input(shape = (w, X_train.shape[2]))\n",
        "    \n",
        "    # Embed 59 categories into a 30-dimension continuous-number vector for each ball\n",
        "    inp1 = Lambda(lambda x: x[:, :, 0])(inp0)\n",
        "    inp1 = Embedding(59, embed_dim)(inp1)\n",
        "    inp1 = SpatialDropout1D(spatial_dropout_rate)(inp1)\n",
        "    \n",
        "    inp2 = Lambda(lambda x: x[:, :, 1])(inp0)\n",
        "    inp2 = Embedding(59, embed_dim)(inp2)\n",
        "    inp2 = SpatialDropout1D(spatial_dropout_rate)(inp2)\n",
        "    \n",
        "    inp3 = Lambda(lambda x: x[:, :, 2])(inp0)\n",
        "    inp3 = Embedding(59, embed_dim)(inp3)\n",
        "    inp3 = SpatialDropout1D(spatial_dropout_rate)(inp3)\n",
        "    \n",
        "    inp4 = Lambda(lambda x: x[:, :, 3])(inp0)\n",
        "    inp4 = Embedding(59, embed_dim)(inp4)\n",
        "    inp4 = SpatialDropout1D(spatial_dropout_rate)(inp4)\n",
        "    \n",
        "    inp5 = Lambda(lambda x: x[:, :, 4])(inp0)\n",
        "    inp5 = Embedding(59, embed_dim)(inp5)\n",
        "    inp5 = SpatialDropout1D(spatial_dropout_rate)(inp5)    \n",
        "    \n",
        "    inp6 = Lambda(lambda x: x[:, :, 5])(inp0)\n",
        "    inp6 = Embedding(59, embed_dim)(inp6)\n",
        "    inp6 = SpatialDropout1D(spatial_dropout_rate)(inp6)\n",
        "    \n",
        "    inp7 = Lambda(lambda x: x[:, :, 6])(inp0)\n",
        "    inp7 = Embedding(59, embed_dim)(inp7)\n",
        "    inp7 = SpatialDropout1D(spatial_dropout_rate)(inp7)\n",
        "    \n",
        "    inp = Concatenate()([inp1, inp2, inp3, inp4, inp5, inp6, inp7])\n",
        "    \n",
        "    # Seq2Seq model with attention or bidirectional encoder\n",
        "    \n",
        "    num_layers = len(hidden_neurons)\n",
        "    \n",
        "    sh_list, h_list, c_list = [inp], [], []\n",
        "    \n",
        "    if bidirectional:\n",
        "        \n",
        "        for i in range(num_layers):\n",
        "    \n",
        "            sh, fh, fc, bh, bc = Bidirectional(LSTM(hidden_neurons[i],\n",
        "                                                    dropout = dropout_rate, \n",
        "                                                    return_state = True, \n",
        "                                                    return_sequences = True))(sh_list[-1])\n",
        "        \n",
        "            h = Concatenate()([fh, bh])\n",
        "            c = Concatenate()([fc, bc]) \n",
        "\n",
        "            sh_list.append(sh)\n",
        "            h_list.append(h)\n",
        "            c_list.append(c)\n",
        "        \n",
        "    else:\n",
        "    \n",
        "        for i in range(num_layers):\n",
        "\n",
        "            sh, h, c = LSTM(hidden_neurons[i], \n",
        "                            dropout = dropout_rate,\n",
        "                            return_state = True, \n",
        "                            return_sequences = True)(sh_list[-1])\n",
        "\n",
        "            sh_list.append(sh)\n",
        "            h_list.append(h)\n",
        "            c_list.append(c)\n",
        "    \n",
        "    decoder = RepeatVector(steps_after)(h_list[-1])\n",
        "    \n",
        "    if bidirectional:\n",
        "        \n",
        "        decoder_hidden_neurons = [hn * 2 for hn in hidden_neurons]\n",
        "        \n",
        "    else:\n",
        "        \n",
        "        decoder_hidden_neurons = hidden_neurons\n",
        "    \n",
        "    for i in range(num_layers):\n",
        "        \n",
        "        decoder = LSTM(decoder_hidden_neurons[i],\n",
        "                       dropout = dropout_rate, \n",
        "                       return_sequences = True)(decoder, initial_state = [h_list[i], c_list[i]])\n",
        "       \n",
        "    if attention_style == 'Bahdanau':\n",
        "        \n",
        "        context = AdditiveAttention(dropout = dropout_rate)([decoder, sh_list[-1]])\n",
        "        \n",
        "        decoder = concatenate([context, decoder])\n",
        "        \n",
        "    elif attention_style == 'Luong':\n",
        "        \n",
        "        context = Attention(dropout = dropout_rate)([decoder, sh_list[-1]])\n",
        "        \n",
        "        decoder = concatenate([context, decoder])\n",
        "    \n",
        "    out = Dense(59, activation = 'softmax')(decoder)\n",
        "\n",
        "    model = Model(inputs = inp0, outputs = out)\n",
        "    \n",
        "    sparse_top_k = tf.keras.metrics.SparseTopKCategoricalAccuracy(k = 5, name = 'sparse_top_k')\n",
        "\n",
        "    model.compile(optimizer = 'adam', loss = 'sparse_categorical_crossentropy', metrics = [sparse_top_k])\n",
        "\n",
        "    #%%\n",
        "\n",
        "    model.summary()"
      ],
      "execution_count": 9,
      "outputs": [
        {
          "output_type": "stream",
          "name": "stdout",
          "text": [
            "Model: \"model\"\n",
            "__________________________________________________________________________________________________\n",
            "Layer (type)                    Output Shape         Param #     Connected to                     \n",
            "==================================================================================================\n",
            "input_1 (InputLayer)            [(None, 10, 7)]      0                                            \n",
            "__________________________________________________________________________________________________\n",
            "lambda (Lambda)                 (None, 10)           0           input_1[0][0]                    \n",
            "__________________________________________________________________________________________________\n",
            "lambda_1 (Lambda)               (None, 10)           0           input_1[0][0]                    \n",
            "__________________________________________________________________________________________________\n",
            "lambda_2 (Lambda)               (None, 10)           0           input_1[0][0]                    \n",
            "__________________________________________________________________________________________________\n",
            "lambda_3 (Lambda)               (None, 10)           0           input_1[0][0]                    \n",
            "__________________________________________________________________________________________________\n",
            "lambda_4 (Lambda)               (None, 10)           0           input_1[0][0]                    \n",
            "__________________________________________________________________________________________________\n",
            "lambda_5 (Lambda)               (None, 10)           0           input_1[0][0]                    \n",
            "__________________________________________________________________________________________________\n",
            "lambda_6 (Lambda)               (None, 10)           0           input_1[0][0]                    \n",
            "__________________________________________________________________________________________________\n",
            "embedding (Embedding)           (None, 10, 30)       1770        lambda[0][0]                     \n",
            "__________________________________________________________________________________________________\n",
            "embedding_1 (Embedding)         (None, 10, 30)       1770        lambda_1[0][0]                   \n",
            "__________________________________________________________________________________________________\n",
            "embedding_2 (Embedding)         (None, 10, 30)       1770        lambda_2[0][0]                   \n",
            "__________________________________________________________________________________________________\n",
            "embedding_3 (Embedding)         (None, 10, 30)       1770        lambda_3[0][0]                   \n",
            "__________________________________________________________________________________________________\n",
            "embedding_4 (Embedding)         (None, 10, 30)       1770        lambda_4[0][0]                   \n",
            "__________________________________________________________________________________________________\n",
            "embedding_5 (Embedding)         (None, 10, 30)       1770        lambda_5[0][0]                   \n",
            "__________________________________________________________________________________________________\n",
            "embedding_6 (Embedding)         (None, 10, 30)       1770        lambda_6[0][0]                   \n",
            "__________________________________________________________________________________________________\n",
            "spatial_dropout1d (SpatialDropo (None, 10, 30)       0           embedding[0][0]                  \n",
            "__________________________________________________________________________________________________\n",
            "spatial_dropout1d_1 (SpatialDro (None, 10, 30)       0           embedding_1[0][0]                \n",
            "__________________________________________________________________________________________________\n",
            "spatial_dropout1d_2 (SpatialDro (None, 10, 30)       0           embedding_2[0][0]                \n",
            "__________________________________________________________________________________________________\n",
            "spatial_dropout1d_3 (SpatialDro (None, 10, 30)       0           embedding_3[0][0]                \n",
            "__________________________________________________________________________________________________\n",
            "spatial_dropout1d_4 (SpatialDro (None, 10, 30)       0           embedding_4[0][0]                \n",
            "__________________________________________________________________________________________________\n",
            "spatial_dropout1d_5 (SpatialDro (None, 10, 30)       0           embedding_5[0][0]                \n",
            "__________________________________________________________________________________________________\n",
            "spatial_dropout1d_6 (SpatialDro (None, 10, 30)       0           embedding_6[0][0]                \n",
            "__________________________________________________________________________________________________\n",
            "concatenate (Concatenate)       (None, 10, 210)      0           spatial_dropout1d[0][0]          \n",
            "                                                                 spatial_dropout1d_1[0][0]        \n",
            "                                                                 spatial_dropout1d_2[0][0]        \n",
            "                                                                 spatial_dropout1d_3[0][0]        \n",
            "                                                                 spatial_dropout1d_4[0][0]        \n",
            "                                                                 spatial_dropout1d_5[0][0]        \n",
            "                                                                 spatial_dropout1d_6[0][0]        \n",
            "__________________________________________________________________________________________________\n",
            "bidirectional (Bidirectional)   [(None, 10, 128), (N 140800      concatenate[0][0]                \n",
            "__________________________________________________________________________________________________\n",
            "bidirectional_1 (Bidirectional) [(None, 10, 64), (No 41216       bidirectional[0][0]              \n",
            "__________________________________________________________________________________________________\n",
            "concatenate_3 (Concatenate)     (None, 64)           0           bidirectional_1[0][1]            \n",
            "                                                                 bidirectional_1[0][3]            \n",
            "__________________________________________________________________________________________________\n",
            "repeat_vector (RepeatVector)    (None, 7, 64)        0           concatenate_3[0][0]              \n",
            "__________________________________________________________________________________________________\n",
            "concatenate_1 (Concatenate)     (None, 128)          0           bidirectional[0][1]              \n",
            "                                                                 bidirectional[0][3]              \n",
            "__________________________________________________________________________________________________\n",
            "concatenate_2 (Concatenate)     (None, 128)          0           bidirectional[0][2]              \n",
            "                                                                 bidirectional[0][4]              \n",
            "__________________________________________________________________________________________________\n",
            "lstm_2 (LSTM)                   (None, 7, 128)       98816       repeat_vector[0][0]              \n",
            "                                                                 concatenate_1[0][0]              \n",
            "                                                                 concatenate_2[0][0]              \n",
            "__________________________________________________________________________________________________\n",
            "concatenate_4 (Concatenate)     (None, 64)           0           bidirectional_1[0][2]            \n",
            "                                                                 bidirectional_1[0][4]            \n",
            "__________________________________________________________________________________________________\n",
            "lstm_3 (LSTM)                   (None, 7, 64)        49408       lstm_2[0][0]                     \n",
            "                                                                 concatenate_3[0][0]              \n",
            "                                                                 concatenate_4[0][0]              \n",
            "__________________________________________________________________________________________________\n",
            "additive_attention (AdditiveAtt (None, 7, 64)        64          lstm_3[0][0]                     \n",
            "                                                                 bidirectional_1[0][0]            \n",
            "__________________________________________________________________________________________________\n",
            "concatenate_5 (Concatenate)     (None, 7, 128)       0           additive_attention[0][0]         \n",
            "                                                                 lstm_3[0][0]                     \n",
            "__________________________________________________________________________________________________\n",
            "dense (Dense)                   (None, 7, 59)        7611        concatenate_5[0][0]              \n",
            "==================================================================================================\n",
            "Total params: 350,305\n",
            "Trainable params: 350,305\n",
            "Non-trainable params: 0\n",
            "__________________________________________________________________________________________________\n"
          ]
        }
      ]
    },
    {
      "cell_type": "markdown",
      "metadata": {
        "id": "VI0-vADGSEBE"
      },
      "source": [
        "visualise the model summary"
      ]
    },
    {
      "cell_type": "code",
      "metadata": {
        "colab": {
          "base_uri": "https://localhost:8080/",
          "height": 467
        },
        "id": "y7DahYKGSGGc",
        "outputId": "d53ff8f4-8759-45df-aca5-c49c6cd416d4"
      },
      "source": [
        "%matplotlib inline\n",
        "plot_model(model, show_shapes = True, show_layer_names = True, rankdir = 'TB', dpi = 60)"
      ],
      "execution_count": 10,
      "outputs": [
        {
          "output_type": "execute_result",
          "data": {
            "image/png": "[encoded data removed]",
            "text/plain": [
              "<IPython.core.display.Image object>"
            ]
          },
          "metadata": {},
          "execution_count": 10
        }
      ]
    },
    {
      "cell_type": "markdown",
      "metadata": {
        "id": "-dZK-hy8Scdr"
      },
      "source": [
        "Commence the training session"
      ]
    },
    {
      "cell_type": "code",
      "metadata": {
        "id": "CMDC9C1mSgek"
      },
      "source": [
        "class CosineAnnealingScheduler(callbacks.Callback):\n",
        "    \"\"\"Cosine annealing scheduler.\n",
        "    \"\"\"\n",
        "\n",
        "    def __init__(self, T_max, eta_max, eta_min = 0, verbose = 0):\n",
        "        super(CosineAnnealingScheduler, self).__init__()\n",
        "        self.T_max = T_max\n",
        "        self.eta_max = eta_max\n",
        "        self.eta_min = eta_min\n",
        "        self.verbose = verbose\n",
        "\n",
        "    def on_epoch_begin(self, epoch, logs = None):\n",
        "        if not hasattr(self.model.optimizer, 'lr'):\n",
        "            raise ValueError('Optimizer must have a \"lr\" attribute.')\n",
        "        lr = self.eta_min + (self.eta_max - self.eta_min) * (1 + math.cos(math.pi * epoch / self.T_max)) / 2\n",
        "        backend.set_value(self.model.optimizer.lr, lr)\n",
        "        if self.verbose > 0:\n",
        "            print('\\nEpoch %05d: CosineAnnealingScheduler setting learning '\n",
        "                  'rate to %s.' % (epoch + 1, lr))\n",
        "\n",
        "    def on_epoch_end(self, epoch, logs = None):\n",
        "        logs = logs or {}\n",
        "        logs['lr'] = backend.get_value(self.model.optimizer.lr)"
      ],
      "execution_count": 11,
      "outputs": []
    },
    {
      "cell_type": "code",
      "metadata": {
        "colab": {
          "base_uri": "https://localhost:8080/"
        },
        "id": "yquYV-PuShf7",
        "outputId": "dabfb645-d2a0-4799-b5a5-d018827f8949"
      },
      "source": [
        "EPOCHS = 200\n",
        "BATCH_SIZE = 32\n",
        "LR_MAX = 1e-4\n",
        "LR_MIN = 1e-5\n",
        "\n",
        "cas = CosineAnnealingScheduler(EPOCHS, LR_MAX, LR_MIN)\n",
        "\n",
        "ckp = callbacks.ModelCheckpoint('best_model.hdf5', monitor = 'val_sparse_top_k', verbose = 0, \n",
        "                                save_best_only = True, save_weights_only = False, mode = 'max')\n",
        "\n",
        "history = model.fit(X_train, y_train, \n",
        "                    validation_data = (X_test, y_test), \n",
        "                    callbacks = [ckp, cas], \n",
        "                    epochs = EPOCHS, \n",
        "                    batch_size = BATCH_SIZE, \n",
        "                    verbose = 2)\n",
        "\n",
        "hist = pd.DataFrame(history.history)"
      ],
      "execution_count": 12,
      "outputs": [
        {
          "output_type": "stream",
          "name": "stdout",
          "text": [
            "Epoch 1/200\n",
            "14/14 - 37s - loss: 4.0779 - sparse_top_k: 0.0790 - val_loss: 4.0775 - val_sparse_top_k: 0.0886\n",
            "Epoch 2/200\n",
            "14/14 - 1s - loss: 4.0768 - sparse_top_k: 0.0971 - val_loss: 4.0773 - val_sparse_top_k: 0.0829\n",
            "Epoch 3/200\n",
            "14/14 - 1s - loss: 4.0762 - sparse_top_k: 0.1012 - val_loss: 4.0771 - val_sparse_top_k: 0.1029\n",
            "Epoch 4/200\n",
            "14/14 - 1s - loss: 4.0762 - sparse_top_k: 0.1015 - val_loss: 4.0768 - val_sparse_top_k: 0.1114\n",
            "Epoch 5/200\n",
            "14/14 - 1s - loss: 4.0750 - sparse_top_k: 0.1113 - val_loss: 4.0765 - val_sparse_top_k: 0.1171\n",
            "Epoch 6/200\n",
            "14/14 - 1s - loss: 4.0744 - sparse_top_k: 0.1160 - val_loss: 4.0760 - val_sparse_top_k: 0.1229\n",
            "Epoch 7/200\n",
            "14/14 - 1s - loss: 4.0734 - sparse_top_k: 0.1247 - val_loss: 4.0754 - val_sparse_top_k: 0.1057\n",
            "Epoch 8/200\n",
            "14/14 - 1s - loss: 4.0721 - sparse_top_k: 0.1375 - val_loss: 4.0745 - val_sparse_top_k: 0.1086\n",
            "Epoch 9/200\n",
            "14/14 - 1s - loss: 4.0705 - sparse_top_k: 0.1365 - val_loss: 4.0732 - val_sparse_top_k: 0.1171\n",
            "Epoch 10/200\n",
            "14/14 - 1s - loss: 4.0677 - sparse_top_k: 0.1476 - val_loss: 4.0709 - val_sparse_top_k: 0.1229\n",
            "Epoch 11/200\n",
            "14/14 - 1s - loss: 4.0631 - sparse_top_k: 0.1459 - val_loss: 4.0668 - val_sparse_top_k: 0.1114\n",
            "Epoch 12/200\n",
            "14/14 - 1s - loss: 4.0544 - sparse_top_k: 0.1489 - val_loss: 4.0587 - val_sparse_top_k: 0.1114\n",
            "Epoch 13/200\n",
            "14/14 - 1s - loss: 4.0357 - sparse_top_k: 0.1429 - val_loss: 4.0453 - val_sparse_top_k: 0.1171\n",
            "Epoch 14/200\n",
            "14/14 - 1s - loss: 4.0099 - sparse_top_k: 0.1486 - val_loss: 4.0389 - val_sparse_top_k: 0.1143\n",
            "Epoch 15/200\n",
            "14/14 - 1s - loss: 3.9869 - sparse_top_k: 0.1489 - val_loss: 4.0233 - val_sparse_top_k: 0.1314\n",
            "Epoch 16/200\n",
            "14/14 - 1s - loss: 3.9608 - sparse_top_k: 0.1684 - val_loss: 3.9938 - val_sparse_top_k: 0.1429\n",
            "Epoch 17/200\n",
            "14/14 - 1s - loss: 3.9268 - sparse_top_k: 0.1822 - val_loss: 3.9505 - val_sparse_top_k: 0.1571\n",
            "Epoch 18/200\n",
            "14/14 - 1s - loss: 3.8859 - sparse_top_k: 0.1916 - val_loss: 3.9022 - val_sparse_top_k: 0.1857\n",
            "Epoch 19/200\n",
            "14/14 - 1s - loss: 3.8523 - sparse_top_k: 0.2037 - val_loss: 3.8786 - val_sparse_top_k: 0.1771\n",
            "Epoch 20/200\n",
            "14/14 - 1s - loss: 3.8288 - sparse_top_k: 0.2020 - val_loss: 3.8552 - val_sparse_top_k: 0.1829\n",
            "Epoch 21/200\n",
            "14/14 - 1s - loss: 3.8019 - sparse_top_k: 0.2097 - val_loss: 3.8405 - val_sparse_top_k: 0.1771\n",
            "Epoch 22/200\n",
            "14/14 - 1s - loss: 3.7882 - sparse_top_k: 0.2218 - val_loss: 3.8257 - val_sparse_top_k: 0.1829\n",
            "Epoch 23/200\n",
            "14/14 - 1s - loss: 3.7707 - sparse_top_k: 0.2306 - val_loss: 3.8138 - val_sparse_top_k: 0.1886\n",
            "Epoch 24/200\n",
            "14/14 - 1s - loss: 3.7652 - sparse_top_k: 0.2121 - val_loss: 3.8119 - val_sparse_top_k: 0.1771\n",
            "Epoch 25/200\n",
            "14/14 - 1s - loss: 3.7568 - sparse_top_k: 0.2182 - val_loss: 3.8021 - val_sparse_top_k: 0.1800\n",
            "Epoch 26/200\n",
            "14/14 - 1s - loss: 3.7491 - sparse_top_k: 0.2195 - val_loss: 3.7947 - val_sparse_top_k: 0.1914\n",
            "Epoch 27/200\n",
            "14/14 - 1s - loss: 3.7384 - sparse_top_k: 0.2242 - val_loss: 3.7877 - val_sparse_top_k: 0.1943\n",
            "Epoch 28/200\n",
            "14/14 - 1s - loss: 3.7292 - sparse_top_k: 0.2195 - val_loss: 3.7843 - val_sparse_top_k: 0.1971\n",
            "Epoch 29/200\n",
            "14/14 - 1s - loss: 3.7283 - sparse_top_k: 0.2155 - val_loss: 3.7813 - val_sparse_top_k: 0.2029\n",
            "Epoch 30/200\n",
            "14/14 - 1s - loss: 3.7174 - sparse_top_k: 0.2323 - val_loss: 3.7756 - val_sparse_top_k: 0.2057\n",
            "Epoch 31/200\n",
            "14/14 - 1s - loss: 3.7117 - sparse_top_k: 0.2350 - val_loss: 3.7709 - val_sparse_top_k: 0.2000\n",
            "Epoch 32/200\n",
            "14/14 - 1s - loss: 3.7090 - sparse_top_k: 0.2279 - val_loss: 3.7701 - val_sparse_top_k: 0.1914\n",
            "Epoch 33/200\n",
            "14/14 - 1s - loss: 3.7061 - sparse_top_k: 0.2339 - val_loss: 3.7650 - val_sparse_top_k: 0.1971\n",
            "Epoch 34/200\n",
            "14/14 - 1s - loss: 3.6980 - sparse_top_k: 0.2286 - val_loss: 3.7613 - val_sparse_top_k: 0.2086\n",
            "Epoch 35/200\n",
            "14/14 - 1s - loss: 3.6953 - sparse_top_k: 0.2390 - val_loss: 3.7597 - val_sparse_top_k: 0.2200\n",
            "Epoch 36/200\n",
            "14/14 - 1s - loss: 3.6900 - sparse_top_k: 0.2350 - val_loss: 3.7577 - val_sparse_top_k: 0.2171\n",
            "Epoch 37/200\n",
            "14/14 - 1s - loss: 3.6946 - sparse_top_k: 0.2319 - val_loss: 3.7541 - val_sparse_top_k: 0.2114\n",
            "Epoch 38/200\n",
            "14/14 - 1s - loss: 3.6884 - sparse_top_k: 0.2383 - val_loss: 3.7540 - val_sparse_top_k: 0.2057\n",
            "Epoch 39/200\n",
            "14/14 - 1s - loss: 3.6851 - sparse_top_k: 0.2319 - val_loss: 3.7506 - val_sparse_top_k: 0.2200\n",
            "Epoch 40/200\n",
            "14/14 - 1s - loss: 3.6804 - sparse_top_k: 0.2387 - val_loss: 3.7499 - val_sparse_top_k: 0.2143\n",
            "Epoch 41/200\n",
            "14/14 - 1s - loss: 3.6705 - sparse_top_k: 0.2464 - val_loss: 3.7489 - val_sparse_top_k: 0.2114\n",
            "Epoch 42/200\n",
            "14/14 - 1s - loss: 3.6715 - sparse_top_k: 0.2413 - val_loss: 3.7470 - val_sparse_top_k: 0.2229\n",
            "Epoch 43/200\n",
            "14/14 - 1s - loss: 3.6673 - sparse_top_k: 0.2407 - val_loss: 3.7410 - val_sparse_top_k: 0.2114\n",
            "Epoch 44/200\n",
            "14/14 - 1s - loss: 3.6663 - sparse_top_k: 0.2450 - val_loss: 3.7411 - val_sparse_top_k: 0.2143\n",
            "Epoch 45/200\n",
            "14/14 - 1s - loss: 3.6614 - sparse_top_k: 0.2514 - val_loss: 3.7423 - val_sparse_top_k: 0.2143\n",
            "Epoch 46/200\n",
            "14/14 - 1s - loss: 3.6573 - sparse_top_k: 0.2457 - val_loss: 3.7384 - val_sparse_top_k: 0.2171\n",
            "Epoch 47/200\n",
            "14/14 - 1s - loss: 3.6519 - sparse_top_k: 0.2534 - val_loss: 3.7346 - val_sparse_top_k: 0.2229\n",
            "Epoch 48/200\n",
            "14/14 - 1s - loss: 3.6466 - sparse_top_k: 0.2430 - val_loss: 3.7334 - val_sparse_top_k: 0.2200\n",
            "Epoch 49/200\n",
            "14/14 - 1s - loss: 3.6403 - sparse_top_k: 0.2595 - val_loss: 3.7310 - val_sparse_top_k: 0.2257\n",
            "Epoch 50/200\n",
            "14/14 - 1s - loss: 3.6425 - sparse_top_k: 0.2598 - val_loss: 3.7324 - val_sparse_top_k: 0.2114\n",
            "Epoch 51/200\n",
            "14/14 - 1s - loss: 3.6421 - sparse_top_k: 0.2565 - val_loss: 3.7299 - val_sparse_top_k: 0.2057\n",
            "Epoch 52/200\n",
            "14/14 - 1s - loss: 3.6366 - sparse_top_k: 0.2561 - val_loss: 3.7311 - val_sparse_top_k: 0.2143\n",
            "Epoch 53/200\n",
            "14/14 - 1s - loss: 3.6385 - sparse_top_k: 0.2487 - val_loss: 3.7245 - val_sparse_top_k: 0.2200\n",
            "Epoch 54/200\n",
            "14/14 - 1s - loss: 3.6281 - sparse_top_k: 0.2622 - val_loss: 3.7266 - val_sparse_top_k: 0.2200\n",
            "Epoch 55/200\n",
            "14/14 - 1s - loss: 3.6290 - sparse_top_k: 0.2652 - val_loss: 3.7206 - val_sparse_top_k: 0.2143\n",
            "Epoch 56/200\n",
            "14/14 - 1s - loss: 3.6247 - sparse_top_k: 0.2561 - val_loss: 3.7202 - val_sparse_top_k: 0.2171\n",
            "Epoch 57/200\n",
            "14/14 - 1s - loss: 3.6275 - sparse_top_k: 0.2605 - val_loss: 3.7265 - val_sparse_top_k: 0.2114\n",
            "Epoch 58/200\n",
            "14/14 - 1s - loss: 3.6150 - sparse_top_k: 0.2652 - val_loss: 3.7206 - val_sparse_top_k: 0.2171\n",
            "Epoch 59/200\n",
            "14/14 - 1s - loss: 3.6150 - sparse_top_k: 0.2588 - val_loss: 3.7139 - val_sparse_top_k: 0.2171\n",
            "Epoch 60/200\n",
            "14/14 - 1s - loss: 3.6197 - sparse_top_k: 0.2605 - val_loss: 3.7173 - val_sparse_top_k: 0.2057\n",
            "Epoch 61/200\n",
            "14/14 - 1s - loss: 3.6154 - sparse_top_k: 0.2679 - val_loss: 3.7178 - val_sparse_top_k: 0.2029\n",
            "Epoch 62/200\n",
            "14/14 - 1s - loss: 3.6159 - sparse_top_k: 0.2575 - val_loss: 3.7158 - val_sparse_top_k: 0.2086\n",
            "Epoch 63/200\n",
            "14/14 - 1s - loss: 3.6057 - sparse_top_k: 0.2528 - val_loss: 3.7121 - val_sparse_top_k: 0.2143\n",
            "Epoch 64/200\n",
            "14/14 - 1s - loss: 3.6075 - sparse_top_k: 0.2632 - val_loss: 3.7092 - val_sparse_top_k: 0.2114\n",
            "Epoch 65/200\n",
            "14/14 - 1s - loss: 3.6032 - sparse_top_k: 0.2666 - val_loss: 3.7120 - val_sparse_top_k: 0.2000\n",
            "Epoch 66/200\n",
            "14/14 - 1s - loss: 3.6001 - sparse_top_k: 0.2602 - val_loss: 3.7078 - val_sparse_top_k: 0.2057\n",
            "Epoch 67/200\n",
            "14/14 - 1s - loss: 3.5960 - sparse_top_k: 0.2655 - val_loss: 3.7096 - val_sparse_top_k: 0.2029\n",
            "Epoch 68/200\n",
            "14/14 - 1s - loss: 3.5988 - sparse_top_k: 0.2726 - val_loss: 3.7010 - val_sparse_top_k: 0.2000\n",
            "Epoch 69/200\n",
            "14/14 - 1s - loss: 3.5918 - sparse_top_k: 0.2632 - val_loss: 3.7063 - val_sparse_top_k: 0.2114\n",
            "Epoch 70/200\n",
            "14/14 - 1s - loss: 3.5873 - sparse_top_k: 0.2655 - val_loss: 3.7037 - val_sparse_top_k: 0.2000\n",
            "Epoch 71/200\n",
            "14/14 - 1s - loss: 3.5890 - sparse_top_k: 0.2612 - val_loss: 3.6999 - val_sparse_top_k: 0.2000\n",
            "Epoch 72/200\n",
            "14/14 - 1s - loss: 3.5879 - sparse_top_k: 0.2699 - val_loss: 3.7020 - val_sparse_top_k: 0.1971\n",
            "Epoch 73/200\n",
            "14/14 - 1s - loss: 3.5862 - sparse_top_k: 0.2625 - val_loss: 3.6986 - val_sparse_top_k: 0.2029\n",
            "Epoch 74/200\n",
            "14/14 - 1s - loss: 3.5786 - sparse_top_k: 0.2692 - val_loss: 3.6997 - val_sparse_top_k: 0.2029\n",
            "Epoch 75/200\n",
            "14/14 - 1s - loss: 3.5747 - sparse_top_k: 0.2652 - val_loss: 3.6992 - val_sparse_top_k: 0.2057\n",
            "Epoch 76/200\n",
            "14/14 - 1s - loss: 3.5784 - sparse_top_k: 0.2692 - val_loss: 3.6931 - val_sparse_top_k: 0.2029\n",
            "Epoch 77/200\n",
            "14/14 - 1s - loss: 3.5771 - sparse_top_k: 0.2719 - val_loss: 3.6948 - val_sparse_top_k: 0.2029\n",
            "Epoch 78/200\n",
            "14/14 - 1s - loss: 3.5716 - sparse_top_k: 0.2639 - val_loss: 3.6940 - val_sparse_top_k: 0.2000\n",
            "Epoch 79/200\n",
            "14/14 - 1s - loss: 3.5789 - sparse_top_k: 0.2649 - val_loss: 3.6942 - val_sparse_top_k: 0.2000\n",
            "Epoch 80/200\n",
            "14/14 - 1s - loss: 3.5775 - sparse_top_k: 0.2645 - val_loss: 3.6960 - val_sparse_top_k: 0.2029\n",
            "Epoch 81/200\n",
            "14/14 - 1s - loss: 3.5646 - sparse_top_k: 0.2662 - val_loss: 3.6931 - val_sparse_top_k: 0.1971\n",
            "Epoch 82/200\n",
            "14/14 - 1s - loss: 3.5693 - sparse_top_k: 0.2592 - val_loss: 3.6838 - val_sparse_top_k: 0.1971\n",
            "Epoch 83/200\n",
            "14/14 - 1s - loss: 3.5625 - sparse_top_k: 0.2827 - val_loss: 3.6941 - val_sparse_top_k: 0.1971\n",
            "Epoch 84/200\n",
            "14/14 - 1s - loss: 3.5695 - sparse_top_k: 0.2645 - val_loss: 3.6808 - val_sparse_top_k: 0.1971\n",
            "Epoch 85/200\n",
            "14/14 - 1s - loss: 3.5703 - sparse_top_k: 0.2608 - val_loss: 3.6956 - val_sparse_top_k: 0.1943\n",
            "Epoch 86/200\n",
            "14/14 - 1s - loss: 3.5618 - sparse_top_k: 0.2763 - val_loss: 3.6842 - val_sparse_top_k: 0.1943\n",
            "Epoch 87/200\n",
            "14/14 - 1s - loss: 3.5561 - sparse_top_k: 0.2669 - val_loss: 3.6834 - val_sparse_top_k: 0.1971\n",
            "Epoch 88/200\n",
            "14/14 - 1s - loss: 3.5610 - sparse_top_k: 0.2629 - val_loss: 3.6892 - val_sparse_top_k: 0.2000\n",
            "Epoch 89/200\n",
            "14/14 - 1s - loss: 3.5532 - sparse_top_k: 0.2676 - val_loss: 3.6845 - val_sparse_top_k: 0.2029\n",
            "Epoch 90/200\n",
            "14/14 - 1s - loss: 3.5507 - sparse_top_k: 0.2807 - val_loss: 3.6864 - val_sparse_top_k: 0.2000\n",
            "Epoch 91/200\n",
            "14/14 - 1s - loss: 3.5509 - sparse_top_k: 0.2817 - val_loss: 3.6851 - val_sparse_top_k: 0.1943\n",
            "Epoch 92/200\n",
            "14/14 - 1s - loss: 3.5513 - sparse_top_k: 0.2756 - val_loss: 3.6801 - val_sparse_top_k: 0.1971\n",
            "Epoch 93/200\n",
            "14/14 - 1s - loss: 3.5477 - sparse_top_k: 0.2787 - val_loss: 3.6857 - val_sparse_top_k: 0.1971\n",
            "Epoch 94/200\n",
            "14/14 - 1s - loss: 3.5465 - sparse_top_k: 0.2790 - val_loss: 3.6814 - val_sparse_top_k: 0.1943\n",
            "Epoch 95/200\n",
            "14/14 - 1s - loss: 3.5483 - sparse_top_k: 0.2763 - val_loss: 3.6812 - val_sparse_top_k: 0.1914\n",
            "Epoch 96/200\n",
            "14/14 - 1s - loss: 3.5468 - sparse_top_k: 0.2743 - val_loss: 3.6792 - val_sparse_top_k: 0.2000\n",
            "Epoch 97/200\n",
            "14/14 - 1s - loss: 3.5456 - sparse_top_k: 0.2686 - val_loss: 3.6792 - val_sparse_top_k: 0.2000\n",
            "Epoch 98/200\n",
            "14/14 - 1s - loss: 3.5514 - sparse_top_k: 0.2713 - val_loss: 3.6798 - val_sparse_top_k: 0.1971\n",
            "Epoch 99/200\n",
            "14/14 - 1s - loss: 3.5378 - sparse_top_k: 0.2770 - val_loss: 3.6817 - val_sparse_top_k: 0.2029\n",
            "Epoch 100/200\n",
            "14/14 - 1s - loss: 3.5395 - sparse_top_k: 0.2713 - val_loss: 3.6844 - val_sparse_top_k: 0.2057\n",
            "Epoch 101/200\n",
            "14/14 - 1s - loss: 3.5322 - sparse_top_k: 0.2800 - val_loss: 3.6799 - val_sparse_top_k: 0.2029\n",
            "Epoch 102/200\n",
            "14/14 - 1s - loss: 3.5305 - sparse_top_k: 0.2830 - val_loss: 3.6762 - val_sparse_top_k: 0.2086\n",
            "Epoch 103/200\n",
            "14/14 - 1s - loss: 3.5302 - sparse_top_k: 0.2874 - val_loss: 3.6806 - val_sparse_top_k: 0.2086\n",
            "Epoch 104/200\n",
            "14/14 - 1s - loss: 3.5374 - sparse_top_k: 0.2887 - val_loss: 3.6763 - val_sparse_top_k: 0.2086\n",
            "Epoch 105/200\n",
            "14/14 - 1s - loss: 3.5370 - sparse_top_k: 0.2760 - val_loss: 3.6786 - val_sparse_top_k: 0.2114\n",
            "Epoch 106/200\n",
            "14/14 - 1s - loss: 3.5332 - sparse_top_k: 0.2803 - val_loss: 3.6745 - val_sparse_top_k: 0.2057\n",
            "Epoch 107/200\n",
            "14/14 - 1s - loss: 3.5272 - sparse_top_k: 0.2756 - val_loss: 3.6771 - val_sparse_top_k: 0.2057\n",
            "Epoch 108/200\n",
            "14/14 - 1s - loss: 3.5340 - sparse_top_k: 0.2713 - val_loss: 3.6712 - val_sparse_top_k: 0.2029\n",
            "Epoch 109/200\n",
            "14/14 - 1s - loss: 3.5237 - sparse_top_k: 0.2820 - val_loss: 3.6727 - val_sparse_top_k: 0.2029\n",
            "Epoch 110/200\n",
            "14/14 - 1s - loss: 3.5240 - sparse_top_k: 0.2773 - val_loss: 3.6686 - val_sparse_top_k: 0.2029\n",
            "Epoch 111/200\n",
            "14/14 - 1s - loss: 3.5289 - sparse_top_k: 0.2827 - val_loss: 3.6748 - val_sparse_top_k: 0.2086\n",
            "Epoch 112/200\n",
            "14/14 - 1s - loss: 3.5271 - sparse_top_k: 0.2733 - val_loss: 3.6697 - val_sparse_top_k: 0.2143\n",
            "Epoch 113/200\n",
            "14/14 - 1s - loss: 3.5249 - sparse_top_k: 0.2803 - val_loss: 3.6698 - val_sparse_top_k: 0.2086\n",
            "Epoch 114/200\n",
            "14/14 - 1s - loss: 3.5189 - sparse_top_k: 0.2894 - val_loss: 3.6730 - val_sparse_top_k: 0.2029\n",
            "Epoch 115/200\n",
            "14/14 - 1s - loss: 3.5141 - sparse_top_k: 0.2847 - val_loss: 3.6689 - val_sparse_top_k: 0.2057\n",
            "Epoch 116/200\n",
            "14/14 - 1s - loss: 3.5174 - sparse_top_k: 0.2780 - val_loss: 3.6749 - val_sparse_top_k: 0.2029\n",
            "Epoch 117/200\n",
            "14/14 - 1s - loss: 3.5143 - sparse_top_k: 0.2844 - val_loss: 3.6743 - val_sparse_top_k: 0.2029\n",
            "Epoch 118/200\n",
            "14/14 - 1s - loss: 3.5152 - sparse_top_k: 0.2817 - val_loss: 3.6674 - val_sparse_top_k: 0.2057\n",
            "Epoch 119/200\n",
            "14/14 - 1s - loss: 3.5223 - sparse_top_k: 0.2773 - val_loss: 3.6769 - val_sparse_top_k: 0.2029\n",
            "Epoch 120/200\n",
            "14/14 - 1s - loss: 3.5116 - sparse_top_k: 0.2931 - val_loss: 3.6679 - val_sparse_top_k: 0.2029\n",
            "Epoch 121/200\n",
            "14/14 - 1s - loss: 3.5077 - sparse_top_k: 0.2807 - val_loss: 3.6727 - val_sparse_top_k: 0.2029\n",
            "Epoch 122/200\n",
            "14/14 - 1s - loss: 3.5110 - sparse_top_k: 0.2824 - val_loss: 3.6725 - val_sparse_top_k: 0.2029\n",
            "Epoch 123/200\n",
            "14/14 - 1s - loss: 3.5162 - sparse_top_k: 0.2773 - val_loss: 3.6649 - val_sparse_top_k: 0.2086\n",
            "Epoch 124/200\n",
            "14/14 - 1s - loss: 3.5128 - sparse_top_k: 0.2834 - val_loss: 3.6687 - val_sparse_top_k: 0.2057\n",
            "Epoch 125/200\n",
            "14/14 - 1s - loss: 3.5039 - sparse_top_k: 0.2877 - val_loss: 3.6679 - val_sparse_top_k: 0.2057\n",
            "Epoch 126/200\n",
            "14/14 - 1s - loss: 3.5158 - sparse_top_k: 0.2824 - val_loss: 3.6704 - val_sparse_top_k: 0.2029\n",
            "Epoch 127/200\n",
            "14/14 - 1s - loss: 3.5025 - sparse_top_k: 0.2793 - val_loss: 3.6682 - val_sparse_top_k: 0.2057\n",
            "Epoch 128/200\n",
            "14/14 - 1s - loss: 3.5081 - sparse_top_k: 0.2850 - val_loss: 3.6683 - val_sparse_top_k: 0.2029\n",
            "Epoch 129/200\n",
            "14/14 - 1s - loss: 3.5110 - sparse_top_k: 0.2891 - val_loss: 3.6703 - val_sparse_top_k: 0.2000\n",
            "Epoch 130/200\n",
            "14/14 - 1s - loss: 3.5118 - sparse_top_k: 0.2824 - val_loss: 3.6692 - val_sparse_top_k: 0.2057\n",
            "Epoch 131/200\n",
            "14/14 - 1s - loss: 3.5056 - sparse_top_k: 0.2773 - val_loss: 3.6677 - val_sparse_top_k: 0.2057\n",
            "Epoch 132/200\n",
            "14/14 - 1s - loss: 3.4994 - sparse_top_k: 0.2914 - val_loss: 3.6726 - val_sparse_top_k: 0.2057\n",
            "Epoch 133/200\n",
            "14/14 - 1s - loss: 3.5020 - sparse_top_k: 0.2787 - val_loss: 3.6699 - val_sparse_top_k: 0.2057\n",
            "Epoch 134/200\n",
            "14/14 - 1s - loss: 3.4909 - sparse_top_k: 0.2948 - val_loss: 3.6715 - val_sparse_top_k: 0.2086\n",
            "Epoch 135/200\n",
            "14/14 - 1s - loss: 3.5054 - sparse_top_k: 0.2891 - val_loss: 3.6698 - val_sparse_top_k: 0.2086\n",
            "Epoch 136/200\n",
            "14/14 - 1s - loss: 3.4984 - sparse_top_k: 0.2901 - val_loss: 3.6740 - val_sparse_top_k: 0.2029\n",
            "Epoch 137/200\n",
            "14/14 - 1s - loss: 3.5075 - sparse_top_k: 0.2780 - val_loss: 3.6723 - val_sparse_top_k: 0.2029\n",
            "Epoch 138/200\n",
            "14/14 - 1s - loss: 3.4985 - sparse_top_k: 0.2867 - val_loss: 3.6632 - val_sparse_top_k: 0.2086\n",
            "Epoch 139/200\n",
            "14/14 - 1s - loss: 3.4943 - sparse_top_k: 0.2877 - val_loss: 3.6724 - val_sparse_top_k: 0.2057\n",
            "Epoch 140/200\n",
            "14/14 - 1s - loss: 3.4980 - sparse_top_k: 0.2951 - val_loss: 3.6660 - val_sparse_top_k: 0.2086\n",
            "Epoch 141/200\n",
            "14/14 - 1s - loss: 3.4967 - sparse_top_k: 0.2891 - val_loss: 3.6672 - val_sparse_top_k: 0.2029\n",
            "Epoch 142/200\n",
            "14/14 - 1s - loss: 3.4957 - sparse_top_k: 0.2897 - val_loss: 3.6703 - val_sparse_top_k: 0.1971\n",
            "Epoch 143/200\n",
            "14/14 - 1s - loss: 3.4938 - sparse_top_k: 0.2881 - val_loss: 3.6653 - val_sparse_top_k: 0.2114\n",
            "Epoch 144/200\n",
            "14/14 - 1s - loss: 3.4953 - sparse_top_k: 0.2864 - val_loss: 3.6697 - val_sparse_top_k: 0.2029\n",
            "Epoch 145/200\n",
            "14/14 - 1s - loss: 3.4869 - sparse_top_k: 0.2965 - val_loss: 3.6689 - val_sparse_top_k: 0.2029\n",
            "Epoch 146/200\n",
            "14/14 - 1s - loss: 3.4927 - sparse_top_k: 0.2864 - val_loss: 3.6607 - val_sparse_top_k: 0.2143\n",
            "Epoch 147/200\n",
            "14/14 - 1s - loss: 3.4996 - sparse_top_k: 0.2867 - val_loss: 3.6685 - val_sparse_top_k: 0.2029\n",
            "Epoch 148/200\n",
            "14/14 - 1s - loss: 3.4931 - sparse_top_k: 0.2793 - val_loss: 3.6666 - val_sparse_top_k: 0.2029\n",
            "Epoch 149/200\n",
            "14/14 - 1s - loss: 3.4906 - sparse_top_k: 0.2824 - val_loss: 3.6699 - val_sparse_top_k: 0.2057\n",
            "Epoch 150/200\n",
            "14/14 - 1s - loss: 3.4883 - sparse_top_k: 0.2904 - val_loss: 3.6665 - val_sparse_top_k: 0.2029\n",
            "Epoch 151/200\n",
            "14/14 - 1s - loss: 3.4828 - sparse_top_k: 0.3002 - val_loss: 3.6649 - val_sparse_top_k: 0.2057\n",
            "Epoch 152/200\n",
            "14/14 - 1s - loss: 3.4904 - sparse_top_k: 0.2864 - val_loss: 3.6686 - val_sparse_top_k: 0.2029\n",
            "Epoch 153/200\n",
            "14/14 - 1s - loss: 3.4858 - sparse_top_k: 0.2874 - val_loss: 3.6696 - val_sparse_top_k: 0.2029\n",
            "Epoch 154/200\n",
            "14/14 - 1s - loss: 3.4926 - sparse_top_k: 0.2766 - val_loss: 3.6659 - val_sparse_top_k: 0.2086\n",
            "Epoch 155/200\n",
            "14/14 - 1s - loss: 3.4878 - sparse_top_k: 0.2773 - val_loss: 3.6671 - val_sparse_top_k: 0.2029\n",
            "Epoch 156/200\n",
            "14/14 - 1s - loss: 3.4986 - sparse_top_k: 0.2864 - val_loss: 3.6661 - val_sparse_top_k: 0.2086\n",
            "Epoch 157/200\n",
            "14/14 - 1s - loss: 3.4901 - sparse_top_k: 0.2874 - val_loss: 3.6658 - val_sparse_top_k: 0.2057\n",
            "Epoch 158/200\n",
            "14/14 - 1s - loss: 3.4938 - sparse_top_k: 0.2857 - val_loss: 3.6687 - val_sparse_top_k: 0.2086\n",
            "Epoch 159/200\n",
            "14/14 - 1s - loss: 3.4842 - sparse_top_k: 0.2847 - val_loss: 3.6700 - val_sparse_top_k: 0.2029\n",
            "Epoch 160/200\n",
            "14/14 - 1s - loss: 3.4861 - sparse_top_k: 0.2750 - val_loss: 3.6644 - val_sparse_top_k: 0.2000\n",
            "Epoch 161/200\n",
            "14/14 - 1s - loss: 3.4823 - sparse_top_k: 0.2807 - val_loss: 3.6661 - val_sparse_top_k: 0.2000\n",
            "Epoch 162/200\n",
            "14/14 - 1s - loss: 3.4891 - sparse_top_k: 0.2928 - val_loss: 3.6669 - val_sparse_top_k: 0.2029\n",
            "Epoch 163/200\n",
            "14/14 - 1s - loss: 3.4831 - sparse_top_k: 0.2961 - val_loss: 3.6656 - val_sparse_top_k: 0.2029\n",
            "Epoch 164/200\n",
            "14/14 - 1s - loss: 3.4885 - sparse_top_k: 0.2945 - val_loss: 3.6670 - val_sparse_top_k: 0.2029\n",
            "Epoch 165/200\n",
            "14/14 - 1s - loss: 3.4826 - sparse_top_k: 0.2948 - val_loss: 3.6653 - val_sparse_top_k: 0.2029\n",
            "Epoch 166/200\n",
            "14/14 - 1s - loss: 3.4868 - sparse_top_k: 0.2934 - val_loss: 3.6703 - val_sparse_top_k: 0.2057\n",
            "Epoch 167/200\n",
            "14/14 - 1s - loss: 3.4837 - sparse_top_k: 0.2904 - val_loss: 3.6669 - val_sparse_top_k: 0.2029\n",
            "Epoch 168/200\n",
            "14/14 - 1s - loss: 3.4812 - sparse_top_k: 0.2931 - val_loss: 3.6648 - val_sparse_top_k: 0.2029\n",
            "Epoch 169/200\n",
            "14/14 - 1s - loss: 3.4846 - sparse_top_k: 0.2897 - val_loss: 3.6659 - val_sparse_top_k: 0.2029\n",
            "Epoch 170/200\n",
            "14/14 - 1s - loss: 3.4749 - sparse_top_k: 0.2897 - val_loss: 3.6642 - val_sparse_top_k: 0.2029\n",
            "Epoch 171/200\n",
            "14/14 - 1s - loss: 3.4850 - sparse_top_k: 0.2904 - val_loss: 3.6636 - val_sparse_top_k: 0.2029\n",
            "Epoch 172/200\n",
            "14/14 - 1s - loss: 3.4802 - sparse_top_k: 0.2911 - val_loss: 3.6640 - val_sparse_top_k: 0.2029\n",
            "Epoch 173/200\n",
            "14/14 - 1s - loss: 3.4904 - sparse_top_k: 0.2945 - val_loss: 3.6670 - val_sparse_top_k: 0.2057\n",
            "Epoch 174/200\n",
            "14/14 - 1s - loss: 3.4857 - sparse_top_k: 0.2938 - val_loss: 3.6673 - val_sparse_top_k: 0.2057\n",
            "Epoch 175/200\n",
            "14/14 - 1s - loss: 3.4806 - sparse_top_k: 0.3032 - val_loss: 3.6675 - val_sparse_top_k: 0.2057\n",
            "Epoch 176/200\n",
            "14/14 - 1s - loss: 3.4795 - sparse_top_k: 0.2914 - val_loss: 3.6677 - val_sparse_top_k: 0.2057\n",
            "Epoch 177/200\n",
            "14/14 - 1s - loss: 3.4758 - sparse_top_k: 0.2988 - val_loss: 3.6660 - val_sparse_top_k: 0.2057\n",
            "Epoch 178/200\n",
            "14/14 - 1s - loss: 3.4849 - sparse_top_k: 0.2911 - val_loss: 3.6656 - val_sparse_top_k: 0.2057\n",
            "Epoch 179/200\n",
            "14/14 - 1s - loss: 3.4817 - sparse_top_k: 0.2813 - val_loss: 3.6660 - val_sparse_top_k: 0.2057\n",
            "Epoch 180/200\n",
            "14/14 - 1s - loss: 3.4792 - sparse_top_k: 0.2975 - val_loss: 3.6650 - val_sparse_top_k: 0.2057\n",
            "Epoch 181/200\n",
            "14/14 - 1s - loss: 3.4821 - sparse_top_k: 0.2924 - val_loss: 3.6680 - val_sparse_top_k: 0.2086\n",
            "Epoch 182/200\n",
            "14/14 - 1s - loss: 3.4726 - sparse_top_k: 0.2955 - val_loss: 3.6667 - val_sparse_top_k: 0.2114\n",
            "Epoch 183/200\n",
            "14/14 - 1s - loss: 3.4811 - sparse_top_k: 0.2941 - val_loss: 3.6673 - val_sparse_top_k: 0.2086\n",
            "Epoch 184/200\n",
            "14/14 - 1s - loss: 3.4792 - sparse_top_k: 0.2961 - val_loss: 3.6651 - val_sparse_top_k: 0.2057\n",
            "Epoch 185/200\n",
            "14/14 - 1s - loss: 3.4735 - sparse_top_k: 0.2891 - val_loss: 3.6650 - val_sparse_top_k: 0.2057\n",
            "Epoch 186/200\n",
            "14/14 - 1s - loss: 3.4795 - sparse_top_k: 0.2918 - val_loss: 3.6661 - val_sparse_top_k: 0.2057\n",
            "Epoch 187/200\n",
            "14/14 - 1s - loss: 3.4793 - sparse_top_k: 0.2985 - val_loss: 3.6657 - val_sparse_top_k: 0.2057\n",
            "Epoch 188/200\n",
            "14/14 - 1s - loss: 3.4805 - sparse_top_k: 0.2837 - val_loss: 3.6651 - val_sparse_top_k: 0.2057\n",
            "Epoch 189/200\n",
            "14/14 - 1s - loss: 3.4875 - sparse_top_k: 0.2931 - val_loss: 3.6657 - val_sparse_top_k: 0.2057\n",
            "Epoch 190/200\n",
            "14/14 - 1s - loss: 3.4807 - sparse_top_k: 0.2783 - val_loss: 3.6662 - val_sparse_top_k: 0.2057\n",
            "Epoch 191/200\n",
            "14/14 - 1s - loss: 3.4750 - sparse_top_k: 0.2955 - val_loss: 3.6650 - val_sparse_top_k: 0.2057\n",
            "Epoch 192/200\n",
            "14/14 - 1s - loss: 3.4789 - sparse_top_k: 0.2914 - val_loss: 3.6634 - val_sparse_top_k: 0.2057\n",
            "Epoch 193/200\n",
            "14/14 - 1s - loss: 3.4720 - sparse_top_k: 0.2881 - val_loss: 3.6634 - val_sparse_top_k: 0.2057\n",
            "Epoch 194/200\n",
            "14/14 - 1s - loss: 3.4769 - sparse_top_k: 0.2988 - val_loss: 3.6633 - val_sparse_top_k: 0.2057\n",
            "Epoch 195/200\n",
            "14/14 - 1s - loss: 3.4831 - sparse_top_k: 0.2857 - val_loss: 3.6636 - val_sparse_top_k: 0.2057\n",
            "Epoch 196/200\n",
            "14/14 - 1s - loss: 3.4750 - sparse_top_k: 0.2965 - val_loss: 3.6607 - val_sparse_top_k: 0.2086\n",
            "Epoch 197/200\n",
            "14/14 - 1s - loss: 3.4802 - sparse_top_k: 0.2938 - val_loss: 3.6609 - val_sparse_top_k: 0.2086\n",
            "Epoch 198/200\n",
            "14/14 - 1s - loss: 3.4677 - sparse_top_k: 0.3008 - val_loss: 3.6646 - val_sparse_top_k: 0.2057\n",
            "Epoch 199/200\n",
            "14/14 - 1s - loss: 3.4789 - sparse_top_k: 0.2908 - val_loss: 3.6640 - val_sparse_top_k: 0.2057\n",
            "Epoch 200/200\n",
            "14/14 - 1s - loss: 3.4752 - sparse_top_k: 0.2871 - val_loss: 3.6634 - val_sparse_top_k: 0.2086\n"
          ]
        }
      ]
    },
    {
      "cell_type": "code",
      "metadata": {
        "colab": {
          "base_uri": "https://localhost:8080/",
          "height": 409
        },
        "id": "77o48bG8Sl17",
        "outputId": "d45a476a-3d38-4d59-a267-6a5beb118d22"
      },
      "source": [
        "print(hist['val_sparse_top_k'].max())\n",
        "\n",
        "plt.figure(figsize = (8, 6))\n",
        "plt.semilogy(hist['sparse_top_k'], '-r', label = 'Training')\n",
        "plt.semilogy(hist['val_sparse_top_k'], '-b', label = 'Validation')\n",
        "plt.ylabel('Sparse Top K Accuracy', fontsize = 14)\n",
        "plt.xlabel('Epochs', fontsize = 14)\n",
        "plt.legend(fontsize = 14)\n",
        "plt.grid()\n",
        "plt.show()"
      ],
      "execution_count": 13,
      "outputs": [
        {
          "output_type": "stream",
          "name": "stdout",
          "text": [
            "0.2257142812013626\n"
          ]
        },
        {
          "output_type": "display_data",
          "data": {
            "image/png": "[encoded data removed]",
            "text/plain": [
              "<Figure size 576x432 with 1 Axes>"
            ]
          },
          "metadata": {
            "needs_background": "light"
          }
        }
      ]
    },
    {
      "cell_type": "markdown",
      "metadata": {
        "id": "o_xxVGiPVNxW"
      },
      "source": [
        "Predict the test dataset"
      ]
    },
    {
      "cell_type": "code",
      "metadata": {
        "colab": {
          "base_uri": "https://localhost:8080/"
        },
        "id": "uj8XTuG5VKgV",
        "outputId": "cff8962c-33b2-4543-ea3e-9c399fc4c5fb"
      },
      "source": [
        "model.load_weights('best_model.hdf5')\n",
        "pred = model.predict(X_test)\n",
        "pred = np.argmax(pred, axis = 2)\n",
        "\n",
        "for i in range(y_test.shape[0]):\n",
        "    print('Prediction:\\t', pred[i] + 1)\n",
        "    print('GoundTruth:\\t', y_test[i] + 1)\n",
        "    print('-' * 40)"
      ],
      "execution_count": 14,
      "outputs": [
        {
          "output_type": "stream",
          "name": "stdout",
          "text": [
            "Prediction:\t [ 2 14 29 39 54 58 58]\n",
            "GoundTruth:\t [ 4  7 14 19 50 56  8]\n",
            "----------------------------------------\n",
            "Prediction:\t [ 2 14 29 41 58 58 58]\n",
            "GoundTruth:\t [ 5 29 35 36 40 44 42]\n",
            "----------------------------------------\n",
            "Prediction:\t [ 2 14 29 39 54 58 58]\n",
            "GoundTruth:\t [10 39 45 46 52 54 12]\n",
            "----------------------------------------\n",
            "Prediction:\t [ 2 14 29 39 54 58 58]\n",
            "GoundTruth:\t [ 7 22 30 38 42 47 14]\n",
            "----------------------------------------\n",
            "Prediction:\t [ 2 14 29 39 54 58 58]\n",
            "GoundTruth:\t [ 3  7 11 19 27 52  5]\n",
            "----------------------------------------\n",
            "Prediction:\t [ 2 14 29 41 54 58 58]\n",
            "GoundTruth:\t [12 26 29 34 56 58 41]\n",
            "----------------------------------------\n",
            "Prediction:\t [ 2 14 29 41 54 58 58]\n",
            "GoundTruth:\t [11 24 25 39 53 57  9]\n",
            "----------------------------------------\n",
            "Prediction:\t [ 2 14 29 36 54 58 58]\n",
            "GoundTruth:\t [ 8 14 27 33 46 49 11]\n",
            "----------------------------------------\n",
            "Prediction:\t [ 2  8 29 36 54 58 58]\n",
            "GoundTruth:\t [ 4 16 17 22 27 52 30]\n",
            "----------------------------------------\n",
            "Prediction:\t [ 2 14 29 36 54 58 58]\n",
            "GoundTruth:\t [ 4 22 28 39 45 49 25]\n",
            "----------------------------------------\n",
            "Prediction:\t [ 2  8 29 36 54 58 58]\n",
            "GoundTruth:\t [ 1  4 19 20 41 45  7]\n",
            "----------------------------------------\n",
            "Prediction:\t [ 2  8 29 29 54 58 58]\n",
            "GoundTruth:\t [20 28 30 31 44 55 50]\n",
            "----------------------------------------\n",
            "Prediction:\t [ 2 14 29 39 54 58 58]\n",
            "GoundTruth:\t [25 37 38 43 54 57 17]\n",
            "----------------------------------------\n",
            "Prediction:\t [ 2 14 29 39 54 58 58]\n",
            "GoundTruth:\t [ 3  6 31 43 46 53 26]\n",
            "----------------------------------------\n",
            "Prediction:\t [ 2 14 29 39 54 58 58]\n",
            "GoundTruth:\t [ 3  8 18 47 50 59 12]\n",
            "----------------------------------------\n",
            "Prediction:\t [ 2 14 29 39 54 58 58]\n",
            "GoundTruth:\t [ 3  9 21 25 28 59 36]\n",
            "----------------------------------------\n",
            "Prediction:\t [ 2  8 29 39 54 58 58]\n",
            "GoundTruth:\t [16 17 32 36 40 47  4]\n",
            "----------------------------------------\n",
            "Prediction:\t [ 2  8 29 36 54 58 58]\n",
            "GoundTruth:\t [14 18 23 39 44 52 47]\n",
            "----------------------------------------\n",
            "Prediction:\t [ 2 14 29 36 54 58 58]\n",
            "GoundTruth:\t [23 29 32 48 49 51 13]\n",
            "----------------------------------------\n",
            "Prediction:\t [ 2  8 29 39 54 58 58]\n",
            "GoundTruth:\t [ 7 18 21 26 42 50 59]\n",
            "----------------------------------------\n",
            "Prediction:\t [ 2  8 29 39 54 58 58]\n",
            "GoundTruth:\t [14 16 19 31 38 47 20]\n",
            "----------------------------------------\n",
            "Prediction:\t [ 2 14 29 39 54 58 58]\n",
            "GoundTruth:\t [ 4 20 21 44 48 52 34]\n",
            "----------------------------------------\n",
            "Prediction:\t [ 2 14 29 39 54 58 58]\n",
            "GoundTruth:\t [ 7 24 26 37 40 57 44]\n",
            "----------------------------------------\n",
            "Prediction:\t [ 2  8 29 39 54 58 58]\n",
            "GoundTruth:\t [15 37 38 42 45 59 54]\n",
            "----------------------------------------\n",
            "Prediction:\t [ 2  8 29 39 54 58 58]\n",
            "GoundTruth:\t [ 4  7 19 23 34 38 46]\n",
            "----------------------------------------\n",
            "Prediction:\t [ 2  8 29 29 54 58 58]\n",
            "GoundTruth:\t [ 2  6  8 32 33 35 45]\n",
            "----------------------------------------\n",
            "Prediction:\t [ 2  8 29 39 54 58 58]\n",
            "GoundTruth:\t [ 1  2  5 11 14 33 48]\n",
            "----------------------------------------\n",
            "Prediction:\t [ 2  8 29 39 54 58 58]\n",
            "GoundTruth:\t [ 3  6 12 17 35 40 33]\n",
            "----------------------------------------\n",
            "Prediction:\t [ 2 14 29 39 54 58 58]\n",
            "GoundTruth:\t [20 26 50 51 55 57 40]\n",
            "----------------------------------------\n",
            "Prediction:\t [ 2 14 29 41 54 58 58]\n",
            "GoundTruth:\t [10 12 19 21 35 51 42]\n",
            "----------------------------------------\n",
            "Prediction:\t [ 2 14 29 41 54 58 58]\n",
            "GoundTruth:\t [ 2  9 33 39 48 54 43]\n",
            "----------------------------------------\n",
            "Prediction:\t [ 2 14 29 39 54 58 58]\n",
            "GoundTruth:\t [ 7 21 26 30 40 48 13]\n",
            "----------------------------------------\n",
            "Prediction:\t [ 2  8 29 39 54 58 58]\n",
            "GoundTruth:\t [ 1  8 33 50 52 57 41]\n",
            "----------------------------------------\n",
            "Prediction:\t [ 2  8 29 36 54 58 58]\n",
            "GoundTruth:\t [ 2 15 19 33 37 43 12]\n",
            "----------------------------------------\n",
            "Prediction:\t [ 2  8 29 36 54 58 58]\n",
            "GoundTruth:\t [ 1  8 24 27 29 55  4]\n",
            "----------------------------------------\n",
            "Prediction:\t [ 2  8 29 36 54 58 58]\n",
            "GoundTruth:\t [32 33 34 48 52 57 13]\n",
            "----------------------------------------\n",
            "Prediction:\t [ 2  8 29 36 54 58 58]\n",
            "GoundTruth:\t [ 5 18 22 31 50 59 30]\n",
            "----------------------------------------\n",
            "Prediction:\t [ 2  8 29 29 54 58 58]\n",
            "GoundTruth:\t [ 9 10 14 17 32 58 22]\n",
            "----------------------------------------\n",
            "Prediction:\t [ 2  8 29 29 54 58 58]\n",
            "GoundTruth:\t [ 9 27 29 37 44 53 49]\n",
            "----------------------------------------\n",
            "Prediction:\t [ 2  8 29 29 54 58 58]\n",
            "GoundTruth:\t [ 1 20 24 32 33 42 30]\n",
            "----------------------------------------\n",
            "Prediction:\t [ 2  8 29 29 54 58 58]\n",
            "GoundTruth:\t [ 2  7 11 23 37 45 19]\n",
            "----------------------------------------\n",
            "Prediction:\t [ 2  8 29 29 54 58 58]\n",
            "GoundTruth:\t [10 13 14 18 33 34 15]\n",
            "----------------------------------------\n",
            "Prediction:\t [ 2  8 29 39 54 58 58]\n",
            "GoundTruth:\t [ 1 24 39 46 49 52 51]\n",
            "----------------------------------------\n",
            "Prediction:\t [ 2 14 29 39 54 58 58]\n",
            "GoundTruth:\t [ 4 10 13 24 53 56 22]\n",
            "----------------------------------------\n",
            "Prediction:\t [ 2 14 29 41 54 58 58]\n",
            "GoundTruth:\t [ 1 28 42 43 51 58 36]\n",
            "----------------------------------------\n",
            "Prediction:\t [ 2 14 29 41 54 58 58]\n",
            "GoundTruth:\t [ 2 40 49 53 56 58 41]\n",
            "----------------------------------------\n",
            "Prediction:\t [ 2 14 29 41 54 58 58]\n",
            "GoundTruth:\t [ 6  8 27 31 37 51 20]\n",
            "----------------------------------------\n",
            "Prediction:\t [ 2 14 29 41 54 58 58]\n",
            "GoundTruth:\t [10 14 16 22 25 34 21]\n",
            "----------------------------------------\n",
            "Prediction:\t [ 2 14 29 41 54 58 58]\n",
            "GoundTruth:\t [21 22 32 36 45 50  5]\n",
            "----------------------------------------\n",
            "Prediction:\t [ 2 14 29 41 54 58 58]\n",
            "GoundTruth:\t [19 23 24 28 37 51 12]\n",
            "----------------------------------------\n"
          ]
        }
      ]
    },
    {
      "cell_type": "markdown",
      "metadata": {
        "id": "oC3UIiJRVa2s"
      },
      "source": [
        "Predict the Future Draw on 2020/Aug/26"
      ]
    },
    {
      "cell_type": "code",
      "metadata": {
        "colab": {
          "base_uri": "https://localhost:8080/"
        },
        "id": "BcCRr-CPVc17",
        "outputId": "5da72da0-f304-4c6e-deb0-fb2842cde134"
      },
      "source": [
        "X_latest = X_test[-1][1:]\n",
        "X_latest = np.concatenate([X_latest, y_test[-1].reshape(1, 7)], axis = 0)\n",
        "X_latest = X_latest.reshape(1, X_latest.shape[0], X_latest.shape[1])\n",
        "print(X_latest + 1)"
      ],
      "execution_count": 15,
      "outputs": [
        {
          "output_type": "stream",
          "name": "stdout",
          "text": [
            "[[[ 2  7 11 23 37 45 19]\n",
            "  [10 13 14 18 33 34 15]\n",
            "  [ 1 24 39 46 49 52 51]\n",
            "  [ 4 10 13 24 53 56 22]\n",
            "  [ 1 28 42 43 51 58 36]\n",
            "  [ 2 40 49 53 56 58 41]\n",
            "  [ 6  8 27 31 37 51 20]\n",
            "  [10 14 16 22 25 34 21]\n",
            "  [21 22 32 36 45 50  5]\n",
            "  [19 23 24 28 37 51 12]]]\n"
          ]
        }
      ]
    },
    {
      "cell_type": "code",
      "metadata": {
        "id": "UPYZ0jZzVgJr"
      },
      "source": [
        "# beam search\n",
        "def beam_search_decoder(data, k, replace = True):\n",
        "    sequences = [[list(), 0.0]]\n",
        "    # walk over each step in sequence\n",
        "    for row in data:\n",
        "        all_candidates = list()\n",
        "        # expand each current candidate\n",
        "        for i in range(len(sequences)):\n",
        "            seq, score = sequences[i]\n",
        "            best_k = np.argsort(row)[-k:]\n",
        "            for j in best_k:\n",
        "                candidate = [seq + [j], score + math.log(row[j])]\n",
        "                if replace:\n",
        "                    all_candidates.append(candidate)\n",
        "                elif (replace == False) and (len(set(candidate[0])) == len(candidate[0])):\n",
        "                    all_candidates.append(candidate)\n",
        "        # order all candidates by score\n",
        "        ordered = sorted(all_candidates, key = lambda tup:tup[1], reverse = True)\n",
        "        # select k best\n",
        "        sequences = ordered[:k]\n",
        "    return sequences"
      ],
      "execution_count": 16,
      "outputs": []
    },
    {
      "cell_type": "code",
      "metadata": {
        "colab": {
          "base_uri": "https://localhost:8080/"
        },
        "id": "Q47Eb8TZVlSs",
        "outputId": "33d4d2fc-9a5c-4bf1-f63e-99688590bc0b"
      },
      "source": [
        "pred_latest = model.predict(X_latest)\n",
        "pred_latest = np.squeeze(pred_latest)\n",
        "pred_latest_greedy = np.argmax(pred_latest, axis = 1)\n",
        "print(pred_latest_greedy + 1)"
      ],
      "execution_count": 17,
      "outputs": [
        {
          "output_type": "stream",
          "name": "stdout",
          "text": [
            "[ 2 14 29 41 54 58 58]\n"
          ]
        }
      ]
    },
    {
      "cell_type": "code",
      "metadata": {
        "colab": {
          "base_uri": "https://localhost:8080/"
        },
        "id": "WYGR4c6vVoB7",
        "outputId": "fbbe6938-85d0-4677-bdea-1a904774a4ad"
      },
      "source": [
        "beam_width = 10\n",
        "replace = True\n",
        "\n",
        "result = beam_search_decoder(pred_latest, beam_width, replace)\n",
        "print('Beam Width:\\t', beam_width)\n",
        "print('Replace:\\t', replace)\n",
        "print('-' * 85)\n",
        "for seq in result:\n",
        "    print('Prediction: ', np.array(seq[0]) + 1, '\\tLog Likelihood: ', seq[1])"
      ],
      "execution_count": 18,
      "outputs": [
        {
          "output_type": "stream",
          "name": "stdout",
          "text": [
            "Beam Width:\t 10\n",
            "Replace:\t True\n",
            "-------------------------------------------------------------------------------------\n",
            "Prediction:  [ 2 14 29 41 54 58 58] \tLog Likelihood:  -20.775675253971364\n",
            "Prediction:  [ 2 14 29 36 54 58 58] \tLog Likelihood:  -20.77603168228151\n",
            "Prediction:  [ 2 14 29 39 54 58 58] \tLog Likelihood:  -20.804108773180626\n",
            "Prediction:  [ 5 14 29 41 54 58 58] \tLog Likelihood:  -20.826897398552312\n",
            "Prediction:  [ 5 14 29 36 54 58 58] \tLog Likelihood:  -20.827253826862457\n",
            "Prediction:  [ 4 14 29 41 54 58 58] \tLog Likelihood:  -20.835650866470115\n",
            "Prediction:  [ 4 14 29 36 54 58 58] \tLog Likelihood:  -20.83600729478026\n",
            "Prediction:  [ 2 14 29 35 54 58 58] \tLog Likelihood:  -20.845043362116837\n",
            "Prediction:  [ 2 14 29 37 54 58 58] \tLog Likelihood:  -20.851207724229464\n",
            "Prediction:  [ 2 14 29 41 58 58 58] \tLog Likelihood:  -20.855280222952477\n"
          ]
        }
      ]
    },
    {
      "cell_type": "code",
      "metadata": {
        "colab": {
          "base_uri": "https://localhost:8080/"
        },
        "id": "C1xJmlYcVqWL",
        "outputId": "f73ac8b2-58b3-40eb-8f94-83260bbf9e94"
      },
      "source": [
        "beam_width = 10\n",
        "replace = False\n",
        "\n",
        "result = beam_search_decoder(pred_latest, beam_width, replace)\n",
        "print('Beam Width:\\t', beam_width)\n",
        "print('Replace:\\t', replace)\n",
        "print('-' * 85)\n",
        "for seq in result:\n",
        "    print('Prediction: ', np.array(seq[0]) + 1, '\\tLog Likelihood: ', seq[1])"
      ],
      "execution_count": 19,
      "outputs": [
        {
          "output_type": "stream",
          "name": "stdout",
          "text": [
            "Beam Width:\t 10\n",
            "Replace:\t False\n",
            "-------------------------------------------------------------------------------------\n",
            "Prediction:  [ 2 14 29 41 54 58 55] \tLog Likelihood:  -20.89786440993707\n",
            "Prediction:  [ 2 14 29 36 54 58 55] \tLog Likelihood:  -20.898220838247216\n",
            "Prediction:  [ 2 14 29 39 54 58 55] \tLog Likelihood:  -20.926297929146333\n",
            "Prediction:  [ 2 14 29 41 54 55 58] \tLog Likelihood:  -20.937513228991953\n",
            "Prediction:  [ 5 14 29 41 54 58 55] \tLog Likelihood:  -20.94908655451802\n",
            "Prediction:  [ 5 14 29 36 54 58 55] \tLog Likelihood:  -20.949442982828163\n",
            "Prediction:  [ 4 14 29 41 54 58 55] \tLog Likelihood:  -20.95784002243582\n",
            "Prediction:  [ 4 14 29 36 54 58 55] \tLog Likelihood:  -20.958196450745966\n",
            "Prediction:  [ 2 14 29 35 54 58 55] \tLog Likelihood:  -20.967232518082543\n",
            "Prediction:  [ 2 14 29 37 54 58 55] \tLog Likelihood:  -20.97339688019517\n"
          ]
        }
      ]
    }
  ]
}