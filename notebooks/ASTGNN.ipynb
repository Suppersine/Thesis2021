{
  "cells": [
    {
      "cell_type": "code",
      "execution_count": null,
      "metadata": {
        "colab": {
          "base_uri": "https://localhost:8080/"
        },
        "id": "V45bTg_2XE5i",
        "outputId": "ee4670dd-1c80-419e-d303-bd056c0879c8"
      },
      "outputs": [
        {
          "name": "stdout",
          "output_type": "stream",
          "text": [
            "Cloning into 'ASTGNN'...\n",
            "remote: Enumerating objects: 47, done.\u001b[K\n",
            "remote: Counting objects: 100% (10/10), done.\u001b[K\n",
            "remote: Compressing objects: 100% (8/8), done.\u001b[K\n",
            "remote: Total 47 (delta 4), reused 6 (delta 2), pack-reused 37\u001b[K\n",
            "Unpacking objects: 100% (47/47), done.\n"
          ]
        }
      ],
      "source": [
        "!git clone https://github.com/guoshnBJTU/ASTGNN.git"
      ]
    },
    {
      "cell_type": "code",
      "execution_count": null,
      "metadata": {
        "colab": {
          "base_uri": "https://localhost:8080/"
        },
        "id": "UE-b-PM8Xmxe",
        "outputId": "c25d57a8-2890-42d9-c387-d8065da3c513"
      },
      "outputs": [
        {
          "name": "stdout",
          "output_type": "stream",
          "text": [
            "/content/ASTGNN\n"
          ]
        }
      ],
      "source": [
        "%cd ASTGNN"
      ]
    },
    {
      "cell_type": "code",
      "execution_count": null,
      "metadata": {
        "colab": {
          "background_save": true,
          "base_uri": "https://localhost:8080/"
        },
        "id": "xe0R7zDyX0df",
        "outputId": "0f2c7c70-262c-4b8d-89c2-54d3274af606"
      },
      "outputs": [
        {
          "name": "stdout",
          "output_type": "stream",
          "text": [
            "Read configuration file: configurations/PEMS04.conf\n",
            "_max.shape: (1, 1, 3, 1)\n",
            "_min.shape: (1, 1, 3, 1)\n",
            "train x: (10181, 307, 3, 12)\n",
            "train target: (10181, 307, 12)\n",
            "train timestamp: (10181, 1)\n",
            "\n",
            "val x: (3394, 307, 3, 12)\n",
            "val target: (3394, 307, 12)\n",
            "val timestamp: (3394, 1)\n",
            "\n",
            "test x: (3394, 307, 3, 12)\n",
            "test target: (3394, 307, 12)\n",
            "test timestamp: (3394, 1)\n",
            "\n",
            "train data max : (1, 1, 3, 1) [[[[9.190e+02]\n",
            "   [7.716e-01]\n",
            "   [8.520e+01]]]]\n",
            "train data min : (1, 1, 3, 1) [[[[0.]\n",
            "   [0.]\n",
            "   [3.]]]]\n",
            "save file: data/PEMS04/PEMS04_r1_d0_w0\n"
          ]
        }
      ],
      "source": [
        "!python prepareData.py --config configurations/PEMS04.conf"
      ]
    },
    {
      "cell_type": "code",
      "execution_count": null,
      "metadata": {
        "colab": {
          "base_uri": "https://localhost:8080/"
        },
        "id": "NDB4ryvLXgUO",
        "outputId": "970b4094-aa3a-438b-9a32-f671ae3aa6d6"
      },
      "outputs": [
        {
          "name": "stdout",
          "output_type": "stream",
          "text": [
            "Read configuration file: configurations/PEMS04_rdw.conf\n",
            "tcmalloc: large alloc 1587781632 bytes == 0x55fcdfe9e000 @  0x7f46e917d1e7 0x7f46e6cbd46e 0x7f46e6d0dc7b 0x7f46e6d0dd18 0x7f46e6db5010 0x7f46e6db573c 0x7f46e6db585d 0x55fb7c90d749 0x7f46e6cfaef7 0x55fb7c90b437 0x55fb7c90b240 0x55fb7c97e973 0x55fb7c9799ee 0x55fb7c90cbda 0x55fb7c97b737 0x55fb7c9799ee 0x55fb7c90cbda 0x55fb7c97b737 0x55fb7c9799ee 0x55fb7c9796f3 0x55fb7ca434c2 0x55fb7ca4383d 0x55fb7ca436e6 0x55fb7ca1b163 0x55fb7ca1ae0c 0x7f46e7f67bf7 0x55fb7ca1acea\n",
            "_max.shape: (1, 1, 3, 1)\n",
            "_min.shape: (1, 1, 3, 1)\n",
            "tcmalloc: large alloc 1587781632 bytes == 0x55fd7da54000 @  0x7f46e917d1e7 0x7f46e6cbd46e 0x7f46e6d0dc7b 0x7f46e6d0dd18 0x7f46e6dc9d79 0x7f46e6dcce4c 0x7f46e6eebe7f 0x7f46e6ef1fb5 0x7f46e6ef3e3d 0x7f46e6ef5516 0x55fb7c90c720 0x55fb7c90c2f9 0x7f46e6dd40db 0x55fb7c9f50b2 0x55fb7c97b62d 0x55fb7c979ced 0x55fb7c90cbda 0x55fb7c97a915 0x55fb7c979ced 0x55fb7c90cbda 0x55fb7c97a915 0x55fb7c9799ee 0x55fb7c90cbda 0x55fb7c97b737 0x55fb7c9799ee 0x55fb7c9796f3 0x55fb7ca434c2 0x55fb7ca4383d 0x55fb7ca436e6 0x55fb7ca1b163 0x55fb7ca1ae0c\n",
            "tcmalloc: large alloc 1587781632 bytes == 0x55fddc48e000 @  0x7f46e917d1e7 0x7f46e6cbd46e 0x7f46e6d0dc7b 0x7f46e6d0dd18 0x7f46e6dc9d79 0x7f46e6dcce4c 0x7f46e6eebe7f 0x7f46e6ef1fb5 0x7f46e6ef3e3d 0x7f46e6ef5516 0x55fb7c90c720 0x55fb7c90c2f9 0x7f46e6dd44d8 0x55fb7c8ee933 0x55fb7c9f5496 0x55fb7c97c84a 0x55fb7c979ced 0x55fb7c90cbda 0x55fb7c97a915 0x55fb7c979ced 0x55fb7c90cbda 0x55fb7c97a915 0x55fb7c9799ee 0x55fb7c90cbda 0x55fb7c97b737 0x55fb7c9799ee 0x55fb7c9796f3 0x55fb7ca434c2 0x55fb7ca4383d 0x55fb7ca436e6 0x55fb7ca1b163\n",
            "tcmalloc: large alloc 1587781632 bytes == 0x55fd7da54000 @  0x7f46e917d1e7 0x7f46e6cbd46e 0x7f46e6d0dc7b 0x7f46e6d0dd18 0x7f46e6dc9d79 0x7f46e6dcce4c 0x7f46e6eebe7f 0x7f46e6ef1fb5 0x7f46e6ef3e3d 0x7f46e6ef5516 0x55fb7c90c720 0x55fb7c90c2f9 0x7f46e6dd3e6b 0x55fb7c9f4698 0x55fb7c97ba2e 0x55fb7c979ced 0x55fb7c90cbda 0x55fb7c97a915 0x55fb7c979ced 0x55fb7c90cbda 0x55fb7c97a915 0x55fb7c9799ee 0x55fb7c90cbda 0x55fb7c97b737 0x55fb7c9799ee 0x55fb7c9796f3 0x55fb7ca434c2 0x55fb7ca4383d 0x55fb7ca436e6 0x55fb7ca1b163 0x55fb7ca1ae0c\n",
            "train x: (8979, 307, 3, 24)\n",
            "train target: (8979, 307, 12)\n",
            "train timestamp: (8979, 1)\n",
            "\n",
            "val x: (2993, 307, 3, 24)\n",
            "val target: (2993, 307, 12)\n",
            "val timestamp: (2993, 1)\n",
            "\n",
            "test x: (2993, 307, 3, 24)\n",
            "test target: (2993, 307, 12)\n",
            "test timestamp: (2993, 1)\n",
            "\n",
            "train data max : (1, 1, 3, 1) [[[[9.190e+02]\n",
            "   [7.716e-01]\n",
            "   [8.520e+01]]]]\n",
            "train data min : (1, 1, 3, 1) [[[[0.]\n",
            "   [0.]\n",
            "   [3.]]]]\n",
            "save file: data/PEMS04/PEMS04_r1_d0_w1\n"
          ]
        }
      ],
      "source": [
        "!python prepareData.py --config configurations/PEMS04_rdw.conf"
      ]
    },
    {
      "cell_type": "code",
      "execution_count": null,
      "metadata": {
        "colab": {
          "background_save": true
        },
        "id": "ylSPkuDQXtnO",
        "outputId": "896f62fb-fd8e-4c9b-e36d-7481e0949921"
      },
      "outputs": [
        {
          "name": "stdout",
          "output_type": "stream",
          "text": [
            "nohup: redirecting stderr to stdout\n"
          ]
        }
      ],
      "source": [
        "!nohup python -u train_ASTGNN.py --config configurations/PEMS04.conf --cuda=1 > pems04.out &"
      ]
    },
    {
      "cell_type": "code",
      "execution_count": null,
      "metadata": {
        "colab": {
          "background_save": true
        },
        "id": "b47-DpWVX7qe",
        "outputId": "1c45cde7-672c-4729-bab9-b651e62bdae2"
      },
      "outputs": [
        {
          "name": "stdout",
          "output_type": "stream",
          "text": [
            "nohup: redirecting stderr to stdout\n"
          ]
        }
      ],
      "source": [
        "!nohup python -u train_ASTGNN.py --config configurations/PEMS04_rdw.conf --cuda=1 > pems04_rdw.out &"
      ]
    }
  ],
  "metadata": {
    "accelerator": "GPU",
    "colab": {
      "name": "ASTGNN.ipynb",
      "provenance": []
    },
    "kernelspec": {
      "display_name": "Python 3",
      "name": "python3"
    },
    "language_info": {
      "name": "python"
    }
  },
  "nbformat": 4,
  "nbformat_minor": 0
}