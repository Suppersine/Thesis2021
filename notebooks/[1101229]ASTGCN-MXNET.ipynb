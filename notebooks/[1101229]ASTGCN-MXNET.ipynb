{
 "cells": [
  {
   "cell_type": "code",
   "execution_count": null,
   "id": "a99edd51",
   "metadata": {},
   "outputs": [],
   "source": []
  },
  {
   "cell_type": "code",
   "execution_count": 2,
   "id": "c6c4f832",
   "metadata": {},
   "outputs": [
    {
     "name": "stdout",
     "output_type": "stream",
     "text": [
      "fatal: destination path 'ASTGCN-r-pytorch' already exists and is not an empty directory.\r\n"
     ]
    }
   ],
   "source": [
    "!git clone https://github.com/guoshnBJTU/ASTGCN-r-pytorch.git"
   ]
  },
  {
   "cell_type": "code",
   "execution_count": null,
   "id": "bdea6d16",
   "metadata": {},
   "outputs": [],
   "source": [
    "!git clone https://github.com/guoshnBJTU/ASTGNN.git"
   ]
  },
  {
   "cell_type": "markdown",
   "id": "96b54758",
   "metadata": {},
   "source": [
    "To obtain the dataset for the ASTGCN-r-pytorch model, move the data folder in the ASTGNN's repo to the ASTGCN's"
   ]
  },
  {
   "cell_type": "code",
   "execution_count": 6,
   "id": "3ae64050",
   "metadata": {},
   "outputs": [
    {
     "name": "stdout",
     "output_type": "stream",
     "text": [
      "/home/u7701783/ASTGCN-r-pytorch\n"
     ]
    }
   ],
   "source": [
    "%cd ASTGCN-r-pytorch"
   ]
  },
  {
   "cell_type": "markdown",
   "id": "8f2f04fb",
   "metadata": {},
   "source": [
    "Here, we install missing libraries"
   ]
  },
  {
   "cell_type": "code",
   "execution_count": 14,
   "id": "bc8267d7",
   "metadata": {},
   "outputs": [
    {
     "name": "stdout",
     "output_type": "stream",
     "text": [
      "Collecting tensorboardX\n",
      "  Downloading tensorboardX-2.4.1-py2.py3-none-any.whl (124 kB)\n",
      "\u001b[K     |████████████████████████████████| 124 kB 1.1 MB/s eta 0:00:01\n",
      "\u001b[?25hRequirement already satisfied: numpy in /opt/conda/lib/python3.8/site-packages (from tensorboardX) (1.21.2)\n",
      "Requirement already satisfied: protobuf>=3.8.0 in /opt/conda/lib/python3.8/site-packages (from tensorboardX) (3.17.3)\n",
      "Requirement already satisfied: six>=1.9 in /opt/conda/lib/python3.8/site-packages (from protobuf>=3.8.0->tensorboardX) (1.16.0)\n",
      "Installing collected packages: tensorboardX\n",
      "Successfully installed tensorboardX-2.4.1\n",
      "\u001b[33mWARNING: You are using pip version 21.2.4; however, version 21.3.1 is available.\n",
      "You should consider upgrading via the '/opt/conda/bin/python3 -m pip install --upgrade pip' command.\u001b[0m\n"
     ]
    }
   ],
   "source": [
    "!pip install tensorboardX"
   ]
  },
  {
   "cell_type": "markdown",
   "id": "387ea759",
   "metadata": {},
   "source": [
    "If data preparation fails, review 2 conf files in the configurations folder. And replace their last 3 lines with this snippet: 'loss_function = masked_mae\n",
    "metric_method = mask\n",
    "missing_value = 0.0'\n",
    "\n",
    "During the revision, change \"distance.csv\" to \"PEMS04.csv\" and remove one dot from the \"PEMS08\" file directory."
   ]
  },
  {
   "cell_type": "code",
   "execution_count": 10,
   "id": "759c12e4",
   "metadata": {},
   "outputs": [
    {
     "name": "stdout",
     "output_type": "stream",
     "text": [
      "Read configuration file: configurations/PEMS04_astgcn.conf\n",
      "mean.shape: (1, 1, 3, 1)\n",
      "std.shape: (1, 1, 3, 1)\n",
      "train x: (10181, 307, 3, 12)\n",
      "train target: (10181, 307, 12)\n",
      "train timestamp: (10181, 1)\n",
      "\n",
      "val x: (3394, 307, 3, 12)\n",
      "val target: (3394, 307, 12)\n",
      "val timestamp: (3394, 1)\n",
      "\n",
      "test x: (3394, 307, 3, 12)\n",
      "test target: (3394, 307, 12)\n",
      "test timestamp: (3394, 1)\n",
      "\n",
      "train data _mean : (1, 1, 3, 1) [[[[2.07227338e+02]\n",
      "   [5.13195612e-02]\n",
      "   [6.34740574e+01]]]]\n",
      "train data _std : (1, 1, 3, 1) [[[[1.56477655e+02]\n",
      "   [4.78541626e-02]\n",
      "   [8.10351724e+00]]]]\n",
      "save file: ./data/PEMS04/PEMS04_r1_d0_w0_astcgn\n"
     ]
    }
   ],
   "source": [
    "!python prepareData.py --config configurations/PEMS04_astgcn.conf"
   ]
  },
  {
   "cell_type": "code",
   "execution_count": 11,
   "id": "23f2477a",
   "metadata": {},
   "outputs": [
    {
     "name": "stdout",
     "output_type": "stream",
     "text": [
      "Read configuration file: configurations/PEMS08_astgcn.conf\n",
      "mean.shape: (1, 1, 3, 1)\n",
      "std.shape: (1, 1, 3, 1)\n",
      "train x: (10699, 170, 3, 12)\n",
      "train target: (10699, 170, 12)\n",
      "train timestamp: (10699, 1)\n",
      "\n",
      "val x: (3567, 170, 3, 12)\n",
      "val target: (3567, 170, 12)\n",
      "val timestamp: (3567, 1)\n",
      "\n",
      "test x: (3567, 170, 3, 12)\n",
      "test target: (3567, 170, 12)\n",
      "test timestamp: (3567, 1)\n",
      "\n",
      "train data _mean : (1, 1, 3, 1) [[[[2.29858934e+02]\n",
      "   [6.43476941e-02]\n",
      "   [6.37841954e+01]]]]\n",
      "train data _std : (1, 1, 3, 1) [[[[1.45622681e+02]\n",
      "   [4.46275336e-02]\n",
      "   [6.53075967e+00]]]]\n",
      "save file: ./data/PEMS08/PEMS08_r1_d0_w0_astcgn\n"
     ]
    }
   ],
   "source": [
    "!python prepareData.py --config configurations/PEMS08_astgcn.conf"
   ]
  },
  {
   "cell_type": "markdown",
   "id": "141e93fd",
   "metadata": {},
   "source": [
    "Once our dataset is ready, we can commence training"
   ]
  },
  {
   "cell_type": "code",
   "execution_count": null,
   "id": "e3953e43",
   "metadata": {
    "scrolled": true
   },
   "outputs": [
    {
     "name": "stdout",
     "output_type": "stream",
     "text": [
      "Read configuration file: configurations/PEMS04_astgcn.conf\n",
      "CUDA: True cuda:0\n",
      "folder_dir: astgcn_r_h1d0w0_channel1_1.000000e-03\n",
      "params_path: experiments/PEMS04/astgcn_r_h1d0w0_channel1_1.000000e-03\n",
      "load file: ./data/PEMS04/PEMS04_r1_d0_w0_astcgn\n",
      "train: torch.Size([10181, 307, 1, 12]) torch.Size([10181, 307, 12])\n",
      "val: torch.Size([3394, 307, 1, 12]) torch.Size([3394, 307, 12])\n",
      "test: torch.Size([3394, 307, 1, 12]) torch.Size([3394, 307, 12])\n",
      "create params directory experiments/PEMS04/astgcn_r_h1d0w0_channel1_1.000000e-03\n",
      "param list:\n",
      "CUDA\t cuda:0\n",
      "in_channels\t 1\n",
      "nb_block\t 2\n",
      "nb_chev_filter\t 64\n",
      "nb_time_filter\t 64\n",
      "time_strides\t 1\n",
      "batch_size\t 32\n",
      "graph_signal_matrix_filename\t ./data/PEMS04/PEMS04.npz\n",
      "start_epoch\t 0\n",
      "epochs\t 80\n",
      "ASTGCN_submodule(\n",
      "  (BlockList): ModuleList(\n",
      "    (0): ASTGCN_block(\n",
      "      (TAt): Temporal_Attention_layer()\n",
      "      (SAt): Spatial_Attention_layer()\n",
      "      (cheb_conv_SAt): cheb_conv_withSAt(\n",
      "        (Theta): ParameterList(\n",
      "            (0): Parameter containing: [torch.cuda.FloatTensor of size 1x64 (GPU 0)]\n",
      "            (1): Parameter containing: [torch.cuda.FloatTensor of size 1x64 (GPU 0)]\n",
      "            (2): Parameter containing: [torch.cuda.FloatTensor of size 1x64 (GPU 0)]\n",
      "        )\n",
      "      )\n",
      "      (time_conv): Conv2d(64, 64, kernel_size=(1, 3), stride=(1, 1), padding=(0, 1))\n",
      "      (residual_conv): Conv2d(1, 64, kernel_size=(1, 1), stride=(1, 1))\n",
      "      (ln): LayerNorm((64,), eps=1e-05, elementwise_affine=True)\n",
      "    )\n",
      "    (1): ASTGCN_block(\n",
      "      (TAt): Temporal_Attention_layer()\n",
      "      (SAt): Spatial_Attention_layer()\n",
      "      (cheb_conv_SAt): cheb_conv_withSAt(\n",
      "        (Theta): ParameterList(\n",
      "            (0): Parameter containing: [torch.cuda.FloatTensor of size 64x64 (GPU 0)]\n",
      "            (1): Parameter containing: [torch.cuda.FloatTensor of size 64x64 (GPU 0)]\n",
      "            (2): Parameter containing: [torch.cuda.FloatTensor of size 64x64 (GPU 0)]\n",
      "        )\n",
      "      )\n",
      "      (time_conv): Conv2d(64, 64, kernel_size=(1, 3), stride=(1, 1), padding=(0, 1))\n",
      "      (residual_conv): Conv2d(64, 64, kernel_size=(1, 1), stride=(1, 1))\n",
      "      (ln): LayerNorm((64,), eps=1e-05, elementwise_affine=True)\n",
      "    )\n",
      "  )\n",
      "  (final_conv): Conv2d(12, 12, kernel_size=(1, 64), stride=(1, 1))\n",
      ")\n",
      "Net's state_dict:\n",
      "BlockList.0.TAt.U1 \t torch.Size([307])\n",
      "BlockList.0.TAt.U2 \t torch.Size([1, 307])\n",
      "BlockList.0.TAt.U3 \t torch.Size([1])\n",
      "BlockList.0.TAt.be \t torch.Size([1, 12, 12])\n",
      "BlockList.0.TAt.Ve \t torch.Size([12, 12])\n",
      "BlockList.0.SAt.W1 \t torch.Size([12])\n",
      "BlockList.0.SAt.W2 \t torch.Size([1, 12])\n",
      "BlockList.0.SAt.W3 \t torch.Size([1])\n",
      "BlockList.0.SAt.bs \t torch.Size([1, 307, 307])\n",
      "BlockList.0.SAt.Vs \t torch.Size([307, 307])\n",
      "BlockList.0.cheb_conv_SAt.Theta.0 \t torch.Size([1, 64])\n",
      "BlockList.0.cheb_conv_SAt.Theta.1 \t torch.Size([1, 64])\n",
      "BlockList.0.cheb_conv_SAt.Theta.2 \t torch.Size([1, 64])\n",
      "BlockList.0.time_conv.weight \t torch.Size([64, 64, 1, 3])\n",
      "BlockList.0.time_conv.bias \t torch.Size([64])\n",
      "BlockList.0.residual_conv.weight \t torch.Size([64, 1, 1, 1])\n",
      "BlockList.0.residual_conv.bias \t torch.Size([64])\n",
      "BlockList.0.ln.weight \t torch.Size([64])\n",
      "BlockList.0.ln.bias \t torch.Size([64])\n",
      "BlockList.1.TAt.U1 \t torch.Size([307])\n",
      "BlockList.1.TAt.U2 \t torch.Size([64, 307])\n",
      "BlockList.1.TAt.U3 \t torch.Size([64])\n",
      "BlockList.1.TAt.be \t torch.Size([1, 12, 12])\n",
      "BlockList.1.TAt.Ve \t torch.Size([12, 12])\n",
      "BlockList.1.SAt.W1 \t torch.Size([12])\n",
      "BlockList.1.SAt.W2 \t torch.Size([64, 12])\n",
      "BlockList.1.SAt.W3 \t torch.Size([64])\n",
      "BlockList.1.SAt.bs \t torch.Size([1, 307, 307])\n",
      "BlockList.1.SAt.Vs \t torch.Size([307, 307])\n",
      "BlockList.1.cheb_conv_SAt.Theta.0 \t torch.Size([64, 64])\n",
      "BlockList.1.cheb_conv_SAt.Theta.1 \t torch.Size([64, 64])\n",
      "BlockList.1.cheb_conv_SAt.Theta.2 \t torch.Size([64, 64])\n",
      "BlockList.1.time_conv.weight \t torch.Size([64, 64, 1, 3])\n",
      "BlockList.1.time_conv.bias \t torch.Size([64])\n",
      "BlockList.1.residual_conv.weight \t torch.Size([64, 64, 1, 1])\n",
      "BlockList.1.residual_conv.bias \t torch.Size([64])\n",
      "BlockList.1.ln.weight \t torch.Size([64])\n",
      "BlockList.1.ln.bias \t torch.Size([64])\n",
      "final_conv.weight \t torch.Size([12, 12, 1, 64])\n",
      "final_conv.bias \t torch.Size([12])\n",
      "Net's total params: 450031\n",
      "Optimizer's state_dict:\n",
      "state \t {}\n",
      "param_groups \t [{'lr': 0.001, 'betas': (0.9, 0.999), 'eps': 1e-08, 'weight_decay': 0, 'amsgrad': False, 'params': [0, 1, 2, 3, 4, 5, 6, 7, 8, 9, 10, 11, 12, 13, 14, 15, 16, 17, 18, 19, 20, 21, 22, 23, 24, 25, 26, 27, 28, 29, 30, 31, 32, 33, 34, 35, 36, 37, 38, 39]}]\n",
      "/home/u7701783/.local/lib/python3.8/site-packages/torch/nn/modules/container.py:435: UserWarning: Setting attributes on ParameterList is not supported.\n",
      "  warnings.warn(\"Setting attributes on ParameterList is not supported.\")\n",
      "validation batch 1 / 107, loss: 277.66\n",
      "validation batch 101 / 107, loss: 333.94\n",
      "save parameters to file: experiments/PEMS04/astgcn_r_h1d0w0_channel1_1.000000e-03/epoch_0.params\n",
      "validation batch 1 / 107, loss: 56.09\n",
      "validation batch 101 / 107, loss: 85.89\n",
      "save parameters to file: experiments/PEMS04/astgcn_r_h1d0w0_channel1_1.000000e-03/epoch_1.params\n",
      "validation batch 1 / 107, loss: 34.06\n",
      "validation batch 101 / 107, loss: 42.29\n",
      "save parameters to file: experiments/PEMS04/astgcn_r_h1d0w0_channel1_1.000000e-03/epoch_2.params\n",
      "validation batch 1 / 107, loss: 31.77\n",
      "validation batch 101 / 107, loss: 36.41\n",
      "save parameters to file: experiments/PEMS04/astgcn_r_h1d0w0_channel1_1.000000e-03/epoch_3.params\n",
      "global step: 1000, training loss: 32.95, time: 101.07s\n",
      "validation batch 1 / 107, loss: 30.25\n",
      "validation batch 101 / 107, loss: 34.73\n",
      "save parameters to file: experiments/PEMS04/astgcn_r_h1d0w0_channel1_1.000000e-03/epoch_4.params\n",
      "validation batch 1 / 107, loss: 28.34\n",
      "validation batch 101 / 107, loss: 33.28\n",
      "save parameters to file: experiments/PEMS04/astgcn_r_h1d0w0_channel1_1.000000e-03/epoch_5.params\n",
      "validation batch 1 / 107, loss: 28.00\n",
      "validation batch 101 / 107, loss: 32.22\n",
      "save parameters to file: experiments/PEMS04/astgcn_r_h1d0w0_channel1_1.000000e-03/epoch_6.params\n",
      "global step: 2000, training loss: 28.28, time: 197.88s\n",
      "validation batch 1 / 107, loss: 26.85\n",
      "validation batch 101 / 107, loss: 31.36\n",
      "save parameters to file: experiments/PEMS04/astgcn_r_h1d0w0_channel1_1.000000e-03/epoch_7.params\n",
      "validation batch 1 / 107, loss: 26.60\n",
      "validation batch 101 / 107, loss: 30.82\n",
      "save parameters to file: experiments/PEMS04/astgcn_r_h1d0w0_channel1_1.000000e-03/epoch_8.params\n",
      "validation batch 1 / 107, loss: 26.97\n",
      "validation batch 101 / 107, loss: 30.28\n",
      "save parameters to file: experiments/PEMS04/astgcn_r_h1d0w0_channel1_1.000000e-03/epoch_9.params\n",
      "global step: 3000, training loss: 23.76, time: 294.87s\n",
      "validation batch 1 / 107, loss: 26.41\n",
      "validation batch 101 / 107, loss: 29.87\n",
      "save parameters to file: experiments/PEMS04/astgcn_r_h1d0w0_channel1_1.000000e-03/epoch_10.params\n",
      "validation batch 1 / 107, loss: 26.74\n",
      "validation batch 101 / 107, loss: 29.99\n",
      "save parameters to file: experiments/PEMS04/astgcn_r_h1d0w0_channel1_1.000000e-03/epoch_11.params\n",
      "validation batch 1 / 107, loss: 26.07\n",
      "validation batch 101 / 107, loss: 29.47\n",
      "save parameters to file: experiments/PEMS04/astgcn_r_h1d0w0_channel1_1.000000e-03/epoch_12.params\n",
      "global step: 4000, training loss: 24.31, time: 391.76s\n",
      "validation batch 1 / 107, loss: 25.77\n",
      "validation batch 101 / 107, loss: 30.27\n",
      "save parameters to file: experiments/PEMS04/astgcn_r_h1d0w0_channel1_1.000000e-03/epoch_13.params\n",
      "validation batch 1 / 107, loss: 27.04\n",
      "validation batch 101 / 107, loss: 29.79\n",
      "validation batch 1 / 107, loss: 25.78\n",
      "validation batch 101 / 107, loss: 29.39\n",
      "save parameters to file: experiments/PEMS04/astgcn_r_h1d0w0_channel1_1.000000e-03/epoch_15.params\n",
      "global step: 5000, training loss: 19.06, time: 488.79s\n",
      "validation batch 1 / 107, loss: 26.13\n",
      "validation batch 101 / 107, loss: 29.95\n",
      "validation batch 1 / 107, loss: 27.14\n",
      "validation batch 101 / 107, loss: 29.81\n",
      "validation batch 1 / 107, loss: 25.83\n",
      "validation batch 101 / 107, loss: 29.08\n",
      "save parameters to file: experiments/PEMS04/astgcn_r_h1d0w0_channel1_1.000000e-03/epoch_18.params\n"
     ]
    }
   ],
   "source": [
    "!python train_ASTGCN_r.py --config configurations/PEMS04_astgcn.conf"
   ]
  },
  {
   "cell_type": "code",
   "execution_count": null,
   "id": "4e88cd1d",
   "metadata": {},
   "outputs": [],
   "source": [
    "python train_ASTGCN_r.py --config configurations/PEMS08_astgcn.conf"
   ]
  },
  {
   "cell_type": "code",
   "execution_count": null,
   "id": "cbfbf440",
   "metadata": {},
   "outputs": [],
   "source": []
  }
 ],
 "metadata": {
  "kernelspec": {
   "display_name": "Python 3 (ipykernel)",
   "language": "python",
   "name": "python3"
  },
  "language_info": {
   "codemirror_mode": {
    "name": "ipython",
    "version": 3
   },
   "file_extension": ".py",
   "mimetype": "text/x-python",
   "name": "python",
   "nbconvert_exporter": "python",
   "pygments_lexer": "ipython3",
   "version": "3.8.10"
  }
 },
 "nbformat": 4,
 "nbformat_minor": 5
}
