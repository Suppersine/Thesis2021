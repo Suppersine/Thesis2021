{
  "nbformat": 4,
  "nbformat_minor": 0,
  "metadata": {
    "colab": {
      "name": "Uber_Lstm_Keras_Aug21.ipynb",
      "provenance": [],
      "collapsed_sections": []
    },
    "kernelspec": {
      "name": "python3",
      "display_name": "Python 3"
    },
    "language_info": {
      "name": "python"
    },
    "accelerator": "GPU"
  },
  "cells": [
    {
      "cell_type": "markdown",
      "metadata": {
        "id": "uj0AKIF4R5Qe"
      },
      "source": [
        "File Download"
      ]
    },
    {
      "cell_type": "code",
      "metadata": {
        "colab": {
          "base_uri": "https://localhost:8080/"
        },
        "id": "q0aKb6qpQity",
        "outputId": "73921bf8-df2e-4e16-bab4-7a054598f757"
      },
      "source": [
        "!wget https://raw.githubusercontent.com/Suppersine/Thesis2021/main/taxiuber/uberday.csv"
      ],
      "execution_count": null,
      "outputs": [
        {
          "output_type": "stream",
          "text": [
            "--2021-08-19 07:52:46--  https://raw.githubusercontent.com/Suppersine/Thesis2021/main/taxiuber/uberday.csv\n",
            "Resolving raw.githubusercontent.com (raw.githubusercontent.com)... 185.199.108.133, 185.199.109.133, 185.199.110.133, ...\n",
            "Connecting to raw.githubusercontent.com (raw.githubusercontent.com)|185.199.108.133|:443... connected.\n",
            "HTTP request sent, awaiting response... 200 OK\n",
            "Length: 1376 (1.3K) [text/plain]\n",
            "Saving to: ‘uberday.csv’\n",
            "\n",
            "\ruberday.csv           0%[                    ]       0  --.-KB/s               \ruberday.csv         100%[===================>]   1.34K  --.-KB/s    in 0s      \n",
            "\n",
            "2021-08-19 07:52:46 (62.8 MB/s) - ‘uberday.csv’ saved [1376/1376]\n",
            "\n"
          ],
          "name": "stdout"
        }
      ]
    },
    {
      "cell_type": "markdown",
      "metadata": {
        "id": "0pVzkHsAR8Jc"
      },
      "source": [
        "Library"
      ]
    },
    {
      "cell_type": "code",
      "metadata": {
        "id": "Pl-O78ZCR_7H"
      },
      "source": [
        "# LSTM for international airline passengers problem with regression framing\n",
        "import numpy\n",
        "import matplotlib.pyplot as plt\n",
        "import pandas as pd\n",
        "import math\n",
        "import tensorflow as tf\n",
        "from keras.models import Sequential\n",
        "from keras.layers import Dense\n",
        "from keras.layers import LSTM\n",
        "from sklearn.preprocessing import MinMaxScaler\n",
        "from sklearn.metrics import mean_squared_error"
      ],
      "execution_count": null,
      "outputs": []
    },
    {
      "cell_type": "markdown",
      "metadata": {
        "id": "vayKRZ4Bhpr0"
      },
      "source": [
        "convert an array of values into a dataset matrix"
      ]
    },
    {
      "cell_type": "code",
      "metadata": {
        "id": "EObWBErwZFTg"
      },
      "source": [
        "def create_dataset(dataset, look_back=1):\n",
        "\tdataX, dataY = [], []\n",
        "\tfor i in range(len(dataset)-look_back-1):\n",
        "\t\ta = dataset[i:(i+look_back), 0]\n",
        "\t\tdataX.append(a)\n",
        "\t\tdataY.append(dataset[i + look_back, 0])\n",
        "\treturn numpy.array(dataX), numpy.array(dataY)\n",
        "\n",
        "# fix random seed for reproducibility\n",
        "numpy.random.seed(7)"
      ],
      "execution_count": null,
      "outputs": []
    },
    {
      "cell_type": "markdown",
      "metadata": {
        "id": "QVlp2JvVSC0V"
      },
      "source": [
        "Data Plot & preparation"
      ]
    },
    {
      "cell_type": "code",
      "metadata": {
        "colab": {
          "base_uri": "https://localhost:8080/",
          "height": 265
        },
        "id": "8ZUGdlWuSIa7",
        "outputId": "28fc4ffd-f20f-435c-fea9-8e08d563ec09"
      },
      "source": [
        "# load the dataset\n",
        "dataframe = pd.read_csv('uberday.csv', usecols=[1], engine='python')\n",
        "dataset = dataframe.values\n",
        "dataset = dataset.astype('float32')\n",
        "\n",
        "dataplot = dataframe.copy()\n",
        "#training_set = pd.read_csv('shampoo.csv')\n",
        "\n",
        "#dataplot = dataplot.iloc[:,1:2].values\n",
        "\n",
        "#plt.plot(training_set, label = 'Shampoo Sales Data')\n",
        "plt.plot(dataplot, label = 'Taxi Daily Ridership Data (104/01-08)')\n",
        "plt.show()\n",
        "\n",
        "# normalize the dataset\n",
        "scaler = MinMaxScaler(feature_range=(0, 1))\n",
        "dataset = scaler.fit_transform(dataset)\n",
        "\n",
        "# split into train and test sets\n",
        "#here, you can change the test size to make future prediction\n",
        "train_size = int(len(dataset) * 0.67)\n",
        "test_size = len(dataset) - train_size\n",
        "train, test = dataset[0:train_size,:], dataset[train_size:len(dataset),:]\n",
        "\n",
        "# reshape into X=t and Y=t+1\n",
        "look_back = 1\n",
        "trainX, trainY = create_dataset(train, look_back)\n",
        "testX, testY = create_dataset(test, look_back)\n",
        "\n",
        "# reshape input to be [samples, time steps, features]\n",
        "trainX = numpy.reshape(trainX, (trainX.shape[0], 1, trainX.shape[1]))\n",
        "testX = numpy.reshape(testX, (testX.shape[0], 1, testX.shape[1]))\n"
      ],
      "execution_count": null,
      "outputs": [
        {
          "output_type": "display_data",
          "data": {
            "image/png": "[encoded data removed]",
            "text/plain": [
              "<Figure size 432x288 with 1 Axes>"
            ]
          },
          "metadata": {
            "needs_background": "light"
          }
        }
      ]
    },
    {
      "cell_type": "markdown",
      "metadata": {
        "id": "c1sPs2hJYafi"
      },
      "source": [
        "Model & Training"
      ]
    },
    {
      "cell_type": "code",
      "metadata": {
        "id": "jw1SuMRZYcWh",
        "colab": {
          "base_uri": "https://localhost:8080/"
        },
        "outputId": "de9fe3c0-8e0a-486c-ead3-7719e12aad36"
      },
      "source": [
        "# create and fit the LSTM network\n",
        "model = Sequential()\n",
        "model.add(LSTM(4, input_shape=(1, look_back)))\n",
        "model.add(Dense(1))\n",
        "model.compile(loss='mean_squared_error', optimizer='adam')\n",
        "model.fit(trainX, trainY, epochs=200, batch_size=1, verbose=2)"
      ],
      "execution_count": null,
      "outputs": [
        {
          "output_type": "stream",
          "text": [
            "Epoch 1/200\n",
            "67/67 - 8s - loss: 0.0496\n",
            "Epoch 2/200\n",
            "67/67 - 0s - loss: 0.0292\n",
            "Epoch 3/200\n",
            "67/67 - 0s - loss: 0.0225\n",
            "Epoch 4/200\n",
            "67/67 - 0s - loss: 0.0206\n",
            "Epoch 5/200\n",
            "67/67 - 0s - loss: 0.0202\n",
            "Epoch 6/200\n",
            "67/67 - 0s - loss: 0.0200\n",
            "Epoch 7/200\n",
            "67/67 - 0s - loss: 0.0200\n",
            "Epoch 8/200\n",
            "67/67 - 0s - loss: 0.0201\n",
            "Epoch 9/200\n",
            "67/67 - 0s - loss: 0.0200\n",
            "Epoch 10/200\n",
            "67/67 - 0s - loss: 0.0199\n",
            "Epoch 11/200\n",
            "67/67 - 0s - loss: 0.0198\n",
            "Epoch 12/200\n",
            "67/67 - 0s - loss: 0.0198\n",
            "Epoch 13/200\n",
            "67/67 - 0s - loss: 0.0198\n",
            "Epoch 14/200\n",
            "67/67 - 0s - loss: 0.0199\n",
            "Epoch 15/200\n",
            "67/67 - 0s - loss: 0.0198\n",
            "Epoch 16/200\n",
            "67/67 - 0s - loss: 0.0197\n",
            "Epoch 17/200\n",
            "67/67 - 0s - loss: 0.0198\n",
            "Epoch 18/200\n",
            "67/67 - 0s - loss: 0.0197\n",
            "Epoch 19/200\n",
            "67/67 - 0s - loss: 0.0196\n",
            "Epoch 20/200\n",
            "67/67 - 0s - loss: 0.0196\n",
            "Epoch 21/200\n",
            "67/67 - 0s - loss: 0.0197\n",
            "Epoch 22/200\n",
            "67/67 - 0s - loss: 0.0195\n",
            "Epoch 23/200\n",
            "67/67 - 0s - loss: 0.0195\n",
            "Epoch 24/200\n",
            "67/67 - 0s - loss: 0.0197\n",
            "Epoch 25/200\n",
            "67/67 - 0s - loss: 0.0195\n",
            "Epoch 26/200\n",
            "67/67 - 0s - loss: 0.0195\n",
            "Epoch 27/200\n",
            "67/67 - 0s - loss: 0.0195\n",
            "Epoch 28/200\n",
            "67/67 - 0s - loss: 0.0197\n",
            "Epoch 29/200\n",
            "67/67 - 0s - loss: 0.0195\n",
            "Epoch 30/200\n",
            "67/67 - 0s - loss: 0.0194\n",
            "Epoch 31/200\n",
            "67/67 - 0s - loss: 0.0195\n",
            "Epoch 32/200\n",
            "67/67 - 0s - loss: 0.0194\n",
            "Epoch 33/200\n",
            "67/67 - 0s - loss: 0.0194\n",
            "Epoch 34/200\n",
            "67/67 - 0s - loss: 0.0197\n",
            "Epoch 35/200\n",
            "67/67 - 0s - loss: 0.0195\n",
            "Epoch 36/200\n",
            "67/67 - 0s - loss: 0.0193\n",
            "Epoch 37/200\n",
            "67/67 - 0s - loss: 0.0197\n",
            "Epoch 38/200\n",
            "67/67 - 0s - loss: 0.0194\n",
            "Epoch 39/200\n",
            "67/67 - 0s - loss: 0.0195\n",
            "Epoch 40/200\n",
            "67/67 - 0s - loss: 0.0195\n",
            "Epoch 41/200\n",
            "67/67 - 0s - loss: 0.0194\n",
            "Epoch 42/200\n",
            "67/67 - 0s - loss: 0.0193\n",
            "Epoch 43/200\n",
            "67/67 - 0s - loss: 0.0193\n",
            "Epoch 44/200\n",
            "67/67 - 0s - loss: 0.0193\n",
            "Epoch 45/200\n",
            "67/67 - 0s - loss: 0.0194\n",
            "Epoch 46/200\n",
            "67/67 - 0s - loss: 0.0194\n",
            "Epoch 47/200\n",
            "67/67 - 0s - loss: 0.0197\n",
            "Epoch 48/200\n",
            "67/67 - 0s - loss: 0.0196\n",
            "Epoch 49/200\n",
            "67/67 - 0s - loss: 0.0195\n",
            "Epoch 50/200\n",
            "67/67 - 0s - loss: 0.0196\n",
            "Epoch 51/200\n",
            "67/67 - 0s - loss: 0.0196\n",
            "Epoch 52/200\n",
            "67/67 - 0s - loss: 0.0193\n",
            "Epoch 53/200\n",
            "67/67 - 0s - loss: 0.0193\n",
            "Epoch 54/200\n",
            "67/67 - 0s - loss: 0.0193\n",
            "Epoch 55/200\n",
            "67/67 - 0s - loss: 0.0193\n",
            "Epoch 56/200\n",
            "67/67 - 0s - loss: 0.0193\n",
            "Epoch 57/200\n",
            "67/67 - 0s - loss: 0.0194\n",
            "Epoch 58/200\n",
            "67/67 - 0s - loss: 0.0194\n",
            "Epoch 59/200\n",
            "67/67 - 0s - loss: 0.0193\n",
            "Epoch 60/200\n",
            "67/67 - 0s - loss: 0.0193\n",
            "Epoch 61/200\n",
            "67/67 - 0s - loss: 0.0194\n",
            "Epoch 62/200\n",
            "67/67 - 0s - loss: 0.0195\n",
            "Epoch 63/200\n",
            "67/67 - 0s - loss: 0.0193\n",
            "Epoch 64/200\n",
            "67/67 - 0s - loss: 0.0195\n",
            "Epoch 65/200\n",
            "67/67 - 0s - loss: 0.0195\n",
            "Epoch 66/200\n",
            "67/67 - 0s - loss: 0.0193\n",
            "Epoch 67/200\n",
            "67/67 - 0s - loss: 0.0193\n",
            "Epoch 68/200\n",
            "67/67 - 0s - loss: 0.0193\n",
            "Epoch 69/200\n",
            "67/67 - 0s - loss: 0.0196\n",
            "Epoch 70/200\n",
            "67/67 - 0s - loss: 0.0193\n",
            "Epoch 71/200\n",
            "67/67 - 0s - loss: 0.0194\n",
            "Epoch 72/200\n",
            "67/67 - 0s - loss: 0.0193\n",
            "Epoch 73/200\n",
            "67/67 - 0s - loss: 0.0193\n",
            "Epoch 74/200\n",
            "67/67 - 0s - loss: 0.0193\n",
            "Epoch 75/200\n",
            "67/67 - 0s - loss: 0.0194\n",
            "Epoch 76/200\n",
            "67/67 - 0s - loss: 0.0195\n",
            "Epoch 77/200\n",
            "67/67 - 0s - loss: 0.0195\n",
            "Epoch 78/200\n",
            "67/67 - 0s - loss: 0.0193\n",
            "Epoch 79/200\n",
            "67/67 - 0s - loss: 0.0192\n",
            "Epoch 80/200\n",
            "67/67 - 0s - loss: 0.0195\n",
            "Epoch 81/200\n",
            "67/67 - 0s - loss: 0.0194\n",
            "Epoch 82/200\n",
            "67/67 - 0s - loss: 0.0195\n",
            "Epoch 83/200\n",
            "67/67 - 0s - loss: 0.0194\n",
            "Epoch 84/200\n",
            "67/67 - 0s - loss: 0.0197\n",
            "Epoch 85/200\n",
            "67/67 - 0s - loss: 0.0194\n",
            "Epoch 86/200\n",
            "67/67 - 0s - loss: 0.0192\n",
            "Epoch 87/200\n",
            "67/67 - 0s - loss: 0.0195\n",
            "Epoch 88/200\n",
            "67/67 - 0s - loss: 0.0193\n",
            "Epoch 89/200\n",
            "67/67 - 0s - loss: 0.0194\n",
            "Epoch 90/200\n",
            "67/67 - 0s - loss: 0.0194\n",
            "Epoch 91/200\n",
            "67/67 - 0s - loss: 0.0194\n",
            "Epoch 92/200\n",
            "67/67 - 0s - loss: 0.0194\n",
            "Epoch 93/200\n",
            "67/67 - 0s - loss: 0.0192\n",
            "Epoch 94/200\n",
            "67/67 - 0s - loss: 0.0194\n",
            "Epoch 95/200\n",
            "67/67 - 0s - loss: 0.0193\n",
            "Epoch 96/200\n",
            "67/67 - 0s - loss: 0.0193\n",
            "Epoch 97/200\n",
            "67/67 - 0s - loss: 0.0192\n",
            "Epoch 98/200\n",
            "67/67 - 0s - loss: 0.0194\n",
            "Epoch 99/200\n",
            "67/67 - 0s - loss: 0.0196\n",
            "Epoch 100/200\n",
            "67/67 - 0s - loss: 0.0193\n",
            "Epoch 101/200\n",
            "67/67 - 0s - loss: 0.0192\n",
            "Epoch 102/200\n",
            "67/67 - 0s - loss: 0.0192\n",
            "Epoch 103/200\n",
            "67/67 - 0s - loss: 0.0193\n",
            "Epoch 104/200\n",
            "67/67 - 0s - loss: 0.0194\n",
            "Epoch 105/200\n",
            "67/67 - 0s - loss: 0.0193\n",
            "Epoch 106/200\n",
            "67/67 - 0s - loss: 0.0193\n",
            "Epoch 107/200\n",
            "67/67 - 0s - loss: 0.0193\n",
            "Epoch 108/200\n",
            "67/67 - 0s - loss: 0.0194\n",
            "Epoch 109/200\n",
            "67/67 - 0s - loss: 0.0194\n",
            "Epoch 110/200\n",
            "67/67 - 0s - loss: 0.0192\n",
            "Epoch 111/200\n",
            "67/67 - 0s - loss: 0.0193\n",
            "Epoch 112/200\n",
            "67/67 - 0s - loss: 0.0194\n",
            "Epoch 113/200\n",
            "67/67 - 0s - loss: 0.0192\n",
            "Epoch 114/200\n",
            "67/67 - 0s - loss: 0.0194\n",
            "Epoch 115/200\n",
            "67/67 - 0s - loss: 0.0192\n",
            "Epoch 116/200\n",
            "67/67 - 0s - loss: 0.0194\n",
            "Epoch 117/200\n",
            "67/67 - 0s - loss: 0.0193\n",
            "Epoch 118/200\n",
            "67/67 - 0s - loss: 0.0193\n",
            "Epoch 119/200\n",
            "67/67 - 0s - loss: 0.0194\n",
            "Epoch 120/200\n",
            "67/67 - 0s - loss: 0.0194\n",
            "Epoch 121/200\n",
            "67/67 - 0s - loss: 0.0192\n",
            "Epoch 122/200\n",
            "67/67 - 0s - loss: 0.0195\n",
            "Epoch 123/200\n",
            "67/67 - 0s - loss: 0.0193\n",
            "Epoch 124/200\n",
            "67/67 - 0s - loss: 0.0193\n",
            "Epoch 125/200\n",
            "67/67 - 0s - loss: 0.0194\n",
            "Epoch 126/200\n",
            "67/67 - 0s - loss: 0.0194\n",
            "Epoch 127/200\n",
            "67/67 - 0s - loss: 0.0193\n",
            "Epoch 128/200\n",
            "67/67 - 0s - loss: 0.0192\n",
            "Epoch 129/200\n",
            "67/67 - 0s - loss: 0.0193\n",
            "Epoch 130/200\n",
            "67/67 - 0s - loss: 0.0193\n",
            "Epoch 131/200\n",
            "67/67 - 0s - loss: 0.0193\n",
            "Epoch 132/200\n",
            "67/67 - 0s - loss: 0.0195\n",
            "Epoch 133/200\n",
            "67/67 - 0s - loss: 0.0195\n",
            "Epoch 134/200\n",
            "67/67 - 0s - loss: 0.0194\n",
            "Epoch 135/200\n",
            "67/67 - 0s - loss: 0.0193\n",
            "Epoch 136/200\n",
            "67/67 - 0s - loss: 0.0192\n",
            "Epoch 137/200\n",
            "67/67 - 0s - loss: 0.0194\n",
            "Epoch 138/200\n",
            "67/67 - 0s - loss: 0.0195\n",
            "Epoch 139/200\n",
            "67/67 - 0s - loss: 0.0192\n",
            "Epoch 140/200\n",
            "67/67 - 0s - loss: 0.0192\n",
            "Epoch 141/200\n",
            "67/67 - 0s - loss: 0.0193\n",
            "Epoch 142/200\n",
            "67/67 - 0s - loss: 0.0193\n",
            "Epoch 143/200\n",
            "67/67 - 0s - loss: 0.0193\n",
            "Epoch 144/200\n",
            "67/67 - 0s - loss: 0.0195\n",
            "Epoch 145/200\n",
            "67/67 - 0s - loss: 0.0193\n",
            "Epoch 146/200\n",
            "67/67 - 0s - loss: 0.0194\n",
            "Epoch 147/200\n",
            "67/67 - 0s - loss: 0.0192\n",
            "Epoch 148/200\n",
            "67/67 - 0s - loss: 0.0193\n",
            "Epoch 149/200\n",
            "67/67 - 0s - loss: 0.0193\n",
            "Epoch 150/200\n",
            "67/67 - 0s - loss: 0.0193\n",
            "Epoch 151/200\n",
            "67/67 - 0s - loss: 0.0193\n",
            "Epoch 152/200\n",
            "67/67 - 0s - loss: 0.0193\n",
            "Epoch 153/200\n",
            "67/67 - 0s - loss: 0.0193\n",
            "Epoch 154/200\n",
            "67/67 - 0s - loss: 0.0193\n",
            "Epoch 155/200\n",
            "67/67 - 0s - loss: 0.0192\n",
            "Epoch 156/200\n",
            "67/67 - 0s - loss: 0.0193\n",
            "Epoch 157/200\n",
            "67/67 - 0s - loss: 0.0193\n",
            "Epoch 158/200\n",
            "67/67 - 0s - loss: 0.0192\n",
            "Epoch 159/200\n",
            "67/67 - 0s - loss: 0.0195\n",
            "Epoch 160/200\n",
            "67/67 - 0s - loss: 0.0193\n",
            "Epoch 161/200\n",
            "67/67 - 0s - loss: 0.0194\n",
            "Epoch 162/200\n",
            "67/67 - 0s - loss: 0.0193\n",
            "Epoch 163/200\n",
            "67/67 - 0s - loss: 0.0194\n",
            "Epoch 164/200\n",
            "67/67 - 0s - loss: 0.0194\n",
            "Epoch 165/200\n",
            "67/67 - 0s - loss: 0.0194\n",
            "Epoch 166/200\n",
            "67/67 - 0s - loss: 0.0192\n",
            "Epoch 167/200\n",
            "67/67 - 0s - loss: 0.0193\n",
            "Epoch 168/200\n",
            "67/67 - 0s - loss: 0.0193\n",
            "Epoch 169/200\n",
            "67/67 - 0s - loss: 0.0193\n",
            "Epoch 170/200\n",
            "67/67 - 0s - loss: 0.0192\n",
            "Epoch 171/200\n",
            "67/67 - 0s - loss: 0.0193\n",
            "Epoch 172/200\n",
            "67/67 - 0s - loss: 0.0195\n",
            "Epoch 173/200\n",
            "67/67 - 0s - loss: 0.0195\n",
            "Epoch 174/200\n",
            "67/67 - 0s - loss: 0.0196\n",
            "Epoch 175/200\n",
            "67/67 - 0s - loss: 0.0193\n",
            "Epoch 176/200\n",
            "67/67 - 0s - loss: 0.0193\n",
            "Epoch 177/200\n",
            "67/67 - 0s - loss: 0.0192\n",
            "Epoch 178/200\n",
            "67/67 - 0s - loss: 0.0192\n",
            "Epoch 179/200\n",
            "67/67 - 0s - loss: 0.0192\n",
            "Epoch 180/200\n",
            "67/67 - 0s - loss: 0.0192\n",
            "Epoch 181/200\n",
            "67/67 - 0s - loss: 0.0192\n",
            "Epoch 182/200\n",
            "67/67 - 0s - loss: 0.0193\n",
            "Epoch 183/200\n",
            "67/67 - 0s - loss: 0.0194\n",
            "Epoch 184/200\n",
            "67/67 - 0s - loss: 0.0193\n",
            "Epoch 185/200\n",
            "67/67 - 0s - loss: 0.0192\n",
            "Epoch 186/200\n",
            "67/67 - 0s - loss: 0.0193\n",
            "Epoch 187/200\n",
            "67/67 - 0s - loss: 0.0193\n",
            "Epoch 188/200\n",
            "67/67 - 0s - loss: 0.0193\n",
            "Epoch 189/200\n",
            "67/67 - 0s - loss: 0.0193\n",
            "Epoch 190/200\n",
            "67/67 - 0s - loss: 0.0194\n",
            "Epoch 191/200\n",
            "67/67 - 0s - loss: 0.0193\n",
            "Epoch 192/200\n",
            "67/67 - 0s - loss: 0.0194\n",
            "Epoch 193/200\n",
            "67/67 - 0s - loss: 0.0194\n",
            "Epoch 194/200\n",
            "67/67 - 0s - loss: 0.0193\n",
            "Epoch 195/200\n",
            "67/67 - 0s - loss: 0.0192\n",
            "Epoch 196/200\n",
            "67/67 - 0s - loss: 0.0193\n",
            "Epoch 197/200\n",
            "67/67 - 0s - loss: 0.0194\n",
            "Epoch 198/200\n",
            "67/67 - 0s - loss: 0.0193\n",
            "Epoch 199/200\n",
            "67/67 - 0s - loss: 0.0193\n",
            "Epoch 200/200\n",
            "67/67 - 0s - loss: 0.0193\n"
          ],
          "name": "stdout"
        },
        {
          "output_type": "execute_result",
          "data": {
            "text/plain": [
              "<keras.callbacks.History at 0x7f94503a0cd0>"
            ]
          },
          "metadata": {},
          "execution_count": 5
        }
      ]
    },
    {
      "cell_type": "markdown",
      "metadata": {
        "id": "xh3KBV18YsxR"
      },
      "source": [
        "Prediction & RMSE calculation"
      ]
    },
    {
      "cell_type": "code",
      "metadata": {
        "colab": {
          "base_uri": "https://localhost:8080/"
        },
        "id": "gMXLVwArYuYR",
        "outputId": "7b1720ec-3cb1-428a-df49-db96206680aa"
      },
      "source": [
        "# make predictions\n",
        "trainPredict = model.predict(trainX)\n",
        "testPredict = model.predict(testX)\n",
        "\n",
        "# invert predictions\n",
        "trainPredict = scaler.inverse_transform(trainPredict)\n",
        "trainY = scaler.inverse_transform([trainY])\n",
        "testPredict = scaler.inverse_transform(testPredict)\n",
        "testY = scaler.inverse_transform([testY])\n",
        "\n",
        "# calculate root mean squared error\n",
        "trainScore = math.sqrt(mean_squared_error(trainY[0], trainPredict[:,0]))\n",
        "print('Train Score: %.2f RMSE' % (trainScore))\n",
        "testScore = math.sqrt(mean_squared_error(testY[0], testPredict[:,0]))\n",
        "print('Test Score: %.2f RMSE' % (testScore))"
      ],
      "execution_count": null,
      "outputs": [
        {
          "output_type": "stream",
          "text": [
            "Train Score: 5823.53 RMSE\n",
            "Test Score: 10244.89 RMSE\n"
          ],
          "name": "stdout"
        }
      ]
    },
    {
      "cell_type": "markdown",
      "metadata": {
        "id": "pE4dG2YyY_Tp"
      },
      "source": [
        "Testing Data & Plot"
      ]
    },
    {
      "cell_type": "code",
      "metadata": {
        "colab": {
          "base_uri": "https://localhost:8080/",
          "height": 265
        },
        "id": "PACKOAK0ZAcY",
        "outputId": "273a00d4-63d3-45e3-8fa0-492bd2ebfbfe"
      },
      "source": [
        "# shift train predictions for plotting\n",
        "trainPredictPlot = numpy.empty_like(dataset)\n",
        "trainPredictPlot[:, :] = numpy.nan\n",
        "trainPredictPlot[look_back:len(trainPredict)+look_back, :] = trainPredict\n",
        "\n",
        "# shift test predictions for plotting\n",
        "testPredictPlot = numpy.empty_like(dataset)\n",
        "testPredictPlot[:, :] = numpy.nan\n",
        "testPredictPlot[len(trainPredict)+(look_back*2)+1:len(dataset)-1, :] = testPredict\n",
        "\n",
        "# plot baseline and predictions\n",
        "plt.plot(scaler.inverse_transform(dataset))\n",
        "plt.plot(trainPredictPlot)\n",
        "plt.plot(testPredictPlot)\n",
        "plt.show()"
      ],
      "execution_count": null,
      "outputs": [
        {
          "output_type": "display_data",
          "data": {
            "image/png": "[encoded data removed]",
            "text/plain": [
              "<Figure size 432x288 with 1 Axes>"
            ]
          },
          "metadata": {
            "needs_background": "light"
          }
        }
      ]
    }
  ]
}