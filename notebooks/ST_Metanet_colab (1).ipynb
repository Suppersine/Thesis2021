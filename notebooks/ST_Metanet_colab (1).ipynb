{
  "nbformat": 4,
  "nbformat_minor": 0,
  "metadata": {
    "colab": {
      "name": "ST-Metanet-colab.ipynb",
      "provenance": [],
      "collapsed_sections": []
    },
    "kernelspec": {
      "name": "python3",
      "display_name": "Python 3"
    },
    "language_info": {
      "name": "python"
    },
    "accelerator": "GPU"
  },
  "cells": [
    {
      "cell_type": "markdown",
      "metadata": {
        "id": "uA4bOF3z5OIq"
      },
      "source": [
        "This paper is sponsored by Pan, Zhenyi. Whose link is here: https://github.com/Suppersine/ST-MetaNet\n",
        "\n",
        "First of all, check your VM's GPU driver and CUDA versions"
      ]
    },
    {
      "cell_type": "code",
      "metadata": {
        "colab": {
          "base_uri": "https://localhost:8080/"
        },
        "id": "CvgJaBzMgKBA",
        "outputId": "1e9d66fd-2a0e-4694-a8bc-d7e0844f6917"
      },
      "source": [
        "!nvidia-smi"
      ],
      "execution_count": 29,
      "outputs": [
        {
          "output_type": "stream",
          "text": [
            "Mon Aug 16 06:53:38 2021       \n",
            "+-----------------------------------------------------------------------------+\n",
            "| NVIDIA-SMI 470.42.01    Driver Version: 460.32.03    CUDA Version: 11.2     |\n",
            "|-------------------------------+----------------------+----------------------+\n",
            "| GPU  Name        Persistence-M| Bus-Id        Disp.A | Volatile Uncorr. ECC |\n",
            "| Fan  Temp  Perf  Pwr:Usage/Cap|         Memory-Usage | GPU-Util  Compute M. |\n",
            "|                               |                      |               MIG M. |\n",
            "|===============================+======================+======================|\n",
            "|   0  Tesla T4            Off  | 00000000:00:04.0 Off |                    0 |\n",
            "| N/A   42C    P8     9W /  70W |      0MiB / 15109MiB |      0%      Default |\n",
            "|                               |                      |                  N/A |\n",
            "+-------------------------------+----------------------+----------------------+\n",
            "                                                                               \n",
            "+-----------------------------------------------------------------------------+\n",
            "| Processes:                                                                  |\n",
            "|  GPU   GI   CI        PID   Type   Process name                  GPU Memory |\n",
            "|        ID   ID                                                   Usage      |\n",
            "|=============================================================================|\n",
            "|  No running processes found                                                 |\n",
            "+-----------------------------------------------------------------------------+\n"
          ],
          "name": "stdout"
        }
      ]
    },
    {
      "cell_type": "code",
      "metadata": {
        "colab": {
          "base_uri": "https://localhost:8080/"
        },
        "id": "zmHns2pJgixW",
        "outputId": "57284780-e057-47dc-d3db-40a1284a4cab"
      },
      "source": [
        "!nvcc --version"
      ],
      "execution_count": 30,
      "outputs": [
        {
          "output_type": "stream",
          "text": [
            "nvcc: NVIDIA (R) Cuda compiler driver\n",
            "Copyright (c) 2005-2017 NVIDIA Corporation\n",
            "Built on Fri_Sep__1_21:08:03_CDT_2017\n",
            "Cuda compilation tools, release 9.0, V9.0.176\n"
          ],
          "name": "stdout"
        }
      ]
    },
    {
      "cell_type": "markdown",
      "metadata": {
        "id": "6_oxmMms5lFv"
      },
      "source": [
        "Install CUDA 9.2 (optional)"
      ]
    },
    {
      "cell_type": "code",
      "metadata": {
        "id": "9j8HmU3nmQea"
      },
      "source": [
        "#!wget https://developer.nvidia.com/compute/cuda/9.2/Prod/local_installers/cuda-repo-ubuntu1604-9-2-local_9.2.88-1_amd64 -O cuda-repo-ubuntu1604-9-2-local_9.2.88-1_amd64.deb\n",
        "#!dpkg -i cuda-repo-ubuntu1604-9-2-local_9.2.88-1_amd64.deb\n",
        "#!apt-key add /var/cuda-repo-9-2-local/7fa2af80.pub\n",
        "#!apt-get update\n",
        "#!apt-get install cuda"
      ],
      "execution_count": 31,
      "outputs": []
    },
    {
      "cell_type": "markdown",
      "metadata": {
        "id": "4IiReoej5pif"
      },
      "source": [
        "Install CUDA 9.0 (required for MXnet-CU90 according to the requirement). If you use the Mxnet library for newer CUDA versions, the dataloader file will throw a large element error owing to a large (>2^31 element) raster tensor."
      ]
    },
    {
      "cell_type": "code",
      "metadata": {
        "colab": {
          "base_uri": "https://localhost:8080/"
        },
        "id": "liDUYA9vh_uk",
        "outputId": "667b823b-669f-4b07-ba52-c388e7dbf212"
      },
      "source": [
        "!wget https://developer.nvidia.com/compute/cuda/9.0/Prod/local_installers/cuda-repo-ubuntu1604-9-0-local_9.0.176-1_amd64-deb\n",
        "!dpkg -i cuda-repo-ubuntu1604-9-0-local_9.0.176-1_amd64-deb\n",
        "!apt-key add /var/cuda-repo-9-0-local/7fa2af80.pub\n",
        "!apt-get update\n",
        "!apt-get install cuda=9.0.176-1\n",
        "!apt autoremove"
      ],
      "execution_count": 32,
      "outputs": [
        {
          "output_type": "stream",
          "text": [
            "--2021-08-16 06:53:39--  https://developer.nvidia.com/compute/cuda/9.0/Prod/local_installers/cuda-repo-ubuntu1604-9-0-local_9.0.176-1_amd64-deb\n",
            "Resolving developer.nvidia.com (developer.nvidia.com)... 152.199.0.24\n",
            "Connecting to developer.nvidia.com (developer.nvidia.com)|152.199.0.24|:443... connected.\n",
            "HTTP request sent, awaiting response... 301 Moved Permanently\n",
            "Location: https://developer.nvidia.com/compute/cuda/9.0/prod/local_installers/cuda-repo-ubuntu1604-9-0-local_9.0.176-1_amd64-deb [following]\n",
            "--2021-08-16 06:53:39--  https://developer.nvidia.com/compute/cuda/9.0/prod/local_installers/cuda-repo-ubuntu1604-9-0-local_9.0.176-1_amd64-deb\n",
            "Reusing existing connection to developer.nvidia.com:443.\n",
            "HTTP request sent, awaiting response... 302 Found\n",
            "Location: https://developer.download.nvidia.com/compute/cuda/9.0/secure/Prod/local_installers/cuda-repo-ubuntu1604-9-0-local_9.0.176-1_amd64.deb?RiEOJkUWW2vSK7pbO0PG5QqsoJ4MI6zQnXCoqXTip9NKdfhQsHm0JSqLFIASkjRUTO8Tcr0dopcSUTpStgKF8EEyb2j5pe0R0Il6QQqASij2sWzt2w_QhZx_weoPG5FTlWYxEdgxS9NrGsutJaViXQFScMn6m8B2KUg6QG_iCuGWzwxjT2L1M83WYOr6n5WtCCaLuCHlDTFwUU27NWON [following]\n",
            "--2021-08-16 06:53:39--  https://developer.download.nvidia.com/compute/cuda/9.0/secure/Prod/local_installers/cuda-repo-ubuntu1604-9-0-local_9.0.176-1_amd64.deb?RiEOJkUWW2vSK7pbO0PG5QqsoJ4MI6zQnXCoqXTip9NKdfhQsHm0JSqLFIASkjRUTO8Tcr0dopcSUTpStgKF8EEyb2j5pe0R0Il6QQqASij2sWzt2w_QhZx_weoPG5FTlWYxEdgxS9NrGsutJaViXQFScMn6m8B2KUg6QG_iCuGWzwxjT2L1M83WYOr6n5WtCCaLuCHlDTFwUU27NWON\n",
            "Resolving developer.download.nvidia.com (developer.download.nvidia.com)... 152.195.19.142\n",
            "Connecting to developer.download.nvidia.com (developer.download.nvidia.com)|152.195.19.142|:443... connected.\n",
            "HTTP request sent, awaiting response... 200 OK\n",
            "Length: 1212738714 (1.1G) [application/x-deb]\n",
            "Saving to: ‘cuda-repo-ubuntu1604-9-0-local_9.0.176-1_amd64-deb’\n",
            "\n",
            "cuda-repo-ubuntu160 100%[===================>]   1.13G   212MB/s    in 5.5s    \n",
            "\n",
            "2021-08-16 06:53:45 (209 MB/s) - ‘cuda-repo-ubuntu1604-9-0-local_9.0.176-1_amd64-deb’ saved [1212738714/1212738714]\n",
            "\n",
            "(Reading database ... 170152 files and directories currently installed.)\n",
            "Preparing to unpack cuda-repo-ubuntu1604-9-0-local_9.0.176-1_amd64-deb ...\n",
            "Unpacking cuda-repo-ubuntu1604-9-0-local (9.0.176-1) over (9.0.176-1) ...\n",
            "Setting up cuda-repo-ubuntu1604-9-0-local (9.0.176-1) ...\n",
            "OK\n",
            "Get:1 file:/var/cuda-repo-9-0-local  InRelease\n",
            "Ign:1 file:/var/cuda-repo-9-0-local  InRelease\n",
            "Get:2 file:/var/cuda-repo-9-0-local  Release [574 B]\n",
            "Get:2 file:/var/cuda-repo-9-0-local  Release [574 B]\n",
            "Hit:3 https://cloud.r-project.org/bin/linux/ubuntu bionic-cran40/ InRelease\n",
            "Ign:4 https://developer.download.nvidia.com/compute/cuda/repos/ubuntu1804/x86_64  InRelease\n",
            "Ign:5 https://developer.download.nvidia.com/compute/machine-learning/repos/ubuntu1804/x86_64  InRelease\n",
            "Hit:6 https://developer.download.nvidia.com/compute/cuda/repos/ubuntu1804/x86_64  Release\n",
            "Hit:7 https://developer.download.nvidia.com/compute/machine-learning/repos/ubuntu1804/x86_64  Release\n",
            "Hit:8 http://security.ubuntu.com/ubuntu bionic-security InRelease\n",
            "Hit:10 http://ppa.launchpad.net/c2d4u.team/c2d4u4.0+/ubuntu bionic InRelease\n",
            "Hit:11 http://archive.ubuntu.com/ubuntu bionic InRelease\n",
            "Get:12 http://archive.ubuntu.com/ubuntu bionic-updates InRelease [88.7 kB]\n",
            "Hit:14 http://ppa.launchpad.net/cran/libgit2/ubuntu bionic InRelease\n",
            "Hit:16 http://ppa.launchpad.net/deadsnakes/ppa/ubuntu bionic InRelease\n",
            "Get:17 http://archive.ubuntu.com/ubuntu bionic-backports InRelease [74.6 kB]\n",
            "Hit:18 http://ppa.launchpad.net/graphics-drivers/ppa/ubuntu bionic InRelease\n",
            "Fetched 163 kB in 2s (79.9 kB/s)\n",
            "Reading package lists... Done\n",
            "Reading package lists... Done\n",
            "Building dependency tree       \n",
            "Reading state information... Done\n",
            "cuda is already the newest version (9.0.176-1).\n",
            "0 upgraded, 0 newly installed, 0 to remove and 108 not upgraded.\n",
            "Reading package lists... Done\n",
            "Building dependency tree       \n",
            "Reading state information... Done\n",
            "0 upgraded, 0 newly installed, 0 to remove and 109 not upgraded.\n"
          ],
          "name": "stdout"
        }
      ]
    },
    {
      "cell_type": "code",
      "metadata": {
        "colab": {
          "base_uri": "https://localhost:8080/"
        },
        "id": "xeX4kD9V7oUH",
        "outputId": "aa4d7419-5b2b-4adf-b987-813a1d9c4201"
      },
      "source": [
        "!git clone https://github.com/panzheyi/ST-MetaNet.git"
      ],
      "execution_count": 33,
      "outputs": [
        {
          "output_type": "stream",
          "text": [
            "Cloning into 'ST-MetaNet'...\n",
            "remote: Enumerating objects: 124, done.\u001b[K\n",
            "remote: Total 124 (delta 0), reused 0 (delta 0), pack-reused 124\u001b[K\n",
            "Receiving objects: 100% (124/124), 24.93 MiB | 24.69 MiB/s, done.\n",
            "Resolving deltas: 100% (40/40), done.\n"
          ],
          "name": "stdout"
        }
      ]
    },
    {
      "cell_type": "code",
      "metadata": {
        "colab": {
          "base_uri": "https://localhost:8080/"
        },
        "id": "EZuFfsEn7zU_",
        "outputId": "dea338e7-aecf-4e57-dce8-dd1cdd2ec46c"
      },
      "source": [
        "%cd /content/ST-MetaNet/"
      ],
      "execution_count": 34,
      "outputs": [
        {
          "output_type": "stream",
          "text": [
            "/content/ST-MetaNet\n"
          ],
          "name": "stdout"
        }
      ]
    },
    {
      "cell_type": "code",
      "metadata": {
        "id": "oEEpAIu4aq_i",
        "colab": {
          "base_uri": "https://localhost:8080/"
        },
        "outputId": "264cfa41-b6de-454b-ce0c-dc7f5b5749e1"
      },
      "source": [
        "#check the CUDA version\n",
        "%cat /usr/local/cuda/version.txt\n",
        "#!pip install mxnet-cu90==1.5.0 #must match the VM's CUDA version"
      ],
      "execution_count": 35,
      "outputs": [
        {
          "output_type": "stream",
          "text": [
            "CUDA Version 9.0.176\n"
          ],
          "name": "stdout"
        }
      ]
    },
    {
      "cell_type": "code",
      "metadata": {
        "colab": {
          "base_uri": "https://localhost:8080/",
          "height": 52
        },
        "id": "gQhePQrD7-4u",
        "outputId": "6f67eb35-d5c2-49f1-950f-1705e09a4976"
      },
      "source": [
        "#!pip install -r requirements.txt\n",
        "'''\n",
        "if you want to skip dependency check to speed up your work, you need to disable this cell\n",
        "'''"
      ],
      "execution_count": 36,
      "outputs": [
        {
          "output_type": "execute_result",
          "data": {
            "application/vnd.google.colaboratory.intrinsic+json": {
              "type": "string"
            },
            "text/plain": [
              "'\\nif you want to skip dependency check to speed up your work, you need to disable this cell\\n'"
            ]
          },
          "metadata": {
            "tags": []
          },
          "execution_count": 36
        }
      ]
    },
    {
      "cell_type": "markdown",
      "metadata": {
        "id": "uKlg0uTsBKOI"
      },
      "source": [
        "Each required library must be separatedly installed (1 per cell) to minimize dependency conflicts"
      ]
    },
    {
      "cell_type": "code",
      "metadata": {
        "id": "RUI0Jygxa_cS",
        "colab": {
          "base_uri": "https://localhost:8080/"
        },
        "outputId": "488b1aea-ffed-4e20-c8de-5aac5d7970ee"
      },
      "source": [
        "!pip install scipy==1.2.1"
      ],
      "execution_count": 37,
      "outputs": [
        {
          "output_type": "stream",
          "text": [
            "Requirement already satisfied: scipy==1.2.1 in /usr/local/lib/python3.7/dist-packages (1.2.1)\n",
            "Requirement already satisfied: numpy>=1.8.2 in /usr/local/lib/python3.7/dist-packages (from scipy==1.2.1) (1.16.3)\n"
          ],
          "name": "stdout"
        }
      ]
    },
    {
      "cell_type": "code",
      "metadata": {
        "colab": {
          "base_uri": "https://localhost:8080/"
        },
        "id": "4qN2QjrrBFFW",
        "outputId": "ba09b314-2495-4d22-9649-f4b60be82fd3"
      },
      "source": [
        "!pip install numpy==1.16.3"
      ],
      "execution_count": 38,
      "outputs": [
        {
          "output_type": "stream",
          "text": [
            "Requirement already satisfied: numpy==1.16.3 in /usr/local/lib/python3.7/dist-packages (1.16.3)\n"
          ],
          "name": "stdout"
        }
      ]
    },
    {
      "cell_type": "code",
      "metadata": {
        "colab": {
          "base_uri": "https://localhost:8080/"
        },
        "id": "_8ubZ2z6BFaO",
        "outputId": "064631e8-6497-45ac-e86c-102730851a40"
      },
      "source": [
        "!pip install pandas==0.24.2"
      ],
      "execution_count": 39,
      "outputs": [
        {
          "output_type": "stream",
          "text": [
            "Requirement already satisfied: pandas==0.24.2 in /usr/local/lib/python3.7/dist-packages (0.24.2)\n",
            "Requirement already satisfied: python-dateutil>=2.5.0 in /usr/local/lib/python3.7/dist-packages (from pandas==0.24.2) (2.8.2)\n",
            "Requirement already satisfied: numpy>=1.12.0 in /usr/local/lib/python3.7/dist-packages (from pandas==0.24.2) (1.16.3)\n",
            "Requirement already satisfied: pytz>=2011k in /usr/local/lib/python3.7/dist-packages (from pandas==0.24.2) (2018.9)\n",
            "Requirement already satisfied: six>=1.5 in /usr/local/lib/python3.7/dist-packages (from python-dateutil>=2.5.0->pandas==0.24.2) (1.16.0)\n"
          ],
          "name": "stdout"
        }
      ]
    },
    {
      "cell_type": "code",
      "metadata": {
        "colab": {
          "base_uri": "https://localhost:8080/",
          "height": 906
        },
        "id": "30jI7XOGANfQ",
        "outputId": "aeb64fec-22cc-4d44-b750-395ab1265587"
      },
      "source": [
        "!pip install mxnet-cu90==1.4.0 #selectable between 1.4.0 1.5.0, 1.5.1 or 1.6.0post0"
      ],
      "execution_count": 40,
      "outputs": [
        {
          "output_type": "stream",
          "text": [
            "Requirement already satisfied: mxnet-cu90==1.4.0 in /usr/local/lib/python3.7/dist-packages (1.4.0)\n",
            "Requirement already satisfied: graphviz<0.9.0,>=0.8.1 in /usr/local/lib/python3.7/dist-packages (from mxnet-cu90==1.4.0) (0.8.4)\n",
            "Requirement already satisfied: requests>=2.20.0 in /usr/local/lib/python3.7/dist-packages (from mxnet-cu90==1.4.0) (2.23.0)\n",
            "Collecting numpy<1.15.0,>=1.8.2\n",
            "  Using cached numpy-1.14.6-cp37-cp37m-manylinux1_x86_64.whl (13.8 MB)\n",
            "Requirement already satisfied: idna<3,>=2.5 in /usr/local/lib/python3.7/dist-packages (from requests>=2.20.0->mxnet-cu90==1.4.0) (2.10)\n",
            "Requirement already satisfied: urllib3!=1.25.0,!=1.25.1,<1.26,>=1.21.1 in /usr/local/lib/python3.7/dist-packages (from requests>=2.20.0->mxnet-cu90==1.4.0) (1.24.3)\n",
            "Requirement already satisfied: certifi>=2017.4.17 in /usr/local/lib/python3.7/dist-packages (from requests>=2.20.0->mxnet-cu90==1.4.0) (2021.5.30)\n",
            "Requirement already satisfied: chardet<4,>=3.0.2 in /usr/local/lib/python3.7/dist-packages (from requests>=2.20.0->mxnet-cu90==1.4.0) (3.0.4)\n",
            "Installing collected packages: numpy\n",
            "  Attempting uninstall: numpy\n",
            "    Found existing installation: numpy 1.16.3\n",
            "    Uninstalling numpy-1.16.3:\n",
            "      Successfully uninstalled numpy-1.16.3\n",
            "\u001b[31mERROR: pip's dependency resolver does not currently take into account all the packages that are installed. This behaviour is the source of the following dependency conflicts.\n",
            "xarray 0.18.2 requires numpy>=1.17, but you have numpy 1.14.6 which is incompatible.\n",
            "xarray 0.18.2 requires pandas>=1.0, but you have pandas 0.24.2 which is incompatible.\n",
            "tifffile 2021.8.8 requires numpy>=1.15.1, but you have numpy 1.14.6 which is incompatible.\n",
            "tensorflow 2.5.0 requires numpy~=1.19.2, but you have numpy 1.14.6 which is incompatible.\n",
            "tensorflow 2.5.0 requires six~=1.15.0, but you have six 1.16.0 which is incompatible.\n",
            "spacy 2.2.4 requires numpy>=1.15.0, but you have numpy 1.14.6 which is incompatible.\n",
            "seaborn 0.11.1 requires numpy>=1.15, but you have numpy 1.14.6 which is incompatible.\n",
            "pymc3 3.11.2 requires numpy>=1.15.0, but you have numpy 1.14.6 which is incompatible.\n",
            "pyerfa 2.0.0 requires numpy>=1.17, but you have numpy 1.14.6 which is incompatible.\n",
            "pyarrow 3.0.0 requires numpy>=1.16.6, but you have numpy 1.14.6 which is incompatible.\n",
            "plotnine 0.6.0 requires numpy>=1.16.0, but you have numpy 1.14.6 which is incompatible.\n",
            "plotnine 0.6.0 requires pandas>=0.25.0, but you have pandas 0.24.2 which is incompatible.\n",
            "numba 0.51.2 requires numpy>=1.15, but you have numpy 1.14.6 which is incompatible.\n",
            "mizani 0.6.0 requires pandas>=0.25.0, but you have pandas 0.24.2 which is incompatible.\n",
            "librosa 0.8.1 requires numpy>=1.15.0, but you have numpy 1.14.6 which is incompatible.\n",
            "kapre 0.3.5 requires numpy>=1.18.5, but you have numpy 1.14.6 which is incompatible.\n",
            "jaxlib 0.1.69+cuda110 requires numpy>=1.17, but you have numpy 1.14.6 which is incompatible.\n",
            "jax 0.2.17 requires numpy>=1.17, but you have numpy 1.14.6 which is incompatible.\n",
            "imgaug 0.2.9 requires numpy>=1.15.0, but you have numpy 1.14.6 which is incompatible.\n",
            "google-colab 1.0.0 requires pandas~=1.1.0; python_version >= \"3.0\", but you have pandas 0.24.2 which is incompatible.\n",
            "google-colab 1.0.0 requires six~=1.15.0, but you have six 1.16.0 which is incompatible.\n",
            "fbprophet 0.7.1 requires numpy>=1.15.4, but you have numpy 1.14.6 which is incompatible.\n",
            "fbprophet 0.7.1 requires pandas>=1.0.4, but you have pandas 0.24.2 which is incompatible.\n",
            "fastai 1.0.61 requires numpy>=1.15, but you have numpy 1.14.6 which is incompatible.\n",
            "datascience 0.10.6 requires folium==0.2.1, but you have folium 0.8.3 which is incompatible.\n",
            "cvxpy 1.0.31 requires numpy>=1.15, but you have numpy 1.14.6 which is incompatible.\n",
            "cupy-cuda101 9.1.0 requires numpy>=1.17, but you have numpy 1.14.6 which is incompatible.\n",
            "blis 0.4.1 requires numpy>=1.15.0, but you have numpy 1.14.6 which is incompatible.\n",
            "astropy 4.3.1 requires numpy>=1.17, but you have numpy 1.14.6 which is incompatible.\n",
            "albumentations 0.1.12 requires imgaug<0.2.7,>=0.2.5, but you have imgaug 0.2.9 which is incompatible.\u001b[0m\n",
            "Successfully installed numpy-1.14.6\n"
          ],
          "name": "stdout"
        },
        {
          "output_type": "display_data",
          "data": {
            "application/vnd.colab-display-data+json": {
              "pip_warning": {
                "packages": [
                  "numpy"
                ]
              }
            }
          },
          "metadata": {
            "tags": []
          }
        }
      ]
    },
    {
      "cell_type": "code",
      "metadata": {
        "colab": {
          "base_uri": "https://localhost:8080/"
        },
        "id": "mapDJ1IANl4R",
        "outputId": "a63519f6-6b9b-4b55-c5fe-23796c0893ef"
      },
      "source": [
        "!pip install dgl==0.2"
      ],
      "execution_count": 41,
      "outputs": [
        {
          "output_type": "stream",
          "text": [
            "Requirement already satisfied: dgl==0.2 in /usr/local/lib/python3.7/dist-packages (0.2)\n",
            "Requirement already satisfied: networkx>=2.1 in /usr/local/lib/python3.7/dist-packages (from dgl==0.2) (2.6.2)\n",
            "Requirement already satisfied: scipy>=1.1.0 in /usr/local/lib/python3.7/dist-packages (from dgl==0.2) (1.2.1)\n",
            "Requirement already satisfied: numpy>=1.14.0 in /usr/local/lib/python3.7/dist-packages (from dgl==0.2) (1.14.6)\n"
          ],
          "name": "stdout"
        }
      ]
    },
    {
      "cell_type": "code",
      "metadata": {
        "colab": {
          "base_uri": "https://localhost:8080/"
        },
        "id": "zrboUqnwN29g",
        "outputId": "f0d502a2-5135-4586-f8e0-f52741f9c27c"
      },
      "source": [
        "!pip install tables==3.5.1"
      ],
      "execution_count": 42,
      "outputs": [
        {
          "output_type": "stream",
          "text": [
            "Requirement already satisfied: tables==3.5.1 in /usr/local/lib/python3.7/dist-packages (3.5.1)\n",
            "Requirement already satisfied: six>=1.9.0 in /usr/local/lib/python3.7/dist-packages (from tables==3.5.1) (1.16.0)\n",
            "Requirement already satisfied: numpy>=1.9.3 in /usr/local/lib/python3.7/dist-packages (from tables==3.5.1) (1.14.6)\n",
            "Requirement already satisfied: numexpr>=2.6.2 in /usr/local/lib/python3.7/dist-packages (from tables==3.5.1) (2.7.3)\n",
            "Requirement already satisfied: mock>=2.0 in /usr/local/lib/python3.7/dist-packages (from tables==3.5.1) (4.0.3)\n"
          ],
          "name": "stdout"
        }
      ]
    },
    {
      "cell_type": "code",
      "metadata": {
        "id": "HEvNnor2N-Po",
        "colab": {
          "base_uri": "https://localhost:8080/",
          "height": 1000
        },
        "outputId": "9d5c114b-bd43-4c4d-be93-b1abd5b6cbf8"
      },
      "source": [
        "!pip install pymal\n",
        "!pip install pyyaml\n",
        "#pymal is an outdated library/module, so that you need to reinstall Six\n",
        "!pip install six"
      ],
      "execution_count": 43,
      "outputs": [
        {
          "output_type": "stream",
          "text": [
            "Requirement already satisfied: pymal in /usr/local/lib/python3.7/dist-packages (0.6)\n",
            "Requirement already satisfied: html5lib>=0.999 in /usr/local/lib/python3.7/dist-packages (from pymal) (0.999999999)\n",
            "Collecting six==1.3\n",
            "  Using cached six-1.3.0-py3-none-any.whl\n",
            "Requirement already satisfied: requests>=2.4.1 in /usr/local/lib/python3.7/dist-packages (from pymal) (2.23.0)\n",
            "Requirement already satisfied: singleton-factory>=0.1 in /usr/local/lib/python3.7/dist-packages (from pymal) (1.0)\n",
            "Requirement already satisfied: pillow>=2.5.3 in /usr/local/lib/python3.7/dist-packages (from pymal) (7.1.2)\n",
            "Requirement already satisfied: singleton3>=1.0 in /usr/local/lib/python3.7/dist-packages (from pymal) (1.0)\n",
            "Requirement already satisfied: httpcache>=0.1.3 in /usr/local/lib/python3.7/dist-packages (from pymal) (0.1.3)\n",
            "Requirement already satisfied: beautifulsoup4>=4.3.2 in /usr/local/lib/python3.7/dist-packages (from pymal) (4.6.3)\n",
            "Requirement already satisfied: setuptools>=18.5 in /usr/local/lib/python3.7/dist-packages (from html5lib>=0.999->pymal) (57.2.0)\n",
            "Requirement already satisfied: webencodings in /usr/local/lib/python3.7/dist-packages (from html5lib>=0.999->pymal) (0.5.1)\n",
            "Requirement already satisfied: idna<3,>=2.5 in /usr/local/lib/python3.7/dist-packages (from requests>=2.4.1->pymal) (2.10)\n",
            "Requirement already satisfied: urllib3!=1.25.0,!=1.25.1,<1.26,>=1.21.1 in /usr/local/lib/python3.7/dist-packages (from requests>=2.4.1->pymal) (1.24.3)\n",
            "Requirement already satisfied: chardet<4,>=3.0.2 in /usr/local/lib/python3.7/dist-packages (from requests>=2.4.1->pymal) (3.0.4)\n",
            "Requirement already satisfied: certifi>=2017.4.17 in /usr/local/lib/python3.7/dist-packages (from requests>=2.4.1->pymal) (2021.5.30)\n",
            "Installing collected packages: six\n",
            "  Attempting uninstall: six\n",
            "    Found existing installation: six 1.16.0\n",
            "    Uninstalling six-1.16.0:\n",
            "      Successfully uninstalled six-1.16.0\n",
            "\u001b[31mERROR: pip's dependency resolver does not currently take into account all the packages that are installed. This behaviour is the source of the following dependency conflicts.\n",
            "tweepy 3.10.0 requires six>=1.10.0, but you have six 1.3.0 which is incompatible.\n",
            "tensorflow 2.5.0 requires numpy~=1.19.2, but you have numpy 1.14.6 which is incompatible.\n",
            "tensorflow 2.5.0 requires six~=1.15.0, but you have six 1.3.0 which is incompatible.\n",
            "tensorflow-probability 0.13.0 requires six>=1.10.0, but you have six 1.3.0 which is incompatible.\n",
            "tables 3.5.1 requires six>=1.9.0, but you have six 1.3.0 which is incompatible.\n",
            "sphinx 1.8.5 requires six>=1.5, but you have six 1.3.0 which is incompatible.\n",
            "retrying 1.3.3 requires six>=1.7.0, but you have six 1.3.0 which is incompatible.\n",
            "python-dateutil 2.8.2 requires six>=1.5, but you have six 1.3.0 which is incompatible.\n",
            "pytest 3.6.4 requires six>=1.10.0, but you have six 1.3.0 which is incompatible.\n",
            "protobuf 3.17.3 requires six>=1.9, but you have six 1.3.0 which is incompatible.\n",
            "prompt-toolkit 1.0.18 requires six>=1.9.0, but you have six 1.3.0 which is incompatible.\n",
            "pandas-profiling 1.4.1 requires six>=1.9, but you have six 1.3.0 which is incompatible.\n",
            "oauth2client 4.1.3 requires six>=1.6.1, but you have six 1.3.0 which is incompatible.\n",
            "mizani 0.6.0 requires pandas>=0.25.0, but you have pandas 0.24.2 which is incompatible.\n",
            "librosa 0.8.1 requires numpy>=1.15.0, but you have numpy 1.14.6 which is incompatible.\n",
            "keras-preprocessing 1.1.2 requires six>=1.9.0, but you have six 1.3.0 which is incompatible.\n",
            "kapre 0.3.5 requires numpy>=1.18.5, but you have numpy 1.14.6 which is incompatible.\n",
            "kaggle 1.5.12 requires six>=1.10, but you have six 1.3.0 which is incompatible.\n",
            "imgaug 0.2.9 requires numpy>=1.15.0, but you have numpy 1.14.6 which is incompatible.\n",
            "grpcio 1.34.1 requires six>=1.5.2, but you have six 1.3.0 which is incompatible.\n",
            "google-colab 1.0.0 requires pandas~=1.1.0; python_version >= \"3.0\", but you have pandas 0.24.2 which is incompatible.\n",
            "google-colab 1.0.0 requires six~=1.15.0, but you have six 1.3.0 which is incompatible.\n",
            "google-auth 1.34.0 requires six>=1.9.0, but you have six 1.3.0 which is incompatible.\n",
            "google-api-python-client 1.12.8 requires six<2dev,>=1.13.0, but you have six 1.3.0 which is incompatible.\n",
            "google-api-core 1.26.3 requires six>=1.13.0, but you have six 1.3.0 which is incompatible.\n",
            "gensim 3.6.0 requires six>=1.5.0, but you have six 1.3.0 which is incompatible.\n",
            "fbprophet 0.7.1 requires numpy>=1.15.4, but you have numpy 1.14.6 which is incompatible.\n",
            "fbprophet 0.7.1 requires pandas>=1.0.4, but you have pandas 0.24.2 which is incompatible.\n",
            "fastai 1.0.61 requires numpy>=1.15, but you have numpy 1.14.6 which is incompatible.\n",
            "dm-tree 0.1.6 requires six>=1.12.0, but you have six 1.3.0 which is incompatible.\n",
            "datascience 0.10.6 requires folium==0.2.1, but you have folium 0.8.3 which is incompatible.\n",
            "cufflinks 0.17.3 requires six>=1.9.0, but you have six 1.3.0 which is incompatible.\n",
            "bleach 4.0.0 requires six>=1.9.0, but you have six 1.3.0 which is incompatible.\n",
            "astunparse 1.6.3 requires six<2.0,>=1.6.1, but you have six 1.3.0 which is incompatible.\n",
            "albumentations 0.1.12 requires imgaug<0.2.7,>=0.2.5, but you have imgaug 0.2.9 which is incompatible.\u001b[0m\n",
            "Successfully installed six-1.3.0\n"
          ],
          "name": "stdout"
        },
        {
          "output_type": "display_data",
          "data": {
            "application/vnd.colab-display-data+json": {
              "pip_warning": {
                "packages": [
                  "six"
                ]
              }
            }
          },
          "metadata": {
            "tags": []
          }
        },
        {
          "output_type": "stream",
          "text": [
            "Requirement already satisfied: pyyaml in /usr/local/lib/python3.7/dist-packages (3.13)\n",
            "Requirement already satisfied: six in /usr/local/lib/python3.7/dist-packages (1.3.0)\n"
          ],
          "name": "stdout"
        }
      ]
    },
    {
      "cell_type": "code",
      "metadata": {
        "colab": {
          "base_uri": "https://localhost:8080/"
        },
        "id": "Cu3FXoCwAIxY",
        "outputId": "d9515f31-bc08-4254-efba-cc655bfdb7e4"
      },
      "source": [
        "!pip install h5py"
      ],
      "execution_count": 44,
      "outputs": [
        {
          "output_type": "stream",
          "text": [
            "Requirement already satisfied: h5py in /usr/local/lib/python3.7/dist-packages (3.1.0)\n",
            "Requirement already satisfied: cached-property in /usr/local/lib/python3.7/dist-packages (from h5py) (1.5.2)\n",
            "Requirement already satisfied: numpy>=1.14.5 in /usr/local/lib/python3.7/dist-packages (from h5py) (1.14.6)\n"
          ],
          "name": "stdout"
        }
      ]
    },
    {
      "cell_type": "code",
      "metadata": {
        "id": "JL__ZodX__eu"
      },
      "source": [
        "!echo 'export DGLBACKEND=mxnet' >> ~/.bashrc\n",
        "!. ~/.bashrc"
      ],
      "execution_count": 45,
      "outputs": []
    },
    {
      "cell_type": "code",
      "metadata": {
        "colab": {
          "base_uri": "https://localhost:8080/"
        },
        "id": "a7VdeTcCAeIx",
        "outputId": "938d2dc2-491d-42b6-a475-13ab674e1052"
      },
      "source": [
        "!echo \"printing from the shell\""
      ],
      "execution_count": 46,
      "outputs": [
        {
          "output_type": "stream",
          "text": [
            "printing from the shell\n"
          ],
          "name": "stdout"
        }
      ]
    },
    {
      "cell_type": "code",
      "metadata": {
        "colab": {
          "base_uri": "https://localhost:8080/"
        },
        "id": "RLg8TxVxDeXC",
        "outputId": "a90dddf4-c981-4866-fbb5-83be95030c11"
      },
      "source": [
        "cd flow-prediction/"
      ],
      "execution_count": 47,
      "outputs": [
        {
          "output_type": "stream",
          "text": [
            "/content/ST-MetaNet/flow-prediction\n"
          ],
          "name": "stdout"
        }
      ]
    },
    {
      "cell_type": "code",
      "metadata": {
        "colab": {
          "base_uri": "https://localhost:8080/"
        },
        "id": "CIZomNW1Df8R",
        "outputId": "9e7a6ca1-9f09-41ca-eccb-8cae707d44f0"
      },
      "source": [
        "cd src/"
      ],
      "execution_count": 48,
      "outputs": [
        {
          "output_type": "stream",
          "text": [
            "/content/ST-MetaNet/flow-prediction/src\n"
          ],
          "name": "stdout"
        }
      ]
    },
    {
      "cell_type": "markdown",
      "metadata": {
        "id": "dMl4i6T643CS"
      },
      "source": [
        "To bypass the pandas import error, update PANDAS to the requirement version. Six is the main package that has a dependency conflict with Pymal.\n",
        "To make sure that all the installed libraries match the repo's requirements, we suggest you installing them again."
      ]
    },
    {
      "cell_type": "code",
      "metadata": {
        "colab": {
          "base_uri": "https://localhost:8080/",
          "height": 1000
        },
        "id": "kQMV3kUOGKj1",
        "outputId": "16a9aa63-d635-4f09-8220-16959214c7e5"
      },
      "source": [
        "!pip install pandas==0.24.2\n",
        "!pip install scipy==1.2.1\n",
        "!pip install numpy==1.16.3\n"
      ],
      "execution_count": 49,
      "outputs": [
        {
          "output_type": "stream",
          "text": [
            "Requirement already satisfied: pandas==0.24.2 in /usr/local/lib/python3.7/dist-packages (0.24.2)\n",
            "Requirement already satisfied: python-dateutil>=2.5.0 in /usr/local/lib/python3.7/dist-packages (from pandas==0.24.2) (2.8.2)\n",
            "Requirement already satisfied: numpy>=1.12.0 in /usr/local/lib/python3.7/dist-packages (from pandas==0.24.2) (1.14.6)\n",
            "Requirement already satisfied: pytz>=2011k in /usr/local/lib/python3.7/dist-packages (from pandas==0.24.2) (2018.9)\n",
            "Collecting six>=1.5\n",
            "  Using cached six-1.16.0-py2.py3-none-any.whl (11 kB)\n",
            "Installing collected packages: six\n",
            "  Attempting uninstall: six\n",
            "    Found existing installation: six 1.3.0\n",
            "    Uninstalling six-1.3.0:\n",
            "      Successfully uninstalled six-1.3.0\n",
            "\u001b[31mERROR: pip's dependency resolver does not currently take into account all the packages that are installed. This behaviour is the source of the following dependency conflicts.\n",
            "tensorflow 2.5.0 requires numpy~=1.19.2, but you have numpy 1.14.6 which is incompatible.\n",
            "tensorflow 2.5.0 requires six~=1.15.0, but you have six 1.16.0 which is incompatible.\n",
            "pymal 0.6 requires six==1.3, but you have six 1.16.0 which is incompatible.\n",
            "mizani 0.6.0 requires pandas>=0.25.0, but you have pandas 0.24.2 which is incompatible.\n",
            "librosa 0.8.1 requires numpy>=1.15.0, but you have numpy 1.14.6 which is incompatible.\n",
            "kapre 0.3.5 requires numpy>=1.18.5, but you have numpy 1.14.6 which is incompatible.\n",
            "imgaug 0.2.9 requires numpy>=1.15.0, but you have numpy 1.14.6 which is incompatible.\n",
            "google-colab 1.0.0 requires pandas~=1.1.0; python_version >= \"3.0\", but you have pandas 0.24.2 which is incompatible.\n",
            "google-colab 1.0.0 requires six~=1.15.0, but you have six 1.16.0 which is incompatible.\n",
            "fbprophet 0.7.1 requires numpy>=1.15.4, but you have numpy 1.14.6 which is incompatible.\n",
            "fbprophet 0.7.1 requires pandas>=1.0.4, but you have pandas 0.24.2 which is incompatible.\n",
            "fastai 1.0.61 requires numpy>=1.15, but you have numpy 1.14.6 which is incompatible.\n",
            "datascience 0.10.6 requires folium==0.2.1, but you have folium 0.8.3 which is incompatible.\n",
            "albumentations 0.1.12 requires imgaug<0.2.7,>=0.2.5, but you have imgaug 0.2.9 which is incompatible.\u001b[0m\n",
            "Successfully installed six-1.16.0\n"
          ],
          "name": "stdout"
        },
        {
          "output_type": "display_data",
          "data": {
            "application/vnd.colab-display-data+json": {
              "pip_warning": {
                "packages": [
                  "six"
                ]
              }
            }
          },
          "metadata": {
            "tags": []
          }
        },
        {
          "output_type": "stream",
          "text": [
            "Requirement already satisfied: scipy==1.2.1 in /usr/local/lib/python3.7/dist-packages (1.2.1)\n",
            "Requirement already satisfied: numpy>=1.8.2 in /usr/local/lib/python3.7/dist-packages (from scipy==1.2.1) (1.14.6)\n",
            "Collecting numpy==1.16.3\n",
            "  Using cached numpy-1.16.3-cp37-cp37m-manylinux1_x86_64.whl (17.3 MB)\n",
            "Installing collected packages: numpy\n",
            "  Attempting uninstall: numpy\n",
            "    Found existing installation: numpy 1.14.6\n",
            "    Uninstalling numpy-1.14.6:\n",
            "      Successfully uninstalled numpy-1.14.6\n",
            "\u001b[31mERROR: pip's dependency resolver does not currently take into account all the packages that are installed. This behaviour is the source of the following dependency conflicts.\n",
            "xarray 0.18.2 requires numpy>=1.17, but you have numpy 1.16.3 which is incompatible.\n",
            "xarray 0.18.2 requires pandas>=1.0, but you have pandas 0.24.2 which is incompatible.\n",
            "tensorflow 2.5.0 requires numpy~=1.19.2, but you have numpy 1.16.3 which is incompatible.\n",
            "tensorflow 2.5.0 requires six~=1.15.0, but you have six 1.16.0 which is incompatible.\n",
            "pyerfa 2.0.0 requires numpy>=1.17, but you have numpy 1.16.3 which is incompatible.\n",
            "pyarrow 3.0.0 requires numpy>=1.16.6, but you have numpy 1.16.3 which is incompatible.\n",
            "plotnine 0.6.0 requires pandas>=0.25.0, but you have pandas 0.24.2 which is incompatible.\n",
            "mxnet-cu90 1.4.0 requires numpy<1.15.0,>=1.8.2, but you have numpy 1.16.3 which is incompatible.\n",
            "mizani 0.6.0 requires pandas>=0.25.0, but you have pandas 0.24.2 which is incompatible.\n",
            "kapre 0.3.5 requires numpy>=1.18.5, but you have numpy 1.16.3 which is incompatible.\n",
            "jaxlib 0.1.69+cuda110 requires numpy>=1.17, but you have numpy 1.16.3 which is incompatible.\n",
            "jax 0.2.17 requires numpy>=1.17, but you have numpy 1.16.3 which is incompatible.\n",
            "google-colab 1.0.0 requires pandas~=1.1.0; python_version >= \"3.0\", but you have pandas 0.24.2 which is incompatible.\n",
            "google-colab 1.0.0 requires six~=1.15.0, but you have six 1.16.0 which is incompatible.\n",
            "fbprophet 0.7.1 requires pandas>=1.0.4, but you have pandas 0.24.2 which is incompatible.\n",
            "datascience 0.10.6 requires folium==0.2.1, but you have folium 0.8.3 which is incompatible.\n",
            "cupy-cuda101 9.1.0 requires numpy>=1.17, but you have numpy 1.16.3 which is incompatible.\n",
            "astropy 4.3.1 requires numpy>=1.17, but you have numpy 1.16.3 which is incompatible.\n",
            "albumentations 0.1.12 requires imgaug<0.2.7,>=0.2.5, but you have imgaug 0.2.9 which is incompatible.\u001b[0m\n",
            "Successfully installed numpy-1.16.3\n"
          ],
          "name": "stdout"
        },
        {
          "output_type": "display_data",
          "data": {
            "application/vnd.colab-display-data+json": {
              "pip_warning": {
                "packages": [
                  "numpy"
                ]
              }
            }
          },
          "metadata": {
            "tags": []
          }
        }
      ]
    },
    {
      "cell_type": "markdown",
      "metadata": {
        "id": "6w4hyufyK9NQ"
      },
      "source": [
        "Before we can run \"train.py\", download the repo into your PC then extract the data zip inside the both model directories, and upload them to the colab repo copy directory (ST-MetaNet/flow|traffic -prediction/data/). Otherwise, the model will throw OS-Error, stating that the dataset was not found."
      ]
    },
    {
      "cell_type": "code",
      "metadata": {
        "colab": {
          "base_uri": "https://localhost:8080/"
        },
        "id": "U5XLpJA3En0f",
        "outputId": "1b752b48-9e0c-470f-e2d7-05c42dfc78b0"
      },
      "source": [
        "!python train.py --file model_setting/[model_name].yaml --gpus [gpu_ids] --epochs [num_epoch]"
      ],
      "execution_count": 50,
      "outputs": [
        {
          "output_type": "stream",
          "text": [
            "usage: train.py [-h] [--file FILE] [--epochs EPOCHS] [--gpus GPUS]\n",
            "train.py: error: argument --epochs: invalid int value: '[num_epoch]'\n"
          ],
          "name": "stdout"
        }
      ]
    },
    {
      "cell_type": "markdown",
      "metadata": {
        "id": "FDqnDApMICbZ"
      },
      "source": [
        "where [model_name] is a yaml file name in the model_setting subfolder, [gpu_ids] is an integer of 0 to 3 (0 is recommended), and [num_epoch] is an integer of 1 to 200 (190 is recommended)."
      ]
    },
    {
      "cell_type": "code",
      "metadata": {
        "colab": {
          "base_uri": "https://localhost:8080/"
        },
        "id": "ZUWzfFPAH1Vg",
        "outputId": "3ea6511d-cac0-4924-ce32-9e791d122471"
      },
      "source": [
        "!python train.py --file model_setting/seq2seq.yaml --gpus 0 --epochs 200"
      ],
      "execution_count": 51,
      "outputs": [
        {
          "output_type": "stream",
          "text": [
            "Successfully loading the model seq2seq [epoch: 197]\n",
            "seq2seq_ (\n",
            "  Parameter seq2seq_encoder_c0_gru0_i2h_weight (shape=(384, 3), dtype=<class 'numpy.float32'>)\n",
            "  Parameter seq2seq_encoder_c0_gru0_h2h_weight (shape=(384, 128), dtype=<class 'numpy.float32'>)\n",
            "  Parameter seq2seq_encoder_c0_gru0_i2h_bias (shape=(384,), dtype=<class 'numpy.float32'>)\n",
            "  Parameter seq2seq_encoder_c0_gru0_h2h_bias (shape=(384,), dtype=<class 'numpy.float32'>)\n",
            "  Parameter seq2seq_encoder_c1_gru0_i2h_weight (shape=(384, 128), dtype=<class 'numpy.float32'>)\n",
            "  Parameter seq2seq_encoder_c1_gru0_h2h_weight (shape=(384, 128), dtype=<class 'numpy.float32'>)\n",
            "  Parameter seq2seq_encoder_c1_gru0_i2h_bias (shape=(384,), dtype=<class 'numpy.float32'>)\n",
            "  Parameter seq2seq_encoder_c1_gru0_h2h_bias (shape=(384,), dtype=<class 'numpy.float32'>)\n",
            "  Parameter seq2seq_decoder_c0_gru0_i2h_weight (shape=(384, 3), dtype=<class 'numpy.float32'>)\n",
            "  Parameter seq2seq_decoder_c0_gru0_h2h_weight (shape=(384, 128), dtype=<class 'numpy.float32'>)\n",
            "  Parameter seq2seq_decoder_c0_gru0_i2h_bias (shape=(384,), dtype=<class 'numpy.float32'>)\n",
            "  Parameter seq2seq_decoder_c0_gru0_h2h_bias (shape=(384,), dtype=<class 'numpy.float32'>)\n",
            "  Parameter seq2seq_decoder_c1_gru0_i2h_weight (shape=(384, 128), dtype=<class 'numpy.float32'>)\n",
            "  Parameter seq2seq_decoder_c1_gru0_h2h_weight (shape=(384, 128), dtype=<class 'numpy.float32'>)\n",
            "  Parameter seq2seq_decoder_c1_gru0_i2h_bias (shape=(384,), dtype=<class 'numpy.float32'>)\n",
            "  Parameter seq2seq_decoder_c1_gru0_h2h_bias (shape=(384,), dtype=<class 'numpy.float32'>)\n",
            "  Parameter decoder0_proj_weight (shape=(2, 160), dtype=float32)\n",
            "  Parameter decoder0_proj_bias (shape=(2,), dtype=float32)\n",
            "  Parameter geo_encoder_dense0_weight (shape=(32, 989), dtype=float32)\n",
            "  Parameter geo_encoder_dense0_bias (shape=(32,), dtype=float32)\n",
            "  Parameter geo_encoder_dense1_weight (shape=(32, 32), dtype=float32)\n",
            "  Parameter geo_encoder_dense1_bias (shape=(32,), dtype=float32)\n",
            ")\n",
            "NUMBER OF PARAMS: 333346\n",
            "INFO:root:Processing 1000 timestamps\n",
            "INFO:root:Processing 2000 timestamps\n",
            "tcmalloc: large alloc 9179439104 bytes == 0x561d9a32e000 @  0x7f45fd30a1e7 0x7f45fa017cf1 0x7f45fa07c768 0x7f45fa07c883 0x7f45fa11cb5e 0x7f45fa11d3c4 0x7f45fa11d512 0x561cf1ee50a4 0x561cf1ee4da0 0x561cf1f59868 0x561cf1f54235 0x561cf1ee673a 0x561cf1f58f40 0x561cf1f53c35 0x561cf1ee673a 0x561cf1f54b0e 0x561cf1ee665a 0x561cf1f54b0e 0x561cf1ee665a 0x561cf1f54b0e 0x561cf1f53c35 0x561cf1f53933 0x561cf201d402 0x561cf201d77d 0x561cf201d626 0x561cf1ff5313 0x561cf1ff4fbc 0x7f45fc0f4bf7 0x561cf1ff4e9a\n",
            "tcmalloc: large alloc 9179439104 bytes == 0x561fbdd7e000 @  0x7f45fd2ecb6b 0x7f45fd30c379 0x7f45cd4d4e75 0x7f45cd4d4f0d 0x7f45cd4dd22e 0x7f45cccf1a26 0x7f45cccf2298 0x7f45fa83cdae 0x7f45fa83c71f 0x7f45faa505ac 0x7f45faa4f9e3 0x561cf1ee57b2 0x561cf1f596f2 0x561cf1f53c35 0x561cf1ee673a 0x561cf1f54b0e 0x561cf1f53c35 0x561cf1ee673a 0x561cf1f54b0e 0x561cf1f53c35 0x561cf1ee673a 0x561cf1f5593b 0x561cf1f53c35 0x561cf1ee673a 0x561cf1f58f40 0x561cf1f53c35 0x561cf1ee673a 0x561cf1f54b0e 0x561cf1ee665a 0x561cf1f54b0e 0x561cf1ee665a\n",
            "^C\n"
          ],
          "name": "stdout"
        }
      ]
    },
    {
      "cell_type": "code",
      "metadata": {
        "colab": {
          "base_uri": "https://localhost:8080/"
        },
        "id": "pDZZXXW9YiXH",
        "outputId": "43e7e4dd-f372-41c2-900c-dcdac1ead011"
      },
      "source": [
        "!python train.py --file model_setting/gat-seq2seq.yaml --gpus 0 --epochs 200"
      ],
      "execution_count": 52,
      "outputs": [
        {
          "output_type": "stream",
          "text": [
            "Successfully loading the model gat-seq2seq [epoch: 200]\n",
            "seq2seq_ (\n",
            "  Parameter seq2seq_encoder_c0_gru0_i2h_weight (shape=(384, 3), dtype=<class 'numpy.float32'>)\n",
            "  Parameter seq2seq_encoder_c0_gru0_h2h_weight (shape=(384, 128), dtype=<class 'numpy.float32'>)\n",
            "  Parameter seq2seq_encoder_c0_gru0_i2h_bias (shape=(384,), dtype=<class 'numpy.float32'>)\n",
            "  Parameter seq2seq_encoder_c0_gru0_h2h_bias (shape=(384,), dtype=<class 'numpy.float32'>)\n",
            "  Parameter seq2seq_encoder_c1_gru0_i2h_weight (shape=(384, 128), dtype=<class 'numpy.float32'>)\n",
            "  Parameter seq2seq_encoder_c1_gru0_h2h_weight (shape=(384, 128), dtype=<class 'numpy.float32'>)\n",
            "  Parameter seq2seq_encoder_c1_gru0_i2h_bias (shape=(384,), dtype=<class 'numpy.float32'>)\n",
            "  Parameter seq2seq_encoder_c1_gru0_h2h_bias (shape=(384,), dtype=<class 'numpy.float32'>)\n",
            "  Parameter seq2seq_encoder_g0_graph_weight (shape=(1, 1), dtype=<class 'numpy.float32'>)\n",
            "  Parameter seq2seq_encoder_g0_graph_dense0_weight (shape=(128, 288), dtype=float32)\n",
            "  Parameter seq2seq_encoder_g0_graph_dense0_bias (shape=(128,), dtype=float32)\n",
            "  Parameter seq2seq_decoder_c0_gru0_i2h_weight (shape=(384, 3), dtype=<class 'numpy.float32'>)\n",
            "  Parameter seq2seq_decoder_c0_gru0_h2h_weight (shape=(384, 128), dtype=<class 'numpy.float32'>)\n",
            "  Parameter seq2seq_decoder_c0_gru0_i2h_bias (shape=(384,), dtype=<class 'numpy.float32'>)\n",
            "  Parameter seq2seq_decoder_c0_gru0_h2h_bias (shape=(384,), dtype=<class 'numpy.float32'>)\n",
            "  Parameter seq2seq_decoder_c1_gru0_i2h_weight (shape=(384, 128), dtype=<class 'numpy.float32'>)\n",
            "  Parameter seq2seq_decoder_c1_gru0_h2h_weight (shape=(384, 128), dtype=<class 'numpy.float32'>)\n",
            "  Parameter seq2seq_decoder_c1_gru0_i2h_bias (shape=(384,), dtype=<class 'numpy.float32'>)\n",
            "  Parameter seq2seq_decoder_c1_gru0_h2h_bias (shape=(384,), dtype=<class 'numpy.float32'>)\n",
            "  Parameter seq2seq_decoder_g0_graph_weight (shape=(1, 1), dtype=<class 'numpy.float32'>)\n",
            "  Parameter seq2seq_decoder_g0_graph_dense0_weight (shape=(128, 288), dtype=float32)\n",
            "  Parameter seq2seq_decoder_g0_graph_dense0_bias (shape=(128,), dtype=float32)\n",
            "  Parameter decoder0_proj_weight (shape=(2, 160), dtype=float32)\n",
            "  Parameter decoder0_proj_bias (shape=(2,), dtype=float32)\n",
            "  Parameter geo_encoder_dense0_weight (shape=(32, 989), dtype=float32)\n",
            "  Parameter geo_encoder_dense0_bias (shape=(32,), dtype=float32)\n",
            "  Parameter geo_encoder_dense1_weight (shape=(32, 32), dtype=float32)\n",
            "  Parameter geo_encoder_dense1_bias (shape=(32,), dtype=float32)\n",
            ")\n",
            "NUMBER OF PARAMS: 407332\n",
            "INFO:root:Processing 1000 timestamps\n",
            "INFO:root:Processing 2000 timestamps\n",
            "tcmalloc: large alloc 9179439104 bytes == 0x560076c7c000 @  0x7fb8ab5651e7 0x7fb8a8272cf1 0x7fb8a82d7768 0x7fb8a82d7883 0x7fb8a8377b5e 0x7fb8a83783c4 0x7fb8a8378512 0x55ffcf4450a4 0x55ffcf444da0 0x55ffcf4b9868 0x55ffcf4b4235 0x55ffcf44673a 0x55ffcf4b8f40 0x55ffcf4b3c35 0x55ffcf44673a 0x55ffcf4b4b0e 0x55ffcf44665a 0x55ffcf4b4b0e 0x55ffcf44665a 0x55ffcf4b4b0e 0x55ffcf4b3c35 0x55ffcf4b3933 0x55ffcf57d402 0x55ffcf57d77d 0x55ffcf57d626 0x55ffcf555313 0x55ffcf554fbc 0x7fb8aa34fbf7 0x55ffcf554e9a\n",
            "tcmalloc: large alloc 9179439104 bytes == 0x56029a6ae000 @  0x7fb8ab547b6b 0x7fb8ab567379 0x7fb87b72fe75 0x7fb87b72ff0d 0x7fb87b73822e 0x7fb87af4ca26 0x7fb87af4d298 0x7fb8a8a97dae 0x7fb8a8a9771f 0x7fb8a8cab5ac 0x7fb8a8caa9e3 0x55ffcf4457b2 0x55ffcf4b96f2 0x55ffcf4b3c35 0x55ffcf44673a 0x55ffcf4b4b0e 0x55ffcf4b3c35 0x55ffcf44673a 0x55ffcf4b4b0e 0x55ffcf4b3c35 0x55ffcf44673a 0x55ffcf4b593b 0x55ffcf4b3c35 0x55ffcf44673a 0x55ffcf4b8f40 0x55ffcf4b3c35 0x55ffcf44673a 0x55ffcf4b4b0e 0x55ffcf44665a 0x55ffcf4b4b0e 0x55ffcf44665a\n",
            "^C\n"
          ],
          "name": "stdout"
        }
      ]
    },
    {
      "cell_type": "code",
      "metadata": {
        "colab": {
          "base_uri": "https://localhost:8080/"
        },
        "id": "uaxY_cu7henq",
        "outputId": "90955f58-c354-4263-dac0-126f9fe5a75d"
      },
      "source": [
        "!python train.py --file model_setting/st-metanet.yaml --gpus 0 --epochs 200"
      ],
      "execution_count": 53,
      "outputs": [
        {
          "output_type": "stream",
          "text": [
            "Successfully loading the model st-metanet [epoch: 131]\n",
            "seq2seq_ (\n",
            "  Parameter seq2seq_encoder_c0_gru0_i2h_weight (shape=(192, 3), dtype=<class 'numpy.float32'>)\n",
            "  Parameter seq2seq_encoder_c0_gru0_h2h_weight (shape=(192, 64), dtype=<class 'numpy.float32'>)\n",
            "  Parameter seq2seq_encoder_c0_gru0_i2h_bias (shape=(192,), dtype=<class 'numpy.float32'>)\n",
            "  Parameter seq2seq_encoder_c0_gru0_h2h_bias (shape=(192,), dtype=<class 'numpy.float32'>)\n",
            "  Parameter seq2seq_encoder_c1_dense_z_w_dense0_weight (shape=(16, 32), dtype=float32)\n",
            "  Parameter seq2seq_encoder_c1_dense_z_w_dense0_bias (shape=(16,), dtype=float32)\n",
            "  Parameter seq2seq_encoder_c1_dense_z_w_dense1_weight (shape=(2, 16), dtype=float32)\n",
            "  Parameter seq2seq_encoder_c1_dense_z_w_dense1_bias (shape=(2,), dtype=float32)\n",
            "  Parameter seq2seq_encoder_c1_dense_z_w_dense2_weight (shape=(8192, 2), dtype=float32)\n",
            "  Parameter seq2seq_encoder_c1_dense_z_w_dense2_bias (shape=(8192,), dtype=float32)\n",
            "  Parameter seq2seq_encoder_c1_dense_z_b_dense0_weight (shape=(16, 32), dtype=float32)\n",
            "  Parameter seq2seq_encoder_c1_dense_z_b_dense0_bias (shape=(16,), dtype=float32)\n",
            "  Parameter seq2seq_encoder_c1_dense_z_b_dense1_weight (shape=(2, 16), dtype=float32)\n",
            "  Parameter seq2seq_encoder_c1_dense_z_b_dense1_bias (shape=(2,), dtype=float32)\n",
            "  Parameter seq2seq_encoder_c1_dense_z_b_dense2_weight (shape=(1, 2), dtype=float32)\n",
            "  Parameter seq2seq_encoder_c1_dense_z_b_dense2_bias (shape=(1,), dtype=float32)\n",
            "  Parameter seq2seq_encoder_c1_dense_r_w_dense0_weight (shape=(16, 32), dtype=float32)\n",
            "  Parameter seq2seq_encoder_c1_dense_r_w_dense0_bias (shape=(16,), dtype=float32)\n",
            "  Parameter seq2seq_encoder_c1_dense_r_w_dense1_weight (shape=(2, 16), dtype=float32)\n",
            "  Parameter seq2seq_encoder_c1_dense_r_w_dense1_bias (shape=(2,), dtype=float32)\n",
            "  Parameter seq2seq_encoder_c1_dense_r_w_dense2_weight (shape=(8192, 2), dtype=float32)\n",
            "  Parameter seq2seq_encoder_c1_dense_r_w_dense2_bias (shape=(8192,), dtype=float32)\n",
            "  Parameter seq2seq_encoder_c1_dense_r_b_dense0_weight (shape=(16, 32), dtype=float32)\n",
            "  Parameter seq2seq_encoder_c1_dense_r_b_dense0_bias (shape=(16,), dtype=float32)\n",
            "  Parameter seq2seq_encoder_c1_dense_r_b_dense1_weight (shape=(2, 16), dtype=float32)\n",
            "  Parameter seq2seq_encoder_c1_dense_r_b_dense1_bias (shape=(2,), dtype=float32)\n",
            "  Parameter seq2seq_encoder_c1_dense_r_b_dense2_weight (shape=(1, 2), dtype=float32)\n",
            "  Parameter seq2seq_encoder_c1_dense_r_b_dense2_bias (shape=(1,), dtype=float32)\n",
            "  Parameter seq2seq_encoder_c1_dense_i2h_w_dense0_weight (shape=(16, 32), dtype=float32)\n",
            "  Parameter seq2seq_encoder_c1_dense_i2h_w_dense0_bias (shape=(16,), dtype=float32)\n",
            "  Parameter seq2seq_encoder_c1_dense_i2h_w_dense1_weight (shape=(2, 16), dtype=float32)\n",
            "  Parameter seq2seq_encoder_c1_dense_i2h_w_dense1_bias (shape=(2,), dtype=float32)\n",
            "  Parameter seq2seq_encoder_c1_dense_i2h_w_dense2_weight (shape=(4096, 2), dtype=float32)\n",
            "  Parameter seq2seq_encoder_c1_dense_i2h_w_dense2_bias (shape=(4096,), dtype=float32)\n",
            "  Parameter seq2seq_encoder_c1_dense_i2h_b_dense0_weight (shape=(16, 32), dtype=float32)\n",
            "  Parameter seq2seq_encoder_c1_dense_i2h_b_dense0_bias (shape=(16,), dtype=float32)\n",
            "  Parameter seq2seq_encoder_c1_dense_i2h_b_dense1_weight (shape=(2, 16), dtype=float32)\n",
            "  Parameter seq2seq_encoder_c1_dense_i2h_b_dense1_bias (shape=(2,), dtype=float32)\n",
            "  Parameter seq2seq_encoder_c1_dense_i2h_b_dense2_weight (shape=(1, 2), dtype=float32)\n",
            "  Parameter seq2seq_encoder_c1_dense_i2h_b_dense2_bias (shape=(1,), dtype=float32)\n",
            "  Parameter seq2seq_encoder_c1_dense_h2h_w_dense0_weight (shape=(16, 32), dtype=float32)\n",
            "  Parameter seq2seq_encoder_c1_dense_h2h_w_dense0_bias (shape=(16,), dtype=float32)\n",
            "  Parameter seq2seq_encoder_c1_dense_h2h_w_dense1_weight (shape=(2, 16), dtype=float32)\n",
            "  Parameter seq2seq_encoder_c1_dense_h2h_w_dense1_bias (shape=(2,), dtype=float32)\n",
            "  Parameter seq2seq_encoder_c1_dense_h2h_w_dense2_weight (shape=(4096, 2), dtype=float32)\n",
            "  Parameter seq2seq_encoder_c1_dense_h2h_w_dense2_bias (shape=(4096,), dtype=float32)\n",
            "  Parameter seq2seq_encoder_c1_dense_h2h_b_dense0_weight (shape=(16, 32), dtype=float32)\n",
            "  Parameter seq2seq_encoder_c1_dense_h2h_b_dense0_bias (shape=(16,), dtype=float32)\n",
            "  Parameter seq2seq_encoder_c1_dense_h2h_b_dense1_weight (shape=(2, 16), dtype=float32)\n",
            "  Parameter seq2seq_encoder_c1_dense_h2h_b_dense1_bias (shape=(2,), dtype=float32)\n",
            "  Parameter seq2seq_encoder_c1_dense_h2h_b_dense2_weight (shape=(1, 2), dtype=float32)\n",
            "  Parameter seq2seq_encoder_c1_dense_h2h_b_dense2_bias (shape=(1,), dtype=float32)\n",
            "  Parameter seq2seq_encoder_g0_graph_weight (shape=(1, 1), dtype=<class 'numpy.float32'>)\n",
            "  Parameter seq2seq_encoder_g0_graph_mlp0_dense0_weight (shape=(16, 96), dtype=float32)\n",
            "  Parameter seq2seq_encoder_g0_graph_mlp0_dense0_bias (shape=(16,), dtype=float32)\n",
            "  Parameter seq2seq_encoder_g0_graph_mlp0_dense1_weight (shape=(2, 16), dtype=float32)\n",
            "  Parameter seq2seq_encoder_g0_graph_mlp0_dense1_bias (shape=(2,), dtype=float32)\n",
            "  Parameter seq2seq_encoder_g0_graph_mlp0_dense2_weight (shape=(8192, 2), dtype=float32)\n",
            "  Parameter seq2seq_encoder_g0_graph_mlp0_dense2_bias (shape=(8192,), dtype=float32)\n",
            "  Parameter seq2seq_decoder_c0_gru0_i2h_weight (shape=(192, 3), dtype=<class 'numpy.float32'>)\n",
            "  Parameter seq2seq_decoder_c0_gru0_h2h_weight (shape=(192, 64), dtype=<class 'numpy.float32'>)\n",
            "  Parameter seq2seq_decoder_c0_gru0_i2h_bias (shape=(192,), dtype=<class 'numpy.float32'>)\n",
            "  Parameter seq2seq_decoder_c0_gru0_h2h_bias (shape=(192,), dtype=<class 'numpy.float32'>)\n",
            "  Parameter seq2seq_decoder_c1_dense_z_w_dense0_weight (shape=(16, 32), dtype=float32)\n",
            "  Parameter seq2seq_decoder_c1_dense_z_w_dense0_bias (shape=(16,), dtype=float32)\n",
            "  Parameter seq2seq_decoder_c1_dense_z_w_dense1_weight (shape=(2, 16), dtype=float32)\n",
            "  Parameter seq2seq_decoder_c1_dense_z_w_dense1_bias (shape=(2,), dtype=float32)\n",
            "  Parameter seq2seq_decoder_c1_dense_z_w_dense2_weight (shape=(8192, 2), dtype=float32)\n",
            "  Parameter seq2seq_decoder_c1_dense_z_w_dense2_bias (shape=(8192,), dtype=float32)\n",
            "  Parameter seq2seq_decoder_c1_dense_z_b_dense0_weight (shape=(16, 32), dtype=float32)\n",
            "  Parameter seq2seq_decoder_c1_dense_z_b_dense0_bias (shape=(16,), dtype=float32)\n",
            "  Parameter seq2seq_decoder_c1_dense_z_b_dense1_weight (shape=(2, 16), dtype=float32)\n",
            "  Parameter seq2seq_decoder_c1_dense_z_b_dense1_bias (shape=(2,), dtype=float32)\n",
            "  Parameter seq2seq_decoder_c1_dense_z_b_dense2_weight (shape=(1, 2), dtype=float32)\n",
            "  Parameter seq2seq_decoder_c1_dense_z_b_dense2_bias (shape=(1,), dtype=float32)\n",
            "  Parameter seq2seq_decoder_c1_dense_r_w_dense0_weight (shape=(16, 32), dtype=float32)\n",
            "  Parameter seq2seq_decoder_c1_dense_r_w_dense0_bias (shape=(16,), dtype=float32)\n",
            "  Parameter seq2seq_decoder_c1_dense_r_w_dense1_weight (shape=(2, 16), dtype=float32)\n",
            "  Parameter seq2seq_decoder_c1_dense_r_w_dense1_bias (shape=(2,), dtype=float32)\n",
            "  Parameter seq2seq_decoder_c1_dense_r_w_dense2_weight (shape=(8192, 2), dtype=float32)\n",
            "  Parameter seq2seq_decoder_c1_dense_r_w_dense2_bias (shape=(8192,), dtype=float32)\n",
            "  Parameter seq2seq_decoder_c1_dense_r_b_dense0_weight (shape=(16, 32), dtype=float32)\n",
            "  Parameter seq2seq_decoder_c1_dense_r_b_dense0_bias (shape=(16,), dtype=float32)\n",
            "  Parameter seq2seq_decoder_c1_dense_r_b_dense1_weight (shape=(2, 16), dtype=float32)\n",
            "  Parameter seq2seq_decoder_c1_dense_r_b_dense1_bias (shape=(2,), dtype=float32)\n",
            "  Parameter seq2seq_decoder_c1_dense_r_b_dense2_weight (shape=(1, 2), dtype=float32)\n",
            "  Parameter seq2seq_decoder_c1_dense_r_b_dense2_bias (shape=(1,), dtype=float32)\n",
            "  Parameter seq2seq_decoder_c1_dense_i2h_w_dense0_weight (shape=(16, 32), dtype=float32)\n",
            "  Parameter seq2seq_decoder_c1_dense_i2h_w_dense0_bias (shape=(16,), dtype=float32)\n",
            "  Parameter seq2seq_decoder_c1_dense_i2h_w_dense1_weight (shape=(2, 16), dtype=float32)\n",
            "  Parameter seq2seq_decoder_c1_dense_i2h_w_dense1_bias (shape=(2,), dtype=float32)\n",
            "  Parameter seq2seq_decoder_c1_dense_i2h_w_dense2_weight (shape=(4096, 2), dtype=float32)\n",
            "  Parameter seq2seq_decoder_c1_dense_i2h_w_dense2_bias (shape=(4096,), dtype=float32)\n",
            "  Parameter seq2seq_decoder_c1_dense_i2h_b_dense0_weight (shape=(16, 32), dtype=float32)\n",
            "  Parameter seq2seq_decoder_c1_dense_i2h_b_dense0_bias (shape=(16,), dtype=float32)\n",
            "  Parameter seq2seq_decoder_c1_dense_i2h_b_dense1_weight (shape=(2, 16), dtype=float32)\n",
            "  Parameter seq2seq_decoder_c1_dense_i2h_b_dense1_bias (shape=(2,), dtype=float32)\n",
            "  Parameter seq2seq_decoder_c1_dense_i2h_b_dense2_weight (shape=(1, 2), dtype=float32)\n",
            "  Parameter seq2seq_decoder_c1_dense_i2h_b_dense2_bias (shape=(1,), dtype=float32)\n",
            "  Parameter seq2seq_decoder_c1_dense_h2h_w_dense0_weight (shape=(16, 32), dtype=float32)\n",
            "  Parameter seq2seq_decoder_c1_dense_h2h_w_dense0_bias (shape=(16,), dtype=float32)\n",
            "  Parameter seq2seq_decoder_c1_dense_h2h_w_dense1_weight (shape=(2, 16), dtype=float32)\n",
            "  Parameter seq2seq_decoder_c1_dense_h2h_w_dense1_bias (shape=(2,), dtype=float32)\n",
            "  Parameter seq2seq_decoder_c1_dense_h2h_w_dense2_weight (shape=(4096, 2), dtype=float32)\n",
            "  Parameter seq2seq_decoder_c1_dense_h2h_w_dense2_bias (shape=(4096,), dtype=float32)\n",
            "  Parameter seq2seq_decoder_c1_dense_h2h_b_dense0_weight (shape=(16, 32), dtype=float32)\n",
            "  Parameter seq2seq_decoder_c1_dense_h2h_b_dense0_bias (shape=(16,), dtype=float32)\n",
            "  Parameter seq2seq_decoder_c1_dense_h2h_b_dense1_weight (shape=(2, 16), dtype=float32)\n",
            "  Parameter seq2seq_decoder_c1_dense_h2h_b_dense1_bias (shape=(2,), dtype=float32)\n",
            "  Parameter seq2seq_decoder_c1_dense_h2h_b_dense2_weight (shape=(1, 2), dtype=float32)\n",
            "  Parameter seq2seq_decoder_c1_dense_h2h_b_dense2_bias (shape=(1,), dtype=float32)\n",
            "  Parameter seq2seq_decoder_g0_graph_weight (shape=(1, 1), dtype=<class 'numpy.float32'>)\n",
            "  Parameter seq2seq_decoder_g0_graph_mlp0_dense0_weight (shape=(16, 96), dtype=float32)\n",
            "  Parameter seq2seq_decoder_g0_graph_mlp0_dense0_bias (shape=(16,), dtype=float32)\n",
            "  Parameter seq2seq_decoder_g0_graph_mlp0_dense1_weight (shape=(2, 16), dtype=float32)\n",
            "  Parameter seq2seq_decoder_g0_graph_mlp0_dense1_bias (shape=(2,), dtype=float32)\n",
            "  Parameter seq2seq_decoder_g0_graph_mlp0_dense2_weight (shape=(8192, 2), dtype=float32)\n",
            "  Parameter seq2seq_decoder_g0_graph_mlp0_dense2_bias (shape=(8192,), dtype=float32)\n",
            "  Parameter decoder0_proj_weight (shape=(2, 96), dtype=float32)\n",
            "  Parameter decoder0_proj_bias (shape=(2,), dtype=float32)\n",
            "  Parameter geo_encoder_dense0_weight (shape=(32, 989), dtype=float32)\n",
            "  Parameter geo_encoder_dense0_bias (shape=(32,), dtype=float32)\n",
            "  Parameter geo_encoder_dense1_weight (shape=(32, 32), dtype=float32)\n",
            "  Parameter geo_encoder_dense1_bias (shape=(32,), dtype=float32)\n",
            ")\n",
            "NUMBER OF PARAMS: 268224\n",
            "INFO:root:Processing 1000 timestamps\n",
            "INFO:root:Processing 2000 timestamps\n",
            "tcmalloc: large alloc 9179439104 bytes == 0x55fd96a46000 @  0x7f54362f31e7 0x7f5433000cf1 0x7f5433065768 0x7f5433065883 0x7f5433105b5e 0x7f54331063c4 0x7f5433106512 0x55fcee9530a4 0x55fcee952da0 0x55fcee9c7868 0x55fcee9c2235 0x55fcee95473a 0x55fcee9c6f40 0x55fcee9c1c35 0x55fcee95473a 0x55fcee9c2b0e 0x55fcee95465a 0x55fcee9c2b0e 0x55fcee95465a 0x55fcee9c2b0e 0x55fcee9c1c35 0x55fcee9c1933 0x55fceea8b402 0x55fceea8b77d 0x55fceea8b626 0x55fceea63313 0x55fceea62fbc 0x7f54350ddbf7 0x55fceea62e9a\n",
            "tcmalloc: large alloc 9179439104 bytes == 0x55ffba478000 @  0x7f54362d5b6b 0x7f54362f5379 0x7f54064bde75 0x7f54064bdf0d 0x7f54064c622e 0x7f5405cdaa26 0x7f5405cdb298 0x7f5433825dae 0x7f543382571f 0x7f5433a395ac 0x7f5433a389e3 0x55fcee9537b2 0x55fcee9c76f2 0x55fcee9c1c35 0x55fcee95473a 0x55fcee9c2b0e 0x55fcee9c1c35 0x55fcee95473a 0x55fcee9c2b0e 0x55fcee9c1c35 0x55fcee95473a 0x55fcee9c393b 0x55fcee9c1c35 0x55fcee95473a 0x55fcee9c6f40 0x55fcee9c1c35 0x55fcee95473a 0x55fcee9c2b0e 0x55fcee95465a 0x55fcee9c2b0e 0x55fcee95465a\n",
            "^C\n"
          ],
          "name": "stdout"
        }
      ]
    },
    {
      "cell_type": "markdown",
      "metadata": {
        "id": "NhMwbxG9OuIR"
      },
      "source": [
        "Without the data .h5 files, the model will throw the OS-Error. To avoid this, of each submodel folder (flow|traffic-prediction), you must download the data.zip, extract it and upload the files inside to the data folder of each submodel where it belongs (on a colab VM, to the left).\n",
        "\n",
        "```\n",
        "Traceback (most recent call last):\n",
        "  File \"train.py\", line 172, in <module>\n",
        "    main(args)\n",
        "  File \"train.py\", line 104, in main\n",
        "    net = model_type.net(settings)\n",
        "  File \"/content/ST-MetaNet/flow-prediction/src/model/seq2seq.py\", line 248, in net\n",
        "    graph = get_graph()\n",
        "  File \"/content/ST-MetaNet/flow-prediction/src/data/dataloader.py\", line 28, in get_graph\n",
        "    adj_feature = utils.load_h5(os.path.join(DATA_PATH, 'BJ_GRAPH.h5'), ['data'])\n",
        "  File \"/content/ST-MetaNet/flow-prediction/src/data/utils.py\", line 20, in load_h5\n",
        "    f = h5py.File(filename, 'r')\n",
        "  File \"/usr/local/lib/python3.7/dist-packages/h5py/_hl/files.py\", line 427, in __init__\n",
        "    swmr=swmr)\n",
        "  File \"/usr/local/lib/python3.7/dist-packages/h5py/_hl/files.py\", line 190, in make_fid\n",
        "    fid = h5f.open(name, flags, fapl=fapl)\n",
        "  File \"h5py/_objects.pyx\", line 54, in h5py._objects.with_phil.wrapper\n",
        "  File \"h5py/_objects.pyx\", line 55, in h5py._objects.with_phil.wrapper\n",
        "  File \"h5py/h5f.pyx\", line 96, in h5py.h5f.open\n",
        "OSError: Unable to open file (unable to open file: name = '../data/BJ_GRAPH.h5', errno = 2, error message = 'No such file or directory', flags = 0, o_flags = 0)\n",
        "\n",
        "```\n",
        "\n"
      ]
    },
    {
      "cell_type": "markdown",
      "metadata": {
        "id": "wRjdL2ZWVDHq"
      },
      "source": [
        "The stable mxNET==1.5.0 version also throws an MXnet error. The 1.4.0 and 1.5.1 ends with a sudden cancellation (^C) due to the RAM surge (Recommendation: the model needs up to 32-64GB-RAM, 8GB-GPU, Ubuntu-16.04 cloud VM). And the 1.6.0 ends with a large (2^31 element) raster tensor issue like MXnet for newer CUDA versions. The potential solution to this is to find and download the stable 1.4.0 which has the closest date to the beta version 1.5.0b20190108, and run model in a linux machine (whether it is a cloud VM or not) with the recommended specs.\n",
        "\n",
        "\n",
        "\n",
        "```\n",
        "Successfully loading the model seq2seq [epoch: 197]\n",
        "seq2seq_ (\n",
        "  Parameter seq2seq_encoder_c0_gru0_i2h_weight (shape=(384, 3), dtype=<class 'numpy.float32'>)\n",
        "  Parameter seq2seq_encoder_c0_gru0_h2h_weight (shape=(384, 128), dtype=<class 'numpy.float32'>)\n",
        "  Parameter seq2seq_encoder_c0_gru0_i2h_bias (shape=(384,), dtype=<class 'numpy.float32'>)\n",
        "  Parameter seq2seq_encoder_c0_gru0_h2h_bias (shape=(384,), dtype=<class 'numpy.float32'>)\n",
        "  Parameter seq2seq_encoder_c1_gru0_i2h_weight (shape=(384, 128), dtype=<class 'numpy.float32'>)\n",
        "  Parameter seq2seq_encoder_c1_gru0_h2h_weight (shape=(384, 128), dtype=<class 'numpy.float32'>)\n",
        "  Parameter seq2seq_encoder_c1_gru0_i2h_bias (shape=(384,), dtype=<class 'numpy.float32'>)\n",
        "  Parameter seq2seq_encoder_c1_gru0_h2h_bias (shape=(384,), dtype=<class 'numpy.float32'>)\n",
        "  Parameter seq2seq_decoder_c0_gru0_i2h_weight (shape=(384, 3), dtype=<class 'numpy.float32'>)\n",
        "  Parameter seq2seq_decoder_c0_gru0_h2h_weight (shape=(384, 128), dtype=<class 'numpy.float32'>)\n",
        "  Parameter seq2seq_decoder_c0_gru0_i2h_bias (shape=(384,), dtype=<class 'numpy.float32'>)\n",
        "  Parameter seq2seq_decoder_c0_gru0_h2h_bias (shape=(384,), dtype=<class 'numpy.float32'>)\n",
        "  Parameter seq2seq_decoder_c1_gru0_i2h_weight (shape=(384, 128), dtype=<class 'numpy.float32'>)\n",
        "  Parameter seq2seq_decoder_c1_gru0_h2h_weight (shape=(384, 128), dtype=<class 'numpy.float32'>)\n",
        "  Parameter seq2seq_decoder_c1_gru0_i2h_bias (shape=(384,), dtype=<class 'numpy.float32'>)\n",
        "  Parameter seq2seq_decoder_c1_gru0_h2h_bias (shape=(384,), dtype=<class 'numpy.float32'>)\n",
        "  Parameter decoder0_proj_weight (shape=(2, 160), dtype=float32)\n",
        "  Parameter decoder0_proj_bias (shape=(2,), dtype=float32)\n",
        "  Parameter geo_encoder_dense0_weight (shape=(32, 989), dtype=float32)\n",
        "  Parameter geo_encoder_dense0_bias (shape=(32,), dtype=float32)\n",
        "  Parameter geo_encoder_dense1_weight (shape=(32, 32), dtype=float32)\n",
        "  Parameter geo_encoder_dense1_bias (shape=(32,), dtype=float32)\n",
        ")\n",
        "NUMBER OF PARAMS: 333346\n",
        "INFO:root:Processing 1000 timestamps\n",
        "INFO:root:Processing 2000 timestamps\n",
        "tcmalloc: large alloc 9179439104 bytes == 0x561f38ada000 @  0x7f3efdfc21e7 0x7f3efaccfcf1 0x7f3efad34768 0x7f3efad34883 0x7f3efadd4b5e 0x7f3efadd53c4 0x7f3efadd5512 0x561eac55b0a4 0x561eac55ada0 0x561eac5cf868 0x561eac5ca235 0x561eac55c73a 0x561eac5cef40 0x561eac5c9c35 0x561eac55c73a 0x561eac5cab0e 0x561eac55c65a 0x561eac5cab0e 0x561eac55c65a 0x561eac5cab0e 0x561eac5c9c35 0x561eac5c9933 0x561eac693402 0x561eac69377d 0x561eac693626 0x561eac66b313 0x561eac66afbc 0x7f3efcdacbf7 0x561eac66ae9a\n",
        "tcmalloc: large alloc 9179439104 bytes == 0x56215c5a8000 @  0x7f3efdfa4b6b 0x7f3efdfc4379 0x7f3ec9fff8aa 0x7f3eca00898f 0x7f3ec96cf5c0 0x7f3ec96d008d 0x7f3efb4f4dae 0x7f3efb4f471f 0x7f3efb7085ac 0x7f3efb7079e3 0x561eac55b7b2 0x561eac5cf6f2 0x561eac5c9c35 0x561eac55c73a 0x561eac5cab0e 0x561eac5c9c35 0x561eac55c73a 0x561eac5cab0e 0x561eac5c9c35 0x561eac55c73a 0x561eac5cb93b 0x561eac5c9c35 0x561eac55c73a 0x561eac5cef40 0x561eac5c9c35 0x561eac55c73a 0x561eac5cab0e 0x561eac55c65a 0x561eac5cab0e 0x561eac55c65a 0x561eac5cab0e\n",
        "Traceback (most recent call last):\n",
        "  File \"train.py\", line 172, in <module>\n",
        "    main(args)\n",
        "  File \"train.py\", line 143, in main\n",
        "    train, eval, test, scaler = getattr(data.dataloader, dataset_setting['dataloader'])(settings)\n",
        "  File \"/content/ST-MetaNet/flow-prediction/src/data/dataloader.py\", line 109, in dataloader_all_sensors_seq2seq\n",
        "    return dataiter_all_sensors_seq2seq(train, scaler, setting), \\\n",
        "  File \"/content/ST-MetaNet/flow-prediction/src/data/dataloader.py\", line 90, in dataiter_all_sensors_seq2seq\n",
        "    feature = mx.nd.array(np.stack(feature)) # [B, N, D]\n",
        "  File \"/usr/local/lib/python3.7/dist-packages/mxnet/ndarray/utils.py\", line 146, in array\n",
        "    return _array(source_array, ctx=ctx, dtype=dtype)\n",
        "  File \"/usr/local/lib/python3.7/dist-packages/mxnet/ndarray/ndarray.py\", line 2505, in array\n",
        "    arr[:] = source_array\n",
        "  File \"/usr/local/lib/python3.7/dist-packages/mxnet/ndarray/ndarray.py\", line 449, in __setitem__\n",
        "    self._set_nd_basic_indexing(key, value)\n",
        "  File \"/usr/local/lib/python3.7/dist-packages/mxnet/ndarray/ndarray.py\", line 715, in _set_nd_basic_indexing\n",
        "    self._sync_copyfrom(value)\n",
        "  File \"/usr/local/lib/python3.7/dist-packages/mxnet/ndarray/ndarray.py\", line 881, in _sync_copyfrom\n",
        "    ctypes.c_size_t(source_array.size)))\n",
        "  File \"/usr/local/lib/python3.7/dist-packages/mxnet/base.py\", line 253, in check_call\n",
        "    raise MXNetError(py_str(_LIB.MXGetLastError()))\n",
        "mxnet.base.MXNetError: [07:46:12] src/ndarray/ndarray_function.cc:51: Check failed: size == to->Size() (-2000107520 vs. 2294859776) : copying size mismatch, from: 18446744065709121536 bytes, to: 9179439104 bytes.\n",
        "Stack trace:\n",
        "  [bt] (0) /usr/local/lib/python3.7/dist-packages/mxnet/libmxnet.so(+0x4b03ab) [0x7f3ec764e3ab]\n",
        "  [bt] (1) /usr/local/lib/python3.7/dist-packages/mxnet/libmxnet.so(+0x281c2cb) [0x7f3ec99ba2cb]\n",
        "  [bt] (2) /usr/local/lib/python3.7/dist-packages/mxnet/libmxnet.so(mxnet::NDArray::SyncCopyFromCPU(void const*, unsigned long) const+0x27c) [0x7f3ec994600c]\n",
        "  [bt] (3) /usr/local/lib/python3.7/dist-packages/mxnet/libmxnet.so(MXNDArraySyncCopyFromCPU+0x2b) [0x7f3ec96c27eb]\n",
        "  [bt] (4) /usr/lib/x86_64-linux-gnu/libffi.so.6(ffi_call_unix64+0x4c) [0x7f3efb4f4dae]\n",
        "  [bt] (5) /usr/lib/x86_64-linux-gnu/libffi.so.6(ffi_call+0x22f) [0x7f3efb4f471f]\n",
        "  [bt] (6) /usr/lib/python3.7/lib-dynload/_ctypes.cpython-37m-x86_64-linux-gnu.so(_ctypes_callproc+0x28c) [0x7f3efb7085ac]\n",
        "  [bt] (7) /usr/lib/python3.7/lib-dynload/_ctypes.cpython-37m-x86_64-linux-gnu.so(+0x109e3) [0x7f3efb7079e3]\n",
        "  [bt] (8) python3(_PyObject_FastCallKeywords+0x92) [0x561eac55b7b2]\n",
        "\n",
        "```\n",
        "\n"
      ]
    },
    {
      "cell_type": "markdown",
      "metadata": {
        "id": "Vo4EOAj1tHox"
      },
      "source": [
        "The error log below belongs to MXnet-cu90 v1.4.0 & v1.5.1. Despite the closest versions to 1.50b20190108, the model threw the RAM surge error, indicating that it needs more that 12GB RAM to train and test the model.\n",
        "\n",
        "\n",
        "```\n",
        "Successfully loading the model st-metanet [epoch: 131]\n",
        "seq2seq_ (\n",
        "  Parameter seq2seq_encoder_c0_gru0_i2h_weight (shape=(192, 3), dtype=<class 'numpy.float32'>)\n",
        "  Parameter seq2seq_encoder_c0_gru0_h2h_weight (shape=(192, 64), dtype=<class 'numpy.float32'>)\n",
        "  Parameter seq2seq_encoder_c0_gru0_i2h_bias (shape=(192,), dtype=<class 'numpy.float32'>)\n",
        "  Parameter seq2seq_encoder_c0_gru0_h2h_bias (shape=(192,), dtype=<class 'numpy.float32'>)\n",
        "  Parameter seq2seq_encoder_c1_dense_z_w_dense0_weight (shape=(16, 32), dtype=float32)\n",
        "  Parameter seq2seq_encoder_c1_dense_z_w_dense0_bias (shape=(16,), dtype=float32)\n",
        "  Parameter seq2seq_encoder_c1_dense_z_w_dense1_weight (shape=(2, 16), dtype=float32)\n",
        "  Parameter seq2seq_encoder_c1_dense_z_w_dense1_bias (shape=(2,), dtype=float32)\n",
        "  Parameter seq2seq_encoder_c1_dense_z_w_dense2_weight (shape=(8192, 2), dtype=float32)\n",
        "  Parameter seq2seq_encoder_c1_dense_z_w_dense2_bias (shape=(8192,), dtype=float32)\n",
        "  Parameter seq2seq_encoder_c1_dense_z_b_dense0_weight (shape=(16, 32), dtype=float32)\n",
        "  Parameter seq2seq_encoder_c1_dense_z_b_dense0_bias (shape=(16,), dtype=float32)\n",
        "  Parameter seq2seq_encoder_c1_dense_z_b_dense1_weight (shape=(2, 16), dtype=float32)\n",
        "  Parameter seq2seq_encoder_c1_dense_z_b_dense1_bias (shape=(2,), dtype=float32)\n",
        "  Parameter seq2seq_encoder_c1_dense_z_b_dense2_weight (shape=(1, 2), dtype=float32)\n",
        "  Parameter seq2seq_encoder_c1_dense_z_b_dense2_bias (shape=(1,), dtype=float32)\n",
        "  Parameter seq2seq_encoder_c1_dense_r_w_dense0_weight (shape=(16, 32), dtype=float32)\n",
        "  Parameter seq2seq_encoder_c1_dense_r_w_dense0_bias (shape=(16,), dtype=float32)\n",
        "  Parameter seq2seq_encoder_c1_dense_r_w_dense1_weight (shape=(2, 16), dtype=float32)\n",
        "  Parameter seq2seq_encoder_c1_dense_r_w_dense1_bias (shape=(2,), dtype=float32)\n",
        "  Parameter seq2seq_encoder_c1_dense_r_w_dense2_weight (shape=(8192, 2), dtype=float32)\n",
        "  Parameter seq2seq_encoder_c1_dense_r_w_dense2_bias (shape=(8192,), dtype=float32)\n",
        "  Parameter seq2seq_encoder_c1_dense_r_b_dense0_weight (shape=(16, 32), dtype=float32)\n",
        "  Parameter seq2seq_encoder_c1_dense_r_b_dense0_bias (shape=(16,), dtype=float32)\n",
        "  Parameter seq2seq_encoder_c1_dense_r_b_dense1_weight (shape=(2, 16), dtype=float32)\n",
        "  Parameter seq2seq_encoder_c1_dense_r_b_dense1_bias (shape=(2,), dtype=float32)\n",
        "  Parameter seq2seq_encoder_c1_dense_r_b_dense2_weight (shape=(1, 2), dtype=float32)\n",
        "  Parameter seq2seq_encoder_c1_dense_r_b_dense2_bias (shape=(1,), dtype=float32)\n",
        "  Parameter seq2seq_encoder_c1_dense_i2h_w_dense0_weight (shape=(16, 32), dtype=float32)\n",
        "  Parameter seq2seq_encoder_c1_dense_i2h_w_dense0_bias (shape=(16,), dtype=float32)\n",
        "  Parameter seq2seq_encoder_c1_dense_i2h_w_dense1_weight (shape=(2, 16), dtype=float32)\n",
        "  Parameter seq2seq_encoder_c1_dense_i2h_w_dense1_bias (shape=(2,), dtype=float32)\n",
        "  Parameter seq2seq_encoder_c1_dense_i2h_w_dense2_weight (shape=(4096, 2), dtype=float32)\n",
        "  Parameter seq2seq_encoder_c1_dense_i2h_w_dense2_bias (shape=(4096,), dtype=float32)\n",
        "  Parameter seq2seq_encoder_c1_dense_i2h_b_dense0_weight (shape=(16, 32), dtype=float32)\n",
        "  Parameter seq2seq_encoder_c1_dense_i2h_b_dense0_bias (shape=(16,), dtype=float32)\n",
        "  Parameter seq2seq_encoder_c1_dense_i2h_b_dense1_weight (shape=(2, 16), dtype=float32)\n",
        "  Parameter seq2seq_encoder_c1_dense_i2h_b_dense1_bias (shape=(2,), dtype=float32)\n",
        "  Parameter seq2seq_encoder_c1_dense_i2h_b_dense2_weight (shape=(1, 2), dtype=float32)\n",
        "  Parameter seq2seq_encoder_c1_dense_i2h_b_dense2_bias (shape=(1,), dtype=float32)\n",
        "  Parameter seq2seq_encoder_c1_dense_h2h_w_dense0_weight (shape=(16, 32), dtype=float32)\n",
        "  Parameter seq2seq_encoder_c1_dense_h2h_w_dense0_bias (shape=(16,), dtype=float32)\n",
        "  Parameter seq2seq_encoder_c1_dense_h2h_w_dense1_weight (shape=(2, 16), dtype=float32)\n",
        "  Parameter seq2seq_encoder_c1_dense_h2h_w_dense1_bias (shape=(2,), dtype=float32)\n",
        "  Parameter seq2seq_encoder_c1_dense_h2h_w_dense2_weight (shape=(4096, 2), dtype=float32)\n",
        "  Parameter seq2seq_encoder_c1_dense_h2h_w_dense2_bias (shape=(4096,), dtype=float32)\n",
        "  Parameter seq2seq_encoder_c1_dense_h2h_b_dense0_weight (shape=(16, 32), dtype=float32)\n",
        "  Parameter seq2seq_encoder_c1_dense_h2h_b_dense0_bias (shape=(16,), dtype=float32)\n",
        "  Parameter seq2seq_encoder_c1_dense_h2h_b_dense1_weight (shape=(2, 16), dtype=float32)\n",
        "  Parameter seq2seq_encoder_c1_dense_h2h_b_dense1_bias (shape=(2,), dtype=float32)\n",
        "  Parameter seq2seq_encoder_c1_dense_h2h_b_dense2_weight (shape=(1, 2), dtype=float32)\n",
        "  Parameter seq2seq_encoder_c1_dense_h2h_b_dense2_bias (shape=(1,), dtype=float32)\n",
        "  Parameter seq2seq_encoder_g0_graph_weight (shape=(1, 1), dtype=<class 'numpy.float32'>)\n",
        "  Parameter seq2seq_encoder_g0_graph_mlp0_dense0_weight (shape=(16, 96), dtype=float32)\n",
        "  Parameter seq2seq_encoder_g0_graph_mlp0_dense0_bias (shape=(16,), dtype=float32)\n",
        "  Parameter seq2seq_encoder_g0_graph_mlp0_dense1_weight (shape=(2, 16), dtype=float32)\n",
        "  Parameter seq2seq_encoder_g0_graph_mlp0_dense1_bias (shape=(2,), dtype=float32)\n",
        "  Parameter seq2seq_encoder_g0_graph_mlp0_dense2_weight (shape=(8192, 2), dtype=float32)\n",
        "  Parameter seq2seq_encoder_g0_graph_mlp0_dense2_bias (shape=(8192,), dtype=float32)\n",
        "  Parameter seq2seq_decoder_c0_gru0_i2h_weight (shape=(192, 3), dtype=<class 'numpy.float32'>)\n",
        "  Parameter seq2seq_decoder_c0_gru0_h2h_weight (shape=(192, 64), dtype=<class 'numpy.float32'>)\n",
        "  Parameter seq2seq_decoder_c0_gru0_i2h_bias (shape=(192,), dtype=<class 'numpy.float32'>)\n",
        "  Parameter seq2seq_decoder_c0_gru0_h2h_bias (shape=(192,), dtype=<class 'numpy.float32'>)\n",
        "  Parameter seq2seq_decoder_c1_dense_z_w_dense0_weight (shape=(16, 32), dtype=float32)\n",
        "  Parameter seq2seq_decoder_c1_dense_z_w_dense0_bias (shape=(16,), dtype=float32)\n",
        "  Parameter seq2seq_decoder_c1_dense_z_w_dense1_weight (shape=(2, 16), dtype=float32)\n",
        "  Parameter seq2seq_decoder_c1_dense_z_w_dense1_bias (shape=(2,), dtype=float32)\n",
        "  Parameter seq2seq_decoder_c1_dense_z_w_dense2_weight (shape=(8192, 2), dtype=float32)\n",
        "  Parameter seq2seq_decoder_c1_dense_z_w_dense2_bias (shape=(8192,), dtype=float32)\n",
        "  Parameter seq2seq_decoder_c1_dense_z_b_dense0_weight (shape=(16, 32), dtype=float32)\n",
        "  Parameter seq2seq_decoder_c1_dense_z_b_dense0_bias (shape=(16,), dtype=float32)\n",
        "  Parameter seq2seq_decoder_c1_dense_z_b_dense1_weight (shape=(2, 16), dtype=float32)\n",
        "  Parameter seq2seq_decoder_c1_dense_z_b_dense1_bias (shape=(2,), dtype=float32)\n",
        "  Parameter seq2seq_decoder_c1_dense_z_b_dense2_weight (shape=(1, 2), dtype=float32)\n",
        "  Parameter seq2seq_decoder_c1_dense_z_b_dense2_bias (shape=(1,), dtype=float32)\n",
        "  Parameter seq2seq_decoder_c1_dense_r_w_dense0_weight (shape=(16, 32), dtype=float32)\n",
        "  Parameter seq2seq_decoder_c1_dense_r_w_dense0_bias (shape=(16,), dtype=float32)\n",
        "  Parameter seq2seq_decoder_c1_dense_r_w_dense1_weight (shape=(2, 16), dtype=float32)\n",
        "  Parameter seq2seq_decoder_c1_dense_r_w_dense1_bias (shape=(2,), dtype=float32)\n",
        "  Parameter seq2seq_decoder_c1_dense_r_w_dense2_weight (shape=(8192, 2), dtype=float32)\n",
        "  Parameter seq2seq_decoder_c1_dense_r_w_dense2_bias (shape=(8192,), dtype=float32)\n",
        "  Parameter seq2seq_decoder_c1_dense_r_b_dense0_weight (shape=(16, 32), dtype=float32)\n",
        "  Parameter seq2seq_decoder_c1_dense_r_b_dense0_bias (shape=(16,), dtype=float32)\n",
        "  Parameter seq2seq_decoder_c1_dense_r_b_dense1_weight (shape=(2, 16), dtype=float32)\n",
        "  Parameter seq2seq_decoder_c1_dense_r_b_dense1_bias (shape=(2,), dtype=float32)\n",
        "  Parameter seq2seq_decoder_c1_dense_r_b_dense2_weight (shape=(1, 2), dtype=float32)\n",
        "  Parameter seq2seq_decoder_c1_dense_r_b_dense2_bias (shape=(1,), dtype=float32)\n",
        "  Parameter seq2seq_decoder_c1_dense_i2h_w_dense0_weight (shape=(16, 32), dtype=float32)\n",
        "  Parameter seq2seq_decoder_c1_dense_i2h_w_dense0_bias (shape=(16,), dtype=float32)\n",
        "  Parameter seq2seq_decoder_c1_dense_i2h_w_dense1_weight (shape=(2, 16), dtype=float32)\n",
        "  Parameter seq2seq_decoder_c1_dense_i2h_w_dense1_bias (shape=(2,), dtype=float32)\n",
        "  Parameter seq2seq_decoder_c1_dense_i2h_w_dense2_weight (shape=(4096, 2), dtype=float32)\n",
        "  Parameter seq2seq_decoder_c1_dense_i2h_w_dense2_bias (shape=(4096,), dtype=float32)\n",
        "  Parameter seq2seq_decoder_c1_dense_i2h_b_dense0_weight (shape=(16, 32), dtype=float32)\n",
        "  Parameter seq2seq_decoder_c1_dense_i2h_b_dense0_bias (shape=(16,), dtype=float32)\n",
        "  Parameter seq2seq_decoder_c1_dense_i2h_b_dense1_weight (shape=(2, 16), dtype=float32)\n",
        "  Parameter seq2seq_decoder_c1_dense_i2h_b_dense1_bias (shape=(2,), dtype=float32)\n",
        "  Parameter seq2seq_decoder_c1_dense_i2h_b_dense2_weight (shape=(1, 2), dtype=float32)\n",
        "  Parameter seq2seq_decoder_c1_dense_i2h_b_dense2_bias (shape=(1,), dtype=float32)\n",
        "  Parameter seq2seq_decoder_c1_dense_h2h_w_dense0_weight (shape=(16, 32), dtype=float32)\n",
        "  Parameter seq2seq_decoder_c1_dense_h2h_w_dense0_bias (shape=(16,), dtype=float32)\n",
        "  Parameter seq2seq_decoder_c1_dense_h2h_w_dense1_weight (shape=(2, 16), dtype=float32)\n",
        "  Parameter seq2seq_decoder_c1_dense_h2h_w_dense1_bias (shape=(2,), dtype=float32)\n",
        "  Parameter seq2seq_decoder_c1_dense_h2h_w_dense2_weight (shape=(4096, 2), dtype=float32)\n",
        "  Parameter seq2seq_decoder_c1_dense_h2h_w_dense2_bias (shape=(4096,), dtype=float32)\n",
        "  Parameter seq2seq_decoder_c1_dense_h2h_b_dense0_weight (shape=(16, 32), dtype=float32)\n",
        "  Parameter seq2seq_decoder_c1_dense_h2h_b_dense0_bias (shape=(16,), dtype=float32)\n",
        "  Parameter seq2seq_decoder_c1_dense_h2h_b_dense1_weight (shape=(2, 16), dtype=float32)\n",
        "  Parameter seq2seq_decoder_c1_dense_h2h_b_dense1_bias (shape=(2,), dtype=float32)\n",
        "  Parameter seq2seq_decoder_c1_dense_h2h_b_dense2_weight (shape=(1, 2), dtype=float32)\n",
        "  Parameter seq2seq_decoder_c1_dense_h2h_b_dense2_bias (shape=(1,), dtype=float32)\n",
        "  Parameter seq2seq_decoder_g0_graph_weight (shape=(1, 1), dtype=<class 'numpy.float32'>)\n",
        "  Parameter seq2seq_decoder_g0_graph_mlp0_dense0_weight (shape=(16, 96), dtype=float32)\n",
        "  Parameter seq2seq_decoder_g0_graph_mlp0_dense0_bias (shape=(16,), dtype=float32)\n",
        "  Parameter seq2seq_decoder_g0_graph_mlp0_dense1_weight (shape=(2, 16), dtype=float32)\n",
        "  Parameter seq2seq_decoder_g0_graph_mlp0_dense1_bias (shape=(2,), dtype=float32)\n",
        "  Parameter seq2seq_decoder_g0_graph_mlp0_dense2_weight (shape=(8192, 2), dtype=float32)\n",
        "  Parameter seq2seq_decoder_g0_graph_mlp0_dense2_bias (shape=(8192,), dtype=float32)\n",
        "  Parameter decoder0_proj_weight (shape=(2, 96), dtype=float32)\n",
        "  Parameter decoder0_proj_bias (shape=(2,), dtype=float32)\n",
        "  Parameter geo_encoder_dense0_weight (shape=(32, 989), dtype=float32)\n",
        "  Parameter geo_encoder_dense0_bias (shape=(32,), dtype=float32)\n",
        "  Parameter geo_encoder_dense1_weight (shape=(32, 32), dtype=float32)\n",
        "  Parameter geo_encoder_dense1_bias (shape=(32,), dtype=float32)\n",
        ")\n",
        "NUMBER OF PARAMS: 268224\n",
        "INFO:root:Processing 1000 timestamps\n",
        "INFO:root:Processing 2000 timestamps\n",
        "tcmalloc: large alloc 9179439104 bytes == 0x562dae41c000 @  0x7fb8d46781e7 0x7fb8d1385cf1 0x7fb8d13ea768 0x7fb8d13ea883 0x7fb8d148ab5e 0x7fb8d148b3c4 0x7fb8d148b512 0x562d0695a0a4 0x562d06959da0 0x562d069ce868 0x562d069c9235 0x562d0695b73a 0x562d069cdf40 0x562d069c8c35 0x562d0695b73a 0x562d069c9b0e 0x562d0695b65a 0x562d069c9b0e 0x562d0695b65a 0x562d069c9b0e 0x562d069c8c35 0x562d069c8933 0x562d06a92402 0x562d06a9277d 0x562d06a92626 0x562d06a6a313 0x562d06a69fbc 0x7fb8d3462bf7 0x562d06a69e9a\n",
        "tcmalloc: large alloc 9179439104 bytes == 0x562fd1e4e000 @  0x7fb8d465ab6b 0x7fb8d467a379 0x7fb8a4842e75 0x7fb8a4842f0d 0x7fb8a484b22e 0x7fb8a405fa26 0x7fb8a4060298 0x7fb8d1baadae 0x7fb8d1baa71f 0x7fb8d1dbe5ac 0x7fb8d1dbd9e3 0x562d0695a7b2 0x562d069ce6f2 0x562d069c8c35 0x562d0695b73a 0x562d069c9b0e 0x562d069c8c35 0x562d0695b73a 0x562d069c9b0e 0x562d069c8c35 0x562d0695b73a 0x562d069ca93b 0x562d069c8c35 0x562d0695b73a 0x562d069cdf40 0x562d069c8c35 0x562d0695b73a 0x562d069c9b0e 0x562d0695b65a 0x562d069c9b0e 0x562d0695b65a\n",
        "^C\n",
        "```\n",
        "\n"
      ]
    }
  ]
}