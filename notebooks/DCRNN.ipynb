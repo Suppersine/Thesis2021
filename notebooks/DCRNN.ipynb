{
  "nbformat": 4,
  "nbformat_minor": 0,
  "metadata": {
    "colab": {
      "name": "DCRNN.ipynb",
      "provenance": [],
      "collapsed_sections": []
    },
    "kernelspec": {
      "name": "python3",
      "display_name": "Python 3"
    },
    "language_info": {
      "name": "python"
    },
    "accelerator": "GPU"
  },
  "cells": [
    {
      "cell_type": "markdown",
      "metadata": {
        "id": "-Mi9F4uPc_Gk"
      },
      "source": [
        "The DCRNN Model is referred by [7]"
      ]
    },
    {
      "cell_type": "code",
      "metadata": {
        "colab": {
          "base_uri": "https://localhost:8080/"
        },
        "id": "xI_c5tz4ZRno",
        "outputId": "59a91059-42df-4cbd-cfae-27ac2a283c02"
      },
      "source": [
        "!git clone https://github.com/liyaguang/DCRNN.git"
      ],
      "execution_count": 1,
      "outputs": [
        {
          "output_type": "stream",
          "name": "stdout",
          "text": [
            "Cloning into 'DCRNN'...\n",
            "remote: Enumerating objects: 325, done.\u001b[K\n",
            "remote: Counting objects: 100% (53/53), done.\u001b[K\n",
            "remote: Compressing objects: 100% (37/37), done.\u001b[K\n",
            "remote: Total 325 (delta 27), reused 40 (delta 16), pack-reused 272\u001b[K\n",
            "Receiving objects: 100% (325/325), 127.90 MiB | 28.83 MiB/s, done.\n",
            "Resolving deltas: 100% (142/142), done.\n"
          ]
        }
      ]
    },
    {
      "cell_type": "markdown",
      "metadata": {
        "id": "k_b0IR8Objgp"
      },
      "source": [
        "Data Preparation"
      ]
    },
    {
      "cell_type": "code",
      "metadata": {
        "colab": {
          "base_uri": "https://localhost:8080/"
        },
        "id": "HUWjM3TqaPXs",
        "outputId": "62be0f4c-44f2-409d-a194-a8897f86a16f"
      },
      "source": [
        "%cd /content/DCRNN/"
      ],
      "execution_count": 2,
      "outputs": [
        {
          "output_type": "stream",
          "name": "stdout",
          "text": [
            "/content/DCRNN\n"
          ]
        }
      ]
    },
    {
      "cell_type": "code",
      "source": [
        "pip install -r requirements.txt"
      ],
      "metadata": {
        "colab": {
          "base_uri": "https://localhost:8080/"
        },
        "id": "WrgipJz3Kqcj",
        "outputId": "492b81cd-48fc-4551-89de-3803b3e9e8e4"
      },
      "execution_count": 3,
      "outputs": [
        {
          "output_type": "stream",
          "name": "stdout",
          "text": [
            "Requirement already satisfied: scipy>=0.19.0 in /usr/local/lib/python3.7/dist-packages (from -r requirements.txt (line 1)) (1.4.1)\n",
            "Requirement already satisfied: numpy>=1.12.1 in /usr/local/lib/python3.7/dist-packages (from -r requirements.txt (line 2)) (1.19.5)\n",
            "Requirement already satisfied: pandas>=0.19.2 in /usr/local/lib/python3.7/dist-packages (from -r requirements.txt (line 3)) (1.1.5)\n",
            "Requirement already satisfied: pyyaml in /usr/local/lib/python3.7/dist-packages (from -r requirements.txt (line 4)) (3.13)\n",
            "Requirement already satisfied: statsmodels in /usr/local/lib/python3.7/dist-packages (from -r requirements.txt (line 5)) (0.10.2)\n",
            "Requirement already satisfied: tensorflow>=1.3.0 in /usr/local/lib/python3.7/dist-packages (from -r requirements.txt (line 6)) (2.7.0)\n",
            "Requirement already satisfied: pytz>=2017.2 in /usr/local/lib/python3.7/dist-packages (from pandas>=0.19.2->-r requirements.txt (line 3)) (2018.9)\n",
            "Requirement already satisfied: python-dateutil>=2.7.3 in /usr/local/lib/python3.7/dist-packages (from pandas>=0.19.2->-r requirements.txt (line 3)) (2.8.2)\n",
            "Requirement already satisfied: opt-einsum>=2.3.2 in /usr/local/lib/python3.7/dist-packages (from tensorflow>=1.3.0->-r requirements.txt (line 6)) (3.3.0)\n",
            "Requirement already satisfied: tensorflow-estimator<2.8,~=2.7.0rc0 in /usr/local/lib/python3.7/dist-packages (from tensorflow>=1.3.0->-r requirements.txt (line 6)) (2.7.0)\n",
            "Requirement already satisfied: tensorboard~=2.6 in /usr/local/lib/python3.7/dist-packages (from tensorflow>=1.3.0->-r requirements.txt (line 6)) (2.7.0)\n",
            "Requirement already satisfied: absl-py>=0.4.0 in /usr/local/lib/python3.7/dist-packages (from tensorflow>=1.3.0->-r requirements.txt (line 6)) (0.12.0)\n",
            "Requirement already satisfied: google-pasta>=0.1.1 in /usr/local/lib/python3.7/dist-packages (from tensorflow>=1.3.0->-r requirements.txt (line 6)) (0.2.0)\n",
            "Requirement already satisfied: grpcio<2.0,>=1.24.3 in /usr/local/lib/python3.7/dist-packages (from tensorflow>=1.3.0->-r requirements.txt (line 6)) (1.42.0)\n",
            "Requirement already satisfied: flatbuffers<3.0,>=1.12 in /usr/local/lib/python3.7/dist-packages (from tensorflow>=1.3.0->-r requirements.txt (line 6)) (2.0)\n",
            "Requirement already satisfied: tensorflow-io-gcs-filesystem>=0.21.0 in /usr/local/lib/python3.7/dist-packages (from tensorflow>=1.3.0->-r requirements.txt (line 6)) (0.22.0)\n",
            "Requirement already satisfied: keras<2.8,>=2.7.0rc0 in /usr/local/lib/python3.7/dist-packages (from tensorflow>=1.3.0->-r requirements.txt (line 6)) (2.7.0)\n",
            "Requirement already satisfied: wheel<1.0,>=0.32.0 in /usr/local/lib/python3.7/dist-packages (from tensorflow>=1.3.0->-r requirements.txt (line 6)) (0.37.0)\n",
            "Requirement already satisfied: typing-extensions>=3.6.6 in /usr/local/lib/python3.7/dist-packages (from tensorflow>=1.3.0->-r requirements.txt (line 6)) (3.10.0.2)\n",
            "Requirement already satisfied: six>=1.12.0 in /usr/local/lib/python3.7/dist-packages (from tensorflow>=1.3.0->-r requirements.txt (line 6)) (1.15.0)\n",
            "Requirement already satisfied: termcolor>=1.1.0 in /usr/local/lib/python3.7/dist-packages (from tensorflow>=1.3.0->-r requirements.txt (line 6)) (1.1.0)\n",
            "Requirement already satisfied: gast<0.5.0,>=0.2.1 in /usr/local/lib/python3.7/dist-packages (from tensorflow>=1.3.0->-r requirements.txt (line 6)) (0.4.0)\n",
            "Requirement already satisfied: protobuf>=3.9.2 in /usr/local/lib/python3.7/dist-packages (from tensorflow>=1.3.0->-r requirements.txt (line 6)) (3.17.3)\n",
            "Requirement already satisfied: astunparse>=1.6.0 in /usr/local/lib/python3.7/dist-packages (from tensorflow>=1.3.0->-r requirements.txt (line 6)) (1.6.3)\n",
            "Requirement already satisfied: h5py>=2.9.0 in /usr/local/lib/python3.7/dist-packages (from tensorflow>=1.3.0->-r requirements.txt (line 6)) (3.1.0)\n",
            "Requirement already satisfied: wrapt>=1.11.0 in /usr/local/lib/python3.7/dist-packages (from tensorflow>=1.3.0->-r requirements.txt (line 6)) (1.13.3)\n",
            "Requirement already satisfied: keras-preprocessing>=1.1.1 in /usr/local/lib/python3.7/dist-packages (from tensorflow>=1.3.0->-r requirements.txt (line 6)) (1.1.2)\n",
            "Requirement already satisfied: libclang>=9.0.1 in /usr/local/lib/python3.7/dist-packages (from tensorflow>=1.3.0->-r requirements.txt (line 6)) (12.0.0)\n",
            "Requirement already satisfied: cached-property in /usr/local/lib/python3.7/dist-packages (from h5py>=2.9.0->tensorflow>=1.3.0->-r requirements.txt (line 6)) (1.5.2)\n",
            "Requirement already satisfied: tensorboard-data-server<0.7.0,>=0.6.0 in /usr/local/lib/python3.7/dist-packages (from tensorboard~=2.6->tensorflow>=1.3.0->-r requirements.txt (line 6)) (0.6.1)\n",
            "Requirement already satisfied: werkzeug>=0.11.15 in /usr/local/lib/python3.7/dist-packages (from tensorboard~=2.6->tensorflow>=1.3.0->-r requirements.txt (line 6)) (1.0.1)\n",
            "Requirement already satisfied: google-auth-oauthlib<0.5,>=0.4.1 in /usr/local/lib/python3.7/dist-packages (from tensorboard~=2.6->tensorflow>=1.3.0->-r requirements.txt (line 6)) (0.4.6)\n",
            "Requirement already satisfied: setuptools>=41.0.0 in /usr/local/lib/python3.7/dist-packages (from tensorboard~=2.6->tensorflow>=1.3.0->-r requirements.txt (line 6)) (57.4.0)\n",
            "Requirement already satisfied: markdown>=2.6.8 in /usr/local/lib/python3.7/dist-packages (from tensorboard~=2.6->tensorflow>=1.3.0->-r requirements.txt (line 6)) (3.3.6)\n",
            "Requirement already satisfied: tensorboard-plugin-wit>=1.6.0 in /usr/local/lib/python3.7/dist-packages (from tensorboard~=2.6->tensorflow>=1.3.0->-r requirements.txt (line 6)) (1.8.0)\n",
            "Requirement already satisfied: requests<3,>=2.21.0 in /usr/local/lib/python3.7/dist-packages (from tensorboard~=2.6->tensorflow>=1.3.0->-r requirements.txt (line 6)) (2.23.0)\n",
            "Requirement already satisfied: google-auth<3,>=1.6.3 in /usr/local/lib/python3.7/dist-packages (from tensorboard~=2.6->tensorflow>=1.3.0->-r requirements.txt (line 6)) (1.35.0)\n",
            "Requirement already satisfied: pyasn1-modules>=0.2.1 in /usr/local/lib/python3.7/dist-packages (from google-auth<3,>=1.6.3->tensorboard~=2.6->tensorflow>=1.3.0->-r requirements.txt (line 6)) (0.2.8)\n",
            "Requirement already satisfied: rsa<5,>=3.1.4 in /usr/local/lib/python3.7/dist-packages (from google-auth<3,>=1.6.3->tensorboard~=2.6->tensorflow>=1.3.0->-r requirements.txt (line 6)) (4.8)\n",
            "Requirement already satisfied: cachetools<5.0,>=2.0.0 in /usr/local/lib/python3.7/dist-packages (from google-auth<3,>=1.6.3->tensorboard~=2.6->tensorflow>=1.3.0->-r requirements.txt (line 6)) (4.2.4)\n",
            "Requirement already satisfied: requests-oauthlib>=0.7.0 in /usr/local/lib/python3.7/dist-packages (from google-auth-oauthlib<0.5,>=0.4.1->tensorboard~=2.6->tensorflow>=1.3.0->-r requirements.txt (line 6)) (1.3.0)\n",
            "Requirement already satisfied: importlib-metadata>=4.4 in /usr/local/lib/python3.7/dist-packages (from markdown>=2.6.8->tensorboard~=2.6->tensorflow>=1.3.0->-r requirements.txt (line 6)) (4.8.2)\n",
            "Requirement already satisfied: zipp>=0.5 in /usr/local/lib/python3.7/dist-packages (from importlib-metadata>=4.4->markdown>=2.6.8->tensorboard~=2.6->tensorflow>=1.3.0->-r requirements.txt (line 6)) (3.6.0)\n",
            "Requirement already satisfied: pyasn1<0.5.0,>=0.4.6 in /usr/local/lib/python3.7/dist-packages (from pyasn1-modules>=0.2.1->google-auth<3,>=1.6.3->tensorboard~=2.6->tensorflow>=1.3.0->-r requirements.txt (line 6)) (0.4.8)\n",
            "Requirement already satisfied: urllib3!=1.25.0,!=1.25.1,<1.26,>=1.21.1 in /usr/local/lib/python3.7/dist-packages (from requests<3,>=2.21.0->tensorboard~=2.6->tensorflow>=1.3.0->-r requirements.txt (line 6)) (1.24.3)\n",
            "Requirement already satisfied: chardet<4,>=3.0.2 in /usr/local/lib/python3.7/dist-packages (from requests<3,>=2.21.0->tensorboard~=2.6->tensorflow>=1.3.0->-r requirements.txt (line 6)) (3.0.4)\n",
            "Requirement already satisfied: certifi>=2017.4.17 in /usr/local/lib/python3.7/dist-packages (from requests<3,>=2.21.0->tensorboard~=2.6->tensorflow>=1.3.0->-r requirements.txt (line 6)) (2021.10.8)\n",
            "Requirement already satisfied: idna<3,>=2.5 in /usr/local/lib/python3.7/dist-packages (from requests<3,>=2.21.0->tensorboard~=2.6->tensorflow>=1.3.0->-r requirements.txt (line 6)) (2.10)\n",
            "Requirement already satisfied: oauthlib>=3.0.0 in /usr/local/lib/python3.7/dist-packages (from requests-oauthlib>=0.7.0->google-auth-oauthlib<0.5,>=0.4.1->tensorboard~=2.6->tensorflow>=1.3.0->-r requirements.txt (line 6)) (3.1.1)\n",
            "Requirement already satisfied: patsy>=0.4.0 in /usr/local/lib/python3.7/dist-packages (from statsmodels->-r requirements.txt (line 5)) (0.5.2)\n"
          ]
        }
      ]
    },
    {
      "cell_type": "markdown",
      "metadata": {
        "id": "FFRcOdrhahUM"
      },
      "source": [
        "Find, download, and upload the METR-LA and the PEMS-BAY datasets. Download them to your PC first, then upload them onto the session machine to the left. (/content/DCRNN/data/) In my case, I preuploaded the dataset onto Dropbox"
      ]
    },
    {
      "cell_type": "code",
      "metadata": {
        "colab": {
          "base_uri": "https://localhost:8080/"
        },
        "id": "sWpFzqsMdmVy",
        "outputId": "fc278eab-6eaf-40ea-bb43-85fe2e7e365e"
      },
      "source": [
        "!wget https://www.dropbox.com/s/3uto6j6zba4kcje/metr-la.h5 -P /content/DCRNN/data/pems-bay.h5\n",
        "!wget https://www.dropbox.com/s/akpm0wf7apg6gy0/pems-bay.h5 -P /content/DCRNN/data/metr-la.h5"
      ],
      "execution_count": 7,
      "outputs": [
        {
          "output_type": "stream",
          "name": "stdout",
          "text": [
            "--2021-12-27 09:19:02--  https://www.dropbox.com/s/3uto6j6zba4kcje/metr-la.h5\n",
            "Resolving www.dropbox.com (www.dropbox.com)... 162.125.3.18, 2620:100:601b:18::a27d:812\n",
            "Connecting to www.dropbox.com (www.dropbox.com)|162.125.3.18|:443... connected.\n",
            "HTTP request sent, awaiting response... 301 Moved Permanently\n",
            "Location: /s/raw/3uto6j6zba4kcje/metr-la.h5 [following]\n",
            "--2021-12-27 09:19:03--  https://www.dropbox.com/s/raw/3uto6j6zba4kcje/metr-la.h5\n",
            "Reusing existing connection to www.dropbox.com:443.\n",
            "HTTP request sent, awaiting response... 302 Found\n",
            "Location: https://ucc39433eccea7063d8e0e5e2148.dl.dropboxusercontent.com/cd/0/inline/BcowfaWwWKHEOa0VLs9sasYfm4CGkXwlIUQeBj0w4pS1yJNNUt25kDQdbS_w7tKrzqSGRbds0fmwjuG4QkYAE-kl7SpQ7tZFtd-J21oshO-ILmqPzplxVHIowI2E5P9Z9MdWekfmNmqf9Z1XWhduaZwk/file# [following]\n",
            "--2021-12-27 09:19:03--  https://ucc39433eccea7063d8e0e5e2148.dl.dropboxusercontent.com/cd/0/inline/BcowfaWwWKHEOa0VLs9sasYfm4CGkXwlIUQeBj0w4pS1yJNNUt25kDQdbS_w7tKrzqSGRbds0fmwjuG4QkYAE-kl7SpQ7tZFtd-J21oshO-ILmqPzplxVHIowI2E5P9Z9MdWekfmNmqf9Z1XWhduaZwk/file\n",
            "Resolving ucc39433eccea7063d8e0e5e2148.dl.dropboxusercontent.com (ucc39433eccea7063d8e0e5e2148.dl.dropboxusercontent.com)... 162.125.3.15, 2620:100:601b:15::a27d:80f\n",
            "Connecting to ucc39433eccea7063d8e0e5e2148.dl.dropboxusercontent.com (ucc39433eccea7063d8e0e5e2148.dl.dropboxusercontent.com)|162.125.3.15|:443... connected.\n",
            "HTTP request sent, awaiting response... 302 Found\n",
            "Location: /cd/0/inline2/BcqHe7-MS7hLqRVegr_FbKZll_XjjAudifZs2p00aHGuVhbAJA4421_ok0i7GVxEl5NKeqm5KddY3yaptbnk42svJnK_KDFIue-oJtX9378lOlhuNTC2mY_Q8TgAv4WFC3YCBocbuxVKNTYqSFSk-9Tl6RXiDxVYIeyOULq3lYyX0yXhgFaPdI1q7lIaOFZ3bMe3e73Pa1DOXIjLDioewVEaYIEsT-afot7UGcUoIKudfSpygwX1VXrXCOQoQZr2Zf5FZNGbod5OuDADvwA_5AGIb7wreX3sTTFxVE2BGnmp3_mvpkTvwBiBh24Oa3Xi043X1kR9tn3auZh6r-HQTvUnVwgyumR7elAo9Ep9pNaXs3h118n5OfJ2ZGBiqWchTQM/file [following]\n",
            "--2021-12-27 09:19:03--  https://ucc39433eccea7063d8e0e5e2148.dl.dropboxusercontent.com/cd/0/inline2/BcqHe7-MS7hLqRVegr_FbKZll_XjjAudifZs2p00aHGuVhbAJA4421_ok0i7GVxEl5NKeqm5KddY3yaptbnk42svJnK_KDFIue-oJtX9378lOlhuNTC2mY_Q8TgAv4WFC3YCBocbuxVKNTYqSFSk-9Tl6RXiDxVYIeyOULq3lYyX0yXhgFaPdI1q7lIaOFZ3bMe3e73Pa1DOXIjLDioewVEaYIEsT-afot7UGcUoIKudfSpygwX1VXrXCOQoQZr2Zf5FZNGbod5OuDADvwA_5AGIb7wreX3sTTFxVE2BGnmp3_mvpkTvwBiBh24Oa3Xi043X1kR9tn3auZh6r-HQTvUnVwgyumR7elAo9Ep9pNaXs3h118n5OfJ2ZGBiqWchTQM/file\n",
            "Reusing existing connection to ucc39433eccea7063d8e0e5e2148.dl.dropboxusercontent.com:443.\n",
            "HTTP request sent, awaiting response... 200 OK\n",
            "Length: 57038056 (54M) [application/octet-stream]\n",
            "Saving to: ‘/content/DCRNN/data/pems-bay.h5/metr-la.h5’\n",
            "\n",
            "metr-la.h5          100%[===================>]  54.40M  68.6MB/s    in 0.8s    \n",
            "\n",
            "2021-12-27 09:19:05 (68.6 MB/s) - ‘/content/DCRNN/data/pems-bay.h5/metr-la.h5’ saved [57038056/57038056]\n",
            "\n",
            "--2021-12-27 09:19:05--  https://www.dropbox.com/s/akpm0wf7apg6gy0/pems-bay.h5\n",
            "Resolving www.dropbox.com (www.dropbox.com)... 162.125.3.18, 2620:100:601b:18::a27d:812\n",
            "Connecting to www.dropbox.com (www.dropbox.com)|162.125.3.18|:443... connected.\n",
            "HTTP request sent, awaiting response... 301 Moved Permanently\n",
            "Location: /s/raw/akpm0wf7apg6gy0/pems-bay.h5 [following]\n",
            "--2021-12-27 09:19:05--  https://www.dropbox.com/s/raw/akpm0wf7apg6gy0/pems-bay.h5\n",
            "Reusing existing connection to www.dropbox.com:443.\n",
            "HTTP request sent, awaiting response... 302 Found\n",
            "Location: https://uc2d6f53cc66d7c87b330311cc75.dl.dropboxusercontent.com/cd/0/inline/BcpedI4RkqBnAof9RD2z3BJoaL826y6eVqRvDQojHUz9enHfxh3Lrn3cEuzXHlficTedPZ4ogKKnzcgg4daBywv40F2pzyEAVqbB3g-Bb65CJ6Eo1Y8_n_cVQLHqVeUwQCVEWDOgmudPC89byw_lgWFP/file# [following]\n",
            "--2021-12-27 09:19:05--  https://uc2d6f53cc66d7c87b330311cc75.dl.dropboxusercontent.com/cd/0/inline/BcpedI4RkqBnAof9RD2z3BJoaL826y6eVqRvDQojHUz9enHfxh3Lrn3cEuzXHlficTedPZ4ogKKnzcgg4daBywv40F2pzyEAVqbB3g-Bb65CJ6Eo1Y8_n_cVQLHqVeUwQCVEWDOgmudPC89byw_lgWFP/file\n",
            "Resolving uc2d6f53cc66d7c87b330311cc75.dl.dropboxusercontent.com (uc2d6f53cc66d7c87b330311cc75.dl.dropboxusercontent.com)... 162.125.3.15, 2620:100:6018:15::a27d:30f\n",
            "Connecting to uc2d6f53cc66d7c87b330311cc75.dl.dropboxusercontent.com (uc2d6f53cc66d7c87b330311cc75.dl.dropboxusercontent.com)|162.125.3.15|:443... connected.\n",
            "HTTP request sent, awaiting response... 302 Found\n",
            "Location: /cd/0/inline2/BcoxJPjVE5Y_utd-5ng2C1w17LDs-Efl3b65BSRKAAB-Xx2VYzcyKB2Z1Bx2-MmXlFa0SMzbaI0KLpfEWCfdURzTYq8tAPCCNrnS-sCYwgK0lzssBh9dicZFfOfqVNeT8vjqbUTCzWnsaVn-fVo4BaxQfljGJZNqTIK7cj6S5wdqJfC0mRVCyMLzDS8a_qQdw2So4chZkU0B0g68ijfjTPY7qK81or4u7ETj8LwvEc8FbXkKB-p9P50JgJK9r-ku0c1iFejslKWfXDyC65PUpIvj_auSKFjtYtrVIb73AllovauaW-7I2HZqq7a7qjpdy34UIZ8w16xoJKF-pZdaSVLyFKdFyBS1dWokFP3rgJ4p9Li3usCytdY5C6nR_H8FjAA/file [following]\n",
            "--2021-12-27 09:19:06--  https://uc2d6f53cc66d7c87b330311cc75.dl.dropboxusercontent.com/cd/0/inline2/BcoxJPjVE5Y_utd-5ng2C1w17LDs-Efl3b65BSRKAAB-Xx2VYzcyKB2Z1Bx2-MmXlFa0SMzbaI0KLpfEWCfdURzTYq8tAPCCNrnS-sCYwgK0lzssBh9dicZFfOfqVNeT8vjqbUTCzWnsaVn-fVo4BaxQfljGJZNqTIK7cj6S5wdqJfC0mRVCyMLzDS8a_qQdw2So4chZkU0B0g68ijfjTPY7qK81or4u7ETj8LwvEc8FbXkKB-p9P50JgJK9r-ku0c1iFejslKWfXDyC65PUpIvj_auSKFjtYtrVIb73AllovauaW-7I2HZqq7a7qjpdy34UIZ8w16xoJKF-pZdaSVLyFKdFyBS1dWokFP3rgJ4p9Li3usCytdY5C6nR_H8FjAA/file\n",
            "Reusing existing connection to uc2d6f53cc66d7c87b330311cc75.dl.dropboxusercontent.com:443.\n",
            "HTTP request sent, awaiting response... 200 OK\n",
            "Length: 135930936 (130M) [application/octet-stream]\n",
            "Saving to: ‘/content/DCRNN/data/metr-la.h5/pems-bay.h5’\n",
            "\n",
            "pems-bay.h5         100%[===================>] 129.63M  80.9MB/s    in 1.6s    \n",
            "\n",
            "2021-12-27 09:19:08 (80.9 MB/s) - ‘/content/DCRNN/data/metr-la.h5/pems-bay.h5’ saved [135930936/135930936]\n",
            "\n"
          ]
        }
      ]
    },
    {
      "cell_type": "code",
      "metadata": {
        "id": "AZhZvq47ago5",
        "colab": {
          "base_uri": "https://localhost:8080/"
        },
        "outputId": "890d7c92-d4cf-47bf-8590-a02efd60d4ed"
      },
      "source": [
        "#%mkdir -p data/{METR-LA,PEMS-BAY}\n",
        "\n",
        "# METR-LA\n",
        "!python -m scripts.generate_training_data --output_dir=data/METR-LA --traffic_df_filename=data/metr-la.h5\n",
        "\n",
        "# PEMS-BAY\n",
        "!python -m scripts.generate_training_data --output_dir=data/PEMS-BAY --traffic_df_filename=data/pems-bay.h5"
      ],
      "execution_count": null,
      "outputs": [
        {
          "output_type": "stream",
          "name": "stdout",
          "text": [
            "Generating training data\n",
            "tcmalloc: large alloc 1361199104 bytes == 0x55a88753c000 @  0x7ff4841fd1e7 0x7ff481d3d46e 0x7ff481d8dc7b 0x7ff481d8dd18 0x7ff481e35010 0x7ff481e3573c 0x7ff481e3585d 0x55a7cefe1749 0x7ff481d7aef7 0x55a7cefdf437 0x55a7cefdf240 0x55a7cf052973 0x55a7cf04d9ee 0x55a7cefe0bda 0x55a7cf04f737 0x55a7cf04dced 0x55a7cef1fe2b 0x7ff481d7aef7 0x55a7cefdf437 0x55a7cefdf240 0x55a7cf052973 0x55a7cf04d9ee 0x55a7cefe0bda 0x55a7cf04f737 0x55a7cf04d9ee 0x55a7cefe0bda 0x55a7cf04f737 0x55a7cefe0afa 0x55a7cf04e915 0x55a7cefe0afa 0x55a7cf04e915\n",
            "tcmalloc: large alloc 1361199104 bytes == 0x55a8d901c000 @  0x7ff4841fd1e7 0x7ff481d3d46e 0x7ff481d8dc7b 0x7ff481d8dd18 0x7ff481e35010 0x7ff481e3573c 0x7ff481e3585d 0x55a7cefe1749 0x7ff481d7aef7 0x55a7cefdf437 0x55a7cefdf240 0x55a7cf052973 0x55a7cf04d9ee 0x55a7cefe0bda 0x55a7cf04f737 0x55a7cf04dced 0x55a7cef1fe2b 0x7ff481d7aef7 0x55a7cefdf437 0x55a7cefdf240 0x55a7cf052973 0x55a7cf04d9ee 0x55a7cefe0bda 0x55a7cf04f737 0x55a7cf04d9ee 0x55a7cefe0bda 0x55a7cf04f737 0x55a7cefe0afa 0x55a7cf04e915 0x55a7cefe0afa 0x55a7cf04e915\n",
            "x shape:  (34249, 12, 207, 2) , y shape:  (34249, 12, 207, 2)\n",
            "train x:  (23974, 12, 207, 2) y: (23974, 12, 207, 2)\n",
            "val x:  (3425, 12, 207, 2) y: (3425, 12, 207, 2)\n",
            "test x:  (6850, 12, 207, 2) y: (6850, 12, 207, 2)\n",
            "Generating training data\n",
            "tcmalloc: large alloc 3250610176 bytes == 0x555c4d5d2000 @  0x7f3a88ff61e7 0x7f3a86b3646e 0x7f3a86b86c7b 0x7f3a86b86d18 0x7f3a86c2e010 0x7f3a86c2e73c 0x7f3a86c2e85d 0x555a91d81749 0x7f3a86b73ef7 0x555a91d7f437 0x555a91d7f240 0x555a91df2973 0x555a91ded9ee 0x555a91d80bda 0x555a91def737 0x555a91dedced 0x555a91cbfe2b 0x7f3a86b73ef7 0x555a91d7f437 0x555a91d7f240 0x555a91df2973 0x555a91ded9ee 0x555a91d80bda 0x555a91def737 0x555a91ded9ee 0x555a91d80bda 0x555a91def737 0x555a91d80afa 0x555a91dee915 0x555a91d80afa 0x555a91dee915\n",
            "tcmalloc: large alloc 3250610176 bytes == 0x555d0fa72000 @  0x7f3a88ff61e7 0x7f3a86b3646e 0x7f3a86b86c7b 0x7f3a86b86d18 0x7f3a86c2e010 0x7f3a86c2e73c 0x7f3a86c2e85d 0x555a91d81749 0x7f3a86b73ef7 0x555a91d7f437 0x555a91d7f240 0x555a91df2973 0x555a91ded9ee 0x555a91d80bda 0x555a91def737 0x555a91dedced 0x555a91cbfe2b 0x7f3a86b73ef7 0x555a91d7f437 0x555a91d7f240 0x555a91df2973 0x555a91ded9ee 0x555a91d80bda 0x555a91def737 0x555a91ded9ee 0x555a91d80bda 0x555a91def737 0x555a91d80afa 0x555a91dee915 0x555a91d80afa 0x555a91dee915\n",
            "x shape:  (52093, 12, 325, 2) , y shape:  (52093, 12, 325, 2)\n",
            "train x:  (36465, 12, 325, 2) y: (36465, 12, 325, 2)\n",
            "val x:  (5209, 12, 325, 2) y: (5209, 12, 325, 2)\n",
            "test x:  (10419, 12, 325, 2) y: (10419, 12, 325, 2)\n"
          ]
        }
      ]
    },
    {
      "cell_type": "markdown",
      "metadata": {
        "id": "HRG1zTVCboer"
      },
      "source": [
        "After the datasets are loaded, construct a graph as an input for the GCN"
      ]
    },
    {
      "cell_type": "code",
      "metadata": {
        "id": "zN_jAqL8aU2h"
      },
      "source": [
        "!python -m scripts.gen_adj_mx  --sensor_ids_filename=data/sensor_graph/graph_sensor_ids.txt --normalized_k=0.1\\\n",
        "    --output_pkl_filename=data/sensor_graph/adj_mx.pkl"
      ],
      "execution_count": null,
      "outputs": []
    },
    {
      "cell_type": "markdown",
      "metadata": {
        "id": "1uBgXAQrcIE4"
      },
      "source": [
        "Run the pretrained model"
      ]
    },
    {
      "cell_type": "code",
      "metadata": {
        "id": "OTJeSkrzcKic",
        "colab": {
          "base_uri": "https://localhost:8080/",
          "height": 129
        },
        "outputId": "5b611352-fc7d-4f3a-f29f-04a9c1f04f25"
      },
      "source": [
        "# METR-LA\n",
        "!python run_demo.py --config_filename=data/model/pretrained/METR-LA/config.yaml\n",
        "\n",
        "# PEMS-BAY\n",
        "!python run_demo.py --config_filename=data/model/pretrained/PEMS-BAY/config.yaml\n",
        "#The generated prediction of DCRNN is in data/results/dcrnn_predictions."
      ],
      "execution_count": null,
      "outputs": [
        {
          "output_type": "error",
          "ename": "SyntaxError",
          "evalue": "ignored",
          "traceback": [
            "\u001b[0;36m  File \u001b[0;32m\"<ipython-input-7-347f44364669>\"\u001b[0;36m, line \u001b[0;32m6\u001b[0m\n\u001b[0;31m    The generated prediction of DCRNN is in data/results/dcrnn_predictions.\u001b[0m\n\u001b[0m                ^\u001b[0m\n\u001b[0;31mSyntaxError\u001b[0m\u001b[0;31m:\u001b[0m invalid syntax\n"
          ]
        }
      ]
    },
    {
      "cell_type": "markdown",
      "metadata": {
        "id": "8SJybBDWcM8G"
      },
      "source": [
        "Or retrain the model completely"
      ]
    },
    {
      "cell_type": "code",
      "metadata": {
        "id": "u3RKvlPecRCU"
      },
      "source": [
        "# METR-LA\n",
        "!python dcrnn_train.py --config_filename=data/model/dcrnn_la.yaml\n",
        "\n",
        "# PEMS-BAY\n",
        "!python dcrnn_train.py --config_filename=data/model/dcrnn_bay.yaml"
      ],
      "execution_count": null,
      "outputs": []
    },
    {
      "cell_type": "markdown",
      "metadata": {
        "id": "xeRyGzjdchZh"
      },
      "source": [
        "Eval Baseline Methods"
      ]
    },
    {
      "cell_type": "code",
      "metadata": {
        "id": "xKzLUzKOcjVJ"
      },
      "source": [
        "# METR-LA\n",
        "!python -m scripts.eval_baseline_methods --traffic_reading_filename=data/metr-la.h5"
      ],
      "execution_count": null,
      "outputs": []
    }
  ]
}