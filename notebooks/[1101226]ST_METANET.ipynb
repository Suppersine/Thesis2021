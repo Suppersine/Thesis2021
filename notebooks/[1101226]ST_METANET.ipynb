{
  "nbformat": 4,
  "nbformat_minor": 0,
  "metadata": {
    "colab": {
      "name": "[1101226]ST-METANET.ipynb",
      "provenance": [],
      "collapsed_sections": []
    },
    "kernelspec": {
      "name": "python3",
      "display_name": "Python 3"
    },
    "language_info": {
      "name": "python"
    },
    "accelerator": "GPU"
  },
  "cells": [
    {
      "cell_type": "markdown",
      "source": [
        "#ENVIRONMENTAL SETUP\n",
        "check GPU"
      ],
      "metadata": {
        "id": "aV7liJE56rDp"
      }
    },
    {
      "cell_type": "code",
      "execution_count": 1,
      "metadata": {
        "colab": {
          "base_uri": "https://localhost:8080/"
        },
        "id": "BMhL4TKe6lzX",
        "outputId": "2534c230-cdcf-4280-a4e7-66de71155cd2"
      },
      "outputs": [
        {
          "output_type": "stream",
          "name": "stdout",
          "text": [
            "Sun Dec 26 04:47:20 2021       \n",
            "+-----------------------------------------------------------------------------+\n",
            "| NVIDIA-SMI 495.44       Driver Version: 460.32.03    CUDA Version: 11.2     |\n",
            "|-------------------------------+----------------------+----------------------+\n",
            "| GPU  Name        Persistence-M| Bus-Id        Disp.A | Volatile Uncorr. ECC |\n",
            "| Fan  Temp  Perf  Pwr:Usage/Cap|         Memory-Usage | GPU-Util  Compute M. |\n",
            "|                               |                      |               MIG M. |\n",
            "|===============================+======================+======================|\n",
            "|   0  Tesla K80           Off  | 00000000:00:04.0 Off |                    0 |\n",
            "| N/A   37C    P8    25W / 149W |      0MiB / 11441MiB |      0%      Default |\n",
            "|                               |                      |                  N/A |\n",
            "+-------------------------------+----------------------+----------------------+\n",
            "                                                                               \n",
            "+-----------------------------------------------------------------------------+\n",
            "| Processes:                                                                  |\n",
            "|  GPU   GI   CI        PID   Type   Process name                  GPU Memory |\n",
            "|        ID   ID                                                   Usage      |\n",
            "|=============================================================================|\n",
            "|  No running processes found                                                 |\n",
            "+-----------------------------------------------------------------------------+\n"
          ]
        }
      ],
      "source": [
        "!nvidia-smi"
      ]
    },
    {
      "cell_type": "code",
      "source": [
        "!nvcc --version"
      ],
      "metadata": {
        "colab": {
          "base_uri": "https://localhost:8080/"
        },
        "id": "9ulu4I2w67ic",
        "outputId": "2c3ae429-e8fd-4c2a-ee60-4a94ce8c2340"
      },
      "execution_count": 2,
      "outputs": [
        {
          "output_type": "stream",
          "name": "stdout",
          "text": [
            "nvcc: NVIDIA (R) Cuda compiler driver\n",
            "Copyright (c) 2005-2020 NVIDIA Corporation\n",
            "Built on Mon_Oct_12_20:09:46_PDT_2020\n",
            "Cuda compilation tools, release 11.1, V11.1.105\n",
            "Build cuda_11.1.TC455_06.29190527_0\n"
          ]
        }
      ]
    },
    {
      "cell_type": "markdown",
      "source": [
        "Install Cuda 90"
      ],
      "metadata": {
        "id": "oNarb7n4ATOU"
      }
    },
    {
      "cell_type": "code",
      "source": [
        "!wget https://developer.nvidia.com/compute/cuda/9.0/Prod/local_installers/cuda-repo-ubuntu1604-9-0-local_9.0.176-1_amd64-deb -O cuda-repo-ubuntu1604-9-0-local_9.0.176-1_amd64.deb\n",
        "!sudo dpkg -i cuda-repo-ubuntu1604-9-0-local_9.0.176-1_amd64.deb\n",
        "!sudo apt-key add /var/cuda-repo-9-0-local/7fa2af80.pub\n",
        "!sudo apt-get update\n",
        "!sudo apt-get install cuda\n",
        "!sudo apt autoremove\n",
        "'''\n",
        "!wget https://developer.nvidia.com/compute/cuda/9.0/Prod/local_installers/cuda-repo-ubuntu1604-9-0-local_9.0.176-1_amd64-deb\n",
        "!dpkg -i cuda-repo-ubuntu1604-9-0-local_9.0.176-1_amd64-deb\n",
        "!apt-key add /var/cuda-repo-9-0-local/7fa2af80.pub\n",
        "!apt-get update\n",
        "!apt-get install cuda=9.0.176-1\n",
        "'''"
      ],
      "metadata": {
        "colab": {
          "base_uri": "https://localhost:8080/"
        },
        "id": "WPpYuZfc69Jq",
        "outputId": "b4c25be8-1066-43d1-9377-d0a36eb7da1a"
      },
      "execution_count": null,
      "outputs": [
        {
          "output_type": "stream",
          "name": "stdout",
          "text": [
            "--2021-12-26 04:47:20--  https://developer.nvidia.com/compute/cuda/9.0/Prod/local_installers/cuda-repo-ubuntu1604-9-0-local_9.0.176-1_amd64-deb\n",
            "Resolving developer.nvidia.com (developer.nvidia.com)... 152.195.19.142\n",
            "Connecting to developer.nvidia.com (developer.nvidia.com)|152.195.19.142|:443... connected.\n",
            "HTTP request sent, awaiting response... 301 Moved Permanently\n",
            "Location: https://developer.nvidia.com/compute/cuda/9.0/prod/local_installers/cuda-repo-ubuntu1604-9-0-local_9.0.176-1_amd64-deb [following]\n",
            "--2021-12-26 04:47:21--  https://developer.nvidia.com/compute/cuda/9.0/prod/local_installers/cuda-repo-ubuntu1604-9-0-local_9.0.176-1_amd64-deb\n",
            "Reusing existing connection to developer.nvidia.com:443.\n",
            "HTTP request sent, awaiting response... 302 Found\n",
            "Location: https://developer.download.nvidia.com/compute/cuda/9.0/secure/Prod/local_installers/cuda-repo-ubuntu1604-9-0-local_9.0.176-1_amd64.deb?VWzZuueplh1S0PGiXM1JbmivVCLlW_VQ_kyKCRAA08t5h5_8skjVAYc5Fx7w67l1GViutn6icizLQXrM4NZngQZTLTPqrCerKao-JLLxdioPFsK02-0upKeHT-ED7Kq2sWFepqBn1Gj3NhbYXHqQIj6mf9qnZ1KgrjGQpPLhlXPH_5mlBhaQIcBBAFlX1jKwVoiRcgeWkAm_dDO7OJqI [following]\n",
            "--2021-12-26 04:47:21--  https://developer.download.nvidia.com/compute/cuda/9.0/secure/Prod/local_installers/cuda-repo-ubuntu1604-9-0-local_9.0.176-1_amd64.deb?VWzZuueplh1S0PGiXM1JbmivVCLlW_VQ_kyKCRAA08t5h5_8skjVAYc5Fx7w67l1GViutn6icizLQXrM4NZngQZTLTPqrCerKao-JLLxdioPFsK02-0upKeHT-ED7Kq2sWFepqBn1Gj3NhbYXHqQIj6mf9qnZ1KgrjGQpPLhlXPH_5mlBhaQIcBBAFlX1jKwVoiRcgeWkAm_dDO7OJqI\n",
            "Resolving developer.download.nvidia.com (developer.download.nvidia.com)... 152.195.19.142\n",
            "Connecting to developer.download.nvidia.com (developer.download.nvidia.com)|152.195.19.142|:443... connected.\n",
            "HTTP request sent, awaiting response... 200 OK\n",
            "Length: 1212738714 (1.1G) [application/x-deb]\n",
            "Saving to: ‘cuda-repo-ubuntu1604-9-0-local_9.0.176-1_amd64.deb’\n",
            "\n",
            "cuda-repo-ubuntu160 100%[===================>]   1.13G   164MB/s    in 7.1s    \n",
            "\n",
            "2021-12-26 04:47:28 (164 MB/s) - ‘cuda-repo-ubuntu1604-9-0-local_9.0.176-1_amd64.deb’ saved [1212738714/1212738714]\n",
            "\n",
            "Selecting previously unselected package cuda-repo-ubuntu1604-9-0-local.\n",
            "(Reading database ... 155222 files and directories currently installed.)\n",
            "Preparing to unpack cuda-repo-ubuntu1604-9-0-local_9.0.176-1_amd64.deb ...\n",
            "Unpacking cuda-repo-ubuntu1604-9-0-local (9.0.176-1) ...\n",
            "Setting up cuda-repo-ubuntu1604-9-0-local (9.0.176-1) ...\n",
            "OK\n",
            "Get:1 file:/var/cuda-repo-9-0-local  InRelease\n",
            "Ign:1 file:/var/cuda-repo-9-0-local  InRelease\n",
            "Get:2 file:/var/cuda-repo-9-0-local  Release [574 B]\n",
            "Get:2 file:/var/cuda-repo-9-0-local  Release [574 B]\n",
            "Get:3 file:/var/cuda-repo-9-0-local  Release.gpg [819 B]\n",
            "Get:3 file:/var/cuda-repo-9-0-local  Release.gpg [819 B]\n",
            "Get:4 http://security.ubuntu.com/ubuntu bionic-security InRelease [88.7 kB]\n",
            "Get:5 https://cloud.r-project.org/bin/linux/ubuntu bionic-cran40/ InRelease [3,626 B]\n",
            "Get:6 file:/var/cuda-repo-9-0-local  Packages [15.4 kB]\n",
            "Ign:7 https://developer.download.nvidia.com/compute/cuda/repos/ubuntu1804/x86_64  InRelease\n",
            "Get:8 http://ppa.launchpad.net/c2d4u.team/c2d4u4.0+/ubuntu bionic InRelease [15.9 kB]\n",
            "Hit:9 http://archive.ubuntu.com/ubuntu bionic InRelease\n",
            "Ign:10 https://developer.download.nvidia.com/compute/machine-learning/repos/ubuntu1804/x86_64  InRelease\n",
            "Get:11 https://developer.download.nvidia.com/compute/cuda/repos/ubuntu1804/x86_64  Release [696 B]\n",
            "Get:12 https://cloud.r-project.org/bin/linux/ubuntu bionic-cran40/ Packages [73.9 kB]\n",
            "Hit:13 https://developer.download.nvidia.com/compute/machine-learning/repos/ubuntu1804/x86_64  Release\n",
            "Get:14 https://developer.download.nvidia.com/compute/cuda/repos/ubuntu1804/x86_64  Release.gpg [836 B]\n",
            "Get:15 http://archive.ubuntu.com/ubuntu bionic-updates InRelease [88.7 kB]\n",
            "Get:16 http://security.ubuntu.com/ubuntu bionic-security/restricted amd64 Packages [691 kB]\n",
            "Hit:17 http://ppa.launchpad.net/cran/libgit2/ubuntu bionic InRelease\n",
            "Get:18 http://security.ubuntu.com/ubuntu bionic-security/main amd64 Packages [2,461 kB]\n",
            "Get:19 http://security.ubuntu.com/ubuntu bionic-security/universe amd64 Packages [1,452 kB]\n",
            "Get:20 http://ppa.launchpad.net/deadsnakes/ppa/ubuntu bionic InRelease [15.9 kB]\n",
            "Get:22 http://archive.ubuntu.com/ubuntu bionic-backports InRelease [74.6 kB]\n",
            "Get:23 https://developer.download.nvidia.com/compute/cuda/repos/ubuntu1804/x86_64  Packages [833 kB]\n",
            "Hit:24 http://ppa.launchpad.net/graphics-drivers/ppa/ubuntu bionic InRelease\n",
            "Get:25 http://ppa.launchpad.net/c2d4u.team/c2d4u4.0+/ubuntu bionic/main Sources [1,821 kB]\n",
            "Get:26 http://archive.ubuntu.com/ubuntu bionic-updates/main amd64 Packages [2,898 kB]\n",
            "Get:27 http://archive.ubuntu.com/ubuntu bionic-updates/universe amd64 Packages [2,230 kB]\n",
            "Get:28 http://ppa.launchpad.net/c2d4u.team/c2d4u4.0+/ubuntu bionic/main amd64 Packages [934 kB]\n",
            "Get:29 http://archive.ubuntu.com/ubuntu bionic-backports/universe amd64 Packages [12.6 kB]\n",
            "Get:30 http://archive.ubuntu.com/ubuntu bionic-backports/main amd64 Packages [11.6 kB]\n",
            "Get:31 http://ppa.launchpad.net/deadsnakes/ppa/ubuntu bionic/main amd64 Packages [45.3 kB]\n",
            "Fetched 13.8 MB in 3s (4,506 kB/s)\n",
            "Reading package lists... Done\n",
            "Reading package lists... Done\n",
            "Building dependency tree       \n",
            "Reading state information... Done\n",
            "The following additional packages will be installed:\n",
            "  cuda-11-5 cuda-cccl-11-5 cuda-command-line-tools-11-5 cuda-compiler-11-5\n",
            "  cuda-cudart-11-5 cuda-cudart-dev-11-5 cuda-cuobjdump-11-5 cuda-cupti-11-5\n",
            "  cuda-cupti-dev-11-5 cuda-cuxxfilt-11-5 cuda-demo-suite-11-5\n",
            "  cuda-documentation-11-5 cuda-driver-dev-11-5 cuda-gdb-11-5\n",
            "  cuda-libraries-11-5 cuda-libraries-dev-11-5 cuda-memcheck-11-5\n",
            "  cuda-nsight-11-5 cuda-nsight-compute-11-5 cuda-nsight-systems-11-5\n",
            "  cuda-nvcc-11-5 cuda-nvdisasm-11-5 cuda-nvml-dev-11-5 cuda-nvprof-11-5\n",
            "  cuda-nvprune-11-5 cuda-nvrtc-11-5 cuda-nvrtc-dev-11-5 cuda-nvtx-11-5\n",
            "  cuda-nvvp-11-5 cuda-runtime-11-5 cuda-samples-11-5 cuda-sanitizer-11-5\n",
            "  cuda-toolkit-11-5 cuda-toolkit-11-5-config-common\n",
            "  cuda-toolkit-11-config-common cuda-toolkit-config-common cuda-tools-11-5\n",
            "  cuda-visual-tools-11-5 gds-tools-11-5 libcublas-11-5 libcublas-dev-11-5\n",
            "  libcufft-11-5 libcufft-dev-11-5 libcufile-11-5 libcufile-dev-11-5\n",
            "  libcurand-11-5 libcurand-dev-11-5 libcusolver-11-5 libcusolver-dev-11-5\n",
            "  libcusparse-11-5 libcusparse-dev-11-5 libnpp-11-5 libnpp-dev-11-5\n",
            "  libnvjpeg-11-5 libnvjpeg-dev-11-5 liburcu6\n",
            "The following NEW packages will be installed:\n",
            "  cuda cuda-11-5 cuda-cccl-11-5 cuda-command-line-tools-11-5\n",
            "  cuda-compiler-11-5 cuda-cudart-11-5 cuda-cudart-dev-11-5 cuda-cuobjdump-11-5\n",
            "  cuda-cupti-11-5 cuda-cupti-dev-11-5 cuda-cuxxfilt-11-5 cuda-demo-suite-11-5\n",
            "  cuda-documentation-11-5 cuda-driver-dev-11-5 cuda-gdb-11-5\n",
            "  cuda-libraries-11-5 cuda-libraries-dev-11-5 cuda-memcheck-11-5\n",
            "  cuda-nsight-11-5 cuda-nsight-compute-11-5 cuda-nsight-systems-11-5\n",
            "  cuda-nvcc-11-5 cuda-nvdisasm-11-5 cuda-nvml-dev-11-5 cuda-nvprof-11-5\n",
            "  cuda-nvprune-11-5 cuda-nvrtc-11-5 cuda-nvrtc-dev-11-5 cuda-nvtx-11-5\n",
            "  cuda-nvvp-11-5 cuda-runtime-11-5 cuda-samples-11-5 cuda-sanitizer-11-5\n",
            "  cuda-toolkit-11-5 cuda-toolkit-11-5-config-common\n",
            "  cuda-toolkit-11-config-common cuda-toolkit-config-common cuda-tools-11-5\n",
            "  cuda-visual-tools-11-5 gds-tools-11-5 libcublas-11-5 libcublas-dev-11-5\n",
            "  libcufft-11-5 libcufft-dev-11-5 libcufile-11-5 libcufile-dev-11-5\n",
            "  libcurand-11-5 libcurand-dev-11-5 libcusolver-11-5 libcusolver-dev-11-5\n",
            "  libcusparse-11-5 libcusparse-dev-11-5 libnpp-11-5 libnpp-dev-11-5\n",
            "  libnvjpeg-11-5 libnvjpeg-dev-11-5 liburcu6\n",
            "0 upgraded, 57 newly installed, 0 to remove and 85 not upgraded.\n",
            "Need to get 1,628 MB of archives.\n",
            "After this operation, 4,360 MB of additional disk space will be used.\n",
            "Get:1 https://developer.download.nvidia.com/compute/cuda/repos/ubuntu1804/x86_64  cuda-toolkit-config-common 11.5.117-1 [16.3 kB]\n",
            "Get:2 https://developer.download.nvidia.com/compute/cuda/repos/ubuntu1804/x86_64  cuda-toolkit-11-config-common 11.5.117-1 [16.3 kB]\n",
            "Get:3 https://developer.download.nvidia.com/compute/cuda/repos/ubuntu1804/x86_64  cuda-toolkit-11-5-config-common 11.5.117-1 [16.3 kB]\n",
            "Get:4 https://developer.download.nvidia.com/compute/cuda/repos/ubuntu1804/x86_64  cuda-cudart-11-5 11.5.117-1 [159 kB]\n",
            "Get:5 https://developer.download.nvidia.com/compute/cuda/repos/ubuntu1804/x86_64  cuda-nvrtc-11-5 11.5.119-1 [14.9 MB]\n",
            "Get:6 http://archive.ubuntu.com/ubuntu bionic-updates/main amd64 liburcu6 amd64 0.10.1-1ubuntu1 [52.2 kB]\n",
            "Get:7 https://developer.download.nvidia.com/compute/cuda/repos/ubuntu1804/x86_64  libcublas-11-5 11.7.4.6-1 [217 MB]\n",
            "Get:8 https://developer.download.nvidia.com/compute/cuda/repos/ubuntu1804/x86_64  libcufft-11-5 10.6.0.107-1 [68.3 MB]\n",
            "Get:9 https://developer.download.nvidia.com/compute/cuda/repos/ubuntu1804/x86_64  libcufile-11-5 1.1.1.25-1 [422 kB]\n",
            "Get:10 https://developer.download.nvidia.com/compute/cuda/repos/ubuntu1804/x86_64  libcurand-11-5 10.2.7.107-1 [41.5 MB]\n",
            "Get:11 https://developer.download.nvidia.com/compute/cuda/repos/ubuntu1804/x86_64  libcusolver-11-5 11.3.2.107-1 [43.7 MB]\n",
            "Get:12 https://developer.download.nvidia.com/compute/cuda/repos/ubuntu1804/x86_64  libcusparse-11-5 11.7.0.107-1 [92.2 MB]\n",
            "Get:13 https://developer.download.nvidia.com/compute/cuda/repos/ubuntu1804/x86_64  libnpp-11-5 11.5.1.107-1 [79.7 MB]\n",
            "Get:14 https://developer.download.nvidia.com/compute/cuda/repos/ubuntu1804/x86_64  libnvjpeg-11-5 11.5.4.107-1 [1,710 kB]\n",
            "Get:15 https://developer.download.nvidia.com/compute/cuda/repos/ubuntu1804/x86_64  cuda-libraries-11-5 11.5.1-1 [2,508 B]\n",
            "Get:16 https://developer.download.nvidia.com/compute/cuda/repos/ubuntu1804/x86_64  cuda-runtime-11-5 11.5.1-1 [2,418 B]\n",
            "Get:17 https://developer.download.nvidia.com/compute/cuda/repos/ubuntu1804/x86_64  cuda-cuobjdump-11-5 11.5.119-1 [115 kB]\n",
            "Get:18 https://developer.download.nvidia.com/compute/cuda/repos/ubuntu1804/x86_64  cuda-cuxxfilt-11-5 11.5.119-1 [188 kB]\n",
            "Get:19 https://developer.download.nvidia.com/compute/cuda/repos/ubuntu1804/x86_64  cuda-cccl-11-5 11.5.62-1 [997 kB]\n",
            "Get:20 https://developer.download.nvidia.com/compute/cuda/repos/ubuntu1804/x86_64  cuda-driver-dev-11-5 11.5.117-1 [26.8 kB]\n",
            "Get:21 https://developer.download.nvidia.com/compute/cuda/repos/ubuntu1804/x86_64  cuda-cudart-dev-11-5 11.5.117-1 [750 kB]\n",
            "Get:22 https://developer.download.nvidia.com/compute/cuda/repos/ubuntu1804/x86_64  cuda-nvcc-11-5 11.5.119-1 [35.5 MB]\n",
            "Get:23 https://developer.download.nvidia.com/compute/cuda/repos/ubuntu1804/x86_64  cuda-nvprune-11-5 11.5.119-1 [57.5 kB]\n",
            "Get:24 https://developer.download.nvidia.com/compute/cuda/repos/ubuntu1804/x86_64  cuda-compiler-11-5 11.5.1-1 [2,428 B]\n",
            "Get:25 https://developer.download.nvidia.com/compute/cuda/repos/ubuntu1804/x86_64  cuda-nvrtc-dev-11-5 11.5.119-1 [13.3 MB]\n",
            "Get:26 https://developer.download.nvidia.com/compute/cuda/repos/ubuntu1804/x86_64  libcublas-dev-11-5 11.7.4.6-1 [220 MB]\n",
            "Get:27 https://developer.download.nvidia.com/compute/cuda/repos/ubuntu1804/x86_64  libcufft-dev-11-5 10.6.0.107-1 [152 MB]\n",
            "Get:28 https://developer.download.nvidia.com/compute/cuda/repos/ubuntu1804/x86_64  libcufile-dev-11-5 1.1.1.25-1 [6,980 kB]\n",
            "Get:29 https://developer.download.nvidia.com/compute/cuda/repos/ubuntu1804/x86_64  libcurand-dev-11-5 10.2.7.107-1 [41.9 MB]\n",
            "Get:30 https://developer.download.nvidia.com/compute/cuda/repos/ubuntu1804/x86_64  libcusolver-dev-11-5 11.3.2.107-1 [28.4 MB]\n",
            "Get:31 https://developer.download.nvidia.com/compute/cuda/repos/ubuntu1804/x86_64  libcusparse-dev-11-5 11.7.0.107-1 [92.3 MB]\n",
            "Get:32 https://developer.download.nvidia.com/compute/cuda/repos/ubuntu1804/x86_64  libnpp-dev-11-5 11.5.1.107-1 [79.4 MB]\n",
            "Get:33 https://developer.download.nvidia.com/compute/cuda/repos/ubuntu1804/x86_64  libnvjpeg-dev-11-5 11.5.4.107-1 [1,383 kB]\n",
            "Get:34 https://developer.download.nvidia.com/compute/cuda/repos/ubuntu1804/x86_64  cuda-libraries-dev-11-5 11.5.1-1 [2,540 B]\n",
            "Get:35 https://developer.download.nvidia.com/compute/cuda/repos/ubuntu1804/x86_64  cuda-cupti-11-5 11.5.114-1 [13.0 MB]\n",
            "Get:36 https://developer.download.nvidia.com/compute/cuda/repos/ubuntu1804/x86_64  cuda-cupti-dev-11-5 11.5.114-1 [2,473 kB]\n",
            "Get:37 https://developer.download.nvidia.com/compute/cuda/repos/ubuntu1804/x86_64  cuda-nvdisasm-11-5 11.5.119-1 [32.8 MB]\n",
            "Get:38 https://developer.download.nvidia.com/compute/cuda/repos/ubuntu1804/x86_64  cuda-gdb-11-5 11.5.114-1 [4,095 kB]\n",
            "Get:39 https://developer.download.nvidia.com/compute/cuda/repos/ubuntu1804/x86_64  cuda-memcheck-11-5 11.5.114-1 [142 kB]\n",
            "Get:40 https://developer.download.nvidia.com/compute/cuda/repos/ubuntu1804/x86_64  cuda-nvprof-11-5 11.5.114-1 [1,943 kB]\n",
            "Get:41 https://developer.download.nvidia.com/compute/cuda/repos/ubuntu1804/x86_64  cuda-nvtx-11-5 11.5.114-1 [51.4 kB]\n",
            "Get:42 https://developer.download.nvidia.com/compute/cuda/repos/ubuntu1804/x86_64  cuda-sanitizer-11-5 11.5.114-1 [7,381 kB]\n",
            "Get:43 https://developer.download.nvidia.com/compute/cuda/repos/ubuntu1804/x86_64  cuda-command-line-tools-11-5 11.5.1-1 [2,474 B]\n",
            "Get:44 https://developer.download.nvidia.com/compute/cuda/repos/ubuntu1804/x86_64  cuda-nsight-compute-11-5 11.5.1-1 [3,708 B]\n",
            "Get:45 https://developer.download.nvidia.com/compute/cuda/repos/ubuntu1804/x86_64  cuda-nsight-systems-11-5 11.5.1-1 [3,308 B]\n",
            "Get:46 https://developer.download.nvidia.com/compute/cuda/repos/ubuntu1804/x86_64  cuda-nsight-11-5 11.5.114-1 [119 MB]\n",
            "Get:47 https://developer.download.nvidia.com/compute/cuda/repos/ubuntu1804/x86_64  cuda-nvml-dev-11-5 11.5.50-1 [75.2 kB]\n",
            "Get:48 https://developer.download.nvidia.com/compute/cuda/repos/ubuntu1804/x86_64  cuda-nvvp-11-5 11.5.114-1 [113 MB]\n",
            "Get:49 https://developer.download.nvidia.com/compute/cuda/repos/ubuntu1804/x86_64  cuda-visual-tools-11-5 11.5.1-1 [2,870 B]\n",
            "Get:50 https://developer.download.nvidia.com/compute/cuda/repos/ubuntu1804/x86_64  gds-tools-11-5 1.1.1.25-1 [38.7 MB]\n",
            "Get:51 https://developer.download.nvidia.com/compute/cuda/repos/ubuntu1804/x86_64  cuda-tools-11-5 11.5.1-1 [2,392 B]\n",
            "Get:52 https://developer.download.nvidia.com/compute/cuda/repos/ubuntu1804/x86_64  cuda-samples-11-5 11.5.56-1 [59.2 MB]\n",
            "Get:53 https://developer.download.nvidia.com/compute/cuda/repos/ubuntu1804/x86_64  cuda-documentation-11-5 11.5.114-1 [48.4 kB]\n",
            "Get:54 https://developer.download.nvidia.com/compute/cuda/repos/ubuntu1804/x86_64  cuda-toolkit-11-5 11.5.1-1 [3,380 B]\n",
            "Get:55 https://developer.download.nvidia.com/compute/cuda/repos/ubuntu1804/x86_64  cuda-demo-suite-11-5 11.5.50-1 [3,981 kB]\n",
            "Get:56 https://developer.download.nvidia.com/compute/cuda/repos/ubuntu1804/x86_64  cuda-11-5 11.5.1-1 [2,450 B]\n",
            "Get:57 https://developer.download.nvidia.com/compute/cuda/repos/ubuntu1804/x86_64  cuda 11.5.1-1 [2,398 B]\n",
            "Fetched 1,628 MB in 31s (52.8 MB/s)\n",
            "debconf: unable to initialize frontend: Dialog\n",
            "debconf: (No usable dialog-like program is installed, so the dialog based frontend cannot be used. at /usr/share/perl5/Debconf/FrontEnd/Dialog.pm line 76, <> line 57.)\n",
            "debconf: falling back to frontend: Readline\n",
            "debconf: unable to initialize frontend: Readline\n",
            "debconf: (This frontend requires a controlling tty.)\n",
            "debconf: falling back to frontend: Teletype\n",
            "dpkg-preconfigure: unable to re-open stdin: \n",
            "Selecting previously unselected package cuda-toolkit-config-common.\n",
            "(Reading database ... 155281 files and directories currently installed.)\n",
            "Preparing to unpack .../00-cuda-toolkit-config-common_11.5.117-1_all.deb ...\n",
            "Unpacking cuda-toolkit-config-common (11.5.117-1) ...\n",
            "Selecting previously unselected package cuda-toolkit-11-config-common.\n",
            "Preparing to unpack .../01-cuda-toolkit-11-config-common_11.5.117-1_all.deb ...\n",
            "Unpacking cuda-toolkit-11-config-common (11.5.117-1) ...\n",
            "Selecting previously unselected package cuda-toolkit-11-5-config-common.\n",
            "Preparing to unpack .../02-cuda-toolkit-11-5-config-common_11.5.117-1_all.deb ...\n",
            "Unpacking cuda-toolkit-11-5-config-common (11.5.117-1) ...\n",
            "Selecting previously unselected package cuda-cudart-11-5.\n",
            "Preparing to unpack .../03-cuda-cudart-11-5_11.5.117-1_amd64.deb ...\n",
            "Unpacking cuda-cudart-11-5 (11.5.117-1) ...\n",
            "Selecting previously unselected package cuda-nvrtc-11-5.\n",
            "Preparing to unpack .../04-cuda-nvrtc-11-5_11.5.119-1_amd64.deb ...\n",
            "Unpacking cuda-nvrtc-11-5 (11.5.119-1) ...\n",
            "Selecting previously unselected package libcublas-11-5.\n",
            "Preparing to unpack .../05-libcublas-11-5_11.7.4.6-1_amd64.deb ...\n",
            "Unpacking libcublas-11-5 (11.7.4.6-1) ...\n"
          ]
        }
      ]
    },
    {
      "cell_type": "code",
      "source": [
        "!git clone https://github.com/panzheyi/ST-MetaNet.git\n",
        "%cd /content/ST-MetaNet/"
      ],
      "metadata": {
        "id": "Yvwgzq6I-wPQ"
      },
      "execution_count": null,
      "outputs": []
    },
    {
      "cell_type": "code",
      "source": [
        "%cat /usr/local/cuda/version.txt"
      ],
      "metadata": {
        "id": "BOG1Nl26-xIS"
      },
      "execution_count": null,
      "outputs": []
    },
    {
      "cell_type": "code",
      "source": [
        "#!pip install -r requirements.txt\n",
        "\n",
        "!pip install scipy==1.2.1\n",
        "!pip install numpy==1.16.3 #switch between 1.16.3 and 1.15.0\n",
        "!pip install pandas #switch between the newest and the 0.24.2\n",
        "!pip install mxnet-cu90==1.5.1 #switch between 1.4.0 and 1.5.1\n",
        "!pip install dgl==0.2\n",
        "!pip install tables==3.5.1\n",
        "!pip install h5py\n",
        "\n",
        "#in the requirements.txt file, change the MXNET version to either 1.4.0 or 1.5.1\n",
        "#if you choose MXNET-CU90 == 1.4.0, you may need to downgrade numpy to 1.15.0\n",
        "#the most problematic package is pymal, since it has dependency conflict with six\n",
        "#also remove pymal from the requirement file to install it separately"
      ],
      "metadata": {
        "id": "xGvOmfjL_sqi"
      },
      "execution_count": null,
      "outputs": []
    },
    {
      "cell_type": "code",
      "source": [
        "!pip install six==1.3.0\n",
        "!pip install pymal\n",
        "!pip install pyyaml\n",
        "#pymal is an outdated library/module, so that you need to reinstall Six"
      ],
      "metadata": {
        "id": "38fa--n1CP-e"
      },
      "execution_count": null,
      "outputs": []
    },
    {
      "cell_type": "code",
      "source": [
        ""
      ],
      "metadata": {
        "id": "UemP66ScDdnD"
      },
      "execution_count": null,
      "outputs": []
    }
  ]
}